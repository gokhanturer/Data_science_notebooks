{
 "cells": [
  {
   "cell_type": "raw",
   "id": "infinite-parent",
   "metadata": {},
   "source": [
    "Regex, data analizde olmazsa olmaz enstrümanlardan birisidir.\n",
    "Bazen datalar çok karmaşık gelebilir. Regular expression ile işimize yarayan datayı ordan tutup çekmemize yarıyor.\n",
    "\n",
    "Özellikle twitter facebook gibi sosyal medya platformlarında yazım kurallarının dışına sıklıkla çıkılıyor. Kelimelerle iç içe şekilde sayılar, emojiler, farklı dillerde ifadeler kullanılabiliyor. Bu durumlarda kelimeleri temiz şekilde ayıklama ihtiyacı duyuluyor.\n",
    "\n",
    "Mesela;\n",
    "A12B\n",
    "C34G\n",
    "H78J \n",
    "\n",
    "gibi bir datada benim sadece ortadaki sayılara ihtiyacım var ve onları aradan almam gerekiyor. bunu biz regular expression ile yapıyoruz. \n",
    "\n",
    "regular.com sitesinde: \n",
    "kod bölümüne \\d koyduğumuzda datada bir digit gördüğünde onu seçer.\n",
    "eğer \\d\\d bu şekilde 2 yanyana \\d koyarsak yan yana iki numerik değer olan yerleri seçer."
   ]
  },
  {
   "cell_type": "code",
   "execution_count": 3,
   "id": "present-latitude",
   "metadata": {},
   "outputs": [],
   "source": [
    "import re      # regular expression kütüphanesi\n",
    "\n",
    "import pandas as pd"
   ]
  },
  {
   "cell_type": "raw",
   "id": "rapid-afghanistan",
   "metadata": {},
   "source": [
    " Expressions :\n",
    "\n",
    "`\\d`   Any numeric digit from `0` to `9`.\n",
    "`\\D`   Matches any character which is not a decimal digit.\n",
    "       This is the opposite of `\\d`.\n",
    "`\\     Any letter, numeric digit, or the underscore\n",
    "       character.  (Think of this as matching\n",
    "       \"word\" characters.)\n",
    "`\\W`   Any character that is not a letter,\n",
    "       numeric digit, or the underscore character.\n",
    "`\\s`   Any space, tab, or newline character.  (\n",
    "      Think of this as matching white-space characters.)\n",
    "`\\S`   Any character that is not a space, tab, or newline."
   ]
  },
  {
   "cell_type": "code",
   "execution_count": 2,
   "id": "recognized-assignment",
   "metadata": {},
   "outputs": [],
   "source": [
    "text = \"A23B\"\n",
    "\n",
    "# aradaki 2 basamaklı sayıyı çekip al. "
   ]
  },
  {
   "cell_type": "code",
   "execution_count": 7,
   "id": "composite-association",
   "metadata": {},
   "outputs": [
    {
     "name": "stdout",
     "output_type": "stream",
     "text": [
      "<re.Match object; span=(1, 3), match='23'>\n"
     ]
    }
   ],
   "source": [
    "num = re.search(\"\\d\\d\", text)   # yan yana iki digit olduğu yeri al.\n",
    "\n",
    "print(num)\n",
    "\n",
    "# dikkat! çıkan sonuç bir object"
   ]
  },
  {
   "cell_type": "code",
   "execution_count": 8,
   "id": "regular-stock",
   "metadata": {},
   "outputs": [
    {
     "name": "stdout",
     "output_type": "stream",
     "text": [
      "23\n"
     ]
    }
   ],
   "source": [
    "num = re.search(\"\\d\\d\", text) \n",
    "\n",
    "print(num.group())  \n",
    "\n",
    "# objenin içindeki grupları getirir. örneğimizde bir grup olduğu için sadece 23ü getirdi."
   ]
  },
  {
   "cell_type": "code",
   "execution_count": 11,
   "id": "chinese-fireplace",
   "metadata": {},
   "outputs": [
    {
     "name": "stdout",
     "output_type": "stream",
     "text": [
      "234\n"
     ]
    }
   ],
   "source": [
    "text2 = \"A234B\"\n",
    "\n",
    "num = re.search(\"\\d\\d\\d\", text2)   # yan yana 3 digit olduğu yeri al.\n",
    "\n",
    "print(num.group())"
   ]
  },
  {
   "cell_type": "code",
   "execution_count": 29,
   "id": "recognized-bundle",
   "metadata": {},
   "outputs": [
    {
     "name": "stdout",
     "output_type": "stream",
     "text": [
      "23\n"
     ]
    }
   ],
   "source": [
    "text3 = \"A234B\"\n",
    "\n",
    "num = re.search(\"\\d\\d\", text3)   # yan yana 3 digit olduğu yeri al.\n",
    "\n",
    "print(num.group())\n",
    "\n",
    "# ilk bulduğu 2 digiti getirdi."
   ]
  },
  {
   "cell_type": "code",
   "execution_count": 39,
   "id": "precious-palmer",
   "metadata": {},
   "outputs": [
    {
     "name": "stdout",
     "output_type": "stream",
     "text": [
      "23\n"
     ]
    }
   ],
   "source": [
    "text4 = \"A2345B\"\n",
    "\n",
    "num = re.search(\"\\d\\d\", text4)   # yan yana 3 digit olduğu yeri al.\n",
    "\n",
    "print(num.group())\n",
    "\n",
    "# ilk bulduğu 2 digiti getirdi.\n"
   ]
  },
  {
   "cell_type": "code",
   "execution_count": 40,
   "id": "quality-suffering",
   "metadata": {},
   "outputs": [
    {
     "data": {
      "text/plain": [
       "['23', '45']"
      ]
     },
     "execution_count": 40,
     "metadata": {},
     "output_type": "execute_result"
    }
   ],
   "source": [
    "text5 = \"A2345B\"\n",
    "\n",
    "num1 = re.findall(\"\\d{2}\", text5)\n",
    "\n",
    "num1"
   ]
  },
  {
   "cell_type": "code",
   "execution_count": 20,
   "id": "buried-affiliate",
   "metadata": {},
   "outputs": [],
   "source": [
    "text5 = \"4PM\"  # bu sefer integer olmaya değeri getirsin."
   ]
  },
  {
   "cell_type": "code",
   "execution_count": 21,
   "id": "entertaining-packaging",
   "metadata": {},
   "outputs": [
    {
     "name": "stdout",
     "output_type": "stream",
     "text": [
      "P\n"
     ]
    }
   ],
   "source": [
    "nondeci = re.search(\"\\D\", text5)\n",
    "\n",
    "print(nondeci.group())"
   ]
  },
  {
   "cell_type": "code",
   "execution_count": 23,
   "id": "driven-semester",
   "metadata": {},
   "outputs": [],
   "source": [
    "# telefon numarasını çekip alalım\n",
    "\n",
    "text = \"My phone number is 5055523545\"\n",
    "\n"
   ]
  },
  {
   "cell_type": "code",
   "execution_count": 24,
   "id": "studied-stephen",
   "metadata": {},
   "outputs": [
    {
     "name": "stdout",
     "output_type": "stream",
     "text": [
      "5055523545\n"
     ]
    }
   ],
   "source": [
    "output = re.search(\"\\d\\d\\d\\d\\d\\d\\d\\d\\d\\d\", text)\n",
    "\n",
    "print(output.group())"
   ]
  },
  {
   "cell_type": "code",
   "execution_count": 25,
   "id": "peripheral-short",
   "metadata": {},
   "outputs": [
    {
     "name": "stdout",
     "output_type": "stream",
     "text": [
      "505\n"
     ]
    }
   ],
   "source": [
    "# numarayı gruplara bölersek... (rakamlar içindeki gruplar (mesela alan kodu) ayrı bir anlam ifade edebilir)\n",
    "\n",
    "output = re.search(\"(\\d\\d\\d)(\\d\\d\\d)(\\d\\d\\d\\d)\", text)\n",
    "\n",
    "print(output.group(1))"
   ]
  },
  {
   "cell_type": "code",
   "execution_count": 26,
   "id": "improved-range",
   "metadata": {},
   "outputs": [
    {
     "name": "stdout",
     "output_type": "stream",
     "text": [
      "3545\n"
     ]
    }
   ],
   "source": [
    "output = re.search(\"(\\d\\d\\d)(\\d\\d\\d)(\\d\\d\\d\\d)\", text)\n",
    "\n",
    "print(output.group(3))\n",
    "\n",
    "# rakamaların 3.grubunu çektik."
   ]
  },
  {
   "cell_type": "code",
   "execution_count": 32,
   "id": "fallen-drill",
   "metadata": {},
   "outputs": [],
   "source": [
    "# rakamları çekip alalım\n",
    "\n",
    "value = \"9 1, t 10, o 100. 100000\""
   ]
  },
  {
   "cell_type": "code",
   "execution_count": 33,
   "id": "oriental-float",
   "metadata": {},
   "outputs": [
    {
     "name": "stdout",
     "output_type": "stream",
     "text": [
      "['9', '1', '10', '10', '0', '10', '00', '00']\n"
     ]
    }
   ],
   "source": [
    "# findall() fonksiyonu ile yapacağız.\n",
    "\n",
    "output = re.findall(\"\\d{1,2}\", value)  # 1 basamaklı integerleri al, 2 basamaklı olanlara kadar da al.\n",
    "\n",
    "print(output)"
   ]
  },
  {
   "cell_type": "code",
   "execution_count": 34,
   "id": "under-howard",
   "metadata": {},
   "outputs": [
    {
     "name": "stdout",
     "output_type": "stream",
     "text": [
      "['9', '1', '10', '100', '100', '000']\n"
     ]
    }
   ],
   "source": [
    "output = re.findall(\"\\d{1,3}\", value)  # 1 basamaklı integerleri al, 3 basamaklı olanlar kadar da al.\n",
    "\n",
    "print(output)\n",
    "\n",
    "# son rakamdan 3 digit alınca geriye bir 3 sıfır kaldı"
   ]
  },
  {
   "cell_type": "code",
   "execution_count": 35,
   "id": "central-distinction",
   "metadata": {},
   "outputs": [
    {
     "name": "stdout",
     "output_type": "stream",
     "text": [
      "['9', '1', '10', '100', '10000', '0']\n"
     ]
    }
   ],
   "source": [
    "output = re.findall(\"\\d{1,5}\", value)  # 1 basamaklı integerleri al, 5 basamaklı olanlar kadar da al.\n",
    "\n",
    "print(output)\n",
    "\n",
    "# son rakamdan 5 digit alınca geriye bir 0 kaldı"
   ]
  },
  {
   "cell_type": "code",
   "execution_count": 36,
   "id": "informed-given",
   "metadata": {},
   "outputs": [
    {
     "name": "stdout",
     "output_type": "stream",
     "text": [
      "['9', '1', '10', '100', '100000']\n"
     ]
    }
   ],
   "source": [
    "output = re.findall(\"\\d{1,6}\", value)  # 1 basamaklı integerleri al, 6 basamaklı olanlar kadar da al.\n",
    "\n",
    "print(output)\n"
   ]
  },
  {
   "cell_type": "code",
   "execution_count": 37,
   "id": "formal-people",
   "metadata": {},
   "outputs": [],
   "source": [
    "# istediğim değerleri remove edebilirim. - ler boşluklar, # işime yaramıyor. bunları remove edeceğim.\n",
    "\n",
    "phone = \"2004-959-559 # This is phone number\""
   ]
  },
  {
   "cell_type": "code",
   "execution_count": 42,
   "id": "fatty-kelly",
   "metadata": {},
   "outputs": [
    {
     "name": "stdout",
     "output_type": "stream",
     "text": [
      "2004959559\n"
     ]
    }
   ],
   "source": [
    "output = re.sub(\"\\D\", \"\", phone)\n",
    "\n",
    "print(output)\n",
    "\n",
    "# D olanları yani numerik olmayanları remove et kalanı getir."
   ]
  },
  {
   "cell_type": "code",
   "execution_count": 43,
   "id": "theoretical-beach",
   "metadata": {},
   "outputs": [
    {
     "name": "stdout",
     "output_type": "stream",
     "text": [
      "2004.959.559.......................\n"
     ]
    }
   ],
   "source": [
    "output = re.sub(\"\\D\", \".\", phone)\n",
    "\n",
    "print(output)\n",
    "\n",
    "# D olanları remove et ve remove ettiklerinin yerine \".\" koy"
   ]
  },
  {
   "cell_type": "code",
   "execution_count": null,
   "id": "searching-application",
   "metadata": {},
   "outputs": [],
   "source": [
    "# şimdi bir pandas serie si üzerinde çalışalım."
   ]
  },
  {
   "cell_type": "code",
   "execution_count": 47,
   "id": "continued-congo",
   "metadata": {},
   "outputs": [
    {
     "data": {
      "text/plain": [
       "0    a3\n",
       "1    b4\n",
       "2    c5\n",
       "dtype: object"
      ]
     },
     "execution_count": 47,
     "metadata": {},
     "output_type": "execute_result"
    }
   ],
   "source": [
    "s1 = pd.Series([\"a3\", \"b4\", \"c5\"])\n",
    "\n",
    "s1"
   ]
  },
  {
   "cell_type": "code",
   "execution_count": 48,
   "id": "mechanical-applicant",
   "metadata": {},
   "outputs": [
    {
     "data": {
      "text/html": [
       "<div>\n",
       "<style scoped>\n",
       "    .dataframe tbody tr th:only-of-type {\n",
       "        vertical-align: middle;\n",
       "    }\n",
       "\n",
       "    .dataframe tbody tr th {\n",
       "        vertical-align: top;\n",
       "    }\n",
       "\n",
       "    .dataframe thead th {\n",
       "        text-align: right;\n",
       "    }\n",
       "</style>\n",
       "<table border=\"1\" class=\"dataframe\">\n",
       "  <thead>\n",
       "    <tr style=\"text-align: right;\">\n",
       "      <th></th>\n",
       "      <th>0</th>\n",
       "    </tr>\n",
       "  </thead>\n",
       "  <tbody>\n",
       "    <tr>\n",
       "      <th>0</th>\n",
       "      <td>NaN</td>\n",
       "    </tr>\n",
       "    <tr>\n",
       "      <th>1</th>\n",
       "      <td>NaN</td>\n",
       "    </tr>\n",
       "    <tr>\n",
       "      <th>2</th>\n",
       "      <td>NaN</td>\n",
       "    </tr>\n",
       "  </tbody>\n",
       "</table>\n",
       "</div>"
      ],
      "text/plain": [
       "     0\n",
       "0  NaN\n",
       "1  NaN\n",
       "2  NaN"
      ]
     },
     "execution_count": 48,
     "metadata": {},
     "output_type": "execute_result"
    }
   ],
   "source": [
    "s1.str.extract(\"(\\d\\d)\")\n",
    "\n",
    "# str kullanarak tüm pandas serie si üzerinde gezinebiliyorum. \n",
    "# extract: "
   ]
  },
  {
   "cell_type": "code",
   "execution_count": 50,
   "id": "documented-cathedral",
   "metadata": {},
   "outputs": [
    {
     "data": {
      "text/plain": [
       "0     a3\n",
       "1    b44\n",
       "2     c5\n",
       "dtype: object"
      ]
     },
     "execution_count": 50,
     "metadata": {},
     "output_type": "execute_result"
    }
   ],
   "source": [
    "s2 = pd.Series([\"a3\", \"b44\", \"c5\"])\n",
    "\n",
    "s2"
   ]
  },
  {
   "cell_type": "code",
   "execution_count": 52,
   "id": "weekly-attention",
   "metadata": {},
   "outputs": [
    {
     "data": {
      "text/html": [
       "<div>\n",
       "<style scoped>\n",
       "    .dataframe tbody tr th:only-of-type {\n",
       "        vertical-align: middle;\n",
       "    }\n",
       "\n",
       "    .dataframe tbody tr th {\n",
       "        vertical-align: top;\n",
       "    }\n",
       "\n",
       "    .dataframe thead th {\n",
       "        text-align: right;\n",
       "    }\n",
       "</style>\n",
       "<table border=\"1\" class=\"dataframe\">\n",
       "  <thead>\n",
       "    <tr style=\"text-align: right;\">\n",
       "      <th></th>\n",
       "      <th>0</th>\n",
       "    </tr>\n",
       "  </thead>\n",
       "  <tbody>\n",
       "    <tr>\n",
       "      <th>0</th>\n",
       "      <td>NaN</td>\n",
       "    </tr>\n",
       "    <tr>\n",
       "      <th>1</th>\n",
       "      <td>44</td>\n",
       "    </tr>\n",
       "    <tr>\n",
       "      <th>2</th>\n",
       "      <td>NaN</td>\n",
       "    </tr>\n",
       "  </tbody>\n",
       "</table>\n",
       "</div>"
      ],
      "text/plain": [
       "     0\n",
       "0  NaN\n",
       "1   44\n",
       "2  NaN"
      ]
     },
     "execution_count": 52,
     "metadata": {},
     "output_type": "execute_result"
    }
   ],
   "source": [
    "s2.str.extract(\"(\\d\\d)\")"
   ]
  },
  {
   "cell_type": "code",
   "execution_count": 54,
   "id": "preceding-edmonton",
   "metadata": {},
   "outputs": [
    {
     "data": {
      "text/html": [
       "<div>\n",
       "<style scoped>\n",
       "    .dataframe tbody tr th:only-of-type {\n",
       "        vertical-align: middle;\n",
       "    }\n",
       "\n",
       "    .dataframe tbody tr th {\n",
       "        vertical-align: top;\n",
       "    }\n",
       "\n",
       "    .dataframe thead th {\n",
       "        text-align: right;\n",
       "    }\n",
       "</style>\n",
       "<table border=\"1\" class=\"dataframe\">\n",
       "  <thead>\n",
       "    <tr style=\"text-align: right;\">\n",
       "      <th></th>\n",
       "      <th>0</th>\n",
       "    </tr>\n",
       "  </thead>\n",
       "  <tbody>\n",
       "    <tr>\n",
       "      <th>0</th>\n",
       "      <td>3</td>\n",
       "    </tr>\n",
       "    <tr>\n",
       "      <th>1</th>\n",
       "      <td>44</td>\n",
       "    </tr>\n",
       "    <tr>\n",
       "      <th>2</th>\n",
       "      <td>556777</td>\n",
       "    </tr>\n",
       "  </tbody>\n",
       "</table>\n",
       "</div>"
      ],
      "text/plain": [
       "        0\n",
       "0       3\n",
       "1      44\n",
       "2  556777"
      ]
     },
     "execution_count": 54,
     "metadata": {},
     "output_type": "execute_result"
    }
   ],
   "source": [
    "s3 = pd.Series([\"a3\", \"b44\", \"c556777\"])\n",
    "\n",
    "s3.str.extract(\"(\\d{1,10})\")"
   ]
  },
  {
   "cell_type": "code",
   "execution_count": 57,
   "id": "temporal-maker",
   "metadata": {},
   "outputs": [],
   "source": [
    "# bu sefer serie deki harfleri istiyorum:\n",
    "\n",
    "s4 = pd.Series([\"a3aa\", \"b4aa\", \"c5aa\"])"
   ]
  },
  {
   "cell_type": "code",
   "execution_count": 60,
   "id": "major-murray",
   "metadata": {},
   "outputs": [
    {
     "data": {
      "text/html": [
       "<div>\n",
       "<style scoped>\n",
       "    .dataframe tbody tr th:only-of-type {\n",
       "        vertical-align: middle;\n",
       "    }\n",
       "\n",
       "    .dataframe tbody tr th {\n",
       "        vertical-align: top;\n",
       "    }\n",
       "\n",
       "    .dataframe thead th {\n",
       "        text-align: right;\n",
       "    }\n",
       "</style>\n",
       "<table border=\"1\" class=\"dataframe\">\n",
       "  <thead>\n",
       "    <tr style=\"text-align: right;\">\n",
       "      <th></th>\n",
       "      <th>0</th>\n",
       "      <th>1</th>\n",
       "      <th>2</th>\n",
       "    </tr>\n",
       "  </thead>\n",
       "  <tbody>\n",
       "    <tr>\n",
       "      <th>0</th>\n",
       "      <td>a</td>\n",
       "      <td>a</td>\n",
       "      <td>a</td>\n",
       "    </tr>\n",
       "    <tr>\n",
       "      <th>1</th>\n",
       "      <td>b</td>\n",
       "      <td>a</td>\n",
       "      <td>a</td>\n",
       "    </tr>\n",
       "    <tr>\n",
       "      <th>2</th>\n",
       "      <td>c</td>\n",
       "      <td>a</td>\n",
       "      <td>a</td>\n",
       "    </tr>\n",
       "  </tbody>\n",
       "</table>\n",
       "</div>"
      ],
      "text/plain": [
       "   0  1  2\n",
       "0  a  a  a\n",
       "1  b  a  a\n",
       "2  c  a  a"
      ]
     },
     "execution_count": 60,
     "metadata": {},
     "output_type": "execute_result"
    }
   ],
   "source": [
    "# w : any letter \n",
    "\n",
    "s4.str.extract(\"(\\w)\\d(\\w)(\\w)\")\n",
    "\n",
    "# arada bir rakam olduğunu bilmeden bu ifadeyi yazamazsın. bir patern yakalaman lazım."
   ]
  },
  {
   "cell_type": "code",
   "execution_count": 61,
   "id": "central-membership",
   "metadata": {},
   "outputs": [
    {
     "data": {
      "text/html": [
       "<div>\n",
       "<style scoped>\n",
       "    .dataframe tbody tr th:only-of-type {\n",
       "        vertical-align: middle;\n",
       "    }\n",
       "\n",
       "    .dataframe tbody tr th {\n",
       "        vertical-align: top;\n",
       "    }\n",
       "\n",
       "    .dataframe thead th {\n",
       "        text-align: right;\n",
       "    }\n",
       "</style>\n",
       "<table border=\"1\" class=\"dataframe\">\n",
       "  <thead>\n",
       "    <tr style=\"text-align: right;\">\n",
       "      <th></th>\n",
       "      <th>0</th>\n",
       "      <th>1</th>\n",
       "    </tr>\n",
       "  </thead>\n",
       "  <tbody>\n",
       "    <tr>\n",
       "      <th>0</th>\n",
       "      <td>a</td>\n",
       "      <td>aa</td>\n",
       "    </tr>\n",
       "    <tr>\n",
       "      <th>1</th>\n",
       "      <td>b</td>\n",
       "      <td>aa</td>\n",
       "    </tr>\n",
       "    <tr>\n",
       "      <th>2</th>\n",
       "      <td>c</td>\n",
       "      <td>aa</td>\n",
       "    </tr>\n",
       "  </tbody>\n",
       "</table>\n",
       "</div>"
      ],
      "text/plain": [
       "   0   1\n",
       "0  a  aa\n",
       "1  b  aa\n",
       "2  c  aa"
      ]
     },
     "execution_count": 61,
     "metadata": {},
     "output_type": "execute_result"
    }
   ],
   "source": [
    "\n",
    "s4.str.extract(\"(\\w)\\d(\\w\\w)\")\n",
    "\n",
    "# önce bir letter al (grup1), sonra arada bir digit var onu at, sonra ikinci grup olarak iki letter yan yana olarak al. "
   ]
  },
  {
   "cell_type": "code",
   "execution_count": 63,
   "id": "welcome-stamp",
   "metadata": {},
   "outputs": [
    {
     "data": {
      "text/html": [
       "<div>\n",
       "<style scoped>\n",
       "    .dataframe tbody tr th:only-of-type {\n",
       "        vertical-align: middle;\n",
       "    }\n",
       "\n",
       "    .dataframe tbody tr th {\n",
       "        vertical-align: top;\n",
       "    }\n",
       "\n",
       "    .dataframe thead th {\n",
       "        text-align: right;\n",
       "    }\n",
       "</style>\n",
       "<table border=\"1\" class=\"dataframe\">\n",
       "  <thead>\n",
       "    <tr style=\"text-align: right;\">\n",
       "      <th></th>\n",
       "      <th>0</th>\n",
       "      <th>1</th>\n",
       "    </tr>\n",
       "  </thead>\n",
       "  <tbody>\n",
       "    <tr>\n",
       "      <th>0</th>\n",
       "      <td>a</td>\n",
       "      <td>aa</td>\n",
       "    </tr>\n",
       "    <tr>\n",
       "      <th>1</th>\n",
       "      <td>b</td>\n",
       "      <td>aa</td>\n",
       "    </tr>\n",
       "    <tr>\n",
       "      <th>2</th>\n",
       "      <td>c</td>\n",
       "      <td>aa</td>\n",
       "    </tr>\n",
       "  </tbody>\n",
       "</table>\n",
       "</div>"
      ],
      "text/plain": [
       "   0   1\n",
       "0  a  aa\n",
       "1  b  aa\n",
       "2  c  aa"
      ]
     },
     "execution_count": 63,
     "metadata": {},
     "output_type": "execute_result"
    }
   ],
   "source": [
    "# süslü parantezde de yanyana iki letter'ı ifade edebiliriz.\n",
    "\n",
    "s4.str.extract(\"(\\w)\\d(\\w{1,2})\")"
   ]
  },
  {
   "cell_type": "code",
   "execution_count": null,
   "id": "productive-theater",
   "metadata": {},
   "outputs": [],
   "source": [
    "# şimdi can alıcı bir örnek yapacağız."
   ]
  },
  {
   "cell_type": "code",
   "execution_count": 66,
   "id": "prescription-discrimination",
   "metadata": {},
   "outputs": [
    {
     "data": {
      "text/plain": [
       "0       40 l/100 km (comb)\n",
       "1       38 l/100 km (comb)\n",
       "2      6.4 l/100 km (comb)\n",
       "3     8.3 kg/100 km (comb)\n",
       "4     5.1 kg/100 km (comb)\n",
       "5      5.4 l/100 km (comb)\n",
       "6      6.7 l/100 km (comb)\n",
       "7      6.2 l/100 km (comb)\n",
       "8      7.3 l/100 km (comb)\n",
       "9      6.3 l/100 km (comb)\n",
       "10     5.7 l/100 km (comb)\n",
       "11     6.1 l/100 km (comb)\n",
       "12     6.8 l/100 km (comb)\n",
       "13     7.5 l/100 km (comb)\n",
       "14     7.4 l/100 km (comb)\n",
       "15    3.6 kg/100 km (comb)\n",
       "16       0 l/100 km (comb)\n",
       "17     7.8 l/100 km (comb)\n",
       "dtype: object"
      ]
     },
     "execution_count": 66,
     "metadata": {},
     "output_type": "execute_result"
    }
   ],
   "source": [
    " # sayıları al\n",
    "\n",
    "s= pd.Series(['40 l/100 km (comb)', \n",
    "        '38 l/100 km (comb)', '6.4 l/100 km (comb)',\n",
    "       '8.3 kg/100 km (comb)', '5.1 kg/100 km (comb)',\n",
    "       '5.4 l/100 km (comb)', '6.7 l/100 km (comb)',\n",
    "       '6.2 l/100 km (comb)', '7.3 l/100 km (comb)',\n",
    "       '6.3 l/100 km (comb)', '5.7 l/100 km (comb)',\n",
    "       '6.1 l/100 km (comb)', '6.8 l/100 km (comb)',\n",
    "       '7.5 l/100 km (comb)', '7.4 l/100 km (comb)',\n",
    "       '3.6 kg/100 km (comb)', '0 l/100 km (comb)', \n",
    "       '7.8 l/100 km (comb)'])\n",
    "\n",
    "s"
   ]
  },
  {
   "cell_type": "code",
   "execution_count": 69,
   "id": "civic-helicopter",
   "metadata": {},
   "outputs": [
    {
     "data": {
      "text/html": [
       "<div>\n",
       "<style scoped>\n",
       "    .dataframe tbody tr th:only-of-type {\n",
       "        vertical-align: middle;\n",
       "    }\n",
       "\n",
       "    .dataframe tbody tr th {\n",
       "        vertical-align: top;\n",
       "    }\n",
       "\n",
       "    .dataframe thead th {\n",
       "        text-align: right;\n",
       "    }\n",
       "</style>\n",
       "<table border=\"1\" class=\"dataframe\">\n",
       "  <thead>\n",
       "    <tr style=\"text-align: right;\">\n",
       "      <th></th>\n",
       "      <th>0</th>\n",
       "    </tr>\n",
       "  </thead>\n",
       "  <tbody>\n",
       "    <tr>\n",
       "      <th>0</th>\n",
       "      <td>40</td>\n",
       "    </tr>\n",
       "    <tr>\n",
       "      <th>1</th>\n",
       "      <td>38</td>\n",
       "    </tr>\n",
       "    <tr>\n",
       "      <th>2</th>\n",
       "      <td>6.4</td>\n",
       "    </tr>\n",
       "    <tr>\n",
       "      <th>3</th>\n",
       "      <td>8.3</td>\n",
       "    </tr>\n",
       "    <tr>\n",
       "      <th>4</th>\n",
       "      <td>5.1</td>\n",
       "    </tr>\n",
       "    <tr>\n",
       "      <th>5</th>\n",
       "      <td>5.4</td>\n",
       "    </tr>\n",
       "    <tr>\n",
       "      <th>6</th>\n",
       "      <td>6.7</td>\n",
       "    </tr>\n",
       "    <tr>\n",
       "      <th>7</th>\n",
       "      <td>6.2</td>\n",
       "    </tr>\n",
       "    <tr>\n",
       "      <th>8</th>\n",
       "      <td>7.3</td>\n",
       "    </tr>\n",
       "    <tr>\n",
       "      <th>9</th>\n",
       "      <td>6.3</td>\n",
       "    </tr>\n",
       "    <tr>\n",
       "      <th>10</th>\n",
       "      <td>5.7</td>\n",
       "    </tr>\n",
       "    <tr>\n",
       "      <th>11</th>\n",
       "      <td>6.1</td>\n",
       "    </tr>\n",
       "    <tr>\n",
       "      <th>12</th>\n",
       "      <td>6.8</td>\n",
       "    </tr>\n",
       "    <tr>\n",
       "      <th>13</th>\n",
       "      <td>7.5</td>\n",
       "    </tr>\n",
       "    <tr>\n",
       "      <th>14</th>\n",
       "      <td>7.4</td>\n",
       "    </tr>\n",
       "    <tr>\n",
       "      <th>15</th>\n",
       "      <td>3.6</td>\n",
       "    </tr>\n",
       "    <tr>\n",
       "      <th>16</th>\n",
       "      <td>0</td>\n",
       "    </tr>\n",
       "    <tr>\n",
       "      <th>17</th>\n",
       "      <td>7.8</td>\n",
       "    </tr>\n",
       "  </tbody>\n",
       "</table>\n",
       "</div>"
      ],
      "text/plain": [
       "      0\n",
       "0    40\n",
       "1    38\n",
       "2   6.4\n",
       "3   8.3\n",
       "4   5.1\n",
       "5   5.4\n",
       "6   6.7\n",
       "7   6.2\n",
       "8   7.3\n",
       "9   6.3\n",
       "10  5.7\n",
       "11  6.1\n",
       "12  6.8\n",
       "13  7.5\n",
       "14  7.4\n",
       "15  3.6\n",
       "16    0\n",
       "17  7.8"
      ]
     },
     "execution_count": 69,
     "metadata": {},
     "output_type": "execute_result"
    }
   ],
   "source": [
    "result = s.str.extract(\"(\\d\\d|\\d.\\d|\\d)\")\n",
    "\n",
    "result\n",
    "\n",
    "# 1.grup: iki basamaklı veya digit.digit i al (float digitler için bunu koyduk) \n",
    "# veya sadece bir basamaklı digiti al (bir tane 0 için bunu koyduk)\n"
   ]
  },
  {
   "cell_type": "code",
   "execution_count": null,
   "id": "light-oxford",
   "metadata": {},
   "outputs": [],
   "source": [
    "result = s.str.extract(\"(\\d\\d|\\d.\\d|\\d).+(......)\")\n",
    "\n",
    "result\n",
    "\n",
    "# 2.grup için  .+ koyup devam ediyoruz. bu sayede örneğin 5.7 l/100 km (comb) daki 100'ü de çekebiliriz"
   ]
  }
 ],
 "metadata": {
  "kernelspec": {
   "display_name": "Python 3",
   "language": "python",
   "name": "python3"
  },
  "language_info": {
   "codemirror_mode": {
    "name": "ipython",
    "version": 3
   },
   "file_extension": ".py",
   "mimetype": "text/x-python",
   "name": "python",
   "nbconvert_exporter": "python",
   "pygments_lexer": "ipython3",
   "version": "3.7.8"
  }
 },
 "nbformat": 4,
 "nbformat_minor": 5
}
