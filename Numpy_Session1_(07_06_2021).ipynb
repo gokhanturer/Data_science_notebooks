{
  "nbformat": 4,
  "nbformat_minor": 5,
  "metadata": {
    "kernelspec": {
      "display_name": "Python 3",
      "language": "python",
      "name": "python3"
    },
    "language_info": {
      "codemirror_mode": {
        "name": "ipython",
        "version": 3
      },
      "file_extension": ".py",
      "mimetype": "text/x-python",
      "name": "python",
      "nbconvert_exporter": "python",
      "pygments_lexer": "ipython3",
      "version": "3.8.8"
    },
    "colab": {
      "name": "Numpy Session1 (07_06_2021).ipynb",
      "provenance": [],
      "include_colab_link": true
    }
  },
  "cells": [
    {
      "cell_type": "markdown",
      "metadata": {
        "id": "view-in-github",
        "colab_type": "text"
      },
      "source": [
        "<a href=\"https://colab.research.google.com/github/gokhanturer/Data_science_notebooks/blob/main/Numpy_Session1_(07_06_2021).ipynb\" target=\"_parent\"><img src=\"https://colab.research.google.com/assets/colab-badge.svg\" alt=\"Open In Colab\"/></a>"
      ]
    },
    {
      "cell_type": "code",
      "metadata": {
        "id": "324874d4"
      },
      "source": [
        "import numpy as np "
      ],
      "id": "324874d4",
      "execution_count": null,
      "outputs": []
    },
    {
      "cell_type": "code",
      "metadata": {
        "id": "b228ffb6"
      },
      "source": [
        "# array (diziler)"
      ],
      "id": "b228ffb6",
      "execution_count": null,
      "outputs": []
    },
    {
      "cell_type": "code",
      "metadata": {
        "id": "d70bc7d8",
        "outputId": "91c7b190-64cf-4460-e348-a9826b2331c9"
      },
      "source": [
        "my_list=[1,2,3]\n",
        "my_list"
      ],
      "id": "d70bc7d8",
      "execution_count": null,
      "outputs": [
        {
          "output_type": "execute_result",
          "data": {
            "text/plain": [
              "[1, 2, 3]"
            ]
          },
          "metadata": {
            "tags": []
          },
          "execution_count": 7
        }
      ]
    },
    {
      "cell_type": "code",
      "metadata": {
        "id": "194089aa",
        "outputId": "7b17e18f-4b03-4ed8-87e3-06c7a93db143"
      },
      "source": [
        "np.array(my_list)"
      ],
      "id": "194089aa",
      "execution_count": null,
      "outputs": [
        {
          "output_type": "execute_result",
          "data": {
            "text/plain": [
              "array([1, 2, 3])"
            ]
          },
          "metadata": {
            "tags": []
          },
          "execution_count": 8
        }
      ]
    },
    {
      "cell_type": "code",
      "metadata": {
        "id": "540f7016"
      },
      "source": [
        "arr=np.array(my_list)"
      ],
      "id": "540f7016",
      "execution_count": null,
      "outputs": []
    },
    {
      "cell_type": "code",
      "metadata": {
        "id": "4fc4bdfb",
        "outputId": "3753a031-1f31-44f3-d015-e912ca240b3f"
      },
      "source": [
        "type(arr)"
      ],
      "id": "4fc4bdfb",
      "execution_count": null,
      "outputs": [
        {
          "output_type": "execute_result",
          "data": {
            "text/plain": [
              "numpy.ndarray"
            ]
          },
          "metadata": {
            "tags": []
          },
          "execution_count": 11
        }
      ]
    },
    {
      "cell_type": "code",
      "metadata": {
        "id": "c011604a"
      },
      "source": [
        "a = [1,2,3,4]\n",
        "b = [2,3,4,5]"
      ],
      "id": "c011604a",
      "execution_count": null,
      "outputs": []
    },
    {
      "cell_type": "code",
      "metadata": {
        "id": "27c01896",
        "outputId": "fceaa0bb-4e7b-4d8b-ad2c-6b78fe3e16a2"
      },
      "source": [
        "ab = []\n",
        "\n",
        "for i in range(0, len(a)):\n",
        "    ab.append(a[i] * b[i])\n",
        "\n",
        "ab"
      ],
      "id": "27c01896",
      "execution_count": null,
      "outputs": [
        {
          "output_type": "execute_result",
          "data": {
            "text/plain": [
              "[2, 6, 12, 20]"
            ]
          },
          "metadata": {
            "tags": []
          },
          "execution_count": 14
        }
      ]
    },
    {
      "cell_type": "code",
      "metadata": {
        "id": "8fc5a0c5"
      },
      "source": [
        "a1 = np.array(a)\n",
        "b1 = np.array(b)"
      ],
      "id": "8fc5a0c5",
      "execution_count": null,
      "outputs": []
    },
    {
      "cell_type": "code",
      "metadata": {
        "id": "028061a2",
        "outputId": "135a4ad9-6316-461e-aa86-f79005fc7d4f"
      },
      "source": [
        "a1 * b1"
      ],
      "id": "028061a2",
      "execution_count": null,
      "outputs": [
        {
          "output_type": "execute_result",
          "data": {
            "text/plain": [
              "array([ 2,  6, 12, 20])"
            ]
          },
          "metadata": {
            "tags": []
          },
          "execution_count": 17
        }
      ]
    },
    {
      "cell_type": "code",
      "metadata": {
        "id": "c850cf33"
      },
      "source": [
        "my_matrix = [[1,2,3],[4,5,6],[7,8,9]]"
      ],
      "id": "c850cf33",
      "execution_count": null,
      "outputs": []
    },
    {
      "cell_type": "code",
      "metadata": {
        "id": "4dc2560d",
        "outputId": "1a6e72d6-5ca2-4a87-b44f-117ebfb339f9"
      },
      "source": [
        "np.array(my_matrix)"
      ],
      "id": "4dc2560d",
      "execution_count": null,
      "outputs": [
        {
          "output_type": "execute_result",
          "data": {
            "text/plain": [
              "array([[1, 2, 3],\n",
              "       [4, 5, 6],\n",
              "       [7, 8, 9]])"
            ]
          },
          "metadata": {
            "tags": []
          },
          "execution_count": 19
        }
      ]
    },
    {
      "cell_type": "code",
      "metadata": {
        "id": "b65250e8"
      },
      "source": [
        "# arange (pythondaki range ile mantık aynı)"
      ],
      "id": "b65250e8",
      "execution_count": null,
      "outputs": []
    },
    {
      "cell_type": "code",
      "metadata": {
        "id": "b20e19af",
        "outputId": "7bf69d77-e825-4e44-9c99-4000fcc29163"
      },
      "source": [
        "np.arange(0,10)"
      ],
      "id": "b20e19af",
      "execution_count": null,
      "outputs": [
        {
          "output_type": "execute_result",
          "data": {
            "text/plain": [
              "array([0, 1, 2, 3, 4, 5, 6, 7, 8, 9])"
            ]
          },
          "metadata": {
            "tags": []
          },
          "execution_count": 20
        }
      ]
    },
    {
      "cell_type": "code",
      "metadata": {
        "id": "62af8ab4",
        "outputId": "8a078327-8116-44f6-9460-9ec1040fbef9"
      },
      "source": [
        "np.arange(0,11,2)"
      ],
      "id": "62af8ab4",
      "execution_count": null,
      "outputs": [
        {
          "output_type": "execute_result",
          "data": {
            "text/plain": [
              "array([ 0,  2,  4,  6,  8, 10])"
            ]
          },
          "metadata": {
            "tags": []
          },
          "execution_count": 21
        }
      ]
    },
    {
      "cell_type": "code",
      "metadata": {
        "id": "b7f6929c",
        "outputId": "c8d8f41a-3362-4ad0-a7e6-e0425c0a2f8c"
      },
      "source": [
        "np.arange(0,31,3)"
      ],
      "id": "b7f6929c",
      "execution_count": null,
      "outputs": [
        {
          "output_type": "execute_result",
          "data": {
            "text/plain": [
              "array([ 0,  3,  6,  9, 12, 15, 18, 21, 24, 27, 30])"
            ]
          },
          "metadata": {
            "tags": []
          },
          "execution_count": 22
        }
      ]
    },
    {
      "cell_type": "code",
      "metadata": {
        "id": "7f4577a3"
      },
      "source": [
        "# zeros, ones, full (birler ve sıfırlar dizileri/matrisleri)"
      ],
      "id": "7f4577a3",
      "execution_count": null,
      "outputs": []
    },
    {
      "cell_type": "code",
      "metadata": {
        "id": "4681a849",
        "outputId": "de3c6ffe-e002-4651-daa5-1c4cbc5b4368"
      },
      "source": [
        "np.zeros(3)"
      ],
      "id": "4681a849",
      "execution_count": null,
      "outputs": [
        {
          "output_type": "execute_result",
          "data": {
            "text/plain": [
              "array([0., 0., 0.])"
            ]
          },
          "metadata": {
            "tags": []
          },
          "execution_count": 23
        }
      ]
    },
    {
      "cell_type": "code",
      "metadata": {
        "id": "878aaf35",
        "outputId": "d00119dd-1d87-4a8f-e48c-d653ee86151c"
      },
      "source": [
        "np.zeros(10)"
      ],
      "id": "878aaf35",
      "execution_count": null,
      "outputs": [
        {
          "output_type": "execute_result",
          "data": {
            "text/plain": [
              "array([0., 0., 0., 0., 0., 0., 0., 0., 0., 0.])"
            ]
          },
          "metadata": {
            "tags": []
          },
          "execution_count": 24
        }
      ]
    },
    {
      "cell_type": "code",
      "metadata": {
        "id": "dd925230",
        "outputId": "0bb08a82-2eb5-4311-8150-d7f981ec6e81"
      },
      "source": [
        "np.zeros((3,3),dtype=bool)"
      ],
      "id": "dd925230",
      "execution_count": null,
      "outputs": [
        {
          "output_type": "execute_result",
          "data": {
            "text/plain": [
              "array([[False, False, False],\n",
              "       [False, False, False],\n",
              "       [False, False, False]])"
            ]
          },
          "metadata": {
            "tags": []
          },
          "execution_count": 25
        }
      ]
    },
    {
      "cell_type": "code",
      "metadata": {
        "id": "efc4ea81",
        "outputId": "a21cd10e-3500-47ab-c4c3-3cbed49af980"
      },
      "source": [
        "np.full((10,10), True)"
      ],
      "id": "efc4ea81",
      "execution_count": null,
      "outputs": [
        {
          "output_type": "execute_result",
          "data": {
            "text/plain": [
              "array([[ True,  True,  True,  True,  True,  True,  True,  True,  True,\n",
              "         True],\n",
              "       [ True,  True,  True,  True,  True,  True,  True,  True,  True,\n",
              "         True],\n",
              "       [ True,  True,  True,  True,  True,  True,  True,  True,  True,\n",
              "         True],\n",
              "       [ True,  True,  True,  True,  True,  True,  True,  True,  True,\n",
              "         True],\n",
              "       [ True,  True,  True,  True,  True,  True,  True,  True,  True,\n",
              "         True],\n",
              "       [ True,  True,  True,  True,  True,  True,  True,  True,  True,\n",
              "         True],\n",
              "       [ True,  True,  True,  True,  True,  True,  True,  True,  True,\n",
              "         True],\n",
              "       [ True,  True,  True,  True,  True,  True,  True,  True,  True,\n",
              "         True],\n",
              "       [ True,  True,  True,  True,  True,  True,  True,  True,  True,\n",
              "         True],\n",
              "       [ True,  True,  True,  True,  True,  True,  True,  True,  True,\n",
              "         True]])"
            ]
          },
          "metadata": {
            "tags": []
          },
          "execution_count": 29
        }
      ]
    },
    {
      "cell_type": "code",
      "metadata": {
        "id": "41120311",
        "outputId": "c09644ce-28a9-457e-979d-a4e0bb55b04c"
      },
      "source": [
        "np.full((3,5),3)"
      ],
      "id": "41120311",
      "execution_count": null,
      "outputs": [
        {
          "output_type": "execute_result",
          "data": {
            "text/plain": [
              "array([[3, 3, 3, 3, 3],\n",
              "       [3, 3, 3, 3, 3],\n",
              "       [3, 3, 3, 3, 3]])"
            ]
          },
          "metadata": {
            "tags": []
          },
          "execution_count": 26
        }
      ]
    },
    {
      "cell_type": "code",
      "metadata": {
        "id": "5a398a59",
        "outputId": "54f670df-27a7-49fb-9e10-6f7d5ff70e69"
      },
      "source": [
        "np.full((4,4),\"3\")"
      ],
      "id": "5a398a59",
      "execution_count": null,
      "outputs": [
        {
          "output_type": "execute_result",
          "data": {
            "text/plain": [
              "array([['3', '3', '3', '3'],\n",
              "       ['3', '3', '3', '3'],\n",
              "       ['3', '3', '3', '3'],\n",
              "       ['3', '3', '3', '3']], dtype='<U1')"
            ]
          },
          "metadata": {
            "tags": []
          },
          "execution_count": 27
        }
      ]
    },
    {
      "cell_type": "code",
      "metadata": {
        "id": "bb61b8a4"
      },
      "source": [
        "# linspace (start,stop,how_many_equal_pats) start and stop values included"
      ],
      "id": "bb61b8a4",
      "execution_count": null,
      "outputs": []
    },
    {
      "cell_type": "code",
      "metadata": {
        "id": "2741930e",
        "outputId": "55d7aa01-ec78-4806-8a9d-0b2be3f28e66"
      },
      "source": [
        "np.linspace(0,10,3)"
      ],
      "id": "2741930e",
      "execution_count": null,
      "outputs": [
        {
          "output_type": "execute_result",
          "data": {
            "text/plain": [
              "array([ 0.,  5., 10.])"
            ]
          },
          "metadata": {
            "tags": []
          },
          "execution_count": 30
        }
      ]
    },
    {
      "cell_type": "code",
      "metadata": {
        "id": "531e9bfc",
        "outputId": "f481fc60-8161-472e-d1f8-8e2653ad2207"
      },
      "source": [
        "np.linspace(0,10,30)"
      ],
      "id": "531e9bfc",
      "execution_count": null,
      "outputs": [
        {
          "output_type": "execute_result",
          "data": {
            "text/plain": [
              "array([ 0.        ,  0.34482759,  0.68965517,  1.03448276,  1.37931034,\n",
              "        1.72413793,  2.06896552,  2.4137931 ,  2.75862069,  3.10344828,\n",
              "        3.44827586,  3.79310345,  4.13793103,  4.48275862,  4.82758621,\n",
              "        5.17241379,  5.51724138,  5.86206897,  6.20689655,  6.55172414,\n",
              "        6.89655172,  7.24137931,  7.5862069 ,  7.93103448,  8.27586207,\n",
              "        8.62068966,  8.96551724,  9.31034483,  9.65517241, 10.        ])"
            ]
          },
          "metadata": {
            "tags": []
          },
          "execution_count": 32
        }
      ]
    },
    {
      "cell_type": "code",
      "metadata": {
        "id": "78dd94b8",
        "outputId": "e0155daa-900d-42d4-f1e2-24a97e9f4ab7"
      },
      "source": [
        "np.linspace(0,10)"
      ],
      "id": "78dd94b8",
      "execution_count": null,
      "outputs": [
        {
          "output_type": "execute_result",
          "data": {
            "text/plain": [
              "array([ 0.        ,  0.20408163,  0.40816327,  0.6122449 ,  0.81632653,\n",
              "        1.02040816,  1.2244898 ,  1.42857143,  1.63265306,  1.83673469,\n",
              "        2.04081633,  2.24489796,  2.44897959,  2.65306122,  2.85714286,\n",
              "        3.06122449,  3.26530612,  3.46938776,  3.67346939,  3.87755102,\n",
              "        4.08163265,  4.28571429,  4.48979592,  4.69387755,  4.89795918,\n",
              "        5.10204082,  5.30612245,  5.51020408,  5.71428571,  5.91836735,\n",
              "        6.12244898,  6.32653061,  6.53061224,  6.73469388,  6.93877551,\n",
              "        7.14285714,  7.34693878,  7.55102041,  7.75510204,  7.95918367,\n",
              "        8.16326531,  8.36734694,  8.57142857,  8.7755102 ,  8.97959184,\n",
              "        9.18367347,  9.3877551 ,  9.59183673,  9.79591837, 10.        ])"
            ]
          },
          "metadata": {
            "tags": []
          },
          "execution_count": 33
        }
      ]
    },
    {
      "cell_type": "code",
      "metadata": {
        "id": "1953299e",
        "outputId": "0156773c-d923-467f-c62b-12b2ecf92fdc"
      },
      "source": [
        "np.linspace(0,50,10,dtype=\"int\")"
      ],
      "id": "1953299e",
      "execution_count": null,
      "outputs": [
        {
          "output_type": "execute_result",
          "data": {
            "text/plain": [
              "array([ 0,  5, 11, 16, 22, 27, 33, 38, 44, 50])"
            ]
          },
          "metadata": {
            "tags": []
          },
          "execution_count": 34
        }
      ]
    },
    {
      "cell_type": "code",
      "metadata": {
        "id": "34cca9cf"
      },
      "source": [
        "# eye (identity matrix) birim matris gibi düşün, çarpınca matrisin tersini verir."
      ],
      "id": "34cca9cf",
      "execution_count": null,
      "outputs": []
    },
    {
      "cell_type": "code",
      "metadata": {
        "id": "ec0cae64",
        "outputId": "d199cdf1-e2ce-40eb-9dc5-0605e69e0e91"
      },
      "source": [
        "np.eye(5)"
      ],
      "id": "ec0cae64",
      "execution_count": null,
      "outputs": [
        {
          "output_type": "execute_result",
          "data": {
            "text/plain": [
              "array([[1., 0., 0., 0., 0.],\n",
              "       [0., 1., 0., 0., 0.],\n",
              "       [0., 0., 1., 0., 0.],\n",
              "       [0., 0., 0., 1., 0.],\n",
              "       [0., 0., 0., 0., 1.]])"
            ]
          },
          "metadata": {
            "tags": []
          },
          "execution_count": 35
        }
      ]
    },
    {
      "cell_type": "code",
      "metadata": {
        "id": "72558227"
      },
      "source": [
        "# random (rastgele) rastgele atama yapar"
      ],
      "id": "72558227",
      "execution_count": null,
      "outputs": []
    },
    {
      "cell_type": "code",
      "metadata": {
        "id": "99948d17",
        "outputId": "170a689a-2bf2-49f7-cca0-297b78ca9283"
      },
      "source": [
        "np.random.rand(10)  # rastgele değerler"
      ],
      "id": "99948d17",
      "execution_count": null,
      "outputs": [
        {
          "output_type": "execute_result",
          "data": {
            "text/plain": [
              "array([0.13736657, 0.62717082, 0.69291173, 0.39039447, 0.81084707,\n",
              "       0.35317481, 0.63284984, 0.04215259, 0.40004996, 0.38810975])"
            ]
          },
          "metadata": {
            "tags": []
          },
          "execution_count": 36
        }
      ]
    },
    {
      "cell_type": "code",
      "metadata": {
        "id": "b7488e74",
        "outputId": "5a75ccb5-e6d0-4a73-f245-8480c3288da8"
      },
      "source": [
        "np.random.rand(5,5)"
      ],
      "id": "b7488e74",
      "execution_count": null,
      "outputs": [
        {
          "output_type": "execute_result",
          "data": {
            "text/plain": [
              "array([[5.38250191e-01, 4.54293917e-01, 9.64754253e-01, 1.18893741e-01,\n",
              "        6.90306166e-02],\n",
              "       [1.15139056e-01, 5.02782578e-01, 3.23883064e-01, 5.58471920e-01,\n",
              "        2.61463729e-01],\n",
              "       [2.74392897e-01, 2.27207189e-01, 5.67456442e-01, 3.14967745e-01,\n",
              "        8.33228895e-01],\n",
              "       [9.77620427e-01, 1.00213318e-01, 1.22711674e-02, 2.15954939e-01,\n",
              "        7.70651416e-01],\n",
              "       [1.86022938e-01, 1.01188227e-01, 9.44257987e-04, 6.44909192e-01,\n",
              "        7.45113423e-01]])"
            ]
          },
          "metadata": {
            "tags": []
          },
          "execution_count": 37
        }
      ]
    },
    {
      "cell_type": "code",
      "metadata": {
        "id": "f0b82894"
      },
      "source": [
        "import matplotlib.pyplot as plt"
      ],
      "id": "f0b82894",
      "execution_count": null,
      "outputs": []
    },
    {
      "cell_type": "code",
      "metadata": {
        "id": "78d4bdba",
        "outputId": "4f39bc4a-d838-401f-82d7-2715fae36197"
      },
      "source": [
        "plt.hist(np.random.rand(1000000),bins=40)"
      ],
      "id": "78d4bdba",
      "execution_count": null,
      "outputs": [
        {
          "output_type": "execute_result",
          "data": {
            "text/plain": [
              "(array([25339., 25158., 25063., 24992., 25309., 24679., 25183., 24823.,\n",
              "        25063., 24860., 25147., 24936., 24850., 25041., 24839., 25009.,\n",
              "        24905., 24967., 25125., 25026., 25124., 24945., 25044., 24833.,\n",
              "        24990., 24920., 24752., 24980., 24673., 25051., 25130., 25017.,\n",
              "        25239., 25064., 24792., 25199., 25061., 24967., 25047., 24858.]),\n",
              " array([2.91199740e-07, 2.50002638e-02, 5.00002364e-02, 7.50002090e-02,\n",
              "        1.00000182e-01, 1.25000154e-01, 1.50000127e-01, 1.75000099e-01,\n",
              "        2.00000072e-01, 2.25000045e-01, 2.50000017e-01, 2.74999990e-01,\n",
              "        2.99999963e-01, 3.24999935e-01, 3.49999908e-01, 3.74999880e-01,\n",
              "        3.99999853e-01, 4.24999826e-01, 4.49999798e-01, 4.74999771e-01,\n",
              "        4.99999743e-01, 5.24999716e-01, 5.49999689e-01, 5.74999661e-01,\n",
              "        5.99999634e-01, 6.24999606e-01, 6.49999579e-01, 6.74999552e-01,\n",
              "        6.99999524e-01, 7.24999497e-01, 7.49999469e-01, 7.74999442e-01,\n",
              "        7.99999415e-01, 8.24999387e-01, 8.49999360e-01, 8.74999333e-01,\n",
              "        8.99999305e-01, 9.24999278e-01, 9.49999250e-01, 9.74999223e-01,\n",
              "        9.99999196e-01]),\n",
              " <BarContainer object of 40 artists>)"
            ]
          },
          "metadata": {
            "tags": []
          },
          "execution_count": 44
        },
        {
          "output_type": "display_data",
          "data": {
            "image/png": "[encoded data removed]",
            "text/plain": [
              "<Figure size 432x288 with 1 Axes>"
            ]
          },
          "metadata": {
            "tags": [],
            "needs_background": "light"
          }
        }
      ]
    },
    {
      "cell_type": "code",
      "metadata": {
        "id": "ede1e28b"
      },
      "source": [
        "# randn (standard normal distribution) uniform rand"
      ],
      "id": "ede1e28b",
      "execution_count": null,
      "outputs": []
    },
    {
      "cell_type": "code",
      "metadata": {
        "id": "d69c16da",
        "outputId": "97350df7-85f1-43c4-a59b-c50a91028517"
      },
      "source": [
        "np.random.randn(10) # uniform rastgele değerler atar "
      ],
      "id": "d69c16da",
      "execution_count": null,
      "outputs": [
        {
          "output_type": "execute_result",
          "data": {
            "text/plain": [
              "array([-0.34973569,  1.33358004,  1.10668507, -0.1786188 ,  1.78121445,\n",
              "        0.11751613,  0.54694877,  0.33633946,  0.11181767, -0.39120068])"
            ]
          },
          "metadata": {
            "tags": []
          },
          "execution_count": 42
        }
      ]
    },
    {
      "cell_type": "code",
      "metadata": {
        "id": "e3eada04",
        "outputId": "9fb58767-8bdd-4eee-a804-d0d5f6f442cb"
      },
      "source": [
        "np.random.randn(5,5)"
      ],
      "id": "e3eada04",
      "execution_count": null,
      "outputs": [
        {
          "output_type": "execute_result",
          "data": {
            "text/plain": [
              "array([[-0.02220517, -0.78337502, -0.9751707 ,  0.84297364,  1.35363716],\n",
              "       [-0.89516861,  0.62246378,  0.09412586, -0.94083317, -1.93420944],\n",
              "       [ 2.16128779, -0.23495069, -1.16216061,  1.24458653, -0.73880057],\n",
              "       [-1.1007237 ,  1.27976632,  0.29740652, -0.59306428, -0.33610774],\n",
              "       [-0.86296587, -0.98157421,  1.0814401 ,  0.63435161, -0.11289892]])"
            ]
          },
          "metadata": {
            "tags": []
          },
          "execution_count": 43
        }
      ]
    },
    {
      "cell_type": "code",
      "metadata": {
        "id": "02a97337",
        "outputId": "f1209bef-fdb0-4191-da22-a368b80b7b7f"
      },
      "source": [
        "plt.hist(np.random.randn(1000000),bins=55)"
      ],
      "id": "02a97337",
      "execution_count": null,
      "outputs": [
        {
          "output_type": "execute_result",
          "data": {
            "text/plain": [
              "(array([4.0000e+00, 6.0000e+00, 8.0000e+00, 3.4000e+01, 5.9000e+01,\n",
              "        1.1200e+02, 2.4300e+02, 3.8100e+02, 6.9100e+02, 1.0670e+03,\n",
              "        1.8820e+03, 2.9150e+03, 4.4490e+03, 6.7220e+03, 1.0149e+04,\n",
              "        1.3903e+04, 1.8931e+04, 2.4780e+04, 3.1702e+04, 3.8844e+04,\n",
              "        4.7341e+04, 5.4506e+04, 6.1105e+04, 6.6154e+04, 6.9813e+04,\n",
              "        7.1346e+04, 7.0892e+04, 6.7699e+04, 6.2021e+04, 5.5841e+04,\n",
              "        4.9191e+04, 4.1063e+04, 3.3350e+04, 2.6511e+04, 2.0119e+04,\n",
              "        1.4963e+04, 1.0707e+04, 7.4760e+03, 4.9740e+03, 3.1840e+03,\n",
              "        2.0460e+03, 1.1930e+03, 7.2900e+02, 4.3400e+02, 2.2400e+02,\n",
              "        1.2400e+02, 5.4000e+01, 2.7000e+01, 1.6000e+01, 8.0000e+00,\n",
              "        6.0000e+00, 0.0000e+00, 0.0000e+00, 0.0000e+00, 1.0000e+00]),\n",
              " array([-4.58634434, -4.40732123, -4.22829812, -4.04927501, -3.8702519 ,\n",
              "        -3.69122879, -3.51220568, -3.33318258, -3.15415947, -2.97513636,\n",
              "        -2.79611325, -2.61709014, -2.43806703, -2.25904392, -2.08002081,\n",
              "        -1.9009977 , -1.72197459, -1.54295148, -1.36392837, -1.18490526,\n",
              "        -1.00588215, -0.82685905, -0.64783594, -0.46881283, -0.28978972,\n",
              "        -0.11076661,  0.0682565 ,  0.24727961,  0.42630272,  0.60532583,\n",
              "         0.78434894,  0.96337205,  1.14239516,  1.32141827,  1.50044138,\n",
              "         1.67946449,  1.85848759,  2.0375107 ,  2.21653381,  2.39555692,\n",
              "         2.57458003,  2.75360314,  2.93262625,  3.11164936,  3.29067247,\n",
              "         3.46969558,  3.64871869,  3.8277418 ,  4.00676491,  4.18578802,\n",
              "         4.36481113,  4.54383423,  4.72285734,  4.90188045,  5.08090356,\n",
              "         5.25992667]),\n",
              " <BarContainer object of 55 artists>)"
            ]
          },
          "metadata": {
            "tags": []
          },
          "execution_count": 45
        },
        {
          "output_type": "display_data",
          "data": {
            "image/png": "[encoded data removed]",
            "text/plain": [
              "<Figure size 432x288 with 1 Axes>"
            ]
          },
          "metadata": {
            "tags": [],
            "needs_background": "light"
          }
        }
      ]
    },
    {
      "cell_type": "code",
      "metadata": {
        "id": "a18d38fa",
        "outputId": "da1413d2-b5a1-4b61-977b-4afe4f080b33"
      },
      "source": [
        "np.random.randn(1000).mean()"
      ],
      "id": "a18d38fa",
      "execution_count": null,
      "outputs": [
        {
          "output_type": "execute_result",
          "data": {
            "text/plain": [
              "0.01270768358753968"
            ]
          },
          "metadata": {
            "tags": []
          },
          "execution_count": 5
        }
      ]
    },
    {
      "cell_type": "code",
      "metadata": {
        "id": "823132a7",
        "outputId": "e110fb2c-a2ae-4875-cc69-ea3681c55ed4"
      },
      "source": [
        "np.random.randn(1000).std()"
      ],
      "id": "823132a7",
      "execution_count": null,
      "outputs": [
        {
          "output_type": "execute_result",
          "data": {
            "text/plain": [
              "1.0268206195553669"
            ]
          },
          "metadata": {
            "tags": []
          },
          "execution_count": 6
        }
      ]
    },
    {
      "cell_type": "code",
      "metadata": {
        "id": "0eb79316"
      },
      "source": [
        "# randint (rastgele integer sayılar)"
      ],
      "id": "0eb79316",
      "execution_count": null,
      "outputs": []
    },
    {
      "cell_type": "code",
      "metadata": {
        "id": "6c6865a3",
        "outputId": "50ec07cb-dcc4-43e5-a6ae-900c203de961"
      },
      "source": [
        "np.random.randint(1,100,10)"
      ],
      "id": "6c6865a3",
      "execution_count": null,
      "outputs": [
        {
          "output_type": "execute_result",
          "data": {
            "text/plain": [
              "array([79, 98, 18, 48, 39, 43, 87, 98, 24, 65])"
            ]
          },
          "metadata": {
            "tags": []
          },
          "execution_count": 7
        }
      ]
    },
    {
      "cell_type": "code",
      "metadata": {
        "id": "4dd12692",
        "outputId": "0dd2cfb4-c842-45b1-e954-b46dc6e73aaa"
      },
      "source": [
        "np.random.randint(10,size=10)"
      ],
      "id": "4dd12692",
      "execution_count": null,
      "outputs": [
        {
          "output_type": "execute_result",
          "data": {
            "text/plain": [
              "array([9, 9, 6, 3, 5, 0, 7, 3, 5, 4])"
            ]
          },
          "metadata": {
            "tags": []
          },
          "execution_count": 8
        }
      ]
    },
    {
      "cell_type": "code",
      "metadata": {
        "id": "05360887",
        "outputId": "502391fc-b61b-4dcd-a950-92ac44ae2351"
      },
      "source": [
        "np.random.randint(0,10,10)"
      ],
      "id": "05360887",
      "execution_count": null,
      "outputs": [
        {
          "output_type": "execute_result",
          "data": {
            "text/plain": [
              "array([0, 2, 3, 4, 5, 3, 7, 6, 3, 1])"
            ]
          },
          "metadata": {
            "tags": []
          },
          "execution_count": 9
        }
      ]
    },
    {
      "cell_type": "code",
      "metadata": {
        "id": "e2db615a"
      },
      "source": [
        "# shape, reshape matris ve dizinin boyut ve şeklini öğrenmek veya yeniden şekillendirmek için"
      ],
      "id": "e2db615a",
      "execution_count": null,
      "outputs": []
    },
    {
      "cell_type": "code",
      "metadata": {
        "id": "2a5a1069"
      },
      "source": [
        "arr = np.array([[1, 2, 3, 4], [5, 6, 7, 8]])"
      ],
      "id": "2a5a1069",
      "execution_count": null,
      "outputs": []
    },
    {
      "cell_type": "code",
      "metadata": {
        "id": "c9a7d286",
        "outputId": "48350e86-fb2d-4ea8-bb0e-5c389e6dfeeb"
      },
      "source": [
        "arr.shape"
      ],
      "id": "c9a7d286",
      "execution_count": null,
      "outputs": [
        {
          "output_type": "execute_result",
          "data": {
            "text/plain": [
              "(2, 4)"
            ]
          },
          "metadata": {
            "tags": []
          },
          "execution_count": 20
        }
      ]
    },
    {
      "cell_type": "code",
      "metadata": {
        "id": "bc5ba2a3",
        "outputId": "ee2a4c5a-08ef-4d47-a752-c67ca9f1634f"
      },
      "source": [
        "arr3 = np.array([1, 2, 3, 4, 5, 6, 7, 8, 9, 10, 11, 12])\n",
        "arr3"
      ],
      "id": "bc5ba2a3",
      "execution_count": null,
      "outputs": [
        {
          "output_type": "execute_result",
          "data": {
            "text/plain": [
              "array([ 1,  2,  3,  4,  5,  6,  7,  8,  9, 10, 11, 12])"
            ]
          },
          "metadata": {
            "tags": []
          },
          "execution_count": 23
        }
      ]
    },
    {
      "cell_type": "code",
      "metadata": {
        "id": "14742db0",
        "outputId": "9913bec3-8c87-40db-b9e1-c4fc7bba0c35"
      },
      "source": [
        "newarr = arr3.reshape(4, 3)\n",
        "newarr"
      ],
      "id": "14742db0",
      "execution_count": null,
      "outputs": [
        {
          "output_type": "execute_result",
          "data": {
            "text/plain": [
              "array([[ 1,  2,  3],\n",
              "       [ 4,  5,  6],\n",
              "       [ 7,  8,  9],\n",
              "       [10, 11, 12]])"
            ]
          },
          "metadata": {
            "tags": []
          },
          "execution_count": 25
        }
      ]
    },
    {
      "cell_type": "code",
      "metadata": {
        "id": "a9b22e65"
      },
      "source": [
        "# max,min,argmax,argmin (max ve min değerlerini bulup bunların hangi eleman olduklarını gösterir)"
      ],
      "id": "a9b22e65",
      "execution_count": null,
      "outputs": []
    },
    {
      "cell_type": "code",
      "metadata": {
        "id": "45d41501",
        "outputId": "1bff5a59-a23c-496d-b513-6951119d3e7a"
      },
      "source": [
        "emir = np.random.randint(1,100,10)\n",
        "emir"
      ],
      "id": "45d41501",
      "execution_count": null,
      "outputs": [
        {
          "output_type": "execute_result",
          "data": {
            "text/plain": [
              "array([25, 99, 63, 45, 98, 75, 89, 24, 76, 47])"
            ]
          },
          "metadata": {
            "tags": []
          },
          "execution_count": 32
        }
      ]
    },
    {
      "cell_type": "code",
      "metadata": {
        "id": "1b64531d",
        "outputId": "97681dbf-f194-45bd-c16f-3ca796f7770c"
      },
      "source": [
        "np.max(emir)"
      ],
      "id": "1b64531d",
      "execution_count": null,
      "outputs": [
        {
          "output_type": "execute_result",
          "data": {
            "text/plain": [
              "99"
            ]
          },
          "metadata": {
            "tags": []
          },
          "execution_count": 33
        }
      ]
    },
    {
      "cell_type": "code",
      "metadata": {
        "id": "4118445b",
        "outputId": "229e0cf4-4c17-4a91-81ae-351001e8383f"
      },
      "source": [
        "np.min(emir)"
      ],
      "id": "4118445b",
      "execution_count": null,
      "outputs": [
        {
          "output_type": "execute_result",
          "data": {
            "text/plain": [
              "24"
            ]
          },
          "metadata": {
            "tags": []
          },
          "execution_count": 42
        }
      ]
    },
    {
      "cell_type": "code",
      "metadata": {
        "id": "55482469",
        "outputId": "eb93eeb5-92c6-4202-f873-d33713931738"
      },
      "source": [
        "np.argmax(emir, axis=0)"
      ],
      "id": "55482469",
      "execution_count": null,
      "outputs": [
        {
          "output_type": "execute_result",
          "data": {
            "text/plain": [
              "1"
            ]
          },
          "metadata": {
            "tags": []
          },
          "execution_count": 41
        }
      ]
    },
    {
      "cell_type": "code",
      "metadata": {
        "id": "f05f5359",
        "outputId": "7b0e798e-727f-4c66-b86a-28d708468824"
      },
      "source": [
        "np.argmin(emir)"
      ],
      "id": "f05f5359",
      "execution_count": null,
      "outputs": [
        {
          "output_type": "execute_result",
          "data": {
            "text/plain": [
              "7"
            ]
          },
          "metadata": {
            "tags": []
          },
          "execution_count": 38
        }
      ]
    },
    {
      "cell_type": "code",
      "metadata": {
        "id": "a9718b27"
      },
      "source": [
        "# Concatenate (birleştirme satır ve sütun bazlı)"
      ],
      "id": "a9718b27",
      "execution_count": null,
      "outputs": []
    },
    {
      "cell_type": "code",
      "metadata": {
        "id": "7abe85fe",
        "outputId": "94cb45f5-5d82-4996-8ede-f4bd5fe7aaac"
      },
      "source": [
        "a = np.random.randint(1,10,10)\n",
        "a"
      ],
      "id": "7abe85fe",
      "execution_count": null,
      "outputs": [
        {
          "output_type": "execute_result",
          "data": {
            "text/plain": [
              "array([8, 4, 7, 2, 7, 5, 9, 3, 6, 3])"
            ]
          },
          "metadata": {
            "tags": []
          },
          "execution_count": 45
        }
      ]
    },
    {
      "cell_type": "code",
      "metadata": {
        "id": "1a0c9781",
        "outputId": "4cf58d33-3217-4ee5-cfd8-a68d0b1f62df"
      },
      "source": [
        "b = np.random.randint(10,20,10)\n",
        "b"
      ],
      "id": "1a0c9781",
      "execution_count": null,
      "outputs": [
        {
          "output_type": "execute_result",
          "data": {
            "text/plain": [
              "array([12, 10, 11, 10, 19, 11, 19, 10, 15, 15])"
            ]
          },
          "metadata": {
            "tags": []
          },
          "execution_count": 46
        }
      ]
    },
    {
      "cell_type": "code",
      "metadata": {
        "id": "65215260",
        "outputId": "7c828fae-1929-4dfd-96a3-f50219b801ad"
      },
      "source": [
        "ab = np.concatenate([a,b])\n",
        "ab"
      ],
      "id": "65215260",
      "execution_count": null,
      "outputs": [
        {
          "output_type": "execute_result",
          "data": {
            "text/plain": [
              "array([ 8,  4,  7,  2,  7,  5,  9,  3,  6,  3, 12, 10, 11, 10, 19, 11, 19,\n",
              "       10, 15, 15])"
            ]
          },
          "metadata": {
            "tags": []
          },
          "execution_count": 49
        }
      ]
    },
    {
      "cell_type": "code",
      "metadata": {
        "id": "2277fa34"
      },
      "source": [
        "x = np.array([[1, 2], [3, 4]])\n",
        "y = np.array([[5, 6], [7, 8]])"
      ],
      "id": "2277fa34",
      "execution_count": null,
      "outputs": []
    },
    {
      "cell_type": "code",
      "metadata": {
        "id": "38ff3ba1",
        "outputId": "284c9836-2e4f-418f-84da-3446f9c3a3d8"
      },
      "source": [
        "np.concatenate((x,y), axis=0)"
      ],
      "id": "38ff3ba1",
      "execution_count": null,
      "outputs": [
        {
          "output_type": "execute_result",
          "data": {
            "text/plain": [
              "array([[1, 2],\n",
              "       [3, 4],\n",
              "       [5, 6],\n",
              "       [7, 8]])"
            ]
          },
          "metadata": {
            "tags": []
          },
          "execution_count": 56
        }
      ]
    },
    {
      "cell_type": "code",
      "metadata": {
        "id": "b88a5121",
        "outputId": "8c387876-ee51-4ade-b741-171bd380440c"
      },
      "source": [
        "np.concatenate((x,y), axis=1)"
      ],
      "id": "b88a5121",
      "execution_count": null,
      "outputs": [
        {
          "output_type": "execute_result",
          "data": {
            "text/plain": [
              "array([[1, 2, 5, 6],\n",
              "       [3, 4, 7, 8]])"
            ]
          },
          "metadata": {
            "tags": []
          },
          "execution_count": 57
        }
      ]
    },
    {
      "cell_type": "code",
      "metadata": {
        "id": "18a36765"
      },
      "source": [
        "# split (bölme satır ve sütun bazlı)"
      ],
      "id": "18a36765",
      "execution_count": null,
      "outputs": []
    },
    {
      "cell_type": "code",
      "metadata": {
        "id": "cb4b49c2",
        "outputId": "93991ea3-3e94-49e1-e0cc-06d610ab58aa"
      },
      "source": [
        "x = np.array([1,2,3,4,5,6])\n",
        "x"
      ],
      "id": "cb4b49c2",
      "execution_count": null,
      "outputs": [
        {
          "output_type": "execute_result",
          "data": {
            "text/plain": [
              "array([1, 2, 3, 4, 5, 6])"
            ]
          },
          "metadata": {
            "tags": []
          },
          "execution_count": 62
        }
      ]
    },
    {
      "cell_type": "code",
      "metadata": {
        "id": "cc196d25",
        "outputId": "7003b9f8-0f8f-4e07-f847-07802bb7186f"
      },
      "source": [
        "np.split(x,[3,5])"
      ],
      "id": "cc196d25",
      "execution_count": null,
      "outputs": [
        {
          "output_type": "execute_result",
          "data": {
            "text/plain": [
              "[array([1, 2, 3]), array([4, 5]), array([6])]"
            ]
          },
          "metadata": {
            "tags": []
          },
          "execution_count": 64
        }
      ]
    },
    {
      "cell_type": "code",
      "metadata": {
        "id": "08f54755"
      },
      "source": [
        "# 2 boyutlu diziler için satır bazında bölme vsplit"
      ],
      "id": "08f54755",
      "execution_count": null,
      "outputs": []
    },
    {
      "cell_type": "code",
      "metadata": {
        "id": "02788ee7",
        "outputId": "bf19151d-3a82-4728-d5d5-ac205bc37d10"
      },
      "source": [
        "m = np.arange(20).reshape(5,4)\n",
        "m"
      ],
      "id": "02788ee7",
      "execution_count": null,
      "outputs": [
        {
          "output_type": "execute_result",
          "data": {
            "text/plain": [
              "array([[ 0,  1,  2,  3],\n",
              "       [ 4,  5,  6,  7],\n",
              "       [ 8,  9, 10, 11],\n",
              "       [12, 13, 14, 15],\n",
              "       [16, 17, 18, 19]])"
            ]
          },
          "metadata": {
            "tags": []
          },
          "execution_count": 58
        }
      ]
    },
    {
      "cell_type": "code",
      "metadata": {
        "id": "333b58cc",
        "outputId": "e2646290-b5c9-44ef-9686-1ec5583f4589"
      },
      "source": [
        "np.vsplit(m,[1,3])"
      ],
      "id": "333b58cc",
      "execution_count": null,
      "outputs": [
        {
          "output_type": "execute_result",
          "data": {
            "text/plain": [
              "[array([[0, 1, 2, 3]]),\n",
              " array([[ 4,  5,  6,  7],\n",
              "        [ 8,  9, 10, 11]]),\n",
              " array([[12, 13, 14, 15],\n",
              "        [16, 17, 18, 19]])]"
            ]
          },
          "metadata": {
            "tags": []
          },
          "execution_count": 59
        }
      ]
    },
    {
      "cell_type": "code",
      "metadata": {
        "id": "54f5d3c5"
      },
      "source": [
        "upper , lower = np.vsplit(m,[3])"
      ],
      "id": "54f5d3c5",
      "execution_count": null,
      "outputs": []
    },
    {
      "cell_type": "code",
      "metadata": {
        "id": "f8371658",
        "outputId": "6a529202-ddad-47f9-eb25-57b4c6e17b11"
      },
      "source": [
        "upper"
      ],
      "id": "f8371658",
      "execution_count": null,
      "outputs": [
        {
          "output_type": "execute_result",
          "data": {
            "text/plain": [
              "array([[ 0,  1,  2,  3],\n",
              "       [ 4,  5,  6,  7],\n",
              "       [ 8,  9, 10, 11]])"
            ]
          },
          "metadata": {
            "tags": []
          },
          "execution_count": 68
        }
      ]
    },
    {
      "cell_type": "code",
      "metadata": {
        "id": "6e89b0b5",
        "outputId": "e942042b-263f-408c-e766-d559b9130464"
      },
      "source": [
        "lower"
      ],
      "id": "6e89b0b5",
      "execution_count": null,
      "outputs": [
        {
          "output_type": "execute_result",
          "data": {
            "text/plain": [
              "array([[12, 13, 14, 15],\n",
              "       [16, 17, 18, 19]])"
            ]
          },
          "metadata": {
            "tags": []
          },
          "execution_count": 69
        }
      ]
    },
    {
      "cell_type": "code",
      "metadata": {
        "id": "70ef16ad"
      },
      "source": [
        "# 2 boyutlu diziler için dütun bazında bölme hsplit"
      ],
      "id": "70ef16ad",
      "execution_count": null,
      "outputs": []
    },
    {
      "cell_type": "code",
      "metadata": {
        "id": "436e3a15",
        "outputId": "1350711b-7212-48bf-d6f1-3c278ace8c18"
      },
      "source": [
        "m"
      ],
      "id": "436e3a15",
      "execution_count": null,
      "outputs": [
        {
          "output_type": "execute_result",
          "data": {
            "text/plain": [
              "array([[ 0,  1,  2,  3],\n",
              "       [ 4,  5,  6,  7],\n",
              "       [ 8,  9, 10, 11],\n",
              "       [12, 13, 14, 15],\n",
              "       [16, 17, 18, 19]])"
            ]
          },
          "metadata": {
            "tags": []
          },
          "execution_count": 70
        }
      ]
    },
    {
      "cell_type": "code",
      "metadata": {
        "id": "0b948062",
        "outputId": "7f5ca59f-3905-4252-da72-f1a29a406d8f"
      },
      "source": [
        "np.hsplit(m,[2])"
      ],
      "id": "0b948062",
      "execution_count": null,
      "outputs": [
        {
          "output_type": "execute_result",
          "data": {
            "text/plain": [
              "[array([[ 0,  1],\n",
              "        [ 4,  5],\n",
              "        [ 8,  9],\n",
              "        [12, 13],\n",
              "        [16, 17]]),\n",
              " array([[ 2,  3],\n",
              "        [ 6,  7],\n",
              "        [10, 11],\n",
              "        [14, 15],\n",
              "        [18, 19]])]"
            ]
          },
          "metadata": {
            "tags": []
          },
          "execution_count": 71
        }
      ]
    },
    {
      "cell_type": "code",
      "metadata": {
        "id": "5ad80dd9"
      },
      "source": [
        "x,y,z,t = np.hsplit(m, 4)"
      ],
      "id": "5ad80dd9",
      "execution_count": null,
      "outputs": []
    },
    {
      "cell_type": "code",
      "metadata": {
        "id": "14a2b830",
        "outputId": "35c7d17e-ad62-47c5-c546-1b82586ed076"
      },
      "source": [
        "x"
      ],
      "id": "14a2b830",
      "execution_count": null,
      "outputs": [
        {
          "output_type": "execute_result",
          "data": {
            "text/plain": [
              "array([[ 0],\n",
              "       [ 4],\n",
              "       [ 8],\n",
              "       [12],\n",
              "       [16]])"
            ]
          },
          "metadata": {
            "tags": []
          },
          "execution_count": 73
        }
      ]
    },
    {
      "cell_type": "code",
      "metadata": {
        "id": "e10d0267",
        "outputId": "691b50a7-1d8c-4bc5-e3b3-e700d2350917"
      },
      "source": [
        "y"
      ],
      "id": "e10d0267",
      "execution_count": null,
      "outputs": [
        {
          "output_type": "execute_result",
          "data": {
            "text/plain": [
              "array([[ 1],\n",
              "       [ 5],\n",
              "       [ 9],\n",
              "       [13],\n",
              "       [17]])"
            ]
          },
          "metadata": {
            "tags": []
          },
          "execution_count": 74
        }
      ]
    },
    {
      "cell_type": "code",
      "metadata": {
        "id": "fcba10fc",
        "outputId": "18af2493-0197-4ef4-8ea2-d69268c2eda4"
      },
      "source": [
        "z"
      ],
      "id": "fcba10fc",
      "execution_count": null,
      "outputs": [
        {
          "output_type": "execute_result",
          "data": {
            "text/plain": [
              "array([[ 2],\n",
              "       [ 6],\n",
              "       [10],\n",
              "       [14],\n",
              "       [18]])"
            ]
          },
          "metadata": {
            "tags": []
          },
          "execution_count": 75
        }
      ]
    },
    {
      "cell_type": "code",
      "metadata": {
        "id": "8bb15a41",
        "outputId": "d70ae258-8480-4ed5-f793-83878af7a6e0"
      },
      "source": [
        "t"
      ],
      "id": "8bb15a41",
      "execution_count": null,
      "outputs": [
        {
          "output_type": "execute_result",
          "data": {
            "text/plain": [
              "array([[ 3],\n",
              "       [ 7],\n",
              "       [11],\n",
              "       [15],\n",
              "       [19]])"
            ]
          },
          "metadata": {
            "tags": []
          },
          "execution_count": 76
        }
      ]
    },
    {
      "cell_type": "code",
      "metadata": {
        "id": "53640f66"
      },
      "source": [
        "# sorting (sıralama satır ve sütun bazlı)"
      ],
      "id": "53640f66",
      "execution_count": null,
      "outputs": []
    },
    {
      "cell_type": "code",
      "metadata": {
        "id": "2e225bc1"
      },
      "source": [
        "v = np.array([2,1,3,4,6])"
      ],
      "id": "2e225bc1",
      "execution_count": null,
      "outputs": []
    },
    {
      "cell_type": "code",
      "metadata": {
        "id": "92af33be",
        "outputId": "e558bb4d-deba-4848-c302-10e6adfad138"
      },
      "source": [
        "np.sort(v)"
      ],
      "id": "92af33be",
      "execution_count": null,
      "outputs": [
        {
          "output_type": "execute_result",
          "data": {
            "text/plain": [
              "array([1, 2, 3, 4, 6])"
            ]
          },
          "metadata": {
            "tags": []
          },
          "execution_count": 78
        }
      ]
    },
    {
      "cell_type": "code",
      "metadata": {
        "id": "99d12dec",
        "outputId": "6f4f235e-2bbd-4ecb-91ae-b304010705cf"
      },
      "source": [
        "two_d = np.random.randint(5,100,(3,3))\n",
        "two_d"
      ],
      "id": "99d12dec",
      "execution_count": null,
      "outputs": [
        {
          "output_type": "execute_result",
          "data": {
            "text/plain": [
              "array([[47, 52, 69],\n",
              "       [10, 73, 67],\n",
              "       [14, 29, 14]])"
            ]
          },
          "metadata": {
            "tags": []
          },
          "execution_count": 81
        }
      ]
    },
    {
      "cell_type": "code",
      "metadata": {
        "id": "45fde76e",
        "outputId": "f2abedad-2104-4a94-d760-e6fa1033b860"
      },
      "source": [
        "np.sort(two_d, axis=0)"
      ],
      "id": "45fde76e",
      "execution_count": null,
      "outputs": [
        {
          "output_type": "execute_result",
          "data": {
            "text/plain": [
              "array([[10, 29, 14],\n",
              "       [14, 52, 67],\n",
              "       [47, 73, 69]])"
            ]
          },
          "metadata": {
            "tags": []
          },
          "execution_count": 82
        }
      ]
    },
    {
      "cell_type": "code",
      "metadata": {
        "id": "5c9f8332",
        "outputId": "f2189cf2-1bef-43db-b642-0f79c76e5f79"
      },
      "source": [
        "np.sort(two_d, axis=1)"
      ],
      "id": "5c9f8332",
      "execution_count": null,
      "outputs": [
        {
          "output_type": "execute_result",
          "data": {
            "text/plain": [
              "array([[47, 52, 69],\n",
              "       [10, 67, 73],\n",
              "       [14, 14, 29]])"
            ]
          },
          "metadata": {
            "tags": []
          },
          "execution_count": 83
        }
      ]
    }
  ]
}