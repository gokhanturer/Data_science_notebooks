{
  "nbformat": 4,
  "nbformat_minor": 5,
  "metadata": {
    "kernelspec": {
      "display_name": "Python 3",
      "language": "python",
      "name": "python3"
    },
    "language_info": {
      "codemirror_mode": {
        "name": "ipython",
        "version": 3
      },
      "file_extension": ".py",
      "mimetype": "text/x-python",
      "name": "python",
      "nbconvert_exporter": "python",
      "pygments_lexer": "ipython3",
      "version": "3.8.8"
    },
    "colab": {
      "name": "Numpy_Pandas_Practise_Emir.ipynb",
      "provenance": [],
      "include_colab_link": true
    }
  },
  "cells": [
    {
      "cell_type": "markdown",
      "metadata": {
        "id": "view-in-github",
        "colab_type": "text"
      },
      "source": [
        "<a href=\"https://colab.research.google.com/github/gokhanturer/Data_science_notebooks/blob/main/Numpy_Pandas_Practise_1.ipynb\" target=\"_parent\"><img src=\"https://colab.research.google.com/assets/colab-badge.svg\" alt=\"Open In Colab\"/></a>"
      ]
    },
    {
      "cell_type": "code",
      "metadata": {
        "id": "08e53c35"
      },
      "source": [
        "import pandas as pd\n",
        "import numpy as np \n",
        "import seaborn as sns\n",
        "import matplotlib.pyplot as mat"
      ],
      "id": "08e53c35",
      "execution_count": null,
      "outputs": []
    },
    {
      "cell_type": "code",
      "metadata": {
        "id": "924efc36",
        "outputId": "4e5866ef-2a92-4d13-d493-4a4656c4253a"
      },
      "source": [
        "df = pd.read_csv(\"world-happiness-report-2021.csv\")\n",
        "df.head()"
      ],
      "id": "924efc36",
      "execution_count": null,
      "outputs": [
        {
          "output_type": "execute_result",
          "data": {
            "text/html": [
              "<div>\n",
              "<style scoped>\n",
              "    .dataframe tbody tr th:only-of-type {\n",
              "        vertical-align: middle;\n",
              "    }\n",
              "\n",
              "    .dataframe tbody tr th {\n",
              "        vertical-align: top;\n",
              "    }\n",
              "\n",
              "    .dataframe thead th {\n",
              "        text-align: right;\n",
              "    }\n",
              "</style>\n",
              "<table border=\"1\" class=\"dataframe\">\n",
              "  <thead>\n",
              "    <tr style=\"text-align: right;\">\n",
              "      <th></th>\n",
              "      <th>Country name</th>\n",
              "      <th>Regional indicator</th>\n",
              "      <th>Ladder score</th>\n",
              "      <th>Standard error of ladder score</th>\n",
              "      <th>upperwhisker</th>\n",
              "      <th>lowerwhisker</th>\n",
              "      <th>Logged GDP per capita</th>\n",
              "      <th>Social support</th>\n",
              "      <th>Healthy life expectancy</th>\n",
              "      <th>Freedom to make life choices</th>\n",
              "      <th>Generosity</th>\n",
              "      <th>Perceptions of corruption</th>\n",
              "      <th>Ladder score in Dystopia</th>\n",
              "      <th>Explained by: Log GDP per capita</th>\n",
              "      <th>Explained by: Social support</th>\n",
              "      <th>Explained by: Healthy life expectancy</th>\n",
              "      <th>Explained by: Freedom to make life choices</th>\n",
              "      <th>Explained by: Generosity</th>\n",
              "      <th>Explained by: Perceptions of corruption</th>\n",
              "      <th>Dystopia + residual</th>\n",
              "    </tr>\n",
              "  </thead>\n",
              "  <tbody>\n",
              "    <tr>\n",
              "      <th>0</th>\n",
              "      <td>Finland</td>\n",
              "      <td>Western Europe</td>\n",
              "      <td>7.842</td>\n",
              "      <td>0.032</td>\n",
              "      <td>7.904</td>\n",
              "      <td>7.780</td>\n",
              "      <td>10.775</td>\n",
              "      <td>0.954</td>\n",
              "      <td>72.0</td>\n",
              "      <td>0.949</td>\n",
              "      <td>-0.098</td>\n",
              "      <td>0.186</td>\n",
              "      <td>2.43</td>\n",
              "      <td>1.446</td>\n",
              "      <td>1.106</td>\n",
              "      <td>0.741</td>\n",
              "      <td>0.691</td>\n",
              "      <td>0.124</td>\n",
              "      <td>0.481</td>\n",
              "      <td>3.253</td>\n",
              "    </tr>\n",
              "    <tr>\n",
              "      <th>1</th>\n",
              "      <td>Denmark</td>\n",
              "      <td>Western Europe</td>\n",
              "      <td>7.620</td>\n",
              "      <td>0.035</td>\n",
              "      <td>7.687</td>\n",
              "      <td>7.552</td>\n",
              "      <td>10.933</td>\n",
              "      <td>0.954</td>\n",
              "      <td>72.7</td>\n",
              "      <td>0.946</td>\n",
              "      <td>0.030</td>\n",
              "      <td>0.179</td>\n",
              "      <td>2.43</td>\n",
              "      <td>1.502</td>\n",
              "      <td>1.108</td>\n",
              "      <td>0.763</td>\n",
              "      <td>0.686</td>\n",
              "      <td>0.208</td>\n",
              "      <td>0.485</td>\n",
              "      <td>2.868</td>\n",
              "    </tr>\n",
              "    <tr>\n",
              "      <th>2</th>\n",
              "      <td>Switzerland</td>\n",
              "      <td>Western Europe</td>\n",
              "      <td>7.571</td>\n",
              "      <td>0.036</td>\n",
              "      <td>7.643</td>\n",
              "      <td>7.500</td>\n",
              "      <td>11.117</td>\n",
              "      <td>0.942</td>\n",
              "      <td>74.4</td>\n",
              "      <td>0.919</td>\n",
              "      <td>0.025</td>\n",
              "      <td>0.292</td>\n",
              "      <td>2.43</td>\n",
              "      <td>1.566</td>\n",
              "      <td>1.079</td>\n",
              "      <td>0.816</td>\n",
              "      <td>0.653</td>\n",
              "      <td>0.204</td>\n",
              "      <td>0.413</td>\n",
              "      <td>2.839</td>\n",
              "    </tr>\n",
              "    <tr>\n",
              "      <th>3</th>\n",
              "      <td>Iceland</td>\n",
              "      <td>Western Europe</td>\n",
              "      <td>7.554</td>\n",
              "      <td>0.059</td>\n",
              "      <td>7.670</td>\n",
              "      <td>7.438</td>\n",
              "      <td>10.878</td>\n",
              "      <td>0.983</td>\n",
              "      <td>73.0</td>\n",
              "      <td>0.955</td>\n",
              "      <td>0.160</td>\n",
              "      <td>0.673</td>\n",
              "      <td>2.43</td>\n",
              "      <td>1.482</td>\n",
              "      <td>1.172</td>\n",
              "      <td>0.772</td>\n",
              "      <td>0.698</td>\n",
              "      <td>0.293</td>\n",
              "      <td>0.170</td>\n",
              "      <td>2.967</td>\n",
              "    </tr>\n",
              "    <tr>\n",
              "      <th>4</th>\n",
              "      <td>Netherlands</td>\n",
              "      <td>Western Europe</td>\n",
              "      <td>7.464</td>\n",
              "      <td>0.027</td>\n",
              "      <td>7.518</td>\n",
              "      <td>7.410</td>\n",
              "      <td>10.932</td>\n",
              "      <td>0.942</td>\n",
              "      <td>72.4</td>\n",
              "      <td>0.913</td>\n",
              "      <td>0.175</td>\n",
              "      <td>0.338</td>\n",
              "      <td>2.43</td>\n",
              "      <td>1.501</td>\n",
              "      <td>1.079</td>\n",
              "      <td>0.753</td>\n",
              "      <td>0.647</td>\n",
              "      <td>0.302</td>\n",
              "      <td>0.384</td>\n",
              "      <td>2.798</td>\n",
              "    </tr>\n",
              "  </tbody>\n",
              "</table>\n",
              "</div>"
            ],
            "text/plain": [
              "  Country name Regional indicator  Ladder score  \\\n",
              "0      Finland     Western Europe         7.842   \n",
              "1      Denmark     Western Europe         7.620   \n",
              "2  Switzerland     Western Europe         7.571   \n",
              "3      Iceland     Western Europe         7.554   \n",
              "4  Netherlands     Western Europe         7.464   \n",
              "\n",
              "   Standard error of ladder score  upperwhisker  lowerwhisker  \\\n",
              "0                           0.032         7.904         7.780   \n",
              "1                           0.035         7.687         7.552   \n",
              "2                           0.036         7.643         7.500   \n",
              "3                           0.059         7.670         7.438   \n",
              "4                           0.027         7.518         7.410   \n",
              "\n",
              "   Logged GDP per capita  Social support  Healthy life expectancy  \\\n",
              "0                 10.775           0.954                     72.0   \n",
              "1                 10.933           0.954                     72.7   \n",
              "2                 11.117           0.942                     74.4   \n",
              "3                 10.878           0.983                     73.0   \n",
              "4                 10.932           0.942                     72.4   \n",
              "\n",
              "   Freedom to make life choices  Generosity  Perceptions of corruption  \\\n",
              "0                         0.949      -0.098                      0.186   \n",
              "1                         0.946       0.030                      0.179   \n",
              "2                         0.919       0.025                      0.292   \n",
              "3                         0.955       0.160                      0.673   \n",
              "4                         0.913       0.175                      0.338   \n",
              "\n",
              "   Ladder score in Dystopia  Explained by: Log GDP per capita  \\\n",
              "0                      2.43                             1.446   \n",
              "1                      2.43                             1.502   \n",
              "2                      2.43                             1.566   \n",
              "3                      2.43                             1.482   \n",
              "4                      2.43                             1.501   \n",
              "\n",
              "   Explained by: Social support  Explained by: Healthy life expectancy  \\\n",
              "0                         1.106                                  0.741   \n",
              "1                         1.108                                  0.763   \n",
              "2                         1.079                                  0.816   \n",
              "3                         1.172                                  0.772   \n",
              "4                         1.079                                  0.753   \n",
              "\n",
              "   Explained by: Freedom to make life choices  Explained by: Generosity  \\\n",
              "0                                       0.691                     0.124   \n",
              "1                                       0.686                     0.208   \n",
              "2                                       0.653                     0.204   \n",
              "3                                       0.698                     0.293   \n",
              "4                                       0.647                     0.302   \n",
              "\n",
              "   Explained by: Perceptions of corruption  Dystopia + residual  \n",
              "0                                    0.481                3.253  \n",
              "1                                    0.485                2.868  \n",
              "2                                    0.413                2.839  \n",
              "3                                    0.170                2.967  \n",
              "4                                    0.384                2.798  "
            ]
          },
          "metadata": {
            "tags": []
          },
          "execution_count": 2
        }
      ]
    },
    {
      "cell_type": "code",
      "metadata": {
        "id": "b0baf664",
        "outputId": "357b829d-0cb0-45df-c036-f4d6541cd06a"
      },
      "source": [
        "# shape (kaç tane satır ka. tane sütun var onu gösterir)\n",
        "df.shape"
      ],
      "id": "b0baf664",
      "execution_count": null,
      "outputs": [
        {
          "output_type": "execute_result",
          "data": {
            "text/plain": [
              "(149, 20)"
            ]
          },
          "metadata": {
            "tags": []
          },
          "execution_count": 3
        }
      ]
    },
    {
      "cell_type": "code",
      "metadata": {
        "id": "1facc03e",
        "outputId": "45a818aa-3c7d-40f8-f413-41cfad87a566"
      },
      "source": [
        "# head (ilk baştan default 5 satır getirir ama istersek içine değer girilebilir)\n",
        "df.head()"
      ],
      "id": "1facc03e",
      "execution_count": null,
      "outputs": [
        {
          "output_type": "execute_result",
          "data": {
            "text/html": [
              "<div>\n",
              "<style scoped>\n",
              "    .dataframe tbody tr th:only-of-type {\n",
              "        vertical-align: middle;\n",
              "    }\n",
              "\n",
              "    .dataframe tbody tr th {\n",
              "        vertical-align: top;\n",
              "    }\n",
              "\n",
              "    .dataframe thead th {\n",
              "        text-align: right;\n",
              "    }\n",
              "</style>\n",
              "<table border=\"1\" class=\"dataframe\">\n",
              "  <thead>\n",
              "    <tr style=\"text-align: right;\">\n",
              "      <th></th>\n",
              "      <th>Country name</th>\n",
              "      <th>Regional indicator</th>\n",
              "      <th>Ladder score</th>\n",
              "      <th>Standard error of ladder score</th>\n",
              "      <th>upperwhisker</th>\n",
              "      <th>lowerwhisker</th>\n",
              "      <th>Logged GDP per capita</th>\n",
              "      <th>Social support</th>\n",
              "      <th>Healthy life expectancy</th>\n",
              "      <th>Freedom to make life choices</th>\n",
              "      <th>Generosity</th>\n",
              "      <th>Perceptions of corruption</th>\n",
              "      <th>Ladder score in Dystopia</th>\n",
              "      <th>Explained by: Log GDP per capita</th>\n",
              "      <th>Explained by: Social support</th>\n",
              "      <th>Explained by: Healthy life expectancy</th>\n",
              "      <th>Explained by: Freedom to make life choices</th>\n",
              "      <th>Explained by: Generosity</th>\n",
              "      <th>Explained by: Perceptions of corruption</th>\n",
              "      <th>Dystopia + residual</th>\n",
              "    </tr>\n",
              "  </thead>\n",
              "  <tbody>\n",
              "    <tr>\n",
              "      <th>0</th>\n",
              "      <td>Finland</td>\n",
              "      <td>Western Europe</td>\n",
              "      <td>7.842</td>\n",
              "      <td>0.032</td>\n",
              "      <td>7.904</td>\n",
              "      <td>7.780</td>\n",
              "      <td>10.775</td>\n",
              "      <td>0.954</td>\n",
              "      <td>72.0</td>\n",
              "      <td>0.949</td>\n",
              "      <td>-0.098</td>\n",
              "      <td>0.186</td>\n",
              "      <td>2.43</td>\n",
              "      <td>1.446</td>\n",
              "      <td>1.106</td>\n",
              "      <td>0.741</td>\n",
              "      <td>0.691</td>\n",
              "      <td>0.124</td>\n",
              "      <td>0.481</td>\n",
              "      <td>3.253</td>\n",
              "    </tr>\n",
              "    <tr>\n",
              "      <th>1</th>\n",
              "      <td>Denmark</td>\n",
              "      <td>Western Europe</td>\n",
              "      <td>7.620</td>\n",
              "      <td>0.035</td>\n",
              "      <td>7.687</td>\n",
              "      <td>7.552</td>\n",
              "      <td>10.933</td>\n",
              "      <td>0.954</td>\n",
              "      <td>72.7</td>\n",
              "      <td>0.946</td>\n",
              "      <td>0.030</td>\n",
              "      <td>0.179</td>\n",
              "      <td>2.43</td>\n",
              "      <td>1.502</td>\n",
              "      <td>1.108</td>\n",
              "      <td>0.763</td>\n",
              "      <td>0.686</td>\n",
              "      <td>0.208</td>\n",
              "      <td>0.485</td>\n",
              "      <td>2.868</td>\n",
              "    </tr>\n",
              "    <tr>\n",
              "      <th>2</th>\n",
              "      <td>Switzerland</td>\n",
              "      <td>Western Europe</td>\n",
              "      <td>7.571</td>\n",
              "      <td>0.036</td>\n",
              "      <td>7.643</td>\n",
              "      <td>7.500</td>\n",
              "      <td>11.117</td>\n",
              "      <td>0.942</td>\n",
              "      <td>74.4</td>\n",
              "      <td>0.919</td>\n",
              "      <td>0.025</td>\n",
              "      <td>0.292</td>\n",
              "      <td>2.43</td>\n",
              "      <td>1.566</td>\n",
              "      <td>1.079</td>\n",
              "      <td>0.816</td>\n",
              "      <td>0.653</td>\n",
              "      <td>0.204</td>\n",
              "      <td>0.413</td>\n",
              "      <td>2.839</td>\n",
              "    </tr>\n",
              "    <tr>\n",
              "      <th>3</th>\n",
              "      <td>Iceland</td>\n",
              "      <td>Western Europe</td>\n",
              "      <td>7.554</td>\n",
              "      <td>0.059</td>\n",
              "      <td>7.670</td>\n",
              "      <td>7.438</td>\n",
              "      <td>10.878</td>\n",
              "      <td>0.983</td>\n",
              "      <td>73.0</td>\n",
              "      <td>0.955</td>\n",
              "      <td>0.160</td>\n",
              "      <td>0.673</td>\n",
              "      <td>2.43</td>\n",
              "      <td>1.482</td>\n",
              "      <td>1.172</td>\n",
              "      <td>0.772</td>\n",
              "      <td>0.698</td>\n",
              "      <td>0.293</td>\n",
              "      <td>0.170</td>\n",
              "      <td>2.967</td>\n",
              "    </tr>\n",
              "    <tr>\n",
              "      <th>4</th>\n",
              "      <td>Netherlands</td>\n",
              "      <td>Western Europe</td>\n",
              "      <td>7.464</td>\n",
              "      <td>0.027</td>\n",
              "      <td>7.518</td>\n",
              "      <td>7.410</td>\n",
              "      <td>10.932</td>\n",
              "      <td>0.942</td>\n",
              "      <td>72.4</td>\n",
              "      <td>0.913</td>\n",
              "      <td>0.175</td>\n",
              "      <td>0.338</td>\n",
              "      <td>2.43</td>\n",
              "      <td>1.501</td>\n",
              "      <td>1.079</td>\n",
              "      <td>0.753</td>\n",
              "      <td>0.647</td>\n",
              "      <td>0.302</td>\n",
              "      <td>0.384</td>\n",
              "      <td>2.798</td>\n",
              "    </tr>\n",
              "  </tbody>\n",
              "</table>\n",
              "</div>"
            ],
            "text/plain": [
              "  Country name Regional indicator  Ladder score  \\\n",
              "0      Finland     Western Europe         7.842   \n",
              "1      Denmark     Western Europe         7.620   \n",
              "2  Switzerland     Western Europe         7.571   \n",
              "3      Iceland     Western Europe         7.554   \n",
              "4  Netherlands     Western Europe         7.464   \n",
              "\n",
              "   Standard error of ladder score  upperwhisker  lowerwhisker  \\\n",
              "0                           0.032         7.904         7.780   \n",
              "1                           0.035         7.687         7.552   \n",
              "2                           0.036         7.643         7.500   \n",
              "3                           0.059         7.670         7.438   \n",
              "4                           0.027         7.518         7.410   \n",
              "\n",
              "   Logged GDP per capita  Social support  Healthy life expectancy  \\\n",
              "0                 10.775           0.954                     72.0   \n",
              "1                 10.933           0.954                     72.7   \n",
              "2                 11.117           0.942                     74.4   \n",
              "3                 10.878           0.983                     73.0   \n",
              "4                 10.932           0.942                     72.4   \n",
              "\n",
              "   Freedom to make life choices  Generosity  Perceptions of corruption  \\\n",
              "0                         0.949      -0.098                      0.186   \n",
              "1                         0.946       0.030                      0.179   \n",
              "2                         0.919       0.025                      0.292   \n",
              "3                         0.955       0.160                      0.673   \n",
              "4                         0.913       0.175                      0.338   \n",
              "\n",
              "   Ladder score in Dystopia  Explained by: Log GDP per capita  \\\n",
              "0                      2.43                             1.446   \n",
              "1                      2.43                             1.502   \n",
              "2                      2.43                             1.566   \n",
              "3                      2.43                             1.482   \n",
              "4                      2.43                             1.501   \n",
              "\n",
              "   Explained by: Social support  Explained by: Healthy life expectancy  \\\n",
              "0                         1.106                                  0.741   \n",
              "1                         1.108                                  0.763   \n",
              "2                         1.079                                  0.816   \n",
              "3                         1.172                                  0.772   \n",
              "4                         1.079                                  0.753   \n",
              "\n",
              "   Explained by: Freedom to make life choices  Explained by: Generosity  \\\n",
              "0                                       0.691                     0.124   \n",
              "1                                       0.686                     0.208   \n",
              "2                                       0.653                     0.204   \n",
              "3                                       0.698                     0.293   \n",
              "4                                       0.647                     0.302   \n",
              "\n",
              "   Explained by: Perceptions of corruption  Dystopia + residual  \n",
              "0                                    0.481                3.253  \n",
              "1                                    0.485                2.868  \n",
              "2                                    0.413                2.839  \n",
              "3                                    0.170                2.967  \n",
              "4                                    0.384                2.798  "
            ]
          },
          "metadata": {
            "tags": []
          },
          "execution_count": 4
        }
      ]
    },
    {
      "cell_type": "code",
      "metadata": {
        "id": "bf0cd812",
        "outputId": "1c448908-eef4-47ae-8622-cbdb5dff2aa3"
      },
      "source": [
        "# tail (son satırları getirir, default değeri 5'tir ama aynı head gibi içine değer girilebilir)\n",
        "df.tail()"
      ],
      "id": "bf0cd812",
      "execution_count": null,
      "outputs": [
        {
          "output_type": "execute_result",
          "data": {
            "text/html": [
              "<div>\n",
              "<style scoped>\n",
              "    .dataframe tbody tr th:only-of-type {\n",
              "        vertical-align: middle;\n",
              "    }\n",
              "\n",
              "    .dataframe tbody tr th {\n",
              "        vertical-align: top;\n",
              "    }\n",
              "\n",
              "    .dataframe thead th {\n",
              "        text-align: right;\n",
              "    }\n",
              "</style>\n",
              "<table border=\"1\" class=\"dataframe\">\n",
              "  <thead>\n",
              "    <tr style=\"text-align: right;\">\n",
              "      <th></th>\n",
              "      <th>Country name</th>\n",
              "      <th>Regional indicator</th>\n",
              "      <th>Ladder score</th>\n",
              "      <th>Standard error of ladder score</th>\n",
              "      <th>upperwhisker</th>\n",
              "      <th>lowerwhisker</th>\n",
              "      <th>Logged GDP per capita</th>\n",
              "      <th>Social support</th>\n",
              "      <th>Healthy life expectancy</th>\n",
              "      <th>Freedom to make life choices</th>\n",
              "      <th>Generosity</th>\n",
              "      <th>Perceptions of corruption</th>\n",
              "      <th>Ladder score in Dystopia</th>\n",
              "      <th>Explained by: Log GDP per capita</th>\n",
              "      <th>Explained by: Social support</th>\n",
              "      <th>Explained by: Healthy life expectancy</th>\n",
              "      <th>Explained by: Freedom to make life choices</th>\n",
              "      <th>Explained by: Generosity</th>\n",
              "      <th>Explained by: Perceptions of corruption</th>\n",
              "      <th>Dystopia + residual</th>\n",
              "    </tr>\n",
              "  </thead>\n",
              "  <tbody>\n",
              "    <tr>\n",
              "      <th>144</th>\n",
              "      <td>Lesotho</td>\n",
              "      <td>Sub-Saharan Africa</td>\n",
              "      <td>3.512</td>\n",
              "      <td>0.120</td>\n",
              "      <td>3.748</td>\n",
              "      <td>3.276</td>\n",
              "      <td>7.926</td>\n",
              "      <td>0.787</td>\n",
              "      <td>48.700</td>\n",
              "      <td>0.715</td>\n",
              "      <td>-0.131</td>\n",
              "      <td>0.915</td>\n",
              "      <td>2.43</td>\n",
              "      <td>0.451</td>\n",
              "      <td>0.731</td>\n",
              "      <td>0.007</td>\n",
              "      <td>0.405</td>\n",
              "      <td>0.103</td>\n",
              "      <td>0.015</td>\n",
              "      <td>1.800</td>\n",
              "    </tr>\n",
              "    <tr>\n",
              "      <th>145</th>\n",
              "      <td>Botswana</td>\n",
              "      <td>Sub-Saharan Africa</td>\n",
              "      <td>3.467</td>\n",
              "      <td>0.074</td>\n",
              "      <td>3.611</td>\n",
              "      <td>3.322</td>\n",
              "      <td>9.782</td>\n",
              "      <td>0.784</td>\n",
              "      <td>59.269</td>\n",
              "      <td>0.824</td>\n",
              "      <td>-0.246</td>\n",
              "      <td>0.801</td>\n",
              "      <td>2.43</td>\n",
              "      <td>1.099</td>\n",
              "      <td>0.724</td>\n",
              "      <td>0.340</td>\n",
              "      <td>0.539</td>\n",
              "      <td>0.027</td>\n",
              "      <td>0.088</td>\n",
              "      <td>0.648</td>\n",
              "    </tr>\n",
              "    <tr>\n",
              "      <th>146</th>\n",
              "      <td>Rwanda</td>\n",
              "      <td>Sub-Saharan Africa</td>\n",
              "      <td>3.415</td>\n",
              "      <td>0.068</td>\n",
              "      <td>3.548</td>\n",
              "      <td>3.282</td>\n",
              "      <td>7.676</td>\n",
              "      <td>0.552</td>\n",
              "      <td>61.400</td>\n",
              "      <td>0.897</td>\n",
              "      <td>0.061</td>\n",
              "      <td>0.167</td>\n",
              "      <td>2.43</td>\n",
              "      <td>0.364</td>\n",
              "      <td>0.202</td>\n",
              "      <td>0.407</td>\n",
              "      <td>0.627</td>\n",
              "      <td>0.227</td>\n",
              "      <td>0.493</td>\n",
              "      <td>1.095</td>\n",
              "    </tr>\n",
              "    <tr>\n",
              "      <th>147</th>\n",
              "      <td>Zimbabwe</td>\n",
              "      <td>Sub-Saharan Africa</td>\n",
              "      <td>3.145</td>\n",
              "      <td>0.058</td>\n",
              "      <td>3.259</td>\n",
              "      <td>3.030</td>\n",
              "      <td>7.943</td>\n",
              "      <td>0.750</td>\n",
              "      <td>56.201</td>\n",
              "      <td>0.677</td>\n",
              "      <td>-0.047</td>\n",
              "      <td>0.821</td>\n",
              "      <td>2.43</td>\n",
              "      <td>0.457</td>\n",
              "      <td>0.649</td>\n",
              "      <td>0.243</td>\n",
              "      <td>0.359</td>\n",
              "      <td>0.157</td>\n",
              "      <td>0.075</td>\n",
              "      <td>1.205</td>\n",
              "    </tr>\n",
              "    <tr>\n",
              "      <th>148</th>\n",
              "      <td>Afghanistan</td>\n",
              "      <td>South Asia</td>\n",
              "      <td>2.523</td>\n",
              "      <td>0.038</td>\n",
              "      <td>2.596</td>\n",
              "      <td>2.449</td>\n",
              "      <td>7.695</td>\n",
              "      <td>0.463</td>\n",
              "      <td>52.493</td>\n",
              "      <td>0.382</td>\n",
              "      <td>-0.102</td>\n",
              "      <td>0.924</td>\n",
              "      <td>2.43</td>\n",
              "      <td>0.370</td>\n",
              "      <td>0.000</td>\n",
              "      <td>0.126</td>\n",
              "      <td>0.000</td>\n",
              "      <td>0.122</td>\n",
              "      <td>0.010</td>\n",
              "      <td>1.895</td>\n",
              "    </tr>\n",
              "  </tbody>\n",
              "</table>\n",
              "</div>"
            ],
            "text/plain": [
              "    Country name  Regional indicator  Ladder score  \\\n",
              "144      Lesotho  Sub-Saharan Africa         3.512   \n",
              "145     Botswana  Sub-Saharan Africa         3.467   \n",
              "146       Rwanda  Sub-Saharan Africa         3.415   \n",
              "147     Zimbabwe  Sub-Saharan Africa         3.145   \n",
              "148  Afghanistan          South Asia         2.523   \n",
              "\n",
              "     Standard error of ladder score  upperwhisker  lowerwhisker  \\\n",
              "144                           0.120         3.748         3.276   \n",
              "145                           0.074         3.611         3.322   \n",
              "146                           0.068         3.548         3.282   \n",
              "147                           0.058         3.259         3.030   \n",
              "148                           0.038         2.596         2.449   \n",
              "\n",
              "     Logged GDP per capita  Social support  Healthy life expectancy  \\\n",
              "144                  7.926           0.787                   48.700   \n",
              "145                  9.782           0.784                   59.269   \n",
              "146                  7.676           0.552                   61.400   \n",
              "147                  7.943           0.750                   56.201   \n",
              "148                  7.695           0.463                   52.493   \n",
              "\n",
              "     Freedom to make life choices  Generosity  Perceptions of corruption  \\\n",
              "144                         0.715      -0.131                      0.915   \n",
              "145                         0.824      -0.246                      0.801   \n",
              "146                         0.897       0.061                      0.167   \n",
              "147                         0.677      -0.047                      0.821   \n",
              "148                         0.382      -0.102                      0.924   \n",
              "\n",
              "     Ladder score in Dystopia  Explained by: Log GDP per capita  \\\n",
              "144                      2.43                             0.451   \n",
              "145                      2.43                             1.099   \n",
              "146                      2.43                             0.364   \n",
              "147                      2.43                             0.457   \n",
              "148                      2.43                             0.370   \n",
              "\n",
              "     Explained by: Social support  Explained by: Healthy life expectancy  \\\n",
              "144                         0.731                                  0.007   \n",
              "145                         0.724                                  0.340   \n",
              "146                         0.202                                  0.407   \n",
              "147                         0.649                                  0.243   \n",
              "148                         0.000                                  0.126   \n",
              "\n",
              "     Explained by: Freedom to make life choices  Explained by: Generosity  \\\n",
              "144                                       0.405                     0.103   \n",
              "145                                       0.539                     0.027   \n",
              "146                                       0.627                     0.227   \n",
              "147                                       0.359                     0.157   \n",
              "148                                       0.000                     0.122   \n",
              "\n",
              "     Explained by: Perceptions of corruption  Dystopia + residual  \n",
              "144                                    0.015                1.800  \n",
              "145                                    0.088                0.648  \n",
              "146                                    0.493                1.095  \n",
              "147                                    0.075                1.205  \n",
              "148                                    0.010                1.895  "
            ]
          },
          "metadata": {
            "tags": []
          },
          "execution_count": 5
        }
      ]
    },
    {
      "cell_type": "code",
      "metadata": {
        "id": "67fb6a9f",
        "outputId": "55986cb0-767c-4baa-903e-19f44f86e9c6"
      },
      "source": [
        "# sample (rastgele olarak istediğimiz kadar satır alabiliriz)\n",
        "df.sample(3)"
      ],
      "id": "67fb6a9f",
      "execution_count": null,
      "outputs": [
        {
          "output_type": "execute_result",
          "data": {
            "text/html": [
              "<div>\n",
              "<style scoped>\n",
              "    .dataframe tbody tr th:only-of-type {\n",
              "        vertical-align: middle;\n",
              "    }\n",
              "\n",
              "    .dataframe tbody tr th {\n",
              "        vertical-align: top;\n",
              "    }\n",
              "\n",
              "    .dataframe thead th {\n",
              "        text-align: right;\n",
              "    }\n",
              "</style>\n",
              "<table border=\"1\" class=\"dataframe\">\n",
              "  <thead>\n",
              "    <tr style=\"text-align: right;\">\n",
              "      <th></th>\n",
              "      <th>Country name</th>\n",
              "      <th>Regional indicator</th>\n",
              "      <th>Ladder score</th>\n",
              "      <th>Standard error of ladder score</th>\n",
              "      <th>upperwhisker</th>\n",
              "      <th>lowerwhisker</th>\n",
              "      <th>Logged GDP per capita</th>\n",
              "      <th>Social support</th>\n",
              "      <th>Healthy life expectancy</th>\n",
              "      <th>Freedom to make life choices</th>\n",
              "      <th>Generosity</th>\n",
              "      <th>Perceptions of corruption</th>\n",
              "      <th>Ladder score in Dystopia</th>\n",
              "      <th>Explained by: Log GDP per capita</th>\n",
              "      <th>Explained by: Social support</th>\n",
              "      <th>Explained by: Healthy life expectancy</th>\n",
              "      <th>Explained by: Freedom to make life choices</th>\n",
              "      <th>Explained by: Generosity</th>\n",
              "      <th>Explained by: Perceptions of corruption</th>\n",
              "      <th>Dystopia + residual</th>\n",
              "    </tr>\n",
              "  </thead>\n",
              "  <tbody>\n",
              "    <tr>\n",
              "      <th>146</th>\n",
              "      <td>Rwanda</td>\n",
              "      <td>Sub-Saharan Africa</td>\n",
              "      <td>3.415</td>\n",
              "      <td>0.068</td>\n",
              "      <td>3.548</td>\n",
              "      <td>3.282</td>\n",
              "      <td>7.676</td>\n",
              "      <td>0.552</td>\n",
              "      <td>61.400</td>\n",
              "      <td>0.897</td>\n",
              "      <td>0.061</td>\n",
              "      <td>0.167</td>\n",
              "      <td>2.43</td>\n",
              "      <td>0.364</td>\n",
              "      <td>0.202</td>\n",
              "      <td>0.407</td>\n",
              "      <td>0.627</td>\n",
              "      <td>0.227</td>\n",
              "      <td>0.493</td>\n",
              "      <td>1.095</td>\n",
              "    </tr>\n",
              "    <tr>\n",
              "      <th>15</th>\n",
              "      <td>Costa Rica</td>\n",
              "      <td>Latin America and Caribbean</td>\n",
              "      <td>7.069</td>\n",
              "      <td>0.056</td>\n",
              "      <td>7.179</td>\n",
              "      <td>6.960</td>\n",
              "      <td>9.880</td>\n",
              "      <td>0.891</td>\n",
              "      <td>71.400</td>\n",
              "      <td>0.934</td>\n",
              "      <td>-0.126</td>\n",
              "      <td>0.809</td>\n",
              "      <td>2.43</td>\n",
              "      <td>1.134</td>\n",
              "      <td>0.966</td>\n",
              "      <td>0.722</td>\n",
              "      <td>0.673</td>\n",
              "      <td>0.105</td>\n",
              "      <td>0.083</td>\n",
              "      <td>3.387</td>\n",
              "    </tr>\n",
              "    <tr>\n",
              "      <th>48</th>\n",
              "      <td>El Salvador</td>\n",
              "      <td>Latin America and Caribbean</td>\n",
              "      <td>6.061</td>\n",
              "      <td>0.065</td>\n",
              "      <td>6.188</td>\n",
              "      <td>5.933</td>\n",
              "      <td>9.054</td>\n",
              "      <td>0.762</td>\n",
              "      <td>66.402</td>\n",
              "      <td>0.888</td>\n",
              "      <td>-0.110</td>\n",
              "      <td>0.688</td>\n",
              "      <td>2.43</td>\n",
              "      <td>0.845</td>\n",
              "      <td>0.675</td>\n",
              "      <td>0.565</td>\n",
              "      <td>0.615</td>\n",
              "      <td>0.116</td>\n",
              "      <td>0.160</td>\n",
              "      <td>3.085</td>\n",
              "    </tr>\n",
              "  </tbody>\n",
              "</table>\n",
              "</div>"
            ],
            "text/plain": [
              "    Country name           Regional indicator  Ladder score  \\\n",
              "146       Rwanda           Sub-Saharan Africa         3.415   \n",
              "15    Costa Rica  Latin America and Caribbean         7.069   \n",
              "48   El Salvador  Latin America and Caribbean         6.061   \n",
              "\n",
              "     Standard error of ladder score  upperwhisker  lowerwhisker  \\\n",
              "146                           0.068         3.548         3.282   \n",
              "15                            0.056         7.179         6.960   \n",
              "48                            0.065         6.188         5.933   \n",
              "\n",
              "     Logged GDP per capita  Social support  Healthy life expectancy  \\\n",
              "146                  7.676           0.552                   61.400   \n",
              "15                   9.880           0.891                   71.400   \n",
              "48                   9.054           0.762                   66.402   \n",
              "\n",
              "     Freedom to make life choices  Generosity  Perceptions of corruption  \\\n",
              "146                         0.897       0.061                      0.167   \n",
              "15                          0.934      -0.126                      0.809   \n",
              "48                          0.888      -0.110                      0.688   \n",
              "\n",
              "     Ladder score in Dystopia  Explained by: Log GDP per capita  \\\n",
              "146                      2.43                             0.364   \n",
              "15                       2.43                             1.134   \n",
              "48                       2.43                             0.845   \n",
              "\n",
              "     Explained by: Social support  Explained by: Healthy life expectancy  \\\n",
              "146                         0.202                                  0.407   \n",
              "15                          0.966                                  0.722   \n",
              "48                          0.675                                  0.565   \n",
              "\n",
              "     Explained by: Freedom to make life choices  Explained by: Generosity  \\\n",
              "146                                       0.627                     0.227   \n",
              "15                                        0.673                     0.105   \n",
              "48                                        0.615                     0.116   \n",
              "\n",
              "     Explained by: Perceptions of corruption  Dystopia + residual  \n",
              "146                                    0.493                1.095  \n",
              "15                                     0.083                3.387  \n",
              "48                                     0.160                3.085  "
            ]
          },
          "metadata": {
            "tags": []
          },
          "execution_count": 6
        }
      ]
    },
    {
      "cell_type": "code",
      "metadata": {
        "id": "eac7e613",
        "outputId": "f070d55e-46de-4f54-a198-87e81a9a0b5b"
      },
      "source": [
        "# info (datatype larımıza bakarız. Kategorik mi numerik mi vs)\n",
        "df.info()"
      ],
      "id": "eac7e613",
      "execution_count": null,
      "outputs": [
        {
          "output_type": "stream",
          "text": [
            "<class 'pandas.core.frame.DataFrame'>\n",
            "RangeIndex: 149 entries, 0 to 148\n",
            "Data columns (total 20 columns):\n",
            " #   Column                                      Non-Null Count  Dtype  \n",
            "---  ------                                      --------------  -----  \n",
            " 0   Country name                                149 non-null    object \n",
            " 1   Regional indicator                          149 non-null    object \n",
            " 2   Ladder score                                149 non-null    float64\n",
            " 3   Standard error of ladder score              149 non-null    float64\n",
            " 4   upperwhisker                                149 non-null    float64\n",
            " 5   lowerwhisker                                149 non-null    float64\n",
            " 6   Logged GDP per capita                       149 non-null    float64\n",
            " 7   Social support                              149 non-null    float64\n",
            " 8   Healthy life expectancy                     149 non-null    float64\n",
            " 9   Freedom to make life choices                149 non-null    float64\n",
            " 10  Generosity                                  149 non-null    float64\n",
            " 11  Perceptions of corruption                   149 non-null    float64\n",
            " 12  Ladder score in Dystopia                    149 non-null    float64\n",
            " 13  Explained by: Log GDP per capita            149 non-null    float64\n",
            " 14  Explained by: Social support                149 non-null    float64\n",
            " 15  Explained by: Healthy life expectancy       149 non-null    float64\n",
            " 16  Explained by: Freedom to make life choices  149 non-null    float64\n",
            " 17  Explained by: Generosity                    149 non-null    float64\n",
            " 18  Explained by: Perceptions of corruption     149 non-null    float64\n",
            " 19  Dystopia + residual                         149 non-null    float64\n",
            "dtypes: float64(18), object(2)\n",
            "memory usage: 23.4+ KB\n"
          ],
          "name": "stdout"
        }
      ]
    },
    {
      "cell_type": "code",
      "metadata": {
        "id": "3a8bc2ce",
        "outputId": "282e1a83-d8ff-44ae-c576-71c8f372075b"
      },
      "source": [
        "# describe (bizlere sayısal veriler ile ilgili istatistiksel bilgiler sağlıyor.)\n",
        "df.describe()"
      ],
      "id": "3a8bc2ce",
      "execution_count": null,
      "outputs": [
        {
          "output_type": "execute_result",
          "data": {
            "text/html": [
              "<div>\n",
              "<style scoped>\n",
              "    .dataframe tbody tr th:only-of-type {\n",
              "        vertical-align: middle;\n",
              "    }\n",
              "\n",
              "    .dataframe tbody tr th {\n",
              "        vertical-align: top;\n",
              "    }\n",
              "\n",
              "    .dataframe thead th {\n",
              "        text-align: right;\n",
              "    }\n",
              "</style>\n",
              "<table border=\"1\" class=\"dataframe\">\n",
              "  <thead>\n",
              "    <tr style=\"text-align: right;\">\n",
              "      <th></th>\n",
              "      <th>Ladder score</th>\n",
              "      <th>Standard error of ladder score</th>\n",
              "      <th>upperwhisker</th>\n",
              "      <th>lowerwhisker</th>\n",
              "      <th>Logged GDP per capita</th>\n",
              "      <th>Social support</th>\n",
              "      <th>Healthy life expectancy</th>\n",
              "      <th>Freedom to make life choices</th>\n",
              "      <th>Generosity</th>\n",
              "      <th>Perceptions of corruption</th>\n",
              "      <th>Ladder score in Dystopia</th>\n",
              "      <th>Explained by: Log GDP per capita</th>\n",
              "      <th>Explained by: Social support</th>\n",
              "      <th>Explained by: Healthy life expectancy</th>\n",
              "      <th>Explained by: Freedom to make life choices</th>\n",
              "      <th>Explained by: Generosity</th>\n",
              "      <th>Explained by: Perceptions of corruption</th>\n",
              "      <th>Dystopia + residual</th>\n",
              "    </tr>\n",
              "  </thead>\n",
              "  <tbody>\n",
              "    <tr>\n",
              "      <th>count</th>\n",
              "      <td>149.000000</td>\n",
              "      <td>149.000000</td>\n",
              "      <td>149.000000</td>\n",
              "      <td>149.000000</td>\n",
              "      <td>149.000000</td>\n",
              "      <td>149.000000</td>\n",
              "      <td>149.000000</td>\n",
              "      <td>149.000000</td>\n",
              "      <td>149.000000</td>\n",
              "      <td>149.000000</td>\n",
              "      <td>1.490000e+02</td>\n",
              "      <td>149.000000</td>\n",
              "      <td>149.000000</td>\n",
              "      <td>149.000000</td>\n",
              "      <td>149.000000</td>\n",
              "      <td>149.000000</td>\n",
              "      <td>149.000000</td>\n",
              "      <td>149.000000</td>\n",
              "    </tr>\n",
              "    <tr>\n",
              "      <th>mean</th>\n",
              "      <td>5.532839</td>\n",
              "      <td>0.058752</td>\n",
              "      <td>5.648007</td>\n",
              "      <td>5.417631</td>\n",
              "      <td>9.432208</td>\n",
              "      <td>0.814745</td>\n",
              "      <td>64.992799</td>\n",
              "      <td>0.791597</td>\n",
              "      <td>-0.015134</td>\n",
              "      <td>0.727450</td>\n",
              "      <td>2.430000e+00</td>\n",
              "      <td>0.977161</td>\n",
              "      <td>0.793315</td>\n",
              "      <td>0.520161</td>\n",
              "      <td>0.498711</td>\n",
              "      <td>0.178047</td>\n",
              "      <td>0.135141</td>\n",
              "      <td>2.430329</td>\n",
              "    </tr>\n",
              "    <tr>\n",
              "      <th>std</th>\n",
              "      <td>1.073924</td>\n",
              "      <td>0.022001</td>\n",
              "      <td>1.054330</td>\n",
              "      <td>1.094879</td>\n",
              "      <td>1.158601</td>\n",
              "      <td>0.114889</td>\n",
              "      <td>6.762043</td>\n",
              "      <td>0.113332</td>\n",
              "      <td>0.150657</td>\n",
              "      <td>0.179226</td>\n",
              "      <td>5.347044e-15</td>\n",
              "      <td>0.404740</td>\n",
              "      <td>0.258871</td>\n",
              "      <td>0.213019</td>\n",
              "      <td>0.137888</td>\n",
              "      <td>0.098270</td>\n",
              "      <td>0.114361</td>\n",
              "      <td>0.537645</td>\n",
              "    </tr>\n",
              "    <tr>\n",
              "      <th>min</th>\n",
              "      <td>2.523000</td>\n",
              "      <td>0.026000</td>\n",
              "      <td>2.596000</td>\n",
              "      <td>2.449000</td>\n",
              "      <td>6.635000</td>\n",
              "      <td>0.463000</td>\n",
              "      <td>48.478000</td>\n",
              "      <td>0.382000</td>\n",
              "      <td>-0.288000</td>\n",
              "      <td>0.082000</td>\n",
              "      <td>2.430000e+00</td>\n",
              "      <td>0.000000</td>\n",
              "      <td>0.000000</td>\n",
              "      <td>0.000000</td>\n",
              "      <td>0.000000</td>\n",
              "      <td>0.000000</td>\n",
              "      <td>0.000000</td>\n",
              "      <td>0.648000</td>\n",
              "    </tr>\n",
              "    <tr>\n",
              "      <th>25%</th>\n",
              "      <td>4.852000</td>\n",
              "      <td>0.043000</td>\n",
              "      <td>4.991000</td>\n",
              "      <td>4.706000</td>\n",
              "      <td>8.541000</td>\n",
              "      <td>0.750000</td>\n",
              "      <td>59.802000</td>\n",
              "      <td>0.718000</td>\n",
              "      <td>-0.126000</td>\n",
              "      <td>0.667000</td>\n",
              "      <td>2.430000e+00</td>\n",
              "      <td>0.666000</td>\n",
              "      <td>0.647000</td>\n",
              "      <td>0.357000</td>\n",
              "      <td>0.409000</td>\n",
              "      <td>0.105000</td>\n",
              "      <td>0.060000</td>\n",
              "      <td>2.138000</td>\n",
              "    </tr>\n",
              "    <tr>\n",
              "      <th>50%</th>\n",
              "      <td>5.534000</td>\n",
              "      <td>0.054000</td>\n",
              "      <td>5.625000</td>\n",
              "      <td>5.413000</td>\n",
              "      <td>9.569000</td>\n",
              "      <td>0.832000</td>\n",
              "      <td>66.603000</td>\n",
              "      <td>0.804000</td>\n",
              "      <td>-0.036000</td>\n",
              "      <td>0.781000</td>\n",
              "      <td>2.430000e+00</td>\n",
              "      <td>1.025000</td>\n",
              "      <td>0.832000</td>\n",
              "      <td>0.571000</td>\n",
              "      <td>0.514000</td>\n",
              "      <td>0.164000</td>\n",
              "      <td>0.101000</td>\n",
              "      <td>2.509000</td>\n",
              "    </tr>\n",
              "    <tr>\n",
              "      <th>75%</th>\n",
              "      <td>6.255000</td>\n",
              "      <td>0.070000</td>\n",
              "      <td>6.344000</td>\n",
              "      <td>6.128000</td>\n",
              "      <td>10.421000</td>\n",
              "      <td>0.905000</td>\n",
              "      <td>69.600000</td>\n",
              "      <td>0.877000</td>\n",
              "      <td>0.079000</td>\n",
              "      <td>0.845000</td>\n",
              "      <td>2.430000e+00</td>\n",
              "      <td>1.323000</td>\n",
              "      <td>0.996000</td>\n",
              "      <td>0.665000</td>\n",
              "      <td>0.603000</td>\n",
              "      <td>0.239000</td>\n",
              "      <td>0.174000</td>\n",
              "      <td>2.794000</td>\n",
              "    </tr>\n",
              "    <tr>\n",
              "      <th>max</th>\n",
              "      <td>7.842000</td>\n",
              "      <td>0.173000</td>\n",
              "      <td>7.904000</td>\n",
              "      <td>7.780000</td>\n",
              "      <td>11.647000</td>\n",
              "      <td>0.983000</td>\n",
              "      <td>76.953000</td>\n",
              "      <td>0.970000</td>\n",
              "      <td>0.542000</td>\n",
              "      <td>0.939000</td>\n",
              "      <td>2.430000e+00</td>\n",
              "      <td>1.751000</td>\n",
              "      <td>1.172000</td>\n",
              "      <td>0.897000</td>\n",
              "      <td>0.716000</td>\n",
              "      <td>0.541000</td>\n",
              "      <td>0.547000</td>\n",
              "      <td>3.482000</td>\n",
              "    </tr>\n",
              "  </tbody>\n",
              "</table>\n",
              "</div>"
            ],
            "text/plain": [
              "       Ladder score  Standard error of ladder score  upperwhisker  \\\n",
              "count    149.000000                      149.000000    149.000000   \n",
              "mean       5.532839                        0.058752      5.648007   \n",
              "std        1.073924                        0.022001      1.054330   \n",
              "min        2.523000                        0.026000      2.596000   \n",
              "25%        4.852000                        0.043000      4.991000   \n",
              "50%        5.534000                        0.054000      5.625000   \n",
              "75%        6.255000                        0.070000      6.344000   \n",
              "max        7.842000                        0.173000      7.904000   \n",
              "\n",
              "       lowerwhisker  Logged GDP per capita  Social support  \\\n",
              "count    149.000000             149.000000      149.000000   \n",
              "mean       5.417631               9.432208        0.814745   \n",
              "std        1.094879               1.158601        0.114889   \n",
              "min        2.449000               6.635000        0.463000   \n",
              "25%        4.706000               8.541000        0.750000   \n",
              "50%        5.413000               9.569000        0.832000   \n",
              "75%        6.128000              10.421000        0.905000   \n",
              "max        7.780000              11.647000        0.983000   \n",
              "\n",
              "       Healthy life expectancy  Freedom to make life choices  Generosity  \\\n",
              "count               149.000000                    149.000000  149.000000   \n",
              "mean                 64.992799                      0.791597   -0.015134   \n",
              "std                   6.762043                      0.113332    0.150657   \n",
              "min                  48.478000                      0.382000   -0.288000   \n",
              "25%                  59.802000                      0.718000   -0.126000   \n",
              "50%                  66.603000                      0.804000   -0.036000   \n",
              "75%                  69.600000                      0.877000    0.079000   \n",
              "max                  76.953000                      0.970000    0.542000   \n",
              "\n",
              "       Perceptions of corruption  Ladder score in Dystopia  \\\n",
              "count                 149.000000              1.490000e+02   \n",
              "mean                    0.727450              2.430000e+00   \n",
              "std                     0.179226              5.347044e-15   \n",
              "min                     0.082000              2.430000e+00   \n",
              "25%                     0.667000              2.430000e+00   \n",
              "50%                     0.781000              2.430000e+00   \n",
              "75%                     0.845000              2.430000e+00   \n",
              "max                     0.939000              2.430000e+00   \n",
              "\n",
              "       Explained by: Log GDP per capita  Explained by: Social support  \\\n",
              "count                        149.000000                    149.000000   \n",
              "mean                           0.977161                      0.793315   \n",
              "std                            0.404740                      0.258871   \n",
              "min                            0.000000                      0.000000   \n",
              "25%                            0.666000                      0.647000   \n",
              "50%                            1.025000                      0.832000   \n",
              "75%                            1.323000                      0.996000   \n",
              "max                            1.751000                      1.172000   \n",
              "\n",
              "       Explained by: Healthy life expectancy  \\\n",
              "count                             149.000000   \n",
              "mean                                0.520161   \n",
              "std                                 0.213019   \n",
              "min                                 0.000000   \n",
              "25%                                 0.357000   \n",
              "50%                                 0.571000   \n",
              "75%                                 0.665000   \n",
              "max                                 0.897000   \n",
              "\n",
              "       Explained by: Freedom to make life choices  Explained by: Generosity  \\\n",
              "count                                  149.000000                149.000000   \n",
              "mean                                     0.498711                  0.178047   \n",
              "std                                      0.137888                  0.098270   \n",
              "min                                      0.000000                  0.000000   \n",
              "25%                                      0.409000                  0.105000   \n",
              "50%                                      0.514000                  0.164000   \n",
              "75%                                      0.603000                  0.239000   \n",
              "max                                      0.716000                  0.541000   \n",
              "\n",
              "       Explained by: Perceptions of corruption  Dystopia + residual  \n",
              "count                               149.000000           149.000000  \n",
              "mean                                  0.135141             2.430329  \n",
              "std                                   0.114361             0.537645  \n",
              "min                                   0.000000             0.648000  \n",
              "25%                                   0.060000             2.138000  \n",
              "50%                                   0.101000             2.509000  \n",
              "75%                                   0.174000             2.794000  \n",
              "max                                   0.547000             3.482000  "
            ]
          },
          "metadata": {
            "tags": []
          },
          "execution_count": 8
        }
      ]
    },
    {
      "cell_type": "code",
      "metadata": {
        "id": "fd61d2e4",
        "outputId": "473f02cb-9dd5-4f5c-ef79-4e999a507c62"
      },
      "source": [
        "# isnull().sum() (missing yani kayıp veri olup olmadığına bakarız)\n",
        "df.isnull().sum()"
      ],
      "id": "fd61d2e4",
      "execution_count": null,
      "outputs": [
        {
          "output_type": "execute_result",
          "data": {
            "text/plain": [
              "Country name                                  0\n",
              "Regional indicator                            0\n",
              "Ladder score                                  0\n",
              "Standard error of ladder score                0\n",
              "upperwhisker                                  0\n",
              "lowerwhisker                                  0\n",
              "Logged GDP per capita                         0\n",
              "Social support                                0\n",
              "Healthy life expectancy                       0\n",
              "Freedom to make life choices                  0\n",
              "Generosity                                    0\n",
              "Perceptions of corruption                     0\n",
              "Ladder score in Dystopia                      0\n",
              "Explained by: Log GDP per capita              0\n",
              "Explained by: Social support                  0\n",
              "Explained by: Healthy life expectancy         0\n",
              "Explained by: Freedom to make life choices    0\n",
              "Explained by: Generosity                      0\n",
              "Explained by: Perceptions of corruption       0\n",
              "Dystopia + residual                           0\n",
              "dtype: int64"
            ]
          },
          "metadata": {
            "tags": []
          },
          "execution_count": 9
        }
      ]
    },
    {
      "cell_type": "code",
      "metadata": {
        "id": "21787c0c",
        "outputId": "9178c9c1-7c7e-48af-a706-a537b42489c3"
      },
      "source": [
        "# columns (sütunlarımızın nelerden oluştuğuna bakalım)\n",
        "df.columns"
      ],
      "id": "21787c0c",
      "execution_count": null,
      "outputs": [
        {
          "output_type": "execute_result",
          "data": {
            "text/plain": [
              "Index(['Country name', 'Regional indicator', 'Ladder score',\n",
              "       'Standard error of ladder score', 'upperwhisker', 'lowerwhisker',\n",
              "       'Logged GDP per capita', 'Social support', 'Healthy life expectancy',\n",
              "       'Freedom to make life choices', 'Generosity',\n",
              "       'Perceptions of corruption', 'Ladder score in Dystopia',\n",
              "       'Explained by: Log GDP per capita', 'Explained by: Social support',\n",
              "       'Explained by: Healthy life expectancy',\n",
              "       'Explained by: Freedom to make life choices',\n",
              "       'Explained by: Generosity', 'Explained by: Perceptions of corruption',\n",
              "       'Dystopia + residual'],\n",
              "      dtype='object')"
            ]
          },
          "metadata": {
            "tags": []
          },
          "execution_count": 10
        }
      ]
    },
    {
      "cell_type": "code",
      "metadata": {
        "id": "82f381f3",
        "outputId": "74b4d660-bec8-48d5-9c5d-cd19fe3905f2"
      },
      "source": [
        "# value_counts (numara ile ifade edilmeyen object ifadeler için sayısal veriler sağlıyor)\n",
        "df[\"Regional indicator\"].value_counts()"
      ],
      "id": "82f381f3",
      "execution_count": null,
      "outputs": [
        {
          "output_type": "execute_result",
          "data": {
            "text/plain": [
              "Sub-Saharan Africa                    36\n",
              "Western Europe                        21\n",
              "Latin America and Caribbean           20\n",
              "Middle East and North Africa          17\n",
              "Central and Eastern Europe            17\n",
              "Commonwealth of Independent States    12\n",
              "Southeast Asia                         9\n",
              "South Asia                             7\n",
              "East Asia                              6\n",
              "North America and ANZ                  4\n",
              "Name: Regional indicator, dtype: int64"
            ]
          },
          "metadata": {
            "tags": []
          },
          "execution_count": 11
        }
      ]
    },
    {
      "cell_type": "code",
      "metadata": {
        "id": "a10a1cf6",
        "outputId": "1e1ee931-211f-4d2f-da0c-297416f6f64e"
      },
      "source": [
        "# Single column\n",
        "df[\"Ladder score\"]"
      ],
      "id": "a10a1cf6",
      "execution_count": null,
      "outputs": [
        {
          "output_type": "execute_result",
          "data": {
            "text/plain": [
              "0      7.842\n",
              "1      7.620\n",
              "2      7.571\n",
              "3      7.554\n",
              "4      7.464\n",
              "       ...  \n",
              "144    3.512\n",
              "145    3.467\n",
              "146    3.415\n",
              "147    3.145\n",
              "148    2.523\n",
              "Name: Ladder score, Length: 149, dtype: float64"
            ]
          },
          "metadata": {
            "tags": []
          },
          "execution_count": 12
        }
      ]
    },
    {
      "cell_type": "code",
      "metadata": {
        "id": "60435ecc",
        "outputId": "e5959d38-9e0a-4fa6-cb82-3ce67cac734b"
      },
      "source": [
        "df[\"Ladder score\"].describe()"
      ],
      "id": "60435ecc",
      "execution_count": null,
      "outputs": [
        {
          "output_type": "execute_result",
          "data": {
            "text/plain": [
              "count    149.000000\n",
              "mean       5.532839\n",
              "std        1.073924\n",
              "min        2.523000\n",
              "25%        4.852000\n",
              "50%        5.534000\n",
              "75%        6.255000\n",
              "max        7.842000\n",
              "Name: Ladder score, dtype: float64"
            ]
          },
          "metadata": {
            "tags": []
          },
          "execution_count": 13
        }
      ]
    },
    {
      "cell_type": "code",
      "metadata": {
        "id": "7e419012",
        "outputId": "f5af6a5d-6b65-4fb6-d56b-5fc1c49e9323"
      },
      "source": [
        "type(df[\"Ladder score\"])"
      ],
      "id": "7e419012",
      "execution_count": null,
      "outputs": [
        {
          "output_type": "execute_result",
          "data": {
            "text/plain": [
              "pandas.core.series.Series"
            ]
          },
          "metadata": {
            "tags": []
          },
          "execution_count": 14
        }
      ]
    },
    {
      "cell_type": "code",
      "metadata": {
        "id": "f1c52a68",
        "outputId": "9e9038ac-2fa0-446b-9579-74a944b9bf90"
      },
      "source": [
        "# multiple columns\n",
        "df[[\"Social support\", \"Generosity\"]]"
      ],
      "id": "f1c52a68",
      "execution_count": null,
      "outputs": [
        {
          "output_type": "execute_result",
          "data": {
            "text/html": [
              "<div>\n",
              "<style scoped>\n",
              "    .dataframe tbody tr th:only-of-type {\n",
              "        vertical-align: middle;\n",
              "    }\n",
              "\n",
              "    .dataframe tbody tr th {\n",
              "        vertical-align: top;\n",
              "    }\n",
              "\n",
              "    .dataframe thead th {\n",
              "        text-align: right;\n",
              "    }\n",
              "</style>\n",
              "<table border=\"1\" class=\"dataframe\">\n",
              "  <thead>\n",
              "    <tr style=\"text-align: right;\">\n",
              "      <th></th>\n",
              "      <th>Social support</th>\n",
              "      <th>Generosity</th>\n",
              "    </tr>\n",
              "  </thead>\n",
              "  <tbody>\n",
              "    <tr>\n",
              "      <th>0</th>\n",
              "      <td>0.954</td>\n",
              "      <td>-0.098</td>\n",
              "    </tr>\n",
              "    <tr>\n",
              "      <th>1</th>\n",
              "      <td>0.954</td>\n",
              "      <td>0.030</td>\n",
              "    </tr>\n",
              "    <tr>\n",
              "      <th>2</th>\n",
              "      <td>0.942</td>\n",
              "      <td>0.025</td>\n",
              "    </tr>\n",
              "    <tr>\n",
              "      <th>3</th>\n",
              "      <td>0.983</td>\n",
              "      <td>0.160</td>\n",
              "    </tr>\n",
              "    <tr>\n",
              "      <th>4</th>\n",
              "      <td>0.942</td>\n",
              "      <td>0.175</td>\n",
              "    </tr>\n",
              "    <tr>\n",
              "      <th>...</th>\n",
              "      <td>...</td>\n",
              "      <td>...</td>\n",
              "    </tr>\n",
              "    <tr>\n",
              "      <th>144</th>\n",
              "      <td>0.787</td>\n",
              "      <td>-0.131</td>\n",
              "    </tr>\n",
              "    <tr>\n",
              "      <th>145</th>\n",
              "      <td>0.784</td>\n",
              "      <td>-0.246</td>\n",
              "    </tr>\n",
              "    <tr>\n",
              "      <th>146</th>\n",
              "      <td>0.552</td>\n",
              "      <td>0.061</td>\n",
              "    </tr>\n",
              "    <tr>\n",
              "      <th>147</th>\n",
              "      <td>0.750</td>\n",
              "      <td>-0.047</td>\n",
              "    </tr>\n",
              "    <tr>\n",
              "      <th>148</th>\n",
              "      <td>0.463</td>\n",
              "      <td>-0.102</td>\n",
              "    </tr>\n",
              "  </tbody>\n",
              "</table>\n",
              "<p>149 rows × 2 columns</p>\n",
              "</div>"
            ],
            "text/plain": [
              "     Social support  Generosity\n",
              "0             0.954      -0.098\n",
              "1             0.954       0.030\n",
              "2             0.942       0.025\n",
              "3             0.983       0.160\n",
              "4             0.942       0.175\n",
              "..              ...         ...\n",
              "144           0.787      -0.131\n",
              "145           0.784      -0.246\n",
              "146           0.552       0.061\n",
              "147           0.750      -0.047\n",
              "148           0.463      -0.102\n",
              "\n",
              "[149 rows x 2 columns]"
            ]
          },
          "metadata": {
            "tags": []
          },
          "execution_count": 15
        }
      ]
    },
    {
      "cell_type": "code",
      "metadata": {
        "id": "b8fe78de",
        "outputId": "fe4c36aa-9240-4df2-b26c-8712b64d8da1"
      },
      "source": [
        "type(# multiple columns\n",
        "df[[\"Social support\", \"Generosity\"]])"
      ],
      "id": "b8fe78de",
      "execution_count": null,
      "outputs": [
        {
          "output_type": "execute_result",
          "data": {
            "text/plain": [
              "pandas.core.frame.DataFrame"
            ]
          },
          "metadata": {
            "tags": []
          },
          "execution_count": 16
        }
      ]
    },
    {
      "cell_type": "code",
      "metadata": {
        "id": "36744b72",
        "outputId": "9ed357e9-aaea-4d84-8de6-cd25c64c54d1"
      },
      "source": [
        "df1 = df[['Country name', 'Regional indicator', 'Ladder score',\n",
        "       'Logged GDP per capita', 'Social support', 'Healthy life expectancy',\n",
        "       'Freedom to make life choices', 'Generosity',\n",
        "       'Perceptions of corruption']].copy()\n",
        "df1.set_index('Country name', inplace=True)\n",
        "df1"
      ],
      "id": "36744b72",
      "execution_count": null,
      "outputs": [
        {
          "output_type": "execute_result",
          "data": {
            "text/html": [
              "<div>\n",
              "<style scoped>\n",
              "    .dataframe tbody tr th:only-of-type {\n",
              "        vertical-align: middle;\n",
              "    }\n",
              "\n",
              "    .dataframe tbody tr th {\n",
              "        vertical-align: top;\n",
              "    }\n",
              "\n",
              "    .dataframe thead th {\n",
              "        text-align: right;\n",
              "    }\n",
              "</style>\n",
              "<table border=\"1\" class=\"dataframe\">\n",
              "  <thead>\n",
              "    <tr style=\"text-align: right;\">\n",
              "      <th></th>\n",
              "      <th>Regional indicator</th>\n",
              "      <th>Ladder score</th>\n",
              "      <th>Logged GDP per capita</th>\n",
              "      <th>Social support</th>\n",
              "      <th>Healthy life expectancy</th>\n",
              "      <th>Freedom to make life choices</th>\n",
              "      <th>Generosity</th>\n",
              "      <th>Perceptions of corruption</th>\n",
              "    </tr>\n",
              "    <tr>\n",
              "      <th>Country name</th>\n",
              "      <th></th>\n",
              "      <th></th>\n",
              "      <th></th>\n",
              "      <th></th>\n",
              "      <th></th>\n",
              "      <th></th>\n",
              "      <th></th>\n",
              "      <th></th>\n",
              "    </tr>\n",
              "  </thead>\n",
              "  <tbody>\n",
              "    <tr>\n",
              "      <th>Finland</th>\n",
              "      <td>Western Europe</td>\n",
              "      <td>7.842</td>\n",
              "      <td>10.775</td>\n",
              "      <td>0.954</td>\n",
              "      <td>72.000</td>\n",
              "      <td>0.949</td>\n",
              "      <td>-0.098</td>\n",
              "      <td>0.186</td>\n",
              "    </tr>\n",
              "    <tr>\n",
              "      <th>Denmark</th>\n",
              "      <td>Western Europe</td>\n",
              "      <td>7.620</td>\n",
              "      <td>10.933</td>\n",
              "      <td>0.954</td>\n",
              "      <td>72.700</td>\n",
              "      <td>0.946</td>\n",
              "      <td>0.030</td>\n",
              "      <td>0.179</td>\n",
              "    </tr>\n",
              "    <tr>\n",
              "      <th>Switzerland</th>\n",
              "      <td>Western Europe</td>\n",
              "      <td>7.571</td>\n",
              "      <td>11.117</td>\n",
              "      <td>0.942</td>\n",
              "      <td>74.400</td>\n",
              "      <td>0.919</td>\n",
              "      <td>0.025</td>\n",
              "      <td>0.292</td>\n",
              "    </tr>\n",
              "    <tr>\n",
              "      <th>Iceland</th>\n",
              "      <td>Western Europe</td>\n",
              "      <td>7.554</td>\n",
              "      <td>10.878</td>\n",
              "      <td>0.983</td>\n",
              "      <td>73.000</td>\n",
              "      <td>0.955</td>\n",
              "      <td>0.160</td>\n",
              "      <td>0.673</td>\n",
              "    </tr>\n",
              "    <tr>\n",
              "      <th>Netherlands</th>\n",
              "      <td>Western Europe</td>\n",
              "      <td>7.464</td>\n",
              "      <td>10.932</td>\n",
              "      <td>0.942</td>\n",
              "      <td>72.400</td>\n",
              "      <td>0.913</td>\n",
              "      <td>0.175</td>\n",
              "      <td>0.338</td>\n",
              "    </tr>\n",
              "    <tr>\n",
              "      <th>...</th>\n",
              "      <td>...</td>\n",
              "      <td>...</td>\n",
              "      <td>...</td>\n",
              "      <td>...</td>\n",
              "      <td>...</td>\n",
              "      <td>...</td>\n",
              "      <td>...</td>\n",
              "      <td>...</td>\n",
              "    </tr>\n",
              "    <tr>\n",
              "      <th>Lesotho</th>\n",
              "      <td>Sub-Saharan Africa</td>\n",
              "      <td>3.512</td>\n",
              "      <td>7.926</td>\n",
              "      <td>0.787</td>\n",
              "      <td>48.700</td>\n",
              "      <td>0.715</td>\n",
              "      <td>-0.131</td>\n",
              "      <td>0.915</td>\n",
              "    </tr>\n",
              "    <tr>\n",
              "      <th>Botswana</th>\n",
              "      <td>Sub-Saharan Africa</td>\n",
              "      <td>3.467</td>\n",
              "      <td>9.782</td>\n",
              "      <td>0.784</td>\n",
              "      <td>59.269</td>\n",
              "      <td>0.824</td>\n",
              "      <td>-0.246</td>\n",
              "      <td>0.801</td>\n",
              "    </tr>\n",
              "    <tr>\n",
              "      <th>Rwanda</th>\n",
              "      <td>Sub-Saharan Africa</td>\n",
              "      <td>3.415</td>\n",
              "      <td>7.676</td>\n",
              "      <td>0.552</td>\n",
              "      <td>61.400</td>\n",
              "      <td>0.897</td>\n",
              "      <td>0.061</td>\n",
              "      <td>0.167</td>\n",
              "    </tr>\n",
              "    <tr>\n",
              "      <th>Zimbabwe</th>\n",
              "      <td>Sub-Saharan Africa</td>\n",
              "      <td>3.145</td>\n",
              "      <td>7.943</td>\n",
              "      <td>0.750</td>\n",
              "      <td>56.201</td>\n",
              "      <td>0.677</td>\n",
              "      <td>-0.047</td>\n",
              "      <td>0.821</td>\n",
              "    </tr>\n",
              "    <tr>\n",
              "      <th>Afghanistan</th>\n",
              "      <td>South Asia</td>\n",
              "      <td>2.523</td>\n",
              "      <td>7.695</td>\n",
              "      <td>0.463</td>\n",
              "      <td>52.493</td>\n",
              "      <td>0.382</td>\n",
              "      <td>-0.102</td>\n",
              "      <td>0.924</td>\n",
              "    </tr>\n",
              "  </tbody>\n",
              "</table>\n",
              "<p>149 rows × 8 columns</p>\n",
              "</div>"
            ],
            "text/plain": [
              "              Regional indicator  Ladder score  Logged GDP per capita  \\\n",
              "Country name                                                            \n",
              "Finland           Western Europe         7.842                 10.775   \n",
              "Denmark           Western Europe         7.620                 10.933   \n",
              "Switzerland       Western Europe         7.571                 11.117   \n",
              "Iceland           Western Europe         7.554                 10.878   \n",
              "Netherlands       Western Europe         7.464                 10.932   \n",
              "...                          ...           ...                    ...   \n",
              "Lesotho       Sub-Saharan Africa         3.512                  7.926   \n",
              "Botswana      Sub-Saharan Africa         3.467                  9.782   \n",
              "Rwanda        Sub-Saharan Africa         3.415                  7.676   \n",
              "Zimbabwe      Sub-Saharan Africa         3.145                  7.943   \n",
              "Afghanistan           South Asia         2.523                  7.695   \n",
              "\n",
              "              Social support  Healthy life expectancy  \\\n",
              "Country name                                            \n",
              "Finland                0.954                   72.000   \n",
              "Denmark                0.954                   72.700   \n",
              "Switzerland            0.942                   74.400   \n",
              "Iceland                0.983                   73.000   \n",
              "Netherlands            0.942                   72.400   \n",
              "...                      ...                      ...   \n",
              "Lesotho                0.787                   48.700   \n",
              "Botswana               0.784                   59.269   \n",
              "Rwanda                 0.552                   61.400   \n",
              "Zimbabwe               0.750                   56.201   \n",
              "Afghanistan            0.463                   52.493   \n",
              "\n",
              "              Freedom to make life choices  Generosity  \\\n",
              "Country name                                             \n",
              "Finland                              0.949      -0.098   \n",
              "Denmark                              0.946       0.030   \n",
              "Switzerland                          0.919       0.025   \n",
              "Iceland                              0.955       0.160   \n",
              "Netherlands                          0.913       0.175   \n",
              "...                                    ...         ...   \n",
              "Lesotho                              0.715      -0.131   \n",
              "Botswana                             0.824      -0.246   \n",
              "Rwanda                               0.897       0.061   \n",
              "Zimbabwe                             0.677      -0.047   \n",
              "Afghanistan                          0.382      -0.102   \n",
              "\n",
              "              Perceptions of corruption  \n",
              "Country name                             \n",
              "Finland                           0.186  \n",
              "Denmark                           0.179  \n",
              "Switzerland                       0.292  \n",
              "Iceland                           0.673  \n",
              "Netherlands                       0.338  \n",
              "...                                 ...  \n",
              "Lesotho                           0.915  \n",
              "Botswana                          0.801  \n",
              "Rwanda                            0.167  \n",
              "Zimbabwe                          0.821  \n",
              "Afghanistan                       0.924  \n",
              "\n",
              "[149 rows x 8 columns]"
            ]
          },
          "metadata": {
            "tags": []
          },
          "execution_count": 42
        }
      ]
    },
    {
      "cell_type": "markdown",
      "metadata": {
        "id": "59fe6887"
      },
      "source": [
        "## Reaching to Rows with loc & iloc"
      ],
      "id": "59fe6887"
    },
    {
      "cell_type": "markdown",
      "metadata": {
        "id": "999fb2aa"
      },
      "source": [
        "loc ismi label dan gelir. Yani etiket demektir. Numerik değer verilmez. Index isimleri gerekir. ((stop değeri inclusive yani dahildir)\n",
        "iloc ismi indexten gelir. index üzerinden satıra ulaşırız ama sadece numara ile ulaşırız. (Bu yüzden stop değeri dahil değildir yani exclusive dir.)"
      ],
      "id": "999fb2aa"
    },
    {
      "cell_type": "code",
      "metadata": {
        "id": "a51375cf",
        "outputId": "53a1552c-cd05-453c-eaf2-1f69e4bba8d9"
      },
      "source": [
        "# iloc\n",
        "df1.iloc[3]"
      ],
      "id": "a51375cf",
      "execution_count": null,
      "outputs": [
        {
          "output_type": "execute_result",
          "data": {
            "text/plain": [
              "Regional indicator              Western Europe\n",
              "Ladder score                             7.554\n",
              "Logged GDP per capita                   10.878\n",
              "Social support                           0.983\n",
              "Healthy life expectancy                   73.0\n",
              "Freedom to make life choices             0.955\n",
              "Generosity                                0.16\n",
              "Perceptions of corruption                0.673\n",
              "Name: Iceland, dtype: object"
            ]
          },
          "metadata": {
            "tags": []
          },
          "execution_count": 18
        }
      ]
    },
    {
      "cell_type": "code",
      "metadata": {
        "id": "35afd597",
        "outputId": "73fb0978-5a2d-4bff-9f26-959f7b4bd4b5"
      },
      "source": [
        "#loc\n",
        "df1.loc[\"Iceland\"]"
      ],
      "id": "35afd597",
      "execution_count": null,
      "outputs": [
        {
          "output_type": "execute_result",
          "data": {
            "text/plain": [
              "Regional indicator              Western Europe\n",
              "Ladder score                             7.554\n",
              "Logged GDP per capita                   10.878\n",
              "Social support                           0.983\n",
              "Healthy life expectancy                   73.0\n",
              "Freedom to make life choices             0.955\n",
              "Generosity                                0.16\n",
              "Perceptions of corruption                0.673\n",
              "Name: Iceland, dtype: object"
            ]
          },
          "metadata": {
            "tags": []
          },
          "execution_count": 19
        }
      ]
    },
    {
      "cell_type": "code",
      "metadata": {
        "id": "6ccb8f45",
        "outputId": "5549698e-5e1a-43c3-d244-a8bd4f5dd4c7"
      },
      "source": [
        "#loc\n",
        "df1.loc[\"Germany\"]"
      ],
      "id": "6ccb8f45",
      "execution_count": null,
      "outputs": [
        {
          "output_type": "execute_result",
          "data": {
            "text/plain": [
              "Regional indicator              Western Europe\n",
              "Ladder score                             7.155\n",
              "Logged GDP per capita                   10.873\n",
              "Social support                           0.903\n",
              "Healthy life expectancy                   72.5\n",
              "Freedom to make life choices             0.875\n",
              "Generosity                               0.011\n",
              "Perceptions of corruption                 0.46\n",
              "Name: Germany, dtype: object"
            ]
          },
          "metadata": {
            "tags": []
          },
          "execution_count": 20
        }
      ]
    },
    {
      "cell_type": "code",
      "metadata": {
        "id": "1d1f803b",
        "outputId": "bbc38a67-360e-4131-963d-95da2514f980"
      },
      "source": [
        "df1.iloc[102:109]"
      ],
      "id": "1d1f803b",
      "execution_count": null,
      "outputs": [
        {
          "output_type": "execute_result",
          "data": {
            "text/html": [
              "<div>\n",
              "<style scoped>\n",
              "    .dataframe tbody tr th:only-of-type {\n",
              "        vertical-align: middle;\n",
              "    }\n",
              "\n",
              "    .dataframe tbody tr th {\n",
              "        vertical-align: top;\n",
              "    }\n",
              "\n",
              "    .dataframe thead th {\n",
              "        text-align: right;\n",
              "    }\n",
              "</style>\n",
              "<table border=\"1\" class=\"dataframe\">\n",
              "  <thead>\n",
              "    <tr style=\"text-align: right;\">\n",
              "      <th></th>\n",
              "      <th>Regional indicator</th>\n",
              "      <th>Ladder score</th>\n",
              "      <th>Logged GDP per capita</th>\n",
              "      <th>Social support</th>\n",
              "      <th>Healthy life expectancy</th>\n",
              "      <th>Freedom to make life choices</th>\n",
              "      <th>Generosity</th>\n",
              "      <th>Perceptions of corruption</th>\n",
              "    </tr>\n",
              "    <tr>\n",
              "      <th>Country name</th>\n",
              "      <th></th>\n",
              "      <th></th>\n",
              "      <th></th>\n",
              "      <th></th>\n",
              "      <th></th>\n",
              "      <th></th>\n",
              "      <th></th>\n",
              "      <th></th>\n",
              "    </tr>\n",
              "  </thead>\n",
              "  <tbody>\n",
              "    <tr>\n",
              "      <th>South Africa</th>\n",
              "      <td>Sub-Saharan Africa</td>\n",
              "      <td>4.956</td>\n",
              "      <td>9.403</td>\n",
              "      <td>0.860</td>\n",
              "      <td>56.904</td>\n",
              "      <td>0.749</td>\n",
              "      <td>-0.067</td>\n",
              "      <td>0.860</td>\n",
              "    </tr>\n",
              "    <tr>\n",
              "      <th>Turkey</th>\n",
              "      <td>Middle East and North Africa</td>\n",
              "      <td>4.948</td>\n",
              "      <td>10.240</td>\n",
              "      <td>0.822</td>\n",
              "      <td>67.199</td>\n",
              "      <td>0.576</td>\n",
              "      <td>-0.139</td>\n",
              "      <td>0.776</td>\n",
              "    </tr>\n",
              "    <tr>\n",
              "      <th>Pakistan</th>\n",
              "      <td>South Asia</td>\n",
              "      <td>4.934</td>\n",
              "      <td>8.458</td>\n",
              "      <td>0.651</td>\n",
              "      <td>58.709</td>\n",
              "      <td>0.726</td>\n",
              "      <td>0.098</td>\n",
              "      <td>0.787</td>\n",
              "    </tr>\n",
              "    <tr>\n",
              "      <th>Morocco</th>\n",
              "      <td>Middle East and North Africa</td>\n",
              "      <td>4.918</td>\n",
              "      <td>8.903</td>\n",
              "      <td>0.560</td>\n",
              "      <td>66.208</td>\n",
              "      <td>0.774</td>\n",
              "      <td>-0.236</td>\n",
              "      <td>0.801</td>\n",
              "    </tr>\n",
              "    <tr>\n",
              "      <th>Venezuela</th>\n",
              "      <td>Latin America and Caribbean</td>\n",
              "      <td>4.892</td>\n",
              "      <td>9.073</td>\n",
              "      <td>0.861</td>\n",
              "      <td>66.700</td>\n",
              "      <td>0.615</td>\n",
              "      <td>-0.169</td>\n",
              "      <td>0.827</td>\n",
              "    </tr>\n",
              "    <tr>\n",
              "      <th>Georgia</th>\n",
              "      <td>Commonwealth of Independent States</td>\n",
              "      <td>4.891</td>\n",
              "      <td>9.585</td>\n",
              "      <td>0.671</td>\n",
              "      <td>64.300</td>\n",
              "      <td>0.783</td>\n",
              "      <td>-0.238</td>\n",
              "      <td>0.655</td>\n",
              "    </tr>\n",
              "    <tr>\n",
              "      <th>Algeria</th>\n",
              "      <td>Middle East and North Africa</td>\n",
              "      <td>4.887</td>\n",
              "      <td>9.342</td>\n",
              "      <td>0.802</td>\n",
              "      <td>66.005</td>\n",
              "      <td>0.480</td>\n",
              "      <td>-0.067</td>\n",
              "      <td>0.752</td>\n",
              "    </tr>\n",
              "  </tbody>\n",
              "</table>\n",
              "</div>"
            ],
            "text/plain": [
              "                              Regional indicator  Ladder score  \\\n",
              "Country name                                                     \n",
              "South Africa                  Sub-Saharan Africa         4.956   \n",
              "Turkey              Middle East and North Africa         4.948   \n",
              "Pakistan                              South Asia         4.934   \n",
              "Morocco             Middle East and North Africa         4.918   \n",
              "Venezuela            Latin America and Caribbean         4.892   \n",
              "Georgia       Commonwealth of Independent States         4.891   \n",
              "Algeria             Middle East and North Africa         4.887   \n",
              "\n",
              "              Logged GDP per capita  Social support  Healthy life expectancy  \\\n",
              "Country name                                                                   \n",
              "South Africa                  9.403           0.860                   56.904   \n",
              "Turkey                       10.240           0.822                   67.199   \n",
              "Pakistan                      8.458           0.651                   58.709   \n",
              "Morocco                       8.903           0.560                   66.208   \n",
              "Venezuela                     9.073           0.861                   66.700   \n",
              "Georgia                       9.585           0.671                   64.300   \n",
              "Algeria                       9.342           0.802                   66.005   \n",
              "\n",
              "              Freedom to make life choices  Generosity  \\\n",
              "Country name                                             \n",
              "South Africa                         0.749      -0.067   \n",
              "Turkey                               0.576      -0.139   \n",
              "Pakistan                             0.726       0.098   \n",
              "Morocco                              0.774      -0.236   \n",
              "Venezuela                            0.615      -0.169   \n",
              "Georgia                              0.783      -0.238   \n",
              "Algeria                              0.480      -0.067   \n",
              "\n",
              "              Perceptions of corruption  \n",
              "Country name                             \n",
              "South Africa                      0.860  \n",
              "Turkey                            0.776  \n",
              "Pakistan                          0.787  \n",
              "Morocco                           0.801  \n",
              "Venezuela                         0.827  \n",
              "Georgia                           0.655  \n",
              "Algeria                           0.752  "
            ]
          },
          "metadata": {
            "tags": []
          },
          "execution_count": 21
        }
      ]
    },
    {
      "cell_type": "code",
      "metadata": {
        "id": "4a36ff75",
        "outputId": "8a80d17d-b9bd-4b38-bdbe-0871aa629a37"
      },
      "source": [
        "df1.iloc[12:19,[1,6]]"
      ],
      "id": "4a36ff75",
      "execution_count": null,
      "outputs": [
        {
          "output_type": "execute_result",
          "data": {
            "text/html": [
              "<div>\n",
              "<style scoped>\n",
              "    .dataframe tbody tr th:only-of-type {\n",
              "        vertical-align: middle;\n",
              "    }\n",
              "\n",
              "    .dataframe tbody tr th {\n",
              "        vertical-align: top;\n",
              "    }\n",
              "\n",
              "    .dataframe thead th {\n",
              "        text-align: right;\n",
              "    }\n",
              "</style>\n",
              "<table border=\"1\" class=\"dataframe\">\n",
              "  <thead>\n",
              "    <tr style=\"text-align: right;\">\n",
              "      <th></th>\n",
              "      <th>Ladder score</th>\n",
              "      <th>Generosity</th>\n",
              "    </tr>\n",
              "    <tr>\n",
              "      <th>Country name</th>\n",
              "      <th></th>\n",
              "      <th></th>\n",
              "    </tr>\n",
              "  </thead>\n",
              "  <tbody>\n",
              "    <tr>\n",
              "      <th>Germany</th>\n",
              "      <td>7.155</td>\n",
              "      <td>0.011</td>\n",
              "    </tr>\n",
              "    <tr>\n",
              "      <th>Canada</th>\n",
              "      <td>7.103</td>\n",
              "      <td>0.089</td>\n",
              "    </tr>\n",
              "    <tr>\n",
              "      <th>Ireland</th>\n",
              "      <td>7.085</td>\n",
              "      <td>0.077</td>\n",
              "    </tr>\n",
              "    <tr>\n",
              "      <th>Costa Rica</th>\n",
              "      <td>7.069</td>\n",
              "      <td>-0.126</td>\n",
              "    </tr>\n",
              "    <tr>\n",
              "      <th>United Kingdom</th>\n",
              "      <td>7.064</td>\n",
              "      <td>0.233</td>\n",
              "    </tr>\n",
              "    <tr>\n",
              "      <th>Czech Republic</th>\n",
              "      <td>6.965</td>\n",
              "      <td>-0.208</td>\n",
              "    </tr>\n",
              "    <tr>\n",
              "      <th>United States</th>\n",
              "      <td>6.951</td>\n",
              "      <td>0.098</td>\n",
              "    </tr>\n",
              "  </tbody>\n",
              "</table>\n",
              "</div>"
            ],
            "text/plain": [
              "                Ladder score  Generosity\n",
              "Country name                            \n",
              "Germany                7.155       0.011\n",
              "Canada                 7.103       0.089\n",
              "Ireland                7.085       0.077\n",
              "Costa Rica             7.069      -0.126\n",
              "United Kingdom         7.064       0.233\n",
              "Czech Republic         6.965      -0.208\n",
              "United States          6.951       0.098"
            ]
          },
          "metadata": {
            "tags": []
          },
          "execution_count": 22
        }
      ]
    },
    {
      "cell_type": "code",
      "metadata": {
        "id": "d976633b",
        "outputId": "a1707dc0-370d-4896-fbfb-e6b812061fe8"
      },
      "source": [
        "df1.iloc[[15,35,43],[1,6]]"
      ],
      "id": "d976633b",
      "execution_count": null,
      "outputs": [
        {
          "output_type": "execute_result",
          "data": {
            "text/html": [
              "<div>\n",
              "<style scoped>\n",
              "    .dataframe tbody tr th:only-of-type {\n",
              "        vertical-align: middle;\n",
              "    }\n",
              "\n",
              "    .dataframe tbody tr th {\n",
              "        vertical-align: top;\n",
              "    }\n",
              "\n",
              "    .dataframe thead th {\n",
              "        text-align: right;\n",
              "    }\n",
              "</style>\n",
              "<table border=\"1\" class=\"dataframe\">\n",
              "  <thead>\n",
              "    <tr style=\"text-align: right;\">\n",
              "      <th></th>\n",
              "      <th>Ladder score</th>\n",
              "      <th>Generosity</th>\n",
              "    </tr>\n",
              "    <tr>\n",
              "      <th>Country name</th>\n",
              "      <th></th>\n",
              "      <th></th>\n",
              "    </tr>\n",
              "  </thead>\n",
              "  <tbody>\n",
              "    <tr>\n",
              "      <th>Costa Rica</th>\n",
              "      <td>7.069</td>\n",
              "      <td>-0.126</td>\n",
              "    </tr>\n",
              "    <tr>\n",
              "      <th>Mexico</th>\n",
              "      <td>6.317</td>\n",
              "      <td>-0.147</td>\n",
              "    </tr>\n",
              "    <tr>\n",
              "      <th>Poland</th>\n",
              "      <td>6.166</td>\n",
              "      <td>-0.165</td>\n",
              "    </tr>\n",
              "  </tbody>\n",
              "</table>\n",
              "</div>"
            ],
            "text/plain": [
              "              Ladder score  Generosity\n",
              "Country name                          \n",
              "Costa Rica           7.069      -0.126\n",
              "Mexico               6.317      -0.147\n",
              "Poland               6.166      -0.165"
            ]
          },
          "metadata": {
            "tags": []
          },
          "execution_count": 23
        }
      ]
    },
    {
      "cell_type": "code",
      "metadata": {
        "id": "e7c65a44",
        "outputId": "5d3a2583-f7bb-4e1a-c9d1-fed4b8fd1581"
      },
      "source": [
        "df1.loc[[\"Germany\",\"Costa Rica\", \"Estonia\"],[\"Ladder score\", \"Generosity\", \"Perceptions of corruption\"]]"
      ],
      "id": "e7c65a44",
      "execution_count": null,
      "outputs": [
        {
          "output_type": "execute_result",
          "data": {
            "text/html": [
              "<div>\n",
              "<style scoped>\n",
              "    .dataframe tbody tr th:only-of-type {\n",
              "        vertical-align: middle;\n",
              "    }\n",
              "\n",
              "    .dataframe tbody tr th {\n",
              "        vertical-align: top;\n",
              "    }\n",
              "\n",
              "    .dataframe thead th {\n",
              "        text-align: right;\n",
              "    }\n",
              "</style>\n",
              "<table border=\"1\" class=\"dataframe\">\n",
              "  <thead>\n",
              "    <tr style=\"text-align: right;\">\n",
              "      <th></th>\n",
              "      <th>Ladder score</th>\n",
              "      <th>Generosity</th>\n",
              "      <th>Perceptions of corruption</th>\n",
              "    </tr>\n",
              "    <tr>\n",
              "      <th>Country name</th>\n",
              "      <th></th>\n",
              "      <th></th>\n",
              "      <th></th>\n",
              "    </tr>\n",
              "  </thead>\n",
              "  <tbody>\n",
              "    <tr>\n",
              "      <th>Germany</th>\n",
              "      <td>7.155</td>\n",
              "      <td>0.011</td>\n",
              "      <td>0.460</td>\n",
              "    </tr>\n",
              "    <tr>\n",
              "      <th>Costa Rica</th>\n",
              "      <td>7.069</td>\n",
              "      <td>-0.126</td>\n",
              "      <td>0.809</td>\n",
              "    </tr>\n",
              "    <tr>\n",
              "      <th>Estonia</th>\n",
              "      <td>6.189</td>\n",
              "      <td>-0.106</td>\n",
              "      <td>0.527</td>\n",
              "    </tr>\n",
              "  </tbody>\n",
              "</table>\n",
              "</div>"
            ],
            "text/plain": [
              "              Ladder score  Generosity  Perceptions of corruption\n",
              "Country name                                                     \n",
              "Germany              7.155       0.011                      0.460\n",
              "Costa Rica           7.069      -0.126                      0.809\n",
              "Estonia              6.189      -0.106                      0.527"
            ]
          },
          "metadata": {
            "tags": []
          },
          "execution_count": 24
        }
      ]
    },
    {
      "cell_type": "markdown",
      "metadata": {
        "id": "b7e239d5"
      },
      "source": [
        "## Pandas Series and Numpy Arrays"
      ],
      "id": "b7e239d5"
    },
    {
      "cell_type": "code",
      "metadata": {
        "id": "3a2292a2",
        "outputId": "7120abdc-988e-478a-c4c1-b2ebb5ca6560"
      },
      "source": [
        "ser = df1[\"Generosity\"].copy()\n",
        "ser"
      ],
      "id": "3a2292a2",
      "execution_count": null,
      "outputs": [
        {
          "output_type": "execute_result",
          "data": {
            "text/plain": [
              "Country name\n",
              "Finland       -0.098\n",
              "Denmark        0.030\n",
              "Switzerland    0.025\n",
              "Iceland        0.160\n",
              "Netherlands    0.175\n",
              "               ...  \n",
              "Lesotho       -0.131\n",
              "Botswana      -0.246\n",
              "Rwanda         0.061\n",
              "Zimbabwe      -0.047\n",
              "Afghanistan   -0.102\n",
              "Name: Generosity, Length: 149, dtype: float64"
            ]
          },
          "metadata": {
            "tags": []
          },
          "execution_count": 25
        }
      ]
    },
    {
      "cell_type": "code",
      "metadata": {
        "id": "da1b6c3d",
        "outputId": "3978eb8e-bf52-46a5-b9fb-01e0dce43a42"
      },
      "source": [
        "type(ser)"
      ],
      "id": "da1b6c3d",
      "execution_count": null,
      "outputs": [
        {
          "output_type": "execute_result",
          "data": {
            "text/plain": [
              "pandas.core.series.Series"
            ]
          },
          "metadata": {
            "tags": []
          },
          "execution_count": 26
        }
      ]
    },
    {
      "cell_type": "code",
      "metadata": {
        "id": "22cc78b9",
        "outputId": "b2cc1d41-239f-4c79-c0ee-d535244c1a45"
      },
      "source": [
        "ser.head(3)"
      ],
      "id": "22cc78b9",
      "execution_count": null,
      "outputs": [
        {
          "output_type": "execute_result",
          "data": {
            "text/plain": [
              "Country name\n",
              "Finland       -0.098\n",
              "Denmark        0.030\n",
              "Switzerland    0.025\n",
              "Name: Generosity, dtype: float64"
            ]
          },
          "metadata": {
            "tags": []
          },
          "execution_count": 27
        }
      ]
    },
    {
      "cell_type": "code",
      "metadata": {
        "id": "2732a083",
        "outputId": "e812f4ae-192c-40f8-8a05-922779865b44"
      },
      "source": [
        "ser.mean()"
      ],
      "id": "2732a083",
      "execution_count": null,
      "outputs": [
        {
          "output_type": "execute_result",
          "data": {
            "text/plain": [
              "-0.015134228187919468"
            ]
          },
          "metadata": {
            "tags": []
          },
          "execution_count": 28
        }
      ]
    },
    {
      "cell_type": "code",
      "metadata": {
        "id": "6b43b6f6",
        "outputId": "c64e1f15-78d7-40a0-a845-bf65e1e61ab0"
      },
      "source": [
        "ser.min()"
      ],
      "id": "6b43b6f6",
      "execution_count": null,
      "outputs": [
        {
          "output_type": "execute_result",
          "data": {
            "text/plain": [
              "-0.288"
            ]
          },
          "metadata": {
            "tags": []
          },
          "execution_count": 29
        }
      ]
    },
    {
      "cell_type": "markdown",
      "metadata": {
        "id": "810dcd01"
      },
      "source": [
        "## Broadcasting"
      ],
      "id": "810dcd01"
    },
    {
      "cell_type": "code",
      "metadata": {
        "id": "5ea0164b",
        "outputId": "858ce63d-b699-4dcb-9714-0c81a51b79aa"
      },
      "source": [
        "a = 100\n",
        "ser[20:101] = a\n",
        "ser[20:101]"
      ],
      "id": "5ea0164b",
      "execution_count": null,
      "outputs": [
        {
          "output_type": "execute_result",
          "data": {
            "text/plain": [
              "Country name\n",
              "France                      100.0\n",
              "Bahrain                     100.0\n",
              "Malta                       100.0\n",
              "Taiwan Province of China    100.0\n",
              "United Arab Emirates        100.0\n",
              "                            ...  \n",
              "Turkmenistan                100.0\n",
              "Gambia                      100.0\n",
              "Benin                       100.0\n",
              "Laos                        100.0\n",
              "Bangladesh                  100.0\n",
              "Name: Generosity, Length: 81, dtype: float64"
            ]
          },
          "metadata": {
            "tags": []
          },
          "execution_count": 30
        }
      ]
    },
    {
      "cell_type": "code",
      "metadata": {
        "id": "ccaad7ca",
        "outputId": "58d05127-eca8-4cab-d6db-fe3178b0a3f0"
      },
      "source": [
        "df1.head()"
      ],
      "id": "ccaad7ca",
      "execution_count": null,
      "outputs": [
        {
          "output_type": "execute_result",
          "data": {
            "text/html": [
              "<div>\n",
              "<style scoped>\n",
              "    .dataframe tbody tr th:only-of-type {\n",
              "        vertical-align: middle;\n",
              "    }\n",
              "\n",
              "    .dataframe tbody tr th {\n",
              "        vertical-align: top;\n",
              "    }\n",
              "\n",
              "    .dataframe thead th {\n",
              "        text-align: right;\n",
              "    }\n",
              "</style>\n",
              "<table border=\"1\" class=\"dataframe\">\n",
              "  <thead>\n",
              "    <tr style=\"text-align: right;\">\n",
              "      <th></th>\n",
              "      <th>Regional indicator</th>\n",
              "      <th>Ladder score</th>\n",
              "      <th>Logged GDP per capita</th>\n",
              "      <th>Social support</th>\n",
              "      <th>Healthy life expectancy</th>\n",
              "      <th>Freedom to make life choices</th>\n",
              "      <th>Generosity</th>\n",
              "      <th>Perceptions of corruption</th>\n",
              "    </tr>\n",
              "    <tr>\n",
              "      <th>Country name</th>\n",
              "      <th></th>\n",
              "      <th></th>\n",
              "      <th></th>\n",
              "      <th></th>\n",
              "      <th></th>\n",
              "      <th></th>\n",
              "      <th></th>\n",
              "      <th></th>\n",
              "    </tr>\n",
              "  </thead>\n",
              "  <tbody>\n",
              "    <tr>\n",
              "      <th>Finland</th>\n",
              "      <td>Western Europe</td>\n",
              "      <td>7.842</td>\n",
              "      <td>10.775</td>\n",
              "      <td>0.954</td>\n",
              "      <td>72.0</td>\n",
              "      <td>0.949</td>\n",
              "      <td>-0.098</td>\n",
              "      <td>0.186</td>\n",
              "    </tr>\n",
              "    <tr>\n",
              "      <th>Denmark</th>\n",
              "      <td>Western Europe</td>\n",
              "      <td>7.620</td>\n",
              "      <td>10.933</td>\n",
              "      <td>0.954</td>\n",
              "      <td>72.7</td>\n",
              "      <td>0.946</td>\n",
              "      <td>0.030</td>\n",
              "      <td>0.179</td>\n",
              "    </tr>\n",
              "    <tr>\n",
              "      <th>Switzerland</th>\n",
              "      <td>Western Europe</td>\n",
              "      <td>7.571</td>\n",
              "      <td>11.117</td>\n",
              "      <td>0.942</td>\n",
              "      <td>74.4</td>\n",
              "      <td>0.919</td>\n",
              "      <td>0.025</td>\n",
              "      <td>0.292</td>\n",
              "    </tr>\n",
              "    <tr>\n",
              "      <th>Iceland</th>\n",
              "      <td>Western Europe</td>\n",
              "      <td>7.554</td>\n",
              "      <td>10.878</td>\n",
              "      <td>0.983</td>\n",
              "      <td>73.0</td>\n",
              "      <td>0.955</td>\n",
              "      <td>0.160</td>\n",
              "      <td>0.673</td>\n",
              "    </tr>\n",
              "    <tr>\n",
              "      <th>Netherlands</th>\n",
              "      <td>Western Europe</td>\n",
              "      <td>7.464</td>\n",
              "      <td>10.932</td>\n",
              "      <td>0.942</td>\n",
              "      <td>72.4</td>\n",
              "      <td>0.913</td>\n",
              "      <td>0.175</td>\n",
              "      <td>0.338</td>\n",
              "    </tr>\n",
              "  </tbody>\n",
              "</table>\n",
              "</div>"
            ],
            "text/plain": [
              "             Regional indicator  Ladder score  Logged GDP per capita  \\\n",
              "Country name                                                           \n",
              "Finland          Western Europe         7.842                 10.775   \n",
              "Denmark          Western Europe         7.620                 10.933   \n",
              "Switzerland      Western Europe         7.571                 11.117   \n",
              "Iceland          Western Europe         7.554                 10.878   \n",
              "Netherlands      Western Europe         7.464                 10.932   \n",
              "\n",
              "              Social support  Healthy life expectancy  \\\n",
              "Country name                                            \n",
              "Finland                0.954                     72.0   \n",
              "Denmark                0.954                     72.7   \n",
              "Switzerland            0.942                     74.4   \n",
              "Iceland                0.983                     73.0   \n",
              "Netherlands            0.942                     72.4   \n",
              "\n",
              "              Freedom to make life choices  Generosity  \\\n",
              "Country name                                             \n",
              "Finland                              0.949      -0.098   \n",
              "Denmark                              0.946       0.030   \n",
              "Switzerland                          0.919       0.025   \n",
              "Iceland                              0.955       0.160   \n",
              "Netherlands                          0.913       0.175   \n",
              "\n",
              "              Perceptions of corruption  \n",
              "Country name                             \n",
              "Finland                           0.186  \n",
              "Denmark                           0.179  \n",
              "Switzerland                       0.292  \n",
              "Iceland                           0.673  \n",
              "Netherlands                       0.338  "
            ]
          },
          "metadata": {
            "tags": []
          },
          "execution_count": 31
        }
      ]
    },
    {
      "cell_type": "code",
      "metadata": {
        "id": "a082dd39",
        "outputId": "97b6f031-6b3b-4339-e603-60df6b34fc8c"
      },
      "source": [
        "mean_score = df1[\"Perceptions of corruption\"].mean()\n",
        "mean_score"
      ],
      "id": "a082dd39",
      "execution_count": null,
      "outputs": [
        {
          "output_type": "execute_result",
          "data": {
            "text/plain": [
              "0.7274496644295301"
            ]
          },
          "metadata": {
            "tags": []
          },
          "execution_count": 32
        }
      ]
    },
    {
      "cell_type": "code",
      "metadata": {
        "id": "a47f3a1f",
        "outputId": "a8baddc3-3f08-4dda-e695-cbf4c99645dc"
      },
      "source": [
        "x = df1[\"Perceptions of corruption\"].count()\n",
        "x"
      ],
      "id": "a47f3a1f",
      "execution_count": null,
      "outputs": [
        {
          "output_type": "execute_result",
          "data": {
            "text/plain": [
              "149"
            ]
          },
          "metadata": {
            "tags": []
          },
          "execution_count": 44
        }
      ]
    },
    {
      "cell_type": "code",
      "metadata": {
        "id": "416b7dbc",
        "outputId": "792df8e6-40da-4346-fd65-ef89c38180f9"
      },
      "source": [
        "df1[\"Perceptions of corruption\"][df1[\"Perceptions of corruption\"] >= mean_score]"
      ],
      "id": "416b7dbc",
      "execution_count": null,
      "outputs": [
        {
          "output_type": "execute_result",
          "data": {
            "text/plain": [
              "Country name\n",
              "Israel            0.753\n",
              "Costa Rica        0.809\n",
              "Czech Republic    0.868\n",
              "Spain             0.745\n",
              "Italy             0.866\n",
              "                  ...  \n",
              "Malawi            0.729\n",
              "Lesotho           0.915\n",
              "Botswana          0.801\n",
              "Zimbabwe          0.821\n",
              "Afghanistan       0.924\n",
              "Name: Perceptions of corruption, Length: 95, dtype: float64"
            ]
          },
          "metadata": {
            "tags": []
          },
          "execution_count": 45
        }
      ]
    },
    {
      "cell_type": "code",
      "metadata": {
        "id": "b381af17",
        "outputId": "ee03a971-6e82-448f-d3ce-e2515c8eaafb"
      },
      "source": [
        "a = df1[\"Perceptions of corruption\"][df1[\"Perceptions of corruption\"] >= mean_score].count()\n",
        "a"
      ],
      "id": "b381af17",
      "execution_count": null,
      "outputs": [
        {
          "output_type": "execute_result",
          "data": {
            "text/plain": [
              "95"
            ]
          },
          "metadata": {
            "tags": []
          },
          "execution_count": 46
        }
      ]
    },
    {
      "cell_type": "code",
      "metadata": {
        "id": "62961bd6",
        "outputId": "531c0da0-b446-4be1-d7b8-d39690d2785d"
      },
      "source": [
        "b = df1[\"Perceptions of corruption\"][df1[\"Perceptions of corruption\"] < mean_score].count()\n",
        "b"
      ],
      "id": "62961bd6",
      "execution_count": null,
      "outputs": [
        {
          "output_type": "execute_result",
          "data": {
            "text/plain": [
              "54"
            ]
          },
          "metadata": {
            "tags": []
          },
          "execution_count": 47
        }
      ]
    },
    {
      "cell_type": "code",
      "metadata": {
        "id": "f0fb60b7",
        "outputId": "46eccd25-3d27-4c89-a525-5801ed5eccb5"
      },
      "source": [
        "print(f\"Out of {x} countries; Citizens of {a} countries perceive above the mean level of perceptions of corruption in their countries. \\nOn the other hand citizens of {b} countries perceive below the mean level of perceptions of corruption in their countries.\")"
      ],
      "id": "f0fb60b7",
      "execution_count": null,
      "outputs": [
        {
          "output_type": "stream",
          "text": [
            "Out of 149 countries; Citizens of 95 countries perceive above the mean level of perceptions of corruption in their countries. \n",
            "On the other hand citizens of 54 countries perceive below the mean level of perceptions of corruption in their countries.\n"
          ],
          "name": "stdout"
        }
      ]
    },
    {
      "cell_type": "markdown",
      "metadata": {
        "id": "a8bb00b3"
      },
      "source": [
        "## Exercises"
      ],
      "id": "a8bb00b3"
    },
    {
      "cell_type": "code",
      "metadata": {
        "id": "7201e8ea",
        "outputId": "5d54aba0-f353-46dd-b7db-125f31e713ab"
      },
      "source": [
        "df1.head()"
      ],
      "id": "7201e8ea",
      "execution_count": null,
      "outputs": [
        {
          "output_type": "execute_result",
          "data": {
            "text/html": [
              "<div>\n",
              "<style scoped>\n",
              "    .dataframe tbody tr th:only-of-type {\n",
              "        vertical-align: middle;\n",
              "    }\n",
              "\n",
              "    .dataframe tbody tr th {\n",
              "        vertical-align: top;\n",
              "    }\n",
              "\n",
              "    .dataframe thead th {\n",
              "        text-align: right;\n",
              "    }\n",
              "</style>\n",
              "<table border=\"1\" class=\"dataframe\">\n",
              "  <thead>\n",
              "    <tr style=\"text-align: right;\">\n",
              "      <th></th>\n",
              "      <th>Regional indicator</th>\n",
              "      <th>Ladder score</th>\n",
              "      <th>Logged GDP per capita</th>\n",
              "      <th>Social support</th>\n",
              "      <th>Healthy life expectancy</th>\n",
              "      <th>Freedom to make life choices</th>\n",
              "      <th>Generosity</th>\n",
              "      <th>Perceptions of corruption</th>\n",
              "    </tr>\n",
              "    <tr>\n",
              "      <th>Country name</th>\n",
              "      <th></th>\n",
              "      <th></th>\n",
              "      <th></th>\n",
              "      <th></th>\n",
              "      <th></th>\n",
              "      <th></th>\n",
              "      <th></th>\n",
              "      <th></th>\n",
              "    </tr>\n",
              "  </thead>\n",
              "  <tbody>\n",
              "    <tr>\n",
              "      <th>Finland</th>\n",
              "      <td>Western Europe</td>\n",
              "      <td>7.842</td>\n",
              "      <td>10.775</td>\n",
              "      <td>0.954</td>\n",
              "      <td>72.0</td>\n",
              "      <td>0.949</td>\n",
              "      <td>-0.098</td>\n",
              "      <td>0.186</td>\n",
              "    </tr>\n",
              "    <tr>\n",
              "      <th>Denmark</th>\n",
              "      <td>Western Europe</td>\n",
              "      <td>7.620</td>\n",
              "      <td>10.933</td>\n",
              "      <td>0.954</td>\n",
              "      <td>72.7</td>\n",
              "      <td>0.946</td>\n",
              "      <td>0.030</td>\n",
              "      <td>0.179</td>\n",
              "    </tr>\n",
              "    <tr>\n",
              "      <th>Switzerland</th>\n",
              "      <td>Western Europe</td>\n",
              "      <td>7.571</td>\n",
              "      <td>11.117</td>\n",
              "      <td>0.942</td>\n",
              "      <td>74.4</td>\n",
              "      <td>0.919</td>\n",
              "      <td>0.025</td>\n",
              "      <td>0.292</td>\n",
              "    </tr>\n",
              "    <tr>\n",
              "      <th>Iceland</th>\n",
              "      <td>Western Europe</td>\n",
              "      <td>7.554</td>\n",
              "      <td>10.878</td>\n",
              "      <td>0.983</td>\n",
              "      <td>73.0</td>\n",
              "      <td>0.955</td>\n",
              "      <td>0.160</td>\n",
              "      <td>0.673</td>\n",
              "    </tr>\n",
              "    <tr>\n",
              "      <th>Netherlands</th>\n",
              "      <td>Western Europe</td>\n",
              "      <td>7.464</td>\n",
              "      <td>10.932</td>\n",
              "      <td>0.942</td>\n",
              "      <td>72.4</td>\n",
              "      <td>0.913</td>\n",
              "      <td>0.175</td>\n",
              "      <td>0.338</td>\n",
              "    </tr>\n",
              "  </tbody>\n",
              "</table>\n",
              "</div>"
            ],
            "text/plain": [
              "             Regional indicator  Ladder score  Logged GDP per capita  \\\n",
              "Country name                                                           \n",
              "Finland          Western Europe         7.842                 10.775   \n",
              "Denmark          Western Europe         7.620                 10.933   \n",
              "Switzerland      Western Europe         7.571                 11.117   \n",
              "Iceland          Western Europe         7.554                 10.878   \n",
              "Netherlands      Western Europe         7.464                 10.932   \n",
              "\n",
              "              Social support  Healthy life expectancy  \\\n",
              "Country name                                            \n",
              "Finland                0.954                     72.0   \n",
              "Denmark                0.954                     72.7   \n",
              "Switzerland            0.942                     74.4   \n",
              "Iceland                0.983                     73.0   \n",
              "Netherlands            0.942                     72.4   \n",
              "\n",
              "              Freedom to make life choices  Generosity  \\\n",
              "Country name                                             \n",
              "Finland                              0.949      -0.098   \n",
              "Denmark                              0.946       0.030   \n",
              "Switzerland                          0.919       0.025   \n",
              "Iceland                              0.955       0.160   \n",
              "Netherlands                          0.913       0.175   \n",
              "\n",
              "              Perceptions of corruption  \n",
              "Country name                             \n",
              "Finland                           0.186  \n",
              "Denmark                           0.179  \n",
              "Switzerland                       0.292  \n",
              "Iceland                           0.673  \n",
              "Netherlands                       0.338  "
            ]
          },
          "metadata": {
            "tags": []
          },
          "execution_count": 57
        }
      ]
    },
    {
      "cell_type": "code",
      "metadata": {
        "id": "e99eebc1",
        "outputId": "e1cf04dc-87fa-4b3a-962d-33c597b043ba"
      },
      "source": [
        "# Germany, Ethiopia, Peru, Chad, Japan. Freedom to make life choices, Healthy life expectancy\n",
        "df1.loc[[\"Germany\", \"Ethiopia\", \"Peru\", \"Chad\", \"Japan\"],[\"Freedom to make life choices\", \"Healthy life expectancy\"]]"
      ],
      "id": "e99eebc1",
      "execution_count": null,
      "outputs": [
        {
          "output_type": "execute_result",
          "data": {
            "text/html": [
              "<div>\n",
              "<style scoped>\n",
              "    .dataframe tbody tr th:only-of-type {\n",
              "        vertical-align: middle;\n",
              "    }\n",
              "\n",
              "    .dataframe tbody tr th {\n",
              "        vertical-align: top;\n",
              "    }\n",
              "\n",
              "    .dataframe thead th {\n",
              "        text-align: right;\n",
              "    }\n",
              "</style>\n",
              "<table border=\"1\" class=\"dataframe\">\n",
              "  <thead>\n",
              "    <tr style=\"text-align: right;\">\n",
              "      <th></th>\n",
              "      <th>Freedom to make life choices</th>\n",
              "      <th>Healthy life expectancy</th>\n",
              "    </tr>\n",
              "    <tr>\n",
              "      <th>Country name</th>\n",
              "      <th></th>\n",
              "      <th></th>\n",
              "    </tr>\n",
              "  </thead>\n",
              "  <tbody>\n",
              "    <tr>\n",
              "      <th>Germany</th>\n",
              "      <td>0.875</td>\n",
              "      <td>72.500</td>\n",
              "    </tr>\n",
              "    <tr>\n",
              "      <th>Ethiopia</th>\n",
              "      <td>0.752</td>\n",
              "      <td>59.000</td>\n",
              "    </tr>\n",
              "    <tr>\n",
              "      <th>Peru</th>\n",
              "      <td>0.822</td>\n",
              "      <td>68.250</td>\n",
              "    </tr>\n",
              "    <tr>\n",
              "      <th>Chad</th>\n",
              "      <td>0.579</td>\n",
              "      <td>48.478</td>\n",
              "    </tr>\n",
              "    <tr>\n",
              "      <th>Japan</th>\n",
              "      <td>0.796</td>\n",
              "      <td>75.100</td>\n",
              "    </tr>\n",
              "  </tbody>\n",
              "</table>\n",
              "</div>"
            ],
            "text/plain": [
              "              Freedom to make life choices  Healthy life expectancy\n",
              "Country name                                                       \n",
              "Germany                              0.875                   72.500\n",
              "Ethiopia                             0.752                   59.000\n",
              "Peru                                 0.822                   68.250\n",
              "Chad                                 0.579                   48.478\n",
              "Japan                                0.796                   75.100"
            ]
          },
          "metadata": {
            "tags": []
          },
          "execution_count": 53
        }
      ]
    },
    {
      "cell_type": "code",
      "metadata": {
        "id": "c0365512",
        "outputId": "873a5c3d-75f0-4f2f-e484-c4f1b21392ca"
      },
      "source": [
        "df1.iloc[[25,52,65,145],[1,7]]"
      ],
      "id": "c0365512",
      "execution_count": null,
      "outputs": [
        {
          "output_type": "execute_result",
          "data": {
            "text/html": [
              "<div>\n",
              "<style scoped>\n",
              "    .dataframe tbody tr th:only-of-type {\n",
              "        vertical-align: middle;\n",
              "    }\n",
              "\n",
              "    .dataframe tbody tr th {\n",
              "        vertical-align: top;\n",
              "    }\n",
              "\n",
              "    .dataframe thead th {\n",
              "        text-align: right;\n",
              "    }\n",
              "</style>\n",
              "<table border=\"1\" class=\"dataframe\">\n",
              "  <thead>\n",
              "    <tr style=\"text-align: right;\">\n",
              "      <th></th>\n",
              "      <th>Ladder score</th>\n",
              "      <th>Perceptions of corruption</th>\n",
              "    </tr>\n",
              "    <tr>\n",
              "      <th>Country name</th>\n",
              "      <th></th>\n",
              "      <th></th>\n",
              "    </tr>\n",
              "  </thead>\n",
              "  <tbody>\n",
              "    <tr>\n",
              "      <th>Saudi Arabia</th>\n",
              "      <td>6.494</td>\n",
              "      <td>0.684</td>\n",
              "    </tr>\n",
              "    <tr>\n",
              "      <th>Hungary</th>\n",
              "      <td>5.992</td>\n",
              "      <td>0.876</td>\n",
              "    </tr>\n",
              "    <tr>\n",
              "      <th>Ecuador</th>\n",
              "      <td>5.764</td>\n",
              "      <td>0.843</td>\n",
              "    </tr>\n",
              "    <tr>\n",
              "      <th>Botswana</th>\n",
              "      <td>3.467</td>\n",
              "      <td>0.801</td>\n",
              "    </tr>\n",
              "  </tbody>\n",
              "</table>\n",
              "</div>"
            ],
            "text/plain": [
              "              Ladder score  Perceptions of corruption\n",
              "Country name                                         \n",
              "Saudi Arabia         6.494                      0.684\n",
              "Hungary              5.992                      0.876\n",
              "Ecuador              5.764                      0.843\n",
              "Botswana             3.467                      0.801"
            ]
          },
          "metadata": {
            "tags": []
          },
          "execution_count": 54
        }
      ]
    },
    {
      "cell_type": "code",
      "metadata": {
        "id": "0f0c39e0",
        "outputId": "d8e35a0f-e2e9-4eb3-bcab-3c7e05d7787e"
      },
      "source": [
        "# Exercise: Conditional Filtering\n",
        "# Let's bring the Happiness score from the countries where in Central and Easter Europe countries\n",
        "# and where perceptions of corruption higher than 0.9\n",
        "df1[(df1[\"Regional indicator\"] == \"Central and Eastern Europe\") & (df1[\"Perceptions of corruption\"] > 0.9)]"
      ],
      "id": "0f0c39e0",
      "execution_count": null,
      "outputs": [
        {
          "output_type": "execute_result",
          "data": {
            "text/html": [
              "<div>\n",
              "<style scoped>\n",
              "    .dataframe tbody tr th:only-of-type {\n",
              "        vertical-align: middle;\n",
              "    }\n",
              "\n",
              "    .dataframe tbody tr th {\n",
              "        vertical-align: top;\n",
              "    }\n",
              "\n",
              "    .dataframe thead th {\n",
              "        text-align: right;\n",
              "    }\n",
              "</style>\n",
              "<table border=\"1\" class=\"dataframe\">\n",
              "  <thead>\n",
              "    <tr style=\"text-align: right;\">\n",
              "      <th></th>\n",
              "      <th>Regional indicator</th>\n",
              "      <th>Ladder score</th>\n",
              "      <th>Logged GDP per capita</th>\n",
              "      <th>Social support</th>\n",
              "      <th>Healthy life expectancy</th>\n",
              "      <th>Freedom to make life choices</th>\n",
              "      <th>Generosity</th>\n",
              "      <th>Perceptions of corruption</th>\n",
              "    </tr>\n",
              "    <tr>\n",
              "      <th>Country name</th>\n",
              "      <th></th>\n",
              "      <th></th>\n",
              "      <th></th>\n",
              "      <th></th>\n",
              "      <th></th>\n",
              "      <th></th>\n",
              "      <th></th>\n",
              "      <th></th>\n",
              "    </tr>\n",
              "  </thead>\n",
              "  <tbody>\n",
              "    <tr>\n",
              "      <th>Kosovo</th>\n",
              "      <td>Central and Eastern Europe</td>\n",
              "      <td>6.372</td>\n",
              "      <td>9.318</td>\n",
              "      <td>0.821</td>\n",
              "      <td>63.813</td>\n",
              "      <td>0.869</td>\n",
              "      <td>0.257</td>\n",
              "      <td>0.917</td>\n",
              "    </tr>\n",
              "    <tr>\n",
              "      <th>Slovakia</th>\n",
              "      <td>Central and Eastern Europe</td>\n",
              "      <td>6.331</td>\n",
              "      <td>10.369</td>\n",
              "      <td>0.936</td>\n",
              "      <td>69.201</td>\n",
              "      <td>0.766</td>\n",
              "      <td>-0.124</td>\n",
              "      <td>0.911</td>\n",
              "    </tr>\n",
              "    <tr>\n",
              "      <th>Romania</th>\n",
              "      <td>Central and Eastern Europe</td>\n",
              "      <td>6.140</td>\n",
              "      <td>10.284</td>\n",
              "      <td>0.832</td>\n",
              "      <td>67.355</td>\n",
              "      <td>0.845</td>\n",
              "      <td>-0.219</td>\n",
              "      <td>0.938</td>\n",
              "    </tr>\n",
              "    <tr>\n",
              "      <th>Croatia</th>\n",
              "      <td>Central and Eastern Europe</td>\n",
              "      <td>5.882</td>\n",
              "      <td>10.217</td>\n",
              "      <td>0.924</td>\n",
              "      <td>70.799</td>\n",
              "      <td>0.754</td>\n",
              "      <td>-0.118</td>\n",
              "      <td>0.939</td>\n",
              "    </tr>\n",
              "    <tr>\n",
              "      <th>Bosnia and Herzegovina</th>\n",
              "      <td>Central and Eastern Europe</td>\n",
              "      <td>5.813</td>\n",
              "      <td>9.590</td>\n",
              "      <td>0.870</td>\n",
              "      <td>68.098</td>\n",
              "      <td>0.706</td>\n",
              "      <td>0.113</td>\n",
              "      <td>0.931</td>\n",
              "    </tr>\n",
              "    <tr>\n",
              "      <th>Bulgaria</th>\n",
              "      <td>Central and Eastern Europe</td>\n",
              "      <td>5.266</td>\n",
              "      <td>10.016</td>\n",
              "      <td>0.931</td>\n",
              "      <td>67.000</td>\n",
              "      <td>0.788</td>\n",
              "      <td>-0.096</td>\n",
              "      <td>0.932</td>\n",
              "    </tr>\n",
              "    <tr>\n",
              "      <th>Albania</th>\n",
              "      <td>Central and Eastern Europe</td>\n",
              "      <td>5.117</td>\n",
              "      <td>9.520</td>\n",
              "      <td>0.697</td>\n",
              "      <td>68.999</td>\n",
              "      <td>0.785</td>\n",
              "      <td>-0.030</td>\n",
              "      <td>0.901</td>\n",
              "    </tr>\n",
              "    <tr>\n",
              "      <th>North Macedonia</th>\n",
              "      <td>Central and Eastern Europe</td>\n",
              "      <td>5.101</td>\n",
              "      <td>9.693</td>\n",
              "      <td>0.805</td>\n",
              "      <td>65.474</td>\n",
              "      <td>0.751</td>\n",
              "      <td>0.038</td>\n",
              "      <td>0.905</td>\n",
              "    </tr>\n",
              "  </tbody>\n",
              "</table>\n",
              "</div>"
            ],
            "text/plain": [
              "                                Regional indicator  Ladder score  \\\n",
              "Country name                                                       \n",
              "Kosovo                  Central and Eastern Europe         6.372   \n",
              "Slovakia                Central and Eastern Europe         6.331   \n",
              "Romania                 Central and Eastern Europe         6.140   \n",
              "Croatia                 Central and Eastern Europe         5.882   \n",
              "Bosnia and Herzegovina  Central and Eastern Europe         5.813   \n",
              "Bulgaria                Central and Eastern Europe         5.266   \n",
              "Albania                 Central and Eastern Europe         5.117   \n",
              "North Macedonia         Central and Eastern Europe         5.101   \n",
              "\n",
              "                        Logged GDP per capita  Social support  \\\n",
              "Country name                                                    \n",
              "Kosovo                                  9.318           0.821   \n",
              "Slovakia                               10.369           0.936   \n",
              "Romania                                10.284           0.832   \n",
              "Croatia                                10.217           0.924   \n",
              "Bosnia and Herzegovina                  9.590           0.870   \n",
              "Bulgaria                               10.016           0.931   \n",
              "Albania                                 9.520           0.697   \n",
              "North Macedonia                         9.693           0.805   \n",
              "\n",
              "                        Healthy life expectancy  Freedom to make life choices  \\\n",
              "Country name                                                                    \n",
              "Kosovo                                   63.813                         0.869   \n",
              "Slovakia                                 69.201                         0.766   \n",
              "Romania                                  67.355                         0.845   \n",
              "Croatia                                  70.799                         0.754   \n",
              "Bosnia and Herzegovina                   68.098                         0.706   \n",
              "Bulgaria                                 67.000                         0.788   \n",
              "Albania                                  68.999                         0.785   \n",
              "North Macedonia                          65.474                         0.751   \n",
              "\n",
              "                        Generosity  Perceptions of corruption  \n",
              "Country name                                                   \n",
              "Kosovo                       0.257                      0.917  \n",
              "Slovakia                    -0.124                      0.911  \n",
              "Romania                     -0.219                      0.938  \n",
              "Croatia                     -0.118                      0.939  \n",
              "Bosnia and Herzegovina       0.113                      0.931  \n",
              "Bulgaria                    -0.096                      0.932  \n",
              "Albania                     -0.030                      0.901  \n",
              "North Macedonia              0.038                      0.905  "
            ]
          },
          "metadata": {
            "tags": []
          },
          "execution_count": 66
        }
      ]
    },
    {
      "cell_type": "code",
      "metadata": {
        "id": "67e14ec6",
        "outputId": "e29f2c83-bf42-4b0d-9982-5f6d3e0a4d0f"
      },
      "source": [
        "# Exercise:Conditional Filtering\n",
        "# - Let's **randomly** bring 7 countries with their 'Regional indicator','Ladder score','Perceptions of corruption' scores\n",
        "# - Condition : Those countries are not in Western Europe **or** their 'Perceptions of corruption' scores are not bigger than 0.66\n",
        "df1[(df1[\"Regional indicator\"]!=\"Western Europe\") | (df1[\"Perceptions of corruption\"]<=0.66)][['Regional indicator','Ladder score','Perceptions of corruption']].sample(7)\n"
      ],
      "id": "67e14ec6",
      "execution_count": null,
      "outputs": [
        {
          "output_type": "execute_result",
          "data": {
            "text/html": [
              "<div>\n",
              "<style scoped>\n",
              "    .dataframe tbody tr th:only-of-type {\n",
              "        vertical-align: middle;\n",
              "    }\n",
              "\n",
              "    .dataframe tbody tr th {\n",
              "        vertical-align: top;\n",
              "    }\n",
              "\n",
              "    .dataframe thead th {\n",
              "        text-align: right;\n",
              "    }\n",
              "</style>\n",
              "<table border=\"1\" class=\"dataframe\">\n",
              "  <thead>\n",
              "    <tr style=\"text-align: right;\">\n",
              "      <th></th>\n",
              "      <th>Regional indicator</th>\n",
              "      <th>Ladder score</th>\n",
              "      <th>Perceptions of corruption</th>\n",
              "    </tr>\n",
              "    <tr>\n",
              "      <th>Country name</th>\n",
              "      <th></th>\n",
              "      <th></th>\n",
              "      <th></th>\n",
              "    </tr>\n",
              "  </thead>\n",
              "  <tbody>\n",
              "    <tr>\n",
              "      <th>Gambia</th>\n",
              "      <td>Sub-Saharan Africa</td>\n",
              "      <td>5.051</td>\n",
              "      <td>0.746</td>\n",
              "    </tr>\n",
              "    <tr>\n",
              "      <th>Chad</th>\n",
              "      <td>Sub-Saharan Africa</td>\n",
              "      <td>4.355</td>\n",
              "      <td>0.807</td>\n",
              "    </tr>\n",
              "    <tr>\n",
              "      <th>Norway</th>\n",
              "      <td>Western Europe</td>\n",
              "      <td>7.392</td>\n",
              "      <td>0.270</td>\n",
              "    </tr>\n",
              "    <tr>\n",
              "      <th>Ivory Coast</th>\n",
              "      <td>Sub-Saharan Africa</td>\n",
              "      <td>5.306</td>\n",
              "      <td>0.794</td>\n",
              "    </tr>\n",
              "    <tr>\n",
              "      <th>Zambia</th>\n",
              "      <td>Sub-Saharan Africa</td>\n",
              "      <td>4.073</td>\n",
              "      <td>0.823</td>\n",
              "    </tr>\n",
              "    <tr>\n",
              "      <th>Peru</th>\n",
              "      <td>Latin America and Caribbean</td>\n",
              "      <td>5.840</td>\n",
              "      <td>0.891</td>\n",
              "    </tr>\n",
              "    <tr>\n",
              "      <th>Lesotho</th>\n",
              "      <td>Sub-Saharan Africa</td>\n",
              "      <td>3.512</td>\n",
              "      <td>0.915</td>\n",
              "    </tr>\n",
              "  </tbody>\n",
              "</table>\n",
              "</div>"
            ],
            "text/plain": [
              "                       Regional indicator  Ladder score  \\\n",
              "Country name                                              \n",
              "Gambia                 Sub-Saharan Africa         5.051   \n",
              "Chad                   Sub-Saharan Africa         4.355   \n",
              "Norway                     Western Europe         7.392   \n",
              "Ivory Coast            Sub-Saharan Africa         5.306   \n",
              "Zambia                 Sub-Saharan Africa         4.073   \n",
              "Peru          Latin America and Caribbean         5.840   \n",
              "Lesotho                Sub-Saharan Africa         3.512   \n",
              "\n",
              "              Perceptions of corruption  \n",
              "Country name                             \n",
              "Gambia                            0.746  \n",
              "Chad                              0.807  \n",
              "Norway                            0.270  \n",
              "Ivory Coast                       0.794  \n",
              "Zambia                            0.823  \n",
              "Peru                              0.891  \n",
              "Lesotho                           0.915  "
            ]
          },
          "metadata": {
            "tags": []
          },
          "execution_count": 67
        }
      ]
    },
    {
      "cell_type": "markdown",
      "metadata": {
        "id": "4f5153c2"
      },
      "source": [
        "## Drop and Add "
      ],
      "id": "4f5153c2"
    },
    {
      "cell_type": "code",
      "metadata": {
        "id": "76d9ccc6",
        "outputId": "6b0e4080-95ec-41ba-b312-6e3983d1c687"
      },
      "source": [
        "# add column\n",
        "new = np.random.rand(149)\n",
        "df1['new'] = new\n",
        "df1.head()"
      ],
      "id": "76d9ccc6",
      "execution_count": null,
      "outputs": [
        {
          "output_type": "execute_result",
          "data": {
            "text/html": [
              "<div>\n",
              "<style scoped>\n",
              "    .dataframe tbody tr th:only-of-type {\n",
              "        vertical-align: middle;\n",
              "    }\n",
              "\n",
              "    .dataframe tbody tr th {\n",
              "        vertical-align: top;\n",
              "    }\n",
              "\n",
              "    .dataframe thead th {\n",
              "        text-align: right;\n",
              "    }\n",
              "</style>\n",
              "<table border=\"1\" class=\"dataframe\">\n",
              "  <thead>\n",
              "    <tr style=\"text-align: right;\">\n",
              "      <th></th>\n",
              "      <th>Regional indicator</th>\n",
              "      <th>Ladder score</th>\n",
              "      <th>Logged GDP per capita</th>\n",
              "      <th>Social support</th>\n",
              "      <th>Healthy life expectancy</th>\n",
              "      <th>Freedom to make life choices</th>\n",
              "      <th>Generosity</th>\n",
              "      <th>Perceptions of corruption</th>\n",
              "      <th>new</th>\n",
              "    </tr>\n",
              "    <tr>\n",
              "      <th>Country name</th>\n",
              "      <th></th>\n",
              "      <th></th>\n",
              "      <th></th>\n",
              "      <th></th>\n",
              "      <th></th>\n",
              "      <th></th>\n",
              "      <th></th>\n",
              "      <th></th>\n",
              "      <th></th>\n",
              "    </tr>\n",
              "  </thead>\n",
              "  <tbody>\n",
              "    <tr>\n",
              "      <th>Finland</th>\n",
              "      <td>Western Europe</td>\n",
              "      <td>7.842</td>\n",
              "      <td>10.775</td>\n",
              "      <td>0.954</td>\n",
              "      <td>72.0</td>\n",
              "      <td>0.949</td>\n",
              "      <td>-0.098</td>\n",
              "      <td>0.186</td>\n",
              "      <td>0.183667</td>\n",
              "    </tr>\n",
              "    <tr>\n",
              "      <th>Denmark</th>\n",
              "      <td>Western Europe</td>\n",
              "      <td>7.620</td>\n",
              "      <td>10.933</td>\n",
              "      <td>0.954</td>\n",
              "      <td>72.7</td>\n",
              "      <td>0.946</td>\n",
              "      <td>0.030</td>\n",
              "      <td>0.179</td>\n",
              "      <td>0.398145</td>\n",
              "    </tr>\n",
              "    <tr>\n",
              "      <th>Switzerland</th>\n",
              "      <td>Western Europe</td>\n",
              "      <td>7.571</td>\n",
              "      <td>11.117</td>\n",
              "      <td>0.942</td>\n",
              "      <td>74.4</td>\n",
              "      <td>0.919</td>\n",
              "      <td>0.025</td>\n",
              "      <td>0.292</td>\n",
              "      <td>0.394671</td>\n",
              "    </tr>\n",
              "    <tr>\n",
              "      <th>Iceland</th>\n",
              "      <td>Western Europe</td>\n",
              "      <td>7.554</td>\n",
              "      <td>10.878</td>\n",
              "      <td>0.983</td>\n",
              "      <td>73.0</td>\n",
              "      <td>0.955</td>\n",
              "      <td>0.160</td>\n",
              "      <td>0.673</td>\n",
              "      <td>0.894094</td>\n",
              "    </tr>\n",
              "    <tr>\n",
              "      <th>Netherlands</th>\n",
              "      <td>Western Europe</td>\n",
              "      <td>7.464</td>\n",
              "      <td>10.932</td>\n",
              "      <td>0.942</td>\n",
              "      <td>72.4</td>\n",
              "      <td>0.913</td>\n",
              "      <td>0.175</td>\n",
              "      <td>0.338</td>\n",
              "      <td>0.144613</td>\n",
              "    </tr>\n",
              "  </tbody>\n",
              "</table>\n",
              "</div>"
            ],
            "text/plain": [
              "             Regional indicator  Ladder score  Logged GDP per capita  \\\n",
              "Country name                                                           \n",
              "Finland          Western Europe         7.842                 10.775   \n",
              "Denmark          Western Europe         7.620                 10.933   \n",
              "Switzerland      Western Europe         7.571                 11.117   \n",
              "Iceland          Western Europe         7.554                 10.878   \n",
              "Netherlands      Western Europe         7.464                 10.932   \n",
              "\n",
              "              Social support  Healthy life expectancy  \\\n",
              "Country name                                            \n",
              "Finland                0.954                     72.0   \n",
              "Denmark                0.954                     72.7   \n",
              "Switzerland            0.942                     74.4   \n",
              "Iceland                0.983                     73.0   \n",
              "Netherlands            0.942                     72.4   \n",
              "\n",
              "              Freedom to make life choices  Generosity  \\\n",
              "Country name                                             \n",
              "Finland                              0.949      -0.098   \n",
              "Denmark                              0.946       0.030   \n",
              "Switzerland                          0.919       0.025   \n",
              "Iceland                              0.955       0.160   \n",
              "Netherlands                          0.913       0.175   \n",
              "\n",
              "              Perceptions of corruption       new  \n",
              "Country name                                       \n",
              "Finland                           0.186  0.183667  \n",
              "Denmark                           0.179  0.398145  \n",
              "Switzerland                       0.292  0.394671  \n",
              "Iceland                           0.673  0.894094  \n",
              "Netherlands                       0.338  0.144613  "
            ]
          },
          "metadata": {
            "tags": []
          },
          "execution_count": 73
        }
      ]
    },
    {
      "cell_type": "code",
      "metadata": {
        "id": "f88fd3a0",
        "outputId": "e70e3128-5c88-48ff-d04d-bccf505dedae"
      },
      "source": [
        "# drop column\n",
        "df1.drop('new', axis = 1, inplace = True )\n",
        "df1.head()"
      ],
      "id": "f88fd3a0",
      "execution_count": null,
      "outputs": [
        {
          "output_type": "execute_result",
          "data": {
            "text/html": [
              "<div>\n",
              "<style scoped>\n",
              "    .dataframe tbody tr th:only-of-type {\n",
              "        vertical-align: middle;\n",
              "    }\n",
              "\n",
              "    .dataframe tbody tr th {\n",
              "        vertical-align: top;\n",
              "    }\n",
              "\n",
              "    .dataframe thead th {\n",
              "        text-align: right;\n",
              "    }\n",
              "</style>\n",
              "<table border=\"1\" class=\"dataframe\">\n",
              "  <thead>\n",
              "    <tr style=\"text-align: right;\">\n",
              "      <th></th>\n",
              "      <th>Regional indicator</th>\n",
              "      <th>Ladder score</th>\n",
              "      <th>Logged GDP per capita</th>\n",
              "      <th>Social support</th>\n",
              "      <th>Healthy life expectancy</th>\n",
              "      <th>Freedom to make life choices</th>\n",
              "      <th>Generosity</th>\n",
              "      <th>Perceptions of corruption</th>\n",
              "    </tr>\n",
              "    <tr>\n",
              "      <th>Country name</th>\n",
              "      <th></th>\n",
              "      <th></th>\n",
              "      <th></th>\n",
              "      <th></th>\n",
              "      <th></th>\n",
              "      <th></th>\n",
              "      <th></th>\n",
              "      <th></th>\n",
              "    </tr>\n",
              "  </thead>\n",
              "  <tbody>\n",
              "    <tr>\n",
              "      <th>Finland</th>\n",
              "      <td>Western Europe</td>\n",
              "      <td>7.842</td>\n",
              "      <td>10.775</td>\n",
              "      <td>0.954</td>\n",
              "      <td>72.0</td>\n",
              "      <td>0.949</td>\n",
              "      <td>-0.098</td>\n",
              "      <td>0.186</td>\n",
              "    </tr>\n",
              "    <tr>\n",
              "      <th>Denmark</th>\n",
              "      <td>Western Europe</td>\n",
              "      <td>7.620</td>\n",
              "      <td>10.933</td>\n",
              "      <td>0.954</td>\n",
              "      <td>72.7</td>\n",
              "      <td>0.946</td>\n",
              "      <td>0.030</td>\n",
              "      <td>0.179</td>\n",
              "    </tr>\n",
              "    <tr>\n",
              "      <th>Switzerland</th>\n",
              "      <td>Western Europe</td>\n",
              "      <td>7.571</td>\n",
              "      <td>11.117</td>\n",
              "      <td>0.942</td>\n",
              "      <td>74.4</td>\n",
              "      <td>0.919</td>\n",
              "      <td>0.025</td>\n",
              "      <td>0.292</td>\n",
              "    </tr>\n",
              "    <tr>\n",
              "      <th>Iceland</th>\n",
              "      <td>Western Europe</td>\n",
              "      <td>7.554</td>\n",
              "      <td>10.878</td>\n",
              "      <td>0.983</td>\n",
              "      <td>73.0</td>\n",
              "      <td>0.955</td>\n",
              "      <td>0.160</td>\n",
              "      <td>0.673</td>\n",
              "    </tr>\n",
              "    <tr>\n",
              "      <th>Netherlands</th>\n",
              "      <td>Western Europe</td>\n",
              "      <td>7.464</td>\n",
              "      <td>10.932</td>\n",
              "      <td>0.942</td>\n",
              "      <td>72.4</td>\n",
              "      <td>0.913</td>\n",
              "      <td>0.175</td>\n",
              "      <td>0.338</td>\n",
              "    </tr>\n",
              "  </tbody>\n",
              "</table>\n",
              "</div>"
            ],
            "text/plain": [
              "             Regional indicator  Ladder score  Logged GDP per capita  \\\n",
              "Country name                                                           \n",
              "Finland          Western Europe         7.842                 10.775   \n",
              "Denmark          Western Europe         7.620                 10.933   \n",
              "Switzerland      Western Europe         7.571                 11.117   \n",
              "Iceland          Western Europe         7.554                 10.878   \n",
              "Netherlands      Western Europe         7.464                 10.932   \n",
              "\n",
              "              Social support  Healthy life expectancy  \\\n",
              "Country name                                            \n",
              "Finland                0.954                     72.0   \n",
              "Denmark                0.954                     72.7   \n",
              "Switzerland            0.942                     74.4   \n",
              "Iceland                0.983                     73.0   \n",
              "Netherlands            0.942                     72.4   \n",
              "\n",
              "              Freedom to make life choices  Generosity  \\\n",
              "Country name                                             \n",
              "Finland                              0.949      -0.098   \n",
              "Denmark                              0.946       0.030   \n",
              "Switzerland                          0.919       0.025   \n",
              "Iceland                              0.955       0.160   \n",
              "Netherlands                          0.913       0.175   \n",
              "\n",
              "              Perceptions of corruption  \n",
              "Country name                             \n",
              "Finland                           0.186  \n",
              "Denmark                           0.179  \n",
              "Switzerland                       0.292  \n",
              "Iceland                           0.673  \n",
              "Netherlands                       0.338  "
            ]
          },
          "metadata": {
            "tags": []
          },
          "execution_count": 74
        }
      ]
    },
    {
      "cell_type": "code",
      "metadata": {
        "id": "8b09e066",
        "outputId": "b8c88210-9dd4-44c6-ff69-cab07a236c04"
      },
      "source": [
        "# add row\n",
        "new_row = df1.loc[\"Germany\"]\n",
        "new_row"
      ],
      "id": "8b09e066",
      "execution_count": null,
      "outputs": [
        {
          "output_type": "execute_result",
          "data": {
            "text/plain": [
              "Regional indicator              Western Europe\n",
              "Ladder score                             7.155\n",
              "Logged GDP per capita                   10.873\n",
              "Social support                           0.903\n",
              "Healthy life expectancy                   72.5\n",
              "Freedom to make life choices             0.875\n",
              "Generosity                               0.011\n",
              "Perceptions of corruption                 0.46\n",
              "Name: Germany, dtype: object"
            ]
          },
          "metadata": {
            "tags": []
          },
          "execution_count": 77
        }
      ]
    },
    {
      "cell_type": "code",
      "metadata": {
        "id": "c6582963"
      },
      "source": [
        "new_row.name=\"New_name\""
      ],
      "id": "c6582963",
      "execution_count": null,
      "outputs": []
    },
    {
      "cell_type": "code",
      "metadata": {
        "id": "c226805c",
        "outputId": "32f4348f-ff25-4028-980f-eb41c18d18a0"
      },
      "source": [
        "df1 = df1.append(new_row)\n",
        "df1"
      ],
      "id": "c226805c",
      "execution_count": null,
      "outputs": [
        {
          "output_type": "execute_result",
          "data": {
            "text/html": [
              "<div>\n",
              "<style scoped>\n",
              "    .dataframe tbody tr th:only-of-type {\n",
              "        vertical-align: middle;\n",
              "    }\n",
              "\n",
              "    .dataframe tbody tr th {\n",
              "        vertical-align: top;\n",
              "    }\n",
              "\n",
              "    .dataframe thead th {\n",
              "        text-align: right;\n",
              "    }\n",
              "</style>\n",
              "<table border=\"1\" class=\"dataframe\">\n",
              "  <thead>\n",
              "    <tr style=\"text-align: right;\">\n",
              "      <th></th>\n",
              "      <th>Regional indicator</th>\n",
              "      <th>Ladder score</th>\n",
              "      <th>Logged GDP per capita</th>\n",
              "      <th>Social support</th>\n",
              "      <th>Healthy life expectancy</th>\n",
              "      <th>Freedom to make life choices</th>\n",
              "      <th>Generosity</th>\n",
              "      <th>Perceptions of corruption</th>\n",
              "    </tr>\n",
              "    <tr>\n",
              "      <th>Country name</th>\n",
              "      <th></th>\n",
              "      <th></th>\n",
              "      <th></th>\n",
              "      <th></th>\n",
              "      <th></th>\n",
              "      <th></th>\n",
              "      <th></th>\n",
              "      <th></th>\n",
              "    </tr>\n",
              "  </thead>\n",
              "  <tbody>\n",
              "    <tr>\n",
              "      <th>Finland</th>\n",
              "      <td>Western Europe</td>\n",
              "      <td>7.842</td>\n",
              "      <td>10.775</td>\n",
              "      <td>0.954</td>\n",
              "      <td>72.000</td>\n",
              "      <td>0.949</td>\n",
              "      <td>-0.098</td>\n",
              "      <td>0.186</td>\n",
              "    </tr>\n",
              "    <tr>\n",
              "      <th>Denmark</th>\n",
              "      <td>Western Europe</td>\n",
              "      <td>7.620</td>\n",
              "      <td>10.933</td>\n",
              "      <td>0.954</td>\n",
              "      <td>72.700</td>\n",
              "      <td>0.946</td>\n",
              "      <td>0.030</td>\n",
              "      <td>0.179</td>\n",
              "    </tr>\n",
              "    <tr>\n",
              "      <th>Switzerland</th>\n",
              "      <td>Western Europe</td>\n",
              "      <td>7.571</td>\n",
              "      <td>11.117</td>\n",
              "      <td>0.942</td>\n",
              "      <td>74.400</td>\n",
              "      <td>0.919</td>\n",
              "      <td>0.025</td>\n",
              "      <td>0.292</td>\n",
              "    </tr>\n",
              "    <tr>\n",
              "      <th>Iceland</th>\n",
              "      <td>Western Europe</td>\n",
              "      <td>7.554</td>\n",
              "      <td>10.878</td>\n",
              "      <td>0.983</td>\n",
              "      <td>73.000</td>\n",
              "      <td>0.955</td>\n",
              "      <td>0.160</td>\n",
              "      <td>0.673</td>\n",
              "    </tr>\n",
              "    <tr>\n",
              "      <th>Netherlands</th>\n",
              "      <td>Western Europe</td>\n",
              "      <td>7.464</td>\n",
              "      <td>10.932</td>\n",
              "      <td>0.942</td>\n",
              "      <td>72.400</td>\n",
              "      <td>0.913</td>\n",
              "      <td>0.175</td>\n",
              "      <td>0.338</td>\n",
              "    </tr>\n",
              "    <tr>\n",
              "      <th>...</th>\n",
              "      <td>...</td>\n",
              "      <td>...</td>\n",
              "      <td>...</td>\n",
              "      <td>...</td>\n",
              "      <td>...</td>\n",
              "      <td>...</td>\n",
              "      <td>...</td>\n",
              "      <td>...</td>\n",
              "    </tr>\n",
              "    <tr>\n",
              "      <th>Rwanda</th>\n",
              "      <td>Sub-Saharan Africa</td>\n",
              "      <td>3.415</td>\n",
              "      <td>7.676</td>\n",
              "      <td>0.552</td>\n",
              "      <td>61.400</td>\n",
              "      <td>0.897</td>\n",
              "      <td>0.061</td>\n",
              "      <td>0.167</td>\n",
              "    </tr>\n",
              "    <tr>\n",
              "      <th>Zimbabwe</th>\n",
              "      <td>Sub-Saharan Africa</td>\n",
              "      <td>3.145</td>\n",
              "      <td>7.943</td>\n",
              "      <td>0.750</td>\n",
              "      <td>56.201</td>\n",
              "      <td>0.677</td>\n",
              "      <td>-0.047</td>\n",
              "      <td>0.821</td>\n",
              "    </tr>\n",
              "    <tr>\n",
              "      <th>Afghanistan</th>\n",
              "      <td>South Asia</td>\n",
              "      <td>2.523</td>\n",
              "      <td>7.695</td>\n",
              "      <td>0.463</td>\n",
              "      <td>52.493</td>\n",
              "      <td>0.382</td>\n",
              "      <td>-0.102</td>\n",
              "      <td>0.924</td>\n",
              "    </tr>\n",
              "    <tr>\n",
              "      <th>Germany</th>\n",
              "      <td>Western Europe</td>\n",
              "      <td>7.155</td>\n",
              "      <td>10.873</td>\n",
              "      <td>0.903</td>\n",
              "      <td>72.500</td>\n",
              "      <td>0.875</td>\n",
              "      <td>0.011</td>\n",
              "      <td>0.460</td>\n",
              "    </tr>\n",
              "    <tr>\n",
              "      <th>New_name</th>\n",
              "      <td>Western Europe</td>\n",
              "      <td>7.155</td>\n",
              "      <td>10.873</td>\n",
              "      <td>0.903</td>\n",
              "      <td>72.500</td>\n",
              "      <td>0.875</td>\n",
              "      <td>0.011</td>\n",
              "      <td>0.460</td>\n",
              "    </tr>\n",
              "  </tbody>\n",
              "</table>\n",
              "<p>151 rows × 8 columns</p>\n",
              "</div>"
            ],
            "text/plain": [
              "              Regional indicator  Ladder score  Logged GDP per capita  \\\n",
              "Country name                                                            \n",
              "Finland           Western Europe         7.842                 10.775   \n",
              "Denmark           Western Europe         7.620                 10.933   \n",
              "Switzerland       Western Europe         7.571                 11.117   \n",
              "Iceland           Western Europe         7.554                 10.878   \n",
              "Netherlands       Western Europe         7.464                 10.932   \n",
              "...                          ...           ...                    ...   \n",
              "Rwanda        Sub-Saharan Africa         3.415                  7.676   \n",
              "Zimbabwe      Sub-Saharan Africa         3.145                  7.943   \n",
              "Afghanistan           South Asia         2.523                  7.695   \n",
              "Germany           Western Europe         7.155                 10.873   \n",
              "New_name          Western Europe         7.155                 10.873   \n",
              "\n",
              "              Social support  Healthy life expectancy  \\\n",
              "Country name                                            \n",
              "Finland                0.954                   72.000   \n",
              "Denmark                0.954                   72.700   \n",
              "Switzerland            0.942                   74.400   \n",
              "Iceland                0.983                   73.000   \n",
              "Netherlands            0.942                   72.400   \n",
              "...                      ...                      ...   \n",
              "Rwanda                 0.552                   61.400   \n",
              "Zimbabwe               0.750                   56.201   \n",
              "Afghanistan            0.463                   52.493   \n",
              "Germany                0.903                   72.500   \n",
              "New_name               0.903                   72.500   \n",
              "\n",
              "              Freedom to make life choices  Generosity  \\\n",
              "Country name                                             \n",
              "Finland                              0.949      -0.098   \n",
              "Denmark                              0.946       0.030   \n",
              "Switzerland                          0.919       0.025   \n",
              "Iceland                              0.955       0.160   \n",
              "Netherlands                          0.913       0.175   \n",
              "...                                    ...         ...   \n",
              "Rwanda                               0.897       0.061   \n",
              "Zimbabwe                             0.677      -0.047   \n",
              "Afghanistan                          0.382      -0.102   \n",
              "Germany                              0.875       0.011   \n",
              "New_name                             0.875       0.011   \n",
              "\n",
              "              Perceptions of corruption  \n",
              "Country name                             \n",
              "Finland                           0.186  \n",
              "Denmark                           0.179  \n",
              "Switzerland                       0.292  \n",
              "Iceland                           0.673  \n",
              "Netherlands                       0.338  \n",
              "...                                 ...  \n",
              "Rwanda                            0.167  \n",
              "Zimbabwe                          0.821  \n",
              "Afghanistan                       0.924  \n",
              "Germany                           0.460  \n",
              "New_name                          0.460  \n",
              "\n",
              "[151 rows x 8 columns]"
            ]
          },
          "metadata": {
            "tags": []
          },
          "execution_count": 81
        }
      ]
    },
    {
      "cell_type": "code",
      "metadata": {
        "id": "073317ec",
        "outputId": "ae63d91a-e4fd-44eb-9805-4e1b41930745"
      },
      "source": [
        "# drop row\n",
        "df1 = df1.drop(\"New_name\", axis=0)\n",
        "df1.head()"
      ],
      "id": "073317ec",
      "execution_count": null,
      "outputs": [
        {
          "output_type": "execute_result",
          "data": {
            "text/html": [
              "<div>\n",
              "<style scoped>\n",
              "    .dataframe tbody tr th:only-of-type {\n",
              "        vertical-align: middle;\n",
              "    }\n",
              "\n",
              "    .dataframe tbody tr th {\n",
              "        vertical-align: top;\n",
              "    }\n",
              "\n",
              "    .dataframe thead th {\n",
              "        text-align: right;\n",
              "    }\n",
              "</style>\n",
              "<table border=\"1\" class=\"dataframe\">\n",
              "  <thead>\n",
              "    <tr style=\"text-align: right;\">\n",
              "      <th></th>\n",
              "      <th>Regional indicator</th>\n",
              "      <th>Ladder score</th>\n",
              "      <th>Logged GDP per capita</th>\n",
              "      <th>Social support</th>\n",
              "      <th>Healthy life expectancy</th>\n",
              "      <th>Freedom to make life choices</th>\n",
              "      <th>Generosity</th>\n",
              "      <th>Perceptions of corruption</th>\n",
              "    </tr>\n",
              "    <tr>\n",
              "      <th>Country name</th>\n",
              "      <th></th>\n",
              "      <th></th>\n",
              "      <th></th>\n",
              "      <th></th>\n",
              "      <th></th>\n",
              "      <th></th>\n",
              "      <th></th>\n",
              "      <th></th>\n",
              "    </tr>\n",
              "  </thead>\n",
              "  <tbody>\n",
              "    <tr>\n",
              "      <th>Finland</th>\n",
              "      <td>Western Europe</td>\n",
              "      <td>7.842</td>\n",
              "      <td>10.775</td>\n",
              "      <td>0.954</td>\n",
              "      <td>72.0</td>\n",
              "      <td>0.949</td>\n",
              "      <td>-0.098</td>\n",
              "      <td>0.186</td>\n",
              "    </tr>\n",
              "    <tr>\n",
              "      <th>Denmark</th>\n",
              "      <td>Western Europe</td>\n",
              "      <td>7.620</td>\n",
              "      <td>10.933</td>\n",
              "      <td>0.954</td>\n",
              "      <td>72.7</td>\n",
              "      <td>0.946</td>\n",
              "      <td>0.030</td>\n",
              "      <td>0.179</td>\n",
              "    </tr>\n",
              "    <tr>\n",
              "      <th>Switzerland</th>\n",
              "      <td>Western Europe</td>\n",
              "      <td>7.571</td>\n",
              "      <td>11.117</td>\n",
              "      <td>0.942</td>\n",
              "      <td>74.4</td>\n",
              "      <td>0.919</td>\n",
              "      <td>0.025</td>\n",
              "      <td>0.292</td>\n",
              "    </tr>\n",
              "    <tr>\n",
              "      <th>Iceland</th>\n",
              "      <td>Western Europe</td>\n",
              "      <td>7.554</td>\n",
              "      <td>10.878</td>\n",
              "      <td>0.983</td>\n",
              "      <td>73.0</td>\n",
              "      <td>0.955</td>\n",
              "      <td>0.160</td>\n",
              "      <td>0.673</td>\n",
              "    </tr>\n",
              "    <tr>\n",
              "      <th>Netherlands</th>\n",
              "      <td>Western Europe</td>\n",
              "      <td>7.464</td>\n",
              "      <td>10.932</td>\n",
              "      <td>0.942</td>\n",
              "      <td>72.4</td>\n",
              "      <td>0.913</td>\n",
              "      <td>0.175</td>\n",
              "      <td>0.338</td>\n",
              "    </tr>\n",
              "  </tbody>\n",
              "</table>\n",
              "</div>"
            ],
            "text/plain": [
              "             Regional indicator  Ladder score  Logged GDP per capita  \\\n",
              "Country name                                                           \n",
              "Finland          Western Europe         7.842                 10.775   \n",
              "Denmark          Western Europe         7.620                 10.933   \n",
              "Switzerland      Western Europe         7.571                 11.117   \n",
              "Iceland          Western Europe         7.554                 10.878   \n",
              "Netherlands      Western Europe         7.464                 10.932   \n",
              "\n",
              "              Social support  Healthy life expectancy  \\\n",
              "Country name                                            \n",
              "Finland                0.954                     72.0   \n",
              "Denmark                0.954                     72.7   \n",
              "Switzerland            0.942                     74.4   \n",
              "Iceland                0.983                     73.0   \n",
              "Netherlands            0.942                     72.4   \n",
              "\n",
              "              Freedom to make life choices  Generosity  \\\n",
              "Country name                                             \n",
              "Finland                              0.949      -0.098   \n",
              "Denmark                              0.946       0.030   \n",
              "Switzerland                          0.919       0.025   \n",
              "Iceland                              0.955       0.160   \n",
              "Netherlands                          0.913       0.175   \n",
              "\n",
              "              Perceptions of corruption  \n",
              "Country name                             \n",
              "Finland                           0.186  \n",
              "Denmark                           0.179  \n",
              "Switzerland                       0.292  \n",
              "Iceland                           0.673  \n",
              "Netherlands                       0.338  "
            ]
          },
          "metadata": {
            "tags": []
          },
          "execution_count": 87
        }
      ]
    },
    {
      "cell_type": "code",
      "metadata": {
        "id": "2ca1e663",
        "outputId": "edb53c64-c24f-4587-d788-bb87a8557a00"
      },
      "source": [
        "# creating df2 dataset\n",
        "\n",
        "df2 = df1.copy()\n",
        "df2"
      ],
      "id": "2ca1e663",
      "execution_count": null,
      "outputs": [
        {
          "output_type": "execute_result",
          "data": {
            "text/html": [
              "<div>\n",
              "<style scoped>\n",
              "    .dataframe tbody tr th:only-of-type {\n",
              "        vertical-align: middle;\n",
              "    }\n",
              "\n",
              "    .dataframe tbody tr th {\n",
              "        vertical-align: top;\n",
              "    }\n",
              "\n",
              "    .dataframe thead th {\n",
              "        text-align: right;\n",
              "    }\n",
              "</style>\n",
              "<table border=\"1\" class=\"dataframe\">\n",
              "  <thead>\n",
              "    <tr style=\"text-align: right;\">\n",
              "      <th></th>\n",
              "      <th>Regional indicator</th>\n",
              "      <th>Ladder score</th>\n",
              "      <th>Logged GDP per capita</th>\n",
              "      <th>Social support</th>\n",
              "      <th>Healthy life expectancy</th>\n",
              "      <th>Freedom to make life choices</th>\n",
              "      <th>Generosity</th>\n",
              "      <th>Perceptions of corruption</th>\n",
              "    </tr>\n",
              "    <tr>\n",
              "      <th>Country name</th>\n",
              "      <th></th>\n",
              "      <th></th>\n",
              "      <th></th>\n",
              "      <th></th>\n",
              "      <th></th>\n",
              "      <th></th>\n",
              "      <th></th>\n",
              "      <th></th>\n",
              "    </tr>\n",
              "  </thead>\n",
              "  <tbody>\n",
              "    <tr>\n",
              "      <th>Finland</th>\n",
              "      <td>Western Europe</td>\n",
              "      <td>7.842</td>\n",
              "      <td>10.775</td>\n",
              "      <td>0.954</td>\n",
              "      <td>72.000</td>\n",
              "      <td>0.949</td>\n",
              "      <td>-0.098</td>\n",
              "      <td>0.186</td>\n",
              "    </tr>\n",
              "    <tr>\n",
              "      <th>Denmark</th>\n",
              "      <td>Western Europe</td>\n",
              "      <td>7.620</td>\n",
              "      <td>10.933</td>\n",
              "      <td>0.954</td>\n",
              "      <td>72.700</td>\n",
              "      <td>0.946</td>\n",
              "      <td>0.030</td>\n",
              "      <td>0.179</td>\n",
              "    </tr>\n",
              "    <tr>\n",
              "      <th>Switzerland</th>\n",
              "      <td>Western Europe</td>\n",
              "      <td>7.571</td>\n",
              "      <td>11.117</td>\n",
              "      <td>0.942</td>\n",
              "      <td>74.400</td>\n",
              "      <td>0.919</td>\n",
              "      <td>0.025</td>\n",
              "      <td>0.292</td>\n",
              "    </tr>\n",
              "    <tr>\n",
              "      <th>Iceland</th>\n",
              "      <td>Western Europe</td>\n",
              "      <td>7.554</td>\n",
              "      <td>10.878</td>\n",
              "      <td>0.983</td>\n",
              "      <td>73.000</td>\n",
              "      <td>0.955</td>\n",
              "      <td>0.160</td>\n",
              "      <td>0.673</td>\n",
              "    </tr>\n",
              "    <tr>\n",
              "      <th>Netherlands</th>\n",
              "      <td>Western Europe</td>\n",
              "      <td>7.464</td>\n",
              "      <td>10.932</td>\n",
              "      <td>0.942</td>\n",
              "      <td>72.400</td>\n",
              "      <td>0.913</td>\n",
              "      <td>0.175</td>\n",
              "      <td>0.338</td>\n",
              "    </tr>\n",
              "    <tr>\n",
              "      <th>...</th>\n",
              "      <td>...</td>\n",
              "      <td>...</td>\n",
              "      <td>...</td>\n",
              "      <td>...</td>\n",
              "      <td>...</td>\n",
              "      <td>...</td>\n",
              "      <td>...</td>\n",
              "      <td>...</td>\n",
              "    </tr>\n",
              "    <tr>\n",
              "      <th>Botswana</th>\n",
              "      <td>Sub-Saharan Africa</td>\n",
              "      <td>3.467</td>\n",
              "      <td>9.782</td>\n",
              "      <td>0.784</td>\n",
              "      <td>59.269</td>\n",
              "      <td>0.824</td>\n",
              "      <td>-0.246</td>\n",
              "      <td>0.801</td>\n",
              "    </tr>\n",
              "    <tr>\n",
              "      <th>Rwanda</th>\n",
              "      <td>Sub-Saharan Africa</td>\n",
              "      <td>3.415</td>\n",
              "      <td>7.676</td>\n",
              "      <td>0.552</td>\n",
              "      <td>61.400</td>\n",
              "      <td>0.897</td>\n",
              "      <td>0.061</td>\n",
              "      <td>0.167</td>\n",
              "    </tr>\n",
              "    <tr>\n",
              "      <th>Zimbabwe</th>\n",
              "      <td>Sub-Saharan Africa</td>\n",
              "      <td>3.145</td>\n",
              "      <td>7.943</td>\n",
              "      <td>0.750</td>\n",
              "      <td>56.201</td>\n",
              "      <td>0.677</td>\n",
              "      <td>-0.047</td>\n",
              "      <td>0.821</td>\n",
              "    </tr>\n",
              "    <tr>\n",
              "      <th>Afghanistan</th>\n",
              "      <td>South Asia</td>\n",
              "      <td>2.523</td>\n",
              "      <td>7.695</td>\n",
              "      <td>0.463</td>\n",
              "      <td>52.493</td>\n",
              "      <td>0.382</td>\n",
              "      <td>-0.102</td>\n",
              "      <td>0.924</td>\n",
              "    </tr>\n",
              "    <tr>\n",
              "      <th>Germany</th>\n",
              "      <td>Western Europe</td>\n",
              "      <td>7.155</td>\n",
              "      <td>10.873</td>\n",
              "      <td>0.903</td>\n",
              "      <td>72.500</td>\n",
              "      <td>0.875</td>\n",
              "      <td>0.011</td>\n",
              "      <td>0.460</td>\n",
              "    </tr>\n",
              "  </tbody>\n",
              "</table>\n",
              "<p>150 rows × 8 columns</p>\n",
              "</div>"
            ],
            "text/plain": [
              "              Regional indicator  Ladder score  Logged GDP per capita  \\\n",
              "Country name                                                            \n",
              "Finland           Western Europe         7.842                 10.775   \n",
              "Denmark           Western Europe         7.620                 10.933   \n",
              "Switzerland       Western Europe         7.571                 11.117   \n",
              "Iceland           Western Europe         7.554                 10.878   \n",
              "Netherlands       Western Europe         7.464                 10.932   \n",
              "...                          ...           ...                    ...   \n",
              "Botswana      Sub-Saharan Africa         3.467                  9.782   \n",
              "Rwanda        Sub-Saharan Africa         3.415                  7.676   \n",
              "Zimbabwe      Sub-Saharan Africa         3.145                  7.943   \n",
              "Afghanistan           South Asia         2.523                  7.695   \n",
              "Germany           Western Europe         7.155                 10.873   \n",
              "\n",
              "              Social support  Healthy life expectancy  \\\n",
              "Country name                                            \n",
              "Finland                0.954                   72.000   \n",
              "Denmark                0.954                   72.700   \n",
              "Switzerland            0.942                   74.400   \n",
              "Iceland                0.983                   73.000   \n",
              "Netherlands            0.942                   72.400   \n",
              "...                      ...                      ...   \n",
              "Botswana               0.784                   59.269   \n",
              "Rwanda                 0.552                   61.400   \n",
              "Zimbabwe               0.750                   56.201   \n",
              "Afghanistan            0.463                   52.493   \n",
              "Germany                0.903                   72.500   \n",
              "\n",
              "              Freedom to make life choices  Generosity  \\\n",
              "Country name                                             \n",
              "Finland                              0.949      -0.098   \n",
              "Denmark                              0.946       0.030   \n",
              "Switzerland                          0.919       0.025   \n",
              "Iceland                              0.955       0.160   \n",
              "Netherlands                          0.913       0.175   \n",
              "...                                    ...         ...   \n",
              "Botswana                             0.824      -0.246   \n",
              "Rwanda                               0.897       0.061   \n",
              "Zimbabwe                             0.677      -0.047   \n",
              "Afghanistan                          0.382      -0.102   \n",
              "Germany                              0.875       0.011   \n",
              "\n",
              "              Perceptions of corruption  \n",
              "Country name                             \n",
              "Finland                           0.186  \n",
              "Denmark                           0.179  \n",
              "Switzerland                       0.292  \n",
              "Iceland                           0.673  \n",
              "Netherlands                       0.338  \n",
              "...                                 ...  \n",
              "Botswana                          0.801  \n",
              "Rwanda                            0.167  \n",
              "Zimbabwe                          0.821  \n",
              "Afghanistan                       0.924  \n",
              "Germany                           0.460  \n",
              "\n",
              "[150 rows x 8 columns]"
            ]
          },
          "metadata": {
            "tags": []
          },
          "execution_count": 88
        }
      ]
    },
    {
      "cell_type": "code",
      "metadata": {
        "id": "1b0b3bd6",
        "outputId": "6e2ff59e-c689-4049-a553-7ee5ee280fb3"
      },
      "source": [
        "df2[\"Social support\"].apply(np.square)"
      ],
      "id": "1b0b3bd6",
      "execution_count": null,
      "outputs": [
        {
          "output_type": "execute_result",
          "data": {
            "text/plain": [
              "Country name\n",
              "Finland        0.910116\n",
              "Denmark        0.910116\n",
              "Switzerland    0.887364\n",
              "Iceland        0.966289\n",
              "Netherlands    0.887364\n",
              "                 ...   \n",
              "Botswana       0.614656\n",
              "Rwanda         0.304704\n",
              "Zimbabwe       0.562500\n",
              "Afghanistan    0.214369\n",
              "Germany        0.815409\n",
              "Name: Social support, Length: 150, dtype: float64"
            ]
          },
          "metadata": {
            "tags": []
          },
          "execution_count": 89
        }
      ]
    },
    {
      "cell_type": "code",
      "metadata": {
        "id": "4aaca453"
      },
      "source": [
        "# Update Regional indicator of Afghanistan as South_Asia"
      ],
      "id": "4aaca453",
      "execution_count": null,
      "outputs": []
    },
    {
      "cell_type": "code",
      "metadata": {
        "id": "3b9dc9bd",
        "outputId": "948c9adc-81d1-44cc-f31e-d41e491be12c"
      },
      "source": [
        "df2.loc[\"Afghanistan\"][\"Ladder score\"]"
      ],
      "id": "3b9dc9bd",
      "execution_count": null,
      "outputs": [
        {
          "output_type": "execute_result",
          "data": {
            "text/plain": [
              "2.523"
            ]
          },
          "metadata": {
            "tags": []
          },
          "execution_count": 92
        }
      ]
    },
    {
      "cell_type": "code",
      "metadata": {
        "id": "7cd4f6d1",
        "outputId": "a73ceb13-34a1-4d27-8291-d9625fe93479"
      },
      "source": [
        "df2.loc[\"Afghanistan\"][\"Ladder score\"] = 7.565"
      ],
      "id": "7cd4f6d1",
      "execution_count": null,
      "outputs": [
        {
          "output_type": "stream",
          "text": [
            "<ipython-input-93-b89088bdbdca>:1: SettingWithCopyWarning: \n",
            "A value is trying to be set on a copy of a slice from a DataFrame\n",
            "\n",
            "See the caveats in the documentation: https://pandas.pydata.org/pandas-docs/stable/user_guide/indexing.html#returning-a-view-versus-a-copy\n",
            "  df2.loc[\"Afghanistan\"][\"Ladder score\"] = 7.565\n"
          ],
          "name": "stderr"
        }
      ]
    },
    {
      "cell_type": "code",
      "metadata": {
        "id": "b7598cee"
      },
      "source": [
        "df2.loc[\"Afghanistan\", \"Ladder score\"] = 7.565\n",
        "# ya da şu şekilde => df2.loc[[\"Afghanistan\"],[\"Ladder score\"]]=7.565"
      ],
      "id": "b7598cee",
      "execution_count": null,
      "outputs": []
    },
    {
      "cell_type": "code",
      "metadata": {
        "id": "76da5fd8",
        "outputId": "5030cf51-e56b-4bac-fc0d-a1c489faa711"
      },
      "source": [
        "df2.loc[\"Afghanistan\"][\"Ladder score\"]"
      ],
      "id": "76da5fd8",
      "execution_count": null,
      "outputs": [
        {
          "output_type": "execute_result",
          "data": {
            "text/plain": [
              "7.565"
            ]
          },
          "metadata": {
            "tags": []
          },
          "execution_count": 95
        }
      ]
    },
    {
      "cell_type": "code",
      "metadata": {
        "id": "8715dd93",
        "outputId": "ad6a442e-bf29-4713-bfb3-7d1df52b7661"
      },
      "source": [
        "df2.loc[\"Afghanistan\"]"
      ],
      "id": "8715dd93",
      "execution_count": null,
      "outputs": [
        {
          "output_type": "execute_result",
          "data": {
            "text/plain": [
              "Regional indicator              South Asia\n",
              "Ladder score                         7.565\n",
              "Logged GDP per capita                7.695\n",
              "Social support                       0.463\n",
              "Healthy life expectancy             52.493\n",
              "Freedom to make life choices         0.382\n",
              "Generosity                          -0.102\n",
              "Perceptions of corruption            0.924\n",
              "Name: Afghanistan, dtype: object"
            ]
          },
          "metadata": {
            "tags": []
          },
          "execution_count": 103
        }
      ]
    },
    {
      "cell_type": "code",
      "metadata": {
        "id": "1ee9cf18"
      },
      "source": [
        ""
      ],
      "id": "1ee9cf18",
      "execution_count": null,
      "outputs": []
    },
    {
      "cell_type": "markdown",
      "metadata": {
        "id": "2a569423"
      },
      "source": [
        "Based on the our dataset's 'Healthy life expectancy' scores, lets make a new column with the name of **'Explained Healthy life expectancy'** with the new values which should consist of:\n",
        "- Let's think 'Healthy life expectancy''s mean score as our threshold.\n",
        "-If 'Healthy life expectancy' is equal and greater than 75% of the 'Healthy life expectancy' score of the dataset , it should be written **''Long Life expectancy'**\n",
        "-If 'Healthy life expectancy' less than 75% of the 'Healthy life expectancy' score of the dataset but bigger than our threshold, it should be written **'Longer than normal expectancy'**\n",
        "--If 'Healthy life expectancy' equal or less than our threshold but bigger than 25% of the 'Healthy life expectancy' score of the dataset, it should be written **'Normal life expectancy'**\n",
        "--If 'Healthy life expectancy' equal or less than 25% of the 'Healthy life expectancy' score of the dataset, it should be written **'Lower life expectancy'**\n",
        "--Since We have projects with United states make sure that United States should be written as **'United States of America'**"
      ],
      "id": "2a569423"
    },
    {
      "cell_type": "code",
      "metadata": {
        "id": "ebbb7e3b"
      },
      "source": [
        "# Raife Hoca'nın cevabı"
      ],
      "id": "ebbb7e3b",
      "execution_count": null,
      "outputs": []
    },
    {
      "cell_type": "code",
      "metadata": {
        "id": "882de076",
        "outputId": "9d2c33d9-9cc6-4f6f-8825-382dcaaaafff"
      },
      "source": [
        "ortalama = round(df2[\"Healthy life expectancy\"].mean(),2)\n",
        "ortalama"
      ],
      "id": "882de076",
      "execution_count": null,
      "outputs": [
        {
          "output_type": "execute_result",
          "data": {
            "text/plain": [
              "65.04"
            ]
          },
          "metadata": {
            "tags": []
          },
          "execution_count": 126
        }
      ]
    },
    {
      "cell_type": "code",
      "metadata": {
        "id": "41958e07",
        "outputId": "4e6dbfd7-8f58-460f-d74a-4aeaa301b298"
      },
      "source": [
        "def change(x):\n",
        "    if x>=75 :\n",
        "        return \"Long Life expectancy\"\n",
        "    elif ortalama<x<75:\n",
        "        return \"Longer than normal expectancy\"\n",
        "    elif 25<=x<=ortalama :\n",
        "        return \"Normal life expectancy\"\n",
        "    else:\n",
        "        return \"Lower life expectancy\"\n",
        "df2[\"Healthy life expectancy\"].apply(change).loc[\"United States\"]"
      ],
      "id": "41958e07",
      "execution_count": null,
      "outputs": [
        {
          "output_type": "execute_result",
          "data": {
            "text/plain": [
              "'Longer than normal expectancy'"
            ]
          },
          "metadata": {
            "tags": []
          },
          "execution_count": 129
        }
      ]
    },
    {
      "cell_type": "code",
      "metadata": {
        "id": "c4801528"
      },
      "source": [
        "# Kaan Hoca'nın cevabı"
      ],
      "id": "c4801528",
      "execution_count": null,
      "outputs": []
    },
    {
      "cell_type": "code",
      "metadata": {
        "id": "bcd3ee8f",
        "outputId": "7ad8a36b-1ed6-4831-ea3a-3cc40dea632c"
      },
      "source": [
        "df2[\"Healthy life expectancy\"].head()"
      ],
      "id": "bcd3ee8f",
      "execution_count": null,
      "outputs": [
        {
          "output_type": "execute_result",
          "data": {
            "text/plain": [
              "Country name\n",
              "Finland        72.0\n",
              "Denmark        72.7\n",
              "Switzerland    74.4\n",
              "Iceland        73.0\n",
              "Netherlands    72.4\n",
              "Name: Healthy life expectancy, dtype: float64"
            ]
          },
          "metadata": {
            "tags": []
          },
          "execution_count": 133
        }
      ]
    },
    {
      "cell_type": "code",
      "metadata": {
        "id": "c05554f5",
        "outputId": "11b217ca-64e3-4102-cd88-6b027ad3b24f"
      },
      "source": [
        "df2[\"Healthy life expectancy\"].describe()"
      ],
      "id": "c05554f5",
      "execution_count": null,
      "outputs": [
        {
          "output_type": "execute_result",
          "data": {
            "text/plain": [
              "count    150.000000\n",
              "mean      65.042847\n",
              "std        6.767131\n",
              "min       48.478000\n",
              "25%       59.842000\n",
              "50%       66.651500\n",
              "75%       69.639000\n",
              "max       76.953000\n",
              "Name: Healthy life expectancy, dtype: float64"
            ]
          },
          "metadata": {
            "tags": []
          },
          "execution_count": 132
        }
      ]
    },
    {
      "cell_type": "code",
      "metadata": {
        "id": "f9943248",
        "outputId": "af520795-f1e1-4c52-fa27-d10366165aa5"
      },
      "source": [
        "def change(x):\n",
        "    if x>=69.639000 :\n",
        "        return \"Long Life expectancy\"\n",
        "    elif 65.042847<x<69.639000:\n",
        "        return \"Longer than normal expectancy\"\n",
        "    elif 59.842000 <=x<= 65.042847 :\n",
        "        return \"Normal life expectancy\"\n",
        "    else:\n",
        "        return \"Lower life expectancy\"\n",
        "df2[\"Healthy life expectancy\"].apply(change).loc[\"United States\"]"
      ],
      "id": "f9943248",
      "execution_count": null,
      "outputs": [
        {
          "output_type": "execute_result",
          "data": {
            "text/plain": [
              "'Longer than normal expectancy'"
            ]
          },
          "metadata": {
            "tags": []
          },
          "execution_count": 134
        }
      ]
    },
    {
      "cell_type": "code",
      "metadata": {
        "id": "c6652798"
      },
      "source": [
        ""
      ],
      "id": "c6652798",
      "execution_count": null,
      "outputs": []
    },
    {
      "cell_type": "markdown",
      "metadata": {
        "id": "8d4a9c8a"
      },
      "source": [
        "## Groupby"
      ],
      "id": "8d4a9c8a"
    },
    {
      "cell_type": "code",
      "metadata": {
        "id": "a1fb7bee",
        "outputId": "2a2bbd57-a66e-43ea-bf9f-15c3a6ea64bf"
      },
      "source": [
        "df2.columns"
      ],
      "id": "a1fb7bee",
      "execution_count": null,
      "outputs": [
        {
          "output_type": "execute_result",
          "data": {
            "text/plain": [
              "Index(['Regional indicator', 'Ladder score', 'Logged GDP per capita',\n",
              "       'Social support', 'Healthy life expectancy',\n",
              "       'Freedom to make life choices', 'Generosity',\n",
              "       'Perceptions of corruption'],\n",
              "      dtype='object')"
            ]
          },
          "metadata": {
            "tags": []
          },
          "execution_count": 138
        }
      ]
    },
    {
      "cell_type": "code",
      "metadata": {
        "id": "1ec1bb87",
        "outputId": "d1be2951-d12d-4229-8153-c709517090a0"
      },
      "source": [
        "df2[\"Regional indicator\"].value_counts()"
      ],
      "id": "1ec1bb87",
      "execution_count": null,
      "outputs": [
        {
          "output_type": "execute_result",
          "data": {
            "text/plain": [
              "Sub-Saharan Africa                    36\n",
              "Western Europe                        22\n",
              "Latin America and Caribbean           20\n",
              "Middle East and North Africa          17\n",
              "Central and Eastern Europe            17\n",
              "Commonwealth of Independent States    12\n",
              "Southeast Asia                         9\n",
              "South Asia                             7\n",
              "East Asia                              6\n",
              "North America and ANZ                  4\n",
              "Name: Regional indicator, dtype: int64"
            ]
          },
          "metadata": {
            "tags": []
          },
          "execution_count": 135
        }
      ]
    },
    {
      "cell_type": "code",
      "metadata": {
        "id": "45837af6",
        "outputId": "0f938298-0a37-40c3-ff42-4d36b7ad210e"
      },
      "source": [
        "df2[\"Regional indicator\"].value_counts(normalize=True)"
      ],
      "id": "45837af6",
      "execution_count": null,
      "outputs": [
        {
          "output_type": "execute_result",
          "data": {
            "text/plain": [
              "Sub-Saharan Africa                    0.240000\n",
              "Western Europe                        0.146667\n",
              "Latin America and Caribbean           0.133333\n",
              "Middle East and North Africa          0.113333\n",
              "Central and Eastern Europe            0.113333\n",
              "Commonwealth of Independent States    0.080000\n",
              "Southeast Asia                        0.060000\n",
              "South Asia                            0.046667\n",
              "East Asia                             0.040000\n",
              "North America and ANZ                 0.026667\n",
              "Name: Regional indicator, dtype: float64"
            ]
          },
          "metadata": {
            "tags": []
          },
          "execution_count": 139
        }
      ]
    },
    {
      "cell_type": "code",
      "metadata": {
        "id": "22e6b881",
        "outputId": "1dc0afcb-5189-467e-a222-9a3d5a7614ab"
      },
      "source": [
        "df2.index"
      ],
      "id": "22e6b881",
      "execution_count": null,
      "outputs": [
        {
          "output_type": "execute_result",
          "data": {
            "text/plain": [
              "Index(['Finland', 'Denmark', 'Switzerland', 'Iceland', 'Netherlands', 'Norway',\n",
              "       'Sweden', 'Luxembourg', 'New Zealand', 'Austria',\n",
              "       ...\n",
              "       'Yemen', 'Tanzania', 'Haiti', 'Malawi', 'Lesotho', 'Botswana', 'Rwanda',\n",
              "       'Zimbabwe', 'Afghanistan', 'Germany'],\n",
              "      dtype='object', name='Country name', length=150)"
            ]
          },
          "metadata": {
            "tags": []
          },
          "execution_count": 140
        }
      ]
    },
    {
      "cell_type": "code",
      "metadata": {
        "id": "79a57b9b",
        "outputId": "8169644f-bffb-4204-95b2-6f6f2bdb8621"
      },
      "source": [
        "df1.groupby([\"Regional indicator\"])"
      ],
      "id": "79a57b9b",
      "execution_count": null,
      "outputs": [
        {
          "output_type": "execute_result",
          "data": {
            "text/plain": [
              "<pandas.core.groupby.generic.DataFrameGroupBy object at 0x0000028785A9EE50>"
            ]
          },
          "metadata": {
            "tags": []
          },
          "execution_count": 141
        }
      ]
    },
    {
      "cell_type": "code",
      "metadata": {
        "id": "8f2e183f",
        "outputId": "7f6c2d6d-eee0-4156-815d-2ca762aa6767"
      },
      "source": [
        "df2.groupby([\"Regional indicator\"]).get_group(\"Western Europe\")"
      ],
      "id": "8f2e183f",
      "execution_count": null,
      "outputs": [
        {
          "output_type": "execute_result",
          "data": {
            "text/html": [
              "<div>\n",
              "<style scoped>\n",
              "    .dataframe tbody tr th:only-of-type {\n",
              "        vertical-align: middle;\n",
              "    }\n",
              "\n",
              "    .dataframe tbody tr th {\n",
              "        vertical-align: top;\n",
              "    }\n",
              "\n",
              "    .dataframe thead th {\n",
              "        text-align: right;\n",
              "    }\n",
              "</style>\n",
              "<table border=\"1\" class=\"dataframe\">\n",
              "  <thead>\n",
              "    <tr style=\"text-align: right;\">\n",
              "      <th></th>\n",
              "      <th>Regional indicator</th>\n",
              "      <th>Ladder score</th>\n",
              "      <th>Logged GDP per capita</th>\n",
              "      <th>Social support</th>\n",
              "      <th>Healthy life expectancy</th>\n",
              "      <th>Freedom to make life choices</th>\n",
              "      <th>Generosity</th>\n",
              "      <th>Perceptions of corruption</th>\n",
              "    </tr>\n",
              "    <tr>\n",
              "      <th>Country name</th>\n",
              "      <th></th>\n",
              "      <th></th>\n",
              "      <th></th>\n",
              "      <th></th>\n",
              "      <th></th>\n",
              "      <th></th>\n",
              "      <th></th>\n",
              "      <th></th>\n",
              "    </tr>\n",
              "  </thead>\n",
              "  <tbody>\n",
              "    <tr>\n",
              "      <th>Finland</th>\n",
              "      <td>Western Europe</td>\n",
              "      <td>7.842</td>\n",
              "      <td>10.775</td>\n",
              "      <td>0.954</td>\n",
              "      <td>72.000</td>\n",
              "      <td>0.949</td>\n",
              "      <td>-0.098</td>\n",
              "      <td>0.186</td>\n",
              "    </tr>\n",
              "    <tr>\n",
              "      <th>Denmark</th>\n",
              "      <td>Western Europe</td>\n",
              "      <td>7.620</td>\n",
              "      <td>10.933</td>\n",
              "      <td>0.954</td>\n",
              "      <td>72.700</td>\n",
              "      <td>0.946</td>\n",
              "      <td>0.030</td>\n",
              "      <td>0.179</td>\n",
              "    </tr>\n",
              "    <tr>\n",
              "      <th>Switzerland</th>\n",
              "      <td>Western Europe</td>\n",
              "      <td>7.571</td>\n",
              "      <td>11.117</td>\n",
              "      <td>0.942</td>\n",
              "      <td>74.400</td>\n",
              "      <td>0.919</td>\n",
              "      <td>0.025</td>\n",
              "      <td>0.292</td>\n",
              "    </tr>\n",
              "    <tr>\n",
              "      <th>Iceland</th>\n",
              "      <td>Western Europe</td>\n",
              "      <td>7.554</td>\n",
              "      <td>10.878</td>\n",
              "      <td>0.983</td>\n",
              "      <td>73.000</td>\n",
              "      <td>0.955</td>\n",
              "      <td>0.160</td>\n",
              "      <td>0.673</td>\n",
              "    </tr>\n",
              "    <tr>\n",
              "      <th>Netherlands</th>\n",
              "      <td>Western Europe</td>\n",
              "      <td>7.464</td>\n",
              "      <td>10.932</td>\n",
              "      <td>0.942</td>\n",
              "      <td>72.400</td>\n",
              "      <td>0.913</td>\n",
              "      <td>0.175</td>\n",
              "      <td>0.338</td>\n",
              "    </tr>\n",
              "    <tr>\n",
              "      <th>Norway</th>\n",
              "      <td>Western Europe</td>\n",
              "      <td>7.392</td>\n",
              "      <td>11.053</td>\n",
              "      <td>0.954</td>\n",
              "      <td>73.300</td>\n",
              "      <td>0.960</td>\n",
              "      <td>0.093</td>\n",
              "      <td>0.270</td>\n",
              "    </tr>\n",
              "    <tr>\n",
              "      <th>Sweden</th>\n",
              "      <td>Western Europe</td>\n",
              "      <td>7.363</td>\n",
              "      <td>10.867</td>\n",
              "      <td>0.934</td>\n",
              "      <td>72.700</td>\n",
              "      <td>0.945</td>\n",
              "      <td>0.086</td>\n",
              "      <td>0.237</td>\n",
              "    </tr>\n",
              "    <tr>\n",
              "      <th>Luxembourg</th>\n",
              "      <td>Western Europe</td>\n",
              "      <td>7.324</td>\n",
              "      <td>11.647</td>\n",
              "      <td>0.908</td>\n",
              "      <td>72.600</td>\n",
              "      <td>0.907</td>\n",
              "      <td>-0.034</td>\n",
              "      <td>0.386</td>\n",
              "    </tr>\n",
              "    <tr>\n",
              "      <th>Austria</th>\n",
              "      <td>Western Europe</td>\n",
              "      <td>7.268</td>\n",
              "      <td>10.906</td>\n",
              "      <td>0.934</td>\n",
              "      <td>73.300</td>\n",
              "      <td>0.908</td>\n",
              "      <td>0.042</td>\n",
              "      <td>0.481</td>\n",
              "    </tr>\n",
              "    <tr>\n",
              "      <th>Germany</th>\n",
              "      <td>Western Europe</td>\n",
              "      <td>7.155</td>\n",
              "      <td>10.873</td>\n",
              "      <td>0.903</td>\n",
              "      <td>72.500</td>\n",
              "      <td>0.875</td>\n",
              "      <td>0.011</td>\n",
              "      <td>0.460</td>\n",
              "    </tr>\n",
              "    <tr>\n",
              "      <th>Ireland</th>\n",
              "      <td>Western Europe</td>\n",
              "      <td>7.085</td>\n",
              "      <td>11.342</td>\n",
              "      <td>0.947</td>\n",
              "      <td>72.400</td>\n",
              "      <td>0.879</td>\n",
              "      <td>0.077</td>\n",
              "      <td>0.363</td>\n",
              "    </tr>\n",
              "    <tr>\n",
              "      <th>United Kingdom</th>\n",
              "      <td>Western Europe</td>\n",
              "      <td>7.064</td>\n",
              "      <td>10.707</td>\n",
              "      <td>0.934</td>\n",
              "      <td>72.500</td>\n",
              "      <td>0.859</td>\n",
              "      <td>0.233</td>\n",
              "      <td>0.459</td>\n",
              "    </tr>\n",
              "    <tr>\n",
              "      <th>Belgium</th>\n",
              "      <td>Western Europe</td>\n",
              "      <td>6.834</td>\n",
              "      <td>10.823</td>\n",
              "      <td>0.906</td>\n",
              "      <td>72.199</td>\n",
              "      <td>0.783</td>\n",
              "      <td>-0.153</td>\n",
              "      <td>0.646</td>\n",
              "    </tr>\n",
              "    <tr>\n",
              "      <th>France</th>\n",
              "      <td>Western Europe</td>\n",
              "      <td>6.690</td>\n",
              "      <td>10.704</td>\n",
              "      <td>0.942</td>\n",
              "      <td>74.000</td>\n",
              "      <td>0.822</td>\n",
              "      <td>-0.147</td>\n",
              "      <td>0.571</td>\n",
              "    </tr>\n",
              "    <tr>\n",
              "      <th>Malta</th>\n",
              "      <td>Western Europe</td>\n",
              "      <td>6.602</td>\n",
              "      <td>10.674</td>\n",
              "      <td>0.931</td>\n",
              "      <td>72.200</td>\n",
              "      <td>0.927</td>\n",
              "      <td>0.133</td>\n",
              "      <td>0.653</td>\n",
              "    </tr>\n",
              "    <tr>\n",
              "      <th>Spain</th>\n",
              "      <td>Western Europe</td>\n",
              "      <td>6.491</td>\n",
              "      <td>10.571</td>\n",
              "      <td>0.932</td>\n",
              "      <td>74.700</td>\n",
              "      <td>0.761</td>\n",
              "      <td>-0.081</td>\n",
              "      <td>0.745</td>\n",
              "    </tr>\n",
              "    <tr>\n",
              "      <th>Italy</th>\n",
              "      <td>Western Europe</td>\n",
              "      <td>6.483</td>\n",
              "      <td>10.623</td>\n",
              "      <td>0.880</td>\n",
              "      <td>73.800</td>\n",
              "      <td>0.693</td>\n",
              "      <td>-0.084</td>\n",
              "      <td>0.866</td>\n",
              "    </tr>\n",
              "    <tr>\n",
              "      <th>Cyprus</th>\n",
              "      <td>Western Europe</td>\n",
              "      <td>6.223</td>\n",
              "      <td>10.576</td>\n",
              "      <td>0.802</td>\n",
              "      <td>73.898</td>\n",
              "      <td>0.763</td>\n",
              "      <td>-0.015</td>\n",
              "      <td>0.844</td>\n",
              "    </tr>\n",
              "    <tr>\n",
              "      <th>Portugal</th>\n",
              "      <td>Western Europe</td>\n",
              "      <td>5.929</td>\n",
              "      <td>10.421</td>\n",
              "      <td>0.879</td>\n",
              "      <td>72.600</td>\n",
              "      <td>0.892</td>\n",
              "      <td>-0.244</td>\n",
              "      <td>0.887</td>\n",
              "    </tr>\n",
              "    <tr>\n",
              "      <th>Greece</th>\n",
              "      <td>Western Europe</td>\n",
              "      <td>5.723</td>\n",
              "      <td>10.279</td>\n",
              "      <td>0.823</td>\n",
              "      <td>72.600</td>\n",
              "      <td>0.582</td>\n",
              "      <td>-0.288</td>\n",
              "      <td>0.823</td>\n",
              "    </tr>\n",
              "    <tr>\n",
              "      <th>North Cyprus</th>\n",
              "      <td>Western Europe</td>\n",
              "      <td>5.536</td>\n",
              "      <td>10.576</td>\n",
              "      <td>0.820</td>\n",
              "      <td>73.898</td>\n",
              "      <td>0.795</td>\n",
              "      <td>0.012</td>\n",
              "      <td>0.626</td>\n",
              "    </tr>\n",
              "    <tr>\n",
              "      <th>Germany</th>\n",
              "      <td>Western Europe</td>\n",
              "      <td>7.155</td>\n",
              "      <td>10.873</td>\n",
              "      <td>0.903</td>\n",
              "      <td>72.500</td>\n",
              "      <td>0.875</td>\n",
              "      <td>0.011</td>\n",
              "      <td>0.460</td>\n",
              "    </tr>\n",
              "  </tbody>\n",
              "</table>\n",
              "</div>"
            ],
            "text/plain": [
              "               Regional indicator  Ladder score  Logged GDP per capita  \\\n",
              "Country name                                                             \n",
              "Finland            Western Europe         7.842                 10.775   \n",
              "Denmark            Western Europe         7.620                 10.933   \n",
              "Switzerland        Western Europe         7.571                 11.117   \n",
              "Iceland            Western Europe         7.554                 10.878   \n",
              "Netherlands        Western Europe         7.464                 10.932   \n",
              "Norway             Western Europe         7.392                 11.053   \n",
              "Sweden             Western Europe         7.363                 10.867   \n",
              "Luxembourg         Western Europe         7.324                 11.647   \n",
              "Austria            Western Europe         7.268                 10.906   \n",
              "Germany            Western Europe         7.155                 10.873   \n",
              "Ireland            Western Europe         7.085                 11.342   \n",
              "United Kingdom     Western Europe         7.064                 10.707   \n",
              "Belgium            Western Europe         6.834                 10.823   \n",
              "France             Western Europe         6.690                 10.704   \n",
              "Malta              Western Europe         6.602                 10.674   \n",
              "Spain              Western Europe         6.491                 10.571   \n",
              "Italy              Western Europe         6.483                 10.623   \n",
              "Cyprus             Western Europe         6.223                 10.576   \n",
              "Portugal           Western Europe         5.929                 10.421   \n",
              "Greece             Western Europe         5.723                 10.279   \n",
              "North Cyprus       Western Europe         5.536                 10.576   \n",
              "Germany            Western Europe         7.155                 10.873   \n",
              "\n",
              "                Social support  Healthy life expectancy  \\\n",
              "Country name                                              \n",
              "Finland                  0.954                   72.000   \n",
              "Denmark                  0.954                   72.700   \n",
              "Switzerland              0.942                   74.400   \n",
              "Iceland                  0.983                   73.000   \n",
              "Netherlands              0.942                   72.400   \n",
              "Norway                   0.954                   73.300   \n",
              "Sweden                   0.934                   72.700   \n",
              "Luxembourg               0.908                   72.600   \n",
              "Austria                  0.934                   73.300   \n",
              "Germany                  0.903                   72.500   \n",
              "Ireland                  0.947                   72.400   \n",
              "United Kingdom           0.934                   72.500   \n",
              "Belgium                  0.906                   72.199   \n",
              "France                   0.942                   74.000   \n",
              "Malta                    0.931                   72.200   \n",
              "Spain                    0.932                   74.700   \n",
              "Italy                    0.880                   73.800   \n",
              "Cyprus                   0.802                   73.898   \n",
              "Portugal                 0.879                   72.600   \n",
              "Greece                   0.823                   72.600   \n",
              "North Cyprus             0.820                   73.898   \n",
              "Germany                  0.903                   72.500   \n",
              "\n",
              "                Freedom to make life choices  Generosity  \\\n",
              "Country name                                               \n",
              "Finland                                0.949      -0.098   \n",
              "Denmark                                0.946       0.030   \n",
              "Switzerland                            0.919       0.025   \n",
              "Iceland                                0.955       0.160   \n",
              "Netherlands                            0.913       0.175   \n",
              "Norway                                 0.960       0.093   \n",
              "Sweden                                 0.945       0.086   \n",
              "Luxembourg                             0.907      -0.034   \n",
              "Austria                                0.908       0.042   \n",
              "Germany                                0.875       0.011   \n",
              "Ireland                                0.879       0.077   \n",
              "United Kingdom                         0.859       0.233   \n",
              "Belgium                                0.783      -0.153   \n",
              "France                                 0.822      -0.147   \n",
              "Malta                                  0.927       0.133   \n",
              "Spain                                  0.761      -0.081   \n",
              "Italy                                  0.693      -0.084   \n",
              "Cyprus                                 0.763      -0.015   \n",
              "Portugal                               0.892      -0.244   \n",
              "Greece                                 0.582      -0.288   \n",
              "North Cyprus                           0.795       0.012   \n",
              "Germany                                0.875       0.011   \n",
              "\n",
              "                Perceptions of corruption  \n",
              "Country name                               \n",
              "Finland                             0.186  \n",
              "Denmark                             0.179  \n",
              "Switzerland                         0.292  \n",
              "Iceland                             0.673  \n",
              "Netherlands                         0.338  \n",
              "Norway                              0.270  \n",
              "Sweden                              0.237  \n",
              "Luxembourg                          0.386  \n",
              "Austria                             0.481  \n",
              "Germany                             0.460  \n",
              "Ireland                             0.363  \n",
              "United Kingdom                      0.459  \n",
              "Belgium                             0.646  \n",
              "France                              0.571  \n",
              "Malta                               0.653  \n",
              "Spain                               0.745  \n",
              "Italy                               0.866  \n",
              "Cyprus                              0.844  \n",
              "Portugal                            0.887  \n",
              "Greece                              0.823  \n",
              "North Cyprus                        0.626  \n",
              "Germany                             0.460  "
            ]
          },
          "metadata": {
            "tags": []
          },
          "execution_count": 144
        }
      ]
    },
    {
      "cell_type": "code",
      "metadata": {
        "id": "cead0473",
        "outputId": "39d2f0cb-a1f3-427b-95e4-d0e5bc3c2388"
      },
      "source": [
        "df2.groupby([\"Regional indicator\"]).get_group(\"Western Europe\")[\"Ladder score\"]"
      ],
      "id": "cead0473",
      "execution_count": null,
      "outputs": [
        {
          "output_type": "execute_result",
          "data": {
            "text/plain": [
              "Country name\n",
              "Finland           7.842\n",
              "Denmark           7.620\n",
              "Switzerland       7.571\n",
              "Iceland           7.554\n",
              "Netherlands       7.464\n",
              "Norway            7.392\n",
              "Sweden            7.363\n",
              "Luxembourg        7.324\n",
              "Austria           7.268\n",
              "Germany           7.155\n",
              "Ireland           7.085\n",
              "United Kingdom    7.064\n",
              "Belgium           6.834\n",
              "France            6.690\n",
              "Malta             6.602\n",
              "Spain             6.491\n",
              "Italy             6.483\n",
              "Cyprus            6.223\n",
              "Portugal          5.929\n",
              "Greece            5.723\n",
              "North Cyprus      5.536\n",
              "Germany           7.155\n",
              "Name: Ladder score, dtype: float64"
            ]
          },
          "metadata": {
            "tags": []
          },
          "execution_count": 145
        }
      ]
    },
    {
      "cell_type": "code",
      "metadata": {
        "id": "3e9422fd",
        "outputId": "6b8aa0ae-5c44-4e74-f2d2-ce7946f830ea"
      },
      "source": [
        "df2.groupby([\"Regional indicator\"]).get_group(\"Middle East and North Africa\")"
      ],
      "id": "3e9422fd",
      "execution_count": null,
      "outputs": [
        {
          "output_type": "execute_result",
          "data": {
            "text/html": [
              "<div>\n",
              "<style scoped>\n",
              "    .dataframe tbody tr th:only-of-type {\n",
              "        vertical-align: middle;\n",
              "    }\n",
              "\n",
              "    .dataframe tbody tr th {\n",
              "        vertical-align: top;\n",
              "    }\n",
              "\n",
              "    .dataframe thead th {\n",
              "        text-align: right;\n",
              "    }\n",
              "</style>\n",
              "<table border=\"1\" class=\"dataframe\">\n",
              "  <thead>\n",
              "    <tr style=\"text-align: right;\">\n",
              "      <th></th>\n",
              "      <th>Regional indicator</th>\n",
              "      <th>Ladder score</th>\n",
              "      <th>Logged GDP per capita</th>\n",
              "      <th>Social support</th>\n",
              "      <th>Healthy life expectancy</th>\n",
              "      <th>Freedom to make life choices</th>\n",
              "      <th>Generosity</th>\n",
              "      <th>Perceptions of corruption</th>\n",
              "    </tr>\n",
              "    <tr>\n",
              "      <th>Country name</th>\n",
              "      <th></th>\n",
              "      <th></th>\n",
              "      <th></th>\n",
              "      <th></th>\n",
              "      <th></th>\n",
              "      <th></th>\n",
              "      <th></th>\n",
              "      <th></th>\n",
              "    </tr>\n",
              "  </thead>\n",
              "  <tbody>\n",
              "    <tr>\n",
              "      <th>Israel</th>\n",
              "      <td>Middle East and North Africa</td>\n",
              "      <td>7.157</td>\n",
              "      <td>10.575</td>\n",
              "      <td>0.939</td>\n",
              "      <td>73.503</td>\n",
              "      <td>0.800</td>\n",
              "      <td>0.031</td>\n",
              "      <td>0.753</td>\n",
              "    </tr>\n",
              "    <tr>\n",
              "      <th>Bahrain</th>\n",
              "      <td>Middle East and North Africa</td>\n",
              "      <td>6.647</td>\n",
              "      <td>10.669</td>\n",
              "      <td>0.862</td>\n",
              "      <td>69.495</td>\n",
              "      <td>0.925</td>\n",
              "      <td>0.089</td>\n",
              "      <td>0.722</td>\n",
              "    </tr>\n",
              "    <tr>\n",
              "      <th>United Arab Emirates</th>\n",
              "      <td>Middle East and North Africa</td>\n",
              "      <td>6.561</td>\n",
              "      <td>11.085</td>\n",
              "      <td>0.844</td>\n",
              "      <td>67.333</td>\n",
              "      <td>0.932</td>\n",
              "      <td>0.074</td>\n",
              "      <td>0.589</td>\n",
              "    </tr>\n",
              "    <tr>\n",
              "      <th>Saudi Arabia</th>\n",
              "      <td>Middle East and North Africa</td>\n",
              "      <td>6.494</td>\n",
              "      <td>10.743</td>\n",
              "      <td>0.891</td>\n",
              "      <td>66.603</td>\n",
              "      <td>0.877</td>\n",
              "      <td>-0.149</td>\n",
              "      <td>0.684</td>\n",
              "    </tr>\n",
              "    <tr>\n",
              "      <th>Kuwait</th>\n",
              "      <td>Middle East and North Africa</td>\n",
              "      <td>6.106</td>\n",
              "      <td>10.817</td>\n",
              "      <td>0.843</td>\n",
              "      <td>66.900</td>\n",
              "      <td>0.867</td>\n",
              "      <td>-0.104</td>\n",
              "      <td>0.736</td>\n",
              "    </tr>\n",
              "    <tr>\n",
              "      <th>Libya</th>\n",
              "      <td>Middle East and North Africa</td>\n",
              "      <td>5.410</td>\n",
              "      <td>9.622</td>\n",
              "      <td>0.827</td>\n",
              "      <td>62.300</td>\n",
              "      <td>0.771</td>\n",
              "      <td>-0.087</td>\n",
              "      <td>0.667</td>\n",
              "    </tr>\n",
              "    <tr>\n",
              "      <th>Turkey</th>\n",
              "      <td>Middle East and North Africa</td>\n",
              "      <td>4.948</td>\n",
              "      <td>10.240</td>\n",
              "      <td>0.822</td>\n",
              "      <td>67.199</td>\n",
              "      <td>0.576</td>\n",
              "      <td>-0.139</td>\n",
              "      <td>0.776</td>\n",
              "    </tr>\n",
              "    <tr>\n",
              "      <th>Morocco</th>\n",
              "      <td>Middle East and North Africa</td>\n",
              "      <td>4.918</td>\n",
              "      <td>8.903</td>\n",
              "      <td>0.560</td>\n",
              "      <td>66.208</td>\n",
              "      <td>0.774</td>\n",
              "      <td>-0.236</td>\n",
              "      <td>0.801</td>\n",
              "    </tr>\n",
              "    <tr>\n",
              "      <th>Algeria</th>\n",
              "      <td>Middle East and North Africa</td>\n",
              "      <td>4.887</td>\n",
              "      <td>9.342</td>\n",
              "      <td>0.802</td>\n",
              "      <td>66.005</td>\n",
              "      <td>0.480</td>\n",
              "      <td>-0.067</td>\n",
              "      <td>0.752</td>\n",
              "    </tr>\n",
              "    <tr>\n",
              "      <th>Iraq</th>\n",
              "      <td>Middle East and North Africa</td>\n",
              "      <td>4.854</td>\n",
              "      <td>9.240</td>\n",
              "      <td>0.746</td>\n",
              "      <td>60.583</td>\n",
              "      <td>0.630</td>\n",
              "      <td>-0.053</td>\n",
              "      <td>0.875</td>\n",
              "    </tr>\n",
              "    <tr>\n",
              "      <th>Iran</th>\n",
              "      <td>Middle East and North Africa</td>\n",
              "      <td>4.721</td>\n",
              "      <td>9.584</td>\n",
              "      <td>0.710</td>\n",
              "      <td>66.300</td>\n",
              "      <td>0.608</td>\n",
              "      <td>0.218</td>\n",
              "      <td>0.714</td>\n",
              "    </tr>\n",
              "    <tr>\n",
              "      <th>Tunisia</th>\n",
              "      <td>Middle East and North Africa</td>\n",
              "      <td>4.596</td>\n",
              "      <td>9.266</td>\n",
              "      <td>0.691</td>\n",
              "      <td>67.201</td>\n",
              "      <td>0.656</td>\n",
              "      <td>-0.201</td>\n",
              "      <td>0.870</td>\n",
              "    </tr>\n",
              "    <tr>\n",
              "      <th>Lebanon</th>\n",
              "      <td>Middle East and North Africa</td>\n",
              "      <td>4.584</td>\n",
              "      <td>9.626</td>\n",
              "      <td>0.848</td>\n",
              "      <td>67.355</td>\n",
              "      <td>0.525</td>\n",
              "      <td>-0.073</td>\n",
              "      <td>0.898</td>\n",
              "    </tr>\n",
              "    <tr>\n",
              "      <th>Palestinian Territories</th>\n",
              "      <td>Middle East and North Africa</td>\n",
              "      <td>4.517</td>\n",
              "      <td>8.485</td>\n",
              "      <td>0.826</td>\n",
              "      <td>62.250</td>\n",
              "      <td>0.653</td>\n",
              "      <td>-0.163</td>\n",
              "      <td>0.821</td>\n",
              "    </tr>\n",
              "    <tr>\n",
              "      <th>Jordan</th>\n",
              "      <td>Middle East and North Africa</td>\n",
              "      <td>4.395</td>\n",
              "      <td>9.182</td>\n",
              "      <td>0.767</td>\n",
              "      <td>67.000</td>\n",
              "      <td>0.755</td>\n",
              "      <td>-0.167</td>\n",
              "      <td>0.705</td>\n",
              "    </tr>\n",
              "    <tr>\n",
              "      <th>Egypt</th>\n",
              "      <td>Middle East and North Africa</td>\n",
              "      <td>4.283</td>\n",
              "      <td>9.367</td>\n",
              "      <td>0.750</td>\n",
              "      <td>61.998</td>\n",
              "      <td>0.749</td>\n",
              "      <td>-0.182</td>\n",
              "      <td>0.795</td>\n",
              "    </tr>\n",
              "    <tr>\n",
              "      <th>Yemen</th>\n",
              "      <td>Middle East and North Africa</td>\n",
              "      <td>3.658</td>\n",
              "      <td>7.578</td>\n",
              "      <td>0.832</td>\n",
              "      <td>57.122</td>\n",
              "      <td>0.602</td>\n",
              "      <td>-0.147</td>\n",
              "      <td>0.800</td>\n",
              "    </tr>\n",
              "  </tbody>\n",
              "</table>\n",
              "</div>"
            ],
            "text/plain": [
              "                                   Regional indicator  Ladder score  \\\n",
              "Country name                                                          \n",
              "Israel                   Middle East and North Africa         7.157   \n",
              "Bahrain                  Middle East and North Africa         6.647   \n",
              "United Arab Emirates     Middle East and North Africa         6.561   \n",
              "Saudi Arabia             Middle East and North Africa         6.494   \n",
              "Kuwait                   Middle East and North Africa         6.106   \n",
              "Libya                    Middle East and North Africa         5.410   \n",
              "Turkey                   Middle East and North Africa         4.948   \n",
              "Morocco                  Middle East and North Africa         4.918   \n",
              "Algeria                  Middle East and North Africa         4.887   \n",
              "Iraq                     Middle East and North Africa         4.854   \n",
              "Iran                     Middle East and North Africa         4.721   \n",
              "Tunisia                  Middle East and North Africa         4.596   \n",
              "Lebanon                  Middle East and North Africa         4.584   \n",
              "Palestinian Territories  Middle East and North Africa         4.517   \n",
              "Jordan                   Middle East and North Africa         4.395   \n",
              "Egypt                    Middle East and North Africa         4.283   \n",
              "Yemen                    Middle East and North Africa         3.658   \n",
              "\n",
              "                         Logged GDP per capita  Social support  \\\n",
              "Country name                                                     \n",
              "Israel                                  10.575           0.939   \n",
              "Bahrain                                 10.669           0.862   \n",
              "United Arab Emirates                    11.085           0.844   \n",
              "Saudi Arabia                            10.743           0.891   \n",
              "Kuwait                                  10.817           0.843   \n",
              "Libya                                    9.622           0.827   \n",
              "Turkey                                  10.240           0.822   \n",
              "Morocco                                  8.903           0.560   \n",
              "Algeria                                  9.342           0.802   \n",
              "Iraq                                     9.240           0.746   \n",
              "Iran                                     9.584           0.710   \n",
              "Tunisia                                  9.266           0.691   \n",
              "Lebanon                                  9.626           0.848   \n",
              "Palestinian Territories                  8.485           0.826   \n",
              "Jordan                                   9.182           0.767   \n",
              "Egypt                                    9.367           0.750   \n",
              "Yemen                                    7.578           0.832   \n",
              "\n",
              "                         Healthy life expectancy  \\\n",
              "Country name                                       \n",
              "Israel                                    73.503   \n",
              "Bahrain                                   69.495   \n",
              "United Arab Emirates                      67.333   \n",
              "Saudi Arabia                              66.603   \n",
              "Kuwait                                    66.900   \n",
              "Libya                                     62.300   \n",
              "Turkey                                    67.199   \n",
              "Morocco                                   66.208   \n",
              "Algeria                                   66.005   \n",
              "Iraq                                      60.583   \n",
              "Iran                                      66.300   \n",
              "Tunisia                                   67.201   \n",
              "Lebanon                                   67.355   \n",
              "Palestinian Territories                   62.250   \n",
              "Jordan                                    67.000   \n",
              "Egypt                                     61.998   \n",
              "Yemen                                     57.122   \n",
              "\n",
              "                         Freedom to make life choices  Generosity  \\\n",
              "Country name                                                        \n",
              "Israel                                          0.800       0.031   \n",
              "Bahrain                                         0.925       0.089   \n",
              "United Arab Emirates                            0.932       0.074   \n",
              "Saudi Arabia                                    0.877      -0.149   \n",
              "Kuwait                                          0.867      -0.104   \n",
              "Libya                                           0.771      -0.087   \n",
              "Turkey                                          0.576      -0.139   \n",
              "Morocco                                         0.774      -0.236   \n",
              "Algeria                                         0.480      -0.067   \n",
              "Iraq                                            0.630      -0.053   \n",
              "Iran                                            0.608       0.218   \n",
              "Tunisia                                         0.656      -0.201   \n",
              "Lebanon                                         0.525      -0.073   \n",
              "Palestinian Territories                         0.653      -0.163   \n",
              "Jordan                                          0.755      -0.167   \n",
              "Egypt                                           0.749      -0.182   \n",
              "Yemen                                           0.602      -0.147   \n",
              "\n",
              "                         Perceptions of corruption  \n",
              "Country name                                        \n",
              "Israel                                       0.753  \n",
              "Bahrain                                      0.722  \n",
              "United Arab Emirates                         0.589  \n",
              "Saudi Arabia                                 0.684  \n",
              "Kuwait                                       0.736  \n",
              "Libya                                        0.667  \n",
              "Turkey                                       0.776  \n",
              "Morocco                                      0.801  \n",
              "Algeria                                      0.752  \n",
              "Iraq                                         0.875  \n",
              "Iran                                         0.714  \n",
              "Tunisia                                      0.870  \n",
              "Lebanon                                      0.898  \n",
              "Palestinian Territories                      0.821  \n",
              "Jordan                                       0.705  \n",
              "Egypt                                        0.795  \n",
              "Yemen                                        0.800  "
            ]
          },
          "metadata": {
            "tags": []
          },
          "execution_count": 146
        }
      ]
    },
    {
      "cell_type": "code",
      "metadata": {
        "id": "0a373e37"
      },
      "source": [
        ""
      ],
      "id": "0a373e37",
      "execution_count": null,
      "outputs": []
    },
    {
      "cell_type": "code",
      "metadata": {
        "id": "d8a5a436"
      },
      "source": [
        ""
      ],
      "id": "d8a5a436",
      "execution_count": null,
      "outputs": []
    },
    {
      "cell_type": "code",
      "metadata": {
        "id": "6731576c"
      },
      "source": [
        ""
      ],
      "id": "6731576c",
      "execution_count": null,
      "outputs": []
    },
    {
      "cell_type": "code",
      "metadata": {
        "id": "70918f02"
      },
      "source": [
        ""
      ],
      "id": "70918f02",
      "execution_count": null,
      "outputs": []
    },
    {
      "cell_type": "code",
      "metadata": {
        "id": "d4fc9bb1"
      },
      "source": [
        ""
      ],
      "id": "d4fc9bb1",
      "execution_count": null,
      "outputs": []
    },
    {
      "cell_type": "code",
      "metadata": {
        "id": "bb8ff65b"
      },
      "source": [
        ""
      ],
      "id": "bb8ff65b",
      "execution_count": null,
      "outputs": []
    },
    {
      "cell_type": "code",
      "metadata": {
        "id": "d2402b38"
      },
      "source": [
        ""
      ],
      "id": "d2402b38",
      "execution_count": null,
      "outputs": []
    },
    {
      "cell_type": "code",
      "metadata": {
        "id": "a8d15f1a"
      },
      "source": [
        ""
      ],
      "id": "a8d15f1a",
      "execution_count": null,
      "outputs": []
    },
    {
      "cell_type": "code",
      "metadata": {
        "id": "9f7a4040"
      },
      "source": [
        ""
      ],
      "id": "9f7a4040",
      "execution_count": null,
      "outputs": []
    },
    {
      "cell_type": "code",
      "metadata": {
        "id": "13e60002"
      },
      "source": [
        ""
      ],
      "id": "13e60002",
      "execution_count": null,
      "outputs": []
    },
    {
      "cell_type": "code",
      "metadata": {
        "id": "05219376"
      },
      "source": [
        ""
      ],
      "id": "05219376",
      "execution_count": null,
      "outputs": []
    },
    {
      "cell_type": "code",
      "metadata": {
        "id": "a2ac1ab3"
      },
      "source": [
        ""
      ],
      "id": "a2ac1ab3",
      "execution_count": null,
      "outputs": []
    },
    {
      "cell_type": "code",
      "metadata": {
        "id": "a5a0f907"
      },
      "source": [
        ""
      ],
      "id": "a5a0f907",
      "execution_count": null,
      "outputs": []
    },
    {
      "cell_type": "code",
      "metadata": {
        "id": "9ea74734"
      },
      "source": [
        ""
      ],
      "id": "9ea74734",
      "execution_count": null,
      "outputs": []
    },
    {
      "cell_type": "code",
      "metadata": {
        "id": "bbcbfa0c"
      },
      "source": [
        ""
      ],
      "id": "bbcbfa0c",
      "execution_count": null,
      "outputs": []
    },
    {
      "cell_type": "code",
      "metadata": {
        "id": "64c152bc"
      },
      "source": [
        ""
      ],
      "id": "64c152bc",
      "execution_count": null,
      "outputs": []
    },
    {
      "cell_type": "code",
      "metadata": {
        "id": "9c487e89"
      },
      "source": [
        ""
      ],
      "id": "9c487e89",
      "execution_count": null,
      "outputs": []
    },
    {
      "cell_type": "code",
      "metadata": {
        "id": "eb8a18a1"
      },
      "source": [
        ""
      ],
      "id": "eb8a18a1",
      "execution_count": null,
      "outputs": []
    }
  ]
}