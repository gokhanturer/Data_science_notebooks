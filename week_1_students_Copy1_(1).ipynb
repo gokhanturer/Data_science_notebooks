{
  "nbformat": 4,
  "nbformat_minor": 5,
  "metadata": {
    "kernelspec": {
      "display_name": "Python 3",
      "language": "python",
      "name": "python3"
    },
    "language_info": {
      "codemirror_mode": {
        "name": "ipython",
        "version": 3
      },
      "file_extension": ".py",
      "mimetype": "text/x-python",
      "name": "python",
      "nbconvert_exporter": "python",
      "pygments_lexer": "ipython3",
      "version": "3.8.8"
    },
    "colab": {
      "name": "week_1_students-Copy1 (1).ipynb",
      "provenance": [],
      "include_colab_link": true
    }
  },
  "cells": [
    {
      "cell_type": "markdown",
      "metadata": {
        "id": "view-in-github",
        "colab_type": "text"
      },
      "source": [
        "<a href=\"https://colab.research.google.com/github/gokhanturer/Data_science_notebooks/blob/main/week_1_students_Copy1_(1).ipynb\" target=\"_parent\"><img src=\"https://colab.research.google.com/assets/colab-badge.svg\" alt=\"Open In Colab\"/></a>"
      ]
    },
    {
      "cell_type": "markdown",
      "metadata": {
        "id": "outer-patient"
      },
      "source": [
        "# **Import Numpy Library**"
      ],
      "id": "outer-patient"
    },
    {
      "cell_type": "code",
      "metadata": {
        "id": "2203fcda"
      },
      "source": [
        "import numpy as np"
      ],
      "id": "2203fcda",
      "execution_count": null,
      "outputs": []
    },
    {
      "cell_type": "markdown",
      "metadata": {
        "id": "4a86560f"
      },
      "source": [
        "**https://www.w3resource.com/python-exercises/numpy/index-array.php**\n",
        "- Numpy Questions: 4, 8, 9, 10, 12, 14, 19"
      ],
      "id": "4a86560f"
    },
    {
      "cell_type": "markdown",
      "metadata": {
        "id": "every-dividend"
      },
      "source": [
        "**4. Write a NumPy program to create a null vector of size 10 and update sixth value to 11.**\n",
        "<br>[ 0. 0. 0. 0. 0. 0. 0. 0. 0. 0.]\n",
        "<br>Update sixth value to 11\n",
        "<br>[ 0. 0. 0. 0. 0. 0. 11. 0. 0. 0.]"
      ],
      "id": "every-dividend"
    },
    {
      "cell_type": "code",
      "metadata": {
        "id": "1248f64c",
        "outputId": "b4ef70f4-7cd0-4c9e-d3a9-21aa2beb13d9"
      },
      "source": [
        "a = np.zeros(10)\n",
        "print(a)\n"
      ],
      "id": "1248f64c",
      "execution_count": null,
      "outputs": [
        {
          "output_type": "stream",
          "text": [
            "[0. 0. 0. 0. 0. 0. 0. 0. 0. 0.]\n"
          ],
          "name": "stdout"
        }
      ]
    },
    {
      "cell_type": "code",
      "metadata": {
        "id": "seven-failing",
        "outputId": "e4efd69c-0fa6-4cfe-c9ea-16ca594607a3"
      },
      "source": [
        "# ..."
      ],
      "id": "seven-failing",
      "execution_count": null,
      "outputs": [
        {
          "output_type": "stream",
          "text": [
            "[0. 0. 0. 0. 0. 0. 0. 0. 0. 0.]\n"
          ],
          "name": "stdout"
        }
      ]
    },
    {
      "cell_type": "code",
      "metadata": {
        "id": "requested-lambda",
        "outputId": "261438f7-5e25-46fd-a89d-86eefbbd2b12"
      },
      "source": [
        "print(\"Update sixth value to 11\")\n",
        "a[6] = 11\n",
        "print(a)"
      ],
      "id": "requested-lambda",
      "execution_count": null,
      "outputs": [
        {
          "output_type": "stream",
          "text": [
            "Update sixth value to 11\n",
            "[ 0.  0.  0.  0.  0.  0. 11.  0.  0.  0.]\n"
          ],
          "name": "stdout"
        }
      ]
    },
    {
      "cell_type": "code",
      "metadata": {
        "id": "7efba9d0"
      },
      "source": [
        ""
      ],
      "id": "7efba9d0",
      "execution_count": null,
      "outputs": []
    },
    {
      "cell_type": "markdown",
      "metadata": {
        "id": "serious-victim"
      },
      "source": [
        "**8. Write a NumPy program to create a 2d array with 1 on the border and 0 inside.**\n",
        "![image-4.png](attachment:image-4.png)"
      ],
      "id": "serious-victim"
    },
    {
      "cell_type": "code",
      "metadata": {
        "id": "answering-paintball",
        "outputId": "171d14ac-4703-489c-de35-1bcc02f00fff"
      },
      "source": [
        "print(\"Original array:\")\n",
        "\n",
        "x = np.ones((5,5))\n",
        "print(x)"
      ],
      "id": "answering-paintball",
      "execution_count": null,
      "outputs": [
        {
          "output_type": "stream",
          "text": [
            "Original array:\n",
            "[[1. 1. 1. 1. 1.]\n",
            " [1. 1. 1. 1. 1.]\n",
            " [1. 1. 1. 1. 1.]\n",
            " [1. 1. 1. 1. 1.]\n",
            " [1. 1. 1. 1. 1.]]\n"
          ],
          "name": "stdout"
        }
      ]
    },
    {
      "cell_type": "code",
      "metadata": {
        "id": "falling-filling",
        "outputId": "f37ff9c2-33d6-47ee-969c-ec6a53749a55"
      },
      "source": [
        "print(\"1 on the border and 0 inside in the array\")\n",
        "\n",
        "x[1:-1,1:-1] = 0\n",
        "print(x)"
      ],
      "id": "falling-filling",
      "execution_count": null,
      "outputs": [
        {
          "output_type": "stream",
          "text": [
            "1 on the border and 0 inside in the array\n",
            "[[1. 1. 1. 1. 1.]\n",
            " [1. 0. 0. 0. 1.]\n",
            " [1. 0. 0. 0. 1.]\n",
            " [1. 0. 0. 0. 1.]\n",
            " [1. 1. 1. 1. 1.]]\n"
          ],
          "name": "stdout"
        }
      ]
    },
    {
      "cell_type": "markdown",
      "metadata": {
        "id": "virgin-warehouse"
      },
      "source": [
        "**9. Write a NumPy program to add a border (filled with 0's) around an existing array.**\n",
        "![image-2.png](attachment:image-2.png)"
      ],
      "id": "virgin-warehouse"
    },
    {
      "cell_type": "code",
      "metadata": {
        "id": "psychological-trouble",
        "outputId": "0667a8f7-69dc-4b7d-8f86-4fbcb38a64d9"
      },
      "source": [
        "print(\"Original array:\")\n",
        "\n",
        "x = np.ones((3,3))\n",
        "print(x)"
      ],
      "id": "psychological-trouble",
      "execution_count": null,
      "outputs": [
        {
          "output_type": "stream",
          "text": [
            "Original array:\n",
            "[[1. 1. 1.]\n",
            " [1. 1. 1.]\n",
            " [1. 1. 1.]]\n"
          ],
          "name": "stdout"
        }
      ]
    },
    {
      "cell_type": "code",
      "metadata": {
        "id": "60d7331a",
        "outputId": "3e1e6caa-78fb-44ef-f833-8f35fcce41b5"
      },
      "source": [
        "#### print(\"0 on the border and 1 inside in the array\")\n",
        "\n",
        "x = np.pad(x, pad_width=4, mode='constant', constant_values=5)\n",
        "print(x)"
      ],
      "id": "60d7331a",
      "execution_count": null,
      "outputs": [
        {
          "output_type": "stream",
          "text": [
            "[[5. 5. 5. 5. 5. 5. 5. 5. 5. 5. 5.]\n",
            " [5. 5. 5. 5. 5. 5. 5. 5. 5. 5. 5.]\n",
            " [5. 5. 5. 5. 5. 5. 5. 5. 5. 5. 5.]\n",
            " [5. 5. 5. 5. 5. 5. 5. 5. 5. 5. 5.]\n",
            " [5. 5. 5. 5. 1. 1. 1. 5. 5. 5. 5.]\n",
            " [5. 5. 5. 5. 1. 1. 1. 5. 5. 5. 5.]\n",
            " [5. 5. 5. 5. 1. 1. 1. 5. 5. 5. 5.]\n",
            " [5. 5. 5. 5. 5. 5. 5. 5. 5. 5. 5.]\n",
            " [5. 5. 5. 5. 5. 5. 5. 5. 5. 5. 5.]\n",
            " [5. 5. 5. 5. 5. 5. 5. 5. 5. 5. 5.]\n",
            " [5. 5. 5. 5. 5. 5. 5. 5. 5. 5. 5.]]\n"
          ],
          "name": "stdout"
        }
      ]
    },
    {
      "cell_type": "markdown",
      "metadata": {
        "id": "given-champion"
      },
      "source": [
        "**10. Write a NumPy program to create a 8x8 matrix and fill it with a checkerboard pattern.**\n",
        "![image.png](attachment:image.png)"
      ],
      "id": "given-champion"
    },
    {
      "cell_type": "code",
      "metadata": {
        "id": "specific-animal",
        "outputId": "3c96beae-ce7a-409a-f4cd-eebc46f3dac7"
      },
      "source": [
        "x = np.ones((3,3))\n",
        "print(x)\n"
      ],
      "id": "specific-animal",
      "execution_count": null,
      "outputs": [
        {
          "output_type": "stream",
          "text": [
            "[[1. 1. 1.]\n",
            " [1. 1. 1.]\n",
            " [1. 1. 1.]]\n"
          ],
          "name": "stdout"
        }
      ]
    },
    {
      "cell_type": "code",
      "metadata": {
        "id": "contained-nudist",
        "outputId": "bc869c64-abd8-40b4-be1b-1ab089234464"
      },
      "source": [
        "print(\"Checkerboard pattern:\")\n",
        "\n",
        "x = np.zeros((8,8))\n",
        "x[1::2, ::2] = 1\n",
        "print(x)\n",
        "\n"
      ],
      "id": "contained-nudist",
      "execution_count": null,
      "outputs": [
        {
          "output_type": "stream",
          "text": [
            "Checkerboard pattern:\n",
            "[[0. 0. 0. 0. 0. 0. 0. 0.]\n",
            " [1. 0. 1. 0. 1. 0. 1. 0.]\n",
            " [0. 0. 0. 0. 0. 0. 0. 0.]\n",
            " [1. 0. 1. 0. 1. 0. 1. 0.]\n",
            " [0. 0. 0. 0. 0. 0. 0. 0.]\n",
            " [1. 0. 1. 0. 1. 0. 1. 0.]\n",
            " [0. 0. 0. 0. 0. 0. 0. 0.]\n",
            " [1. 0. 1. 0. 1. 0. 1. 0.]]\n"
          ],
          "name": "stdout"
        }
      ]
    },
    {
      "cell_type": "code",
      "metadata": {
        "id": "sufficient-heart",
        "outputId": "66eef4b9-519b-43aa-8e90-94c9c0648536"
      },
      "source": [
        "x[::2, 1::2] = 1\n",
        "print(x)\n"
      ],
      "id": "sufficient-heart",
      "execution_count": null,
      "outputs": [
        {
          "output_type": "stream",
          "text": [
            "[[0. 1. 0. 1. 0. 1. 0. 1.]\n",
            " [1. 0. 1. 0. 1. 0. 1. 0.]\n",
            " [0. 1. 0. 1. 0. 1. 0. 1.]\n",
            " [1. 0. 1. 0. 1. 0. 1. 0.]\n",
            " [0. 1. 0. 1. 0. 1. 0. 1.]\n",
            " [1. 0. 1. 0. 1. 0. 1. 0.]\n",
            " [0. 1. 0. 1. 0. 1. 0. 1.]\n",
            " [1. 0. 1. 0. 1. 0. 1. 0.]]\n"
          ],
          "name": "stdout"
        }
      ]
    },
    {
      "cell_type": "markdown",
      "metadata": {
        "id": "reverse-brook"
      },
      "source": [
        "**12. Write a NumPy program to append values to the end of an array.**\n",
        "![image-2.png](attachment:image-2.png)"
      ],
      "id": "reverse-brook"
    },
    {
      "cell_type": "code",
      "metadata": {
        "id": "random-helping",
        "outputId": "fe06a5e2-dac4-40ff-ad96-d6f3ff8d527e"
      },
      "source": [
        "print(\"Original array:\")\n",
        "\n",
        "# ...\n"
      ],
      "id": "random-helping",
      "execution_count": null,
      "outputs": [
        {
          "output_type": "stream",
          "text": [
            "Original array:\n",
            "[10, 20, 30]\n"
          ],
          "name": "stdout"
        }
      ]
    },
    {
      "cell_type": "code",
      "metadata": {
        "id": "driven-concord",
        "outputId": "bac1b2e5-42c2-4874-f79b-1e7af45632cc"
      },
      "source": [
        "print(\"After append values to the end of the array:\")\n",
        "\n",
        "# ...\n"
      ],
      "id": "driven-concord",
      "execution_count": null,
      "outputs": [
        {
          "output_type": "stream",
          "text": [
            "After append values to the end of the array:\n",
            "[10 20 30 40 50 60 70 80 90]\n"
          ],
          "name": "stdout"
        }
      ]
    },
    {
      "cell_type": "markdown",
      "metadata": {
        "id": "compact-married"
      },
      "source": [
        "**14. Write a NumPy program to convert the values of Centigrade degrees into Fahrenheit degrees. Centigrade values are stored into a NumPy array.**\n",
        "![image.png](attachment:image.png)"
      ],
      "id": "compact-married"
    },
    {
      "cell_type": "code",
      "metadata": {
        "id": "competitive-factor",
        "outputId": "a81b5fa6-b710-43b2-b9db-4679a4f2d3f3"
      },
      "source": [
        "print(\"Values in Fahrenheit degrees:\")\n",
        "\n",
        "# ...\n"
      ],
      "id": "competitive-factor",
      "execution_count": null,
      "outputs": [
        {
          "output_type": "stream",
          "text": [
            "Values in Fahrenheit degrees:\n",
            "[ 0.   12.   45.21 34.   99.91]\n"
          ],
          "name": "stdout"
        }
      ]
    },
    {
      "cell_type": "code",
      "metadata": {
        "id": "educated-finger",
        "outputId": "075a3821-0415-4096-beff-9776c0f70a01"
      },
      "source": [
        "print(\"Values in  Centigrade degrees:\") \n",
        "\n",
        "# ...\n"
      ],
      "id": "educated-finger",
      "execution_count": null,
      "outputs": [
        {
          "output_type": "stream",
          "text": [
            "Values in  Centigrade degrees:\n",
            "[-17.77777778 -11.11111111   7.33888889   1.11111111  37.72777778]\n"
          ],
          "name": "stdout"
        }
      ]
    },
    {
      "cell_type": "markdown",
      "metadata": {
        "id": "derived-practitioner"
      },
      "source": [
        "**19. Write a NumPy program to get the unique elements of an array.**\n",
        "![image.png](attachment:image.png)"
      ],
      "id": "derived-practitioner"
    },
    {
      "cell_type": "code",
      "metadata": {
        "id": "atlantic-sitting",
        "outputId": "9dbea525-2d8e-4e00-b875-816325fa5d3d"
      },
      "source": [
        "print(\"Original array:\")\n",
        "# ..."
      ],
      "id": "atlantic-sitting",
      "execution_count": null,
      "outputs": [
        {
          "output_type": "stream",
          "text": [
            "Original array:\n",
            "[10 10 20 20 30 30]\n"
          ],
          "name": "stdout"
        }
      ]
    },
    {
      "cell_type": "code",
      "metadata": {
        "id": "physical-garlic",
        "outputId": "45fea859-d010-4e8a-95cf-83a0e8e930d3"
      },
      "source": [
        "print(\"Unique elements of the above array:\")\n",
        "\n",
        "# ...\n"
      ],
      "id": "physical-garlic",
      "execution_count": null,
      "outputs": [
        {
          "output_type": "stream",
          "text": [
            "Unique elements of the above array:\n",
            "[10 20 30]\n"
          ],
          "name": "stdout"
        }
      ]
    },
    {
      "cell_type": "code",
      "metadata": {
        "id": "scheduled-consequence",
        "outputId": "0d3502b4-cd39-41e0-c623-b2fdfabba10d"
      },
      "source": [
        "print(\"Original array:\")\n",
        "\n",
        "# ...\n"
      ],
      "id": "scheduled-consequence",
      "execution_count": null,
      "outputs": [
        {
          "output_type": "stream",
          "text": [
            "Original array:\n",
            "[[1 1]\n",
            " [2 3]]\n"
          ],
          "name": "stdout"
        }
      ]
    },
    {
      "cell_type": "code",
      "metadata": {
        "id": "widespread-surveillance",
        "outputId": "f79dd45f-4fff-4b86-e4a7-d6aef75f267d"
      },
      "source": [
        "print(\"Unique elements of the above array:\")\n",
        "\n",
        "# ...\n"
      ],
      "id": "widespread-surveillance",
      "execution_count": null,
      "outputs": [
        {
          "output_type": "stream",
          "text": [
            "Unique elements of the above array:\n",
            "[1 2 3]\n"
          ],
          "name": "stdout"
        }
      ]
    },
    {
      "cell_type": "markdown",
      "metadata": {
        "id": "downtown-sauce"
      },
      "source": [
        "# **import Pandas Library**"
      ],
      "id": "downtown-sauce"
    },
    {
      "cell_type": "code",
      "metadata": {
        "id": "infectious-spotlight"
      },
      "source": [
        "import pandas as pd"
      ],
      "id": "infectious-spotlight",
      "execution_count": null,
      "outputs": []
    },
    {
      "cell_type": "markdown",
      "metadata": {
        "id": "3790dc46"
      },
      "source": [
        "**https://www.w3resource.com/python-exercises/pandas/index-data-series.php**\n",
        "- Pandas Questions: 2, 3, 5, 6, 13"
      ],
      "id": "3790dc46"
    },
    {
      "cell_type": "markdown",
      "metadata": {
        "id": "hollow-enhancement"
      },
      "source": [
        "**2. Write a Pandas program to convert a Pandas module Series to Python list and it's type.**"
      ],
      "id": "hollow-enhancement"
    },
    {
      "cell_type": "code",
      "metadata": {
        "id": "c7cacd5e"
      },
      "source": [
        "list_1 = [2, 4, 6, 8, 10]"
      ],
      "id": "c7cacd5e",
      "execution_count": null,
      "outputs": []
    },
    {
      "cell_type": "code",
      "metadata": {
        "id": "exceptional-vienna",
        "outputId": "9600faf7-fc65-4597-fb62-fe7eea8d6dcd"
      },
      "source": [
        "# Convert the Python list to a Pandas Series \n",
        "print(\"Pandas Series and type\")\n",
        "\n",
        "# ...\n"
      ],
      "id": "exceptional-vienna",
      "execution_count": null,
      "outputs": [
        {
          "output_type": "stream",
          "text": [
            "Pandas Series and type\n",
            "0     2\n",
            "1     4\n",
            "2     6\n",
            "3     8\n",
            "4    10\n",
            "dtype: int64\n",
            "<class 'pandas.core.series.Series'>\n"
          ],
          "name": "stdout"
        }
      ]
    },
    {
      "cell_type": "code",
      "metadata": {
        "id": "neither-production",
        "outputId": "80f0bb8d-4c8b-4edb-d53a-4371a415d36c"
      },
      "source": [
        "# Convert the Pandas Series to Python list\n",
        "\n",
        "# ...\n"
      ],
      "id": "neither-production",
      "execution_count": null,
      "outputs": [
        {
          "output_type": "stream",
          "text": [
            "[2, 4, 6, 8, 10]\n",
            "<class 'list'>\n"
          ],
          "name": "stdout"
        }
      ]
    },
    {
      "cell_type": "markdown",
      "metadata": {
        "id": "confused-parade"
      },
      "source": [
        "**3. Write a Pandas program to add, subtract, multiple and divide two Pandas Series.**"
      ],
      "id": "confused-parade"
    },
    {
      "cell_type": "code",
      "metadata": {
        "id": "1aad2a90"
      },
      "source": [
        "list1 = [2, 4, 6, 8, 10]\n",
        "list2 = [1, 3, 5, 7, 9]"
      ],
      "id": "1aad2a90",
      "execution_count": null,
      "outputs": []
    },
    {
      "cell_type": "code",
      "metadata": {
        "id": "4ed60289"
      },
      "source": [
        "# Create two Pandas series with these lists\n",
        "\n",
        "# ...\n"
      ],
      "id": "4ed60289",
      "execution_count": null,
      "outputs": []
    },
    {
      "cell_type": "code",
      "metadata": {
        "id": "annual-rachel",
        "outputId": "89d523cc-c1d3-4163-8351-befa806b41f5"
      },
      "source": [
        "print(\"Add two Series:\")\n",
        "\n",
        "# ...\n"
      ],
      "id": "annual-rachel",
      "execution_count": null,
      "outputs": [
        {
          "output_type": "stream",
          "text": [
            "Add two Series:\n",
            "0     3\n",
            "1     7\n",
            "2    11\n",
            "3    15\n",
            "4    19\n",
            "dtype: int64\n"
          ],
          "name": "stdout"
        }
      ]
    },
    {
      "cell_type": "code",
      "metadata": {
        "id": "breathing-documentary",
        "outputId": "7c3a9f41-258a-43c2-97d0-64821f1f9e42"
      },
      "source": [
        "print(\"Subtract two Series:\")\n",
        "\n",
        "# ...\n"
      ],
      "id": "breathing-documentary",
      "execution_count": null,
      "outputs": [
        {
          "output_type": "stream",
          "text": [
            "Subtract two Series:\n",
            "0    1\n",
            "1    1\n",
            "2    1\n",
            "3    1\n",
            "4    1\n",
            "dtype: int64\n"
          ],
          "name": "stdout"
        }
      ]
    },
    {
      "cell_type": "code",
      "metadata": {
        "id": "personal-newsletter",
        "outputId": "e3e120bc-f73e-4853-e8f6-dcaad02e56ec"
      },
      "source": [
        "print(\"Multiply two Series:\")\n",
        "\n",
        "# ...\n"
      ],
      "id": "personal-newsletter",
      "execution_count": null,
      "outputs": [
        {
          "output_type": "stream",
          "text": [
            "Multiply two Series:\n",
            "0     2\n",
            "1    12\n",
            "2    30\n",
            "3    56\n",
            "4    90\n",
            "dtype: int64\n"
          ],
          "name": "stdout"
        }
      ]
    },
    {
      "cell_type": "code",
      "metadata": {
        "id": "sporting-theorem",
        "outputId": "ddb291a9-d604-4853-fa88-5164099872da"
      },
      "source": [
        "print(\"Divide Series1 by Series2:\")\n",
        "\n",
        "# ...\n"
      ],
      "id": "sporting-theorem",
      "execution_count": null,
      "outputs": [
        {
          "output_type": "stream",
          "text": [
            "Divide Series1 by Series2:\n",
            "0    2.000000\n",
            "1    1.333333\n",
            "2    1.200000\n",
            "3    1.142857\n",
            "4    1.111111\n",
            "dtype: float64\n"
          ],
          "name": "stdout"
        }
      ]
    },
    {
      "cell_type": "markdown",
      "metadata": {
        "id": "competitive-fifteen"
      },
      "source": [
        "**5. Write a Pandas program to convert a dictionary to a Pandas series.**"
      ],
      "id": "competitive-fifteen"
    },
    {
      "cell_type": "code",
      "metadata": {
        "id": "0cd18195"
      },
      "source": [
        "keys=['a','b','c','d','e']\n",
        "values = [100, 200, 300, 400, 800]"
      ],
      "id": "0cd18195",
      "execution_count": null,
      "outputs": []
    },
    {
      "cell_type": "code",
      "metadata": {
        "id": "latin-torture",
        "outputId": "2ea20cd5-cb59-4c66-f55a-58dcabea0655"
      },
      "source": [
        "# Create a dictionary from keys and values\n",
        "print(\"Original dictionary:\")\n",
        "\n",
        "# ...\n"
      ],
      "id": "latin-torture",
      "execution_count": null,
      "outputs": [
        {
          "output_type": "stream",
          "text": [
            "Original dictionary:\n",
            "{'a': 100, 'b': 200, 'c': 300, 'd': 400, 'e': 800}\n"
          ],
          "name": "stdout"
        }
      ]
    },
    {
      "cell_type": "code",
      "metadata": {
        "id": "rolled-transcript",
        "outputId": "10de2a5a-68fd-498a-beea-d970a1136eed"
      },
      "source": [
        "# Convert the dictionary to a Pandas series\n",
        "print(\"Converted series:\")\n",
        "\n",
        "# ...\n"
      ],
      "id": "rolled-transcript",
      "execution_count": null,
      "outputs": [
        {
          "output_type": "stream",
          "text": [
            "Converted series:\n",
            "a    100\n",
            "b    200\n",
            "c    300\n",
            "d    400\n",
            "e    800\n",
            "dtype: int64\n"
          ],
          "name": "stdout"
        }
      ]
    },
    {
      "cell_type": "markdown",
      "metadata": {
        "id": "olive-aircraft"
      },
      "source": [
        "**6. Write a Pandas program to convert a NumPy array to a Pandas series.**"
      ],
      "id": "olive-aircraft"
    },
    {
      "cell_type": "code",
      "metadata": {
        "id": "wired-contact",
        "outputId": "c2d7c347-9ad3-48f2-a462-e100d28b000f"
      },
      "source": [
        "# Original Data : [10, 20, 30, 40, 50]\n",
        "# Create a numpy array with this data\n",
        "print(\"NumPy array:\")\n",
        "\n",
        "# ...\n"
      ],
      "id": "wired-contact",
      "execution_count": null,
      "outputs": [
        {
          "output_type": "stream",
          "text": [
            "NumPy array:\n",
            "[10 20 30 40 50]\n"
          ],
          "name": "stdout"
        }
      ]
    },
    {
      "cell_type": "code",
      "metadata": {
        "id": "returning-outline",
        "outputId": "e0520d8d-3996-4807-a99d-4a7bf6cbbe47"
      },
      "source": [
        "# Convert a NumPy array to this Pandas series.\n",
        "print(\"Converted Pandas series:\")\n",
        "\n",
        "# ...\n"
      ],
      "id": "returning-outline",
      "execution_count": null,
      "outputs": [
        {
          "output_type": "stream",
          "text": [
            "Converted Pandas series:\n",
            "0    10\n",
            "1    20\n",
            "2    30\n",
            "3    40\n",
            "4    50\n",
            "dtype: int32\n"
          ],
          "name": "stdout"
        }
      ]
    },
    {
      "cell_type": "markdown",
      "metadata": {
        "id": "charming-denial"
      },
      "source": [
        "**12. Write a Pandas program to add some data to an existing Series.**|"
      ],
      "id": "charming-denial"
    },
    {
      "cell_type": "code",
      "metadata": {
        "id": "painful-liquid",
        "outputId": "19ea211a-21ac-4071-91c6-af5b139f1aef"
      },
      "source": [
        "# Original Data : ['100', '200', 'python', '300.12', '400']\n",
        "# Built a pandas Series with this data\n",
        "print(\"Original Data Series:\")\n",
        "# ..."
      ],
      "id": "painful-liquid",
      "execution_count": null,
      "outputs": [
        {
          "output_type": "stream",
          "text": [
            "Original Data Series:\n",
            "0       100\n",
            "1       200\n",
            "2    python\n",
            "3    300.12\n",
            "4       400\n",
            "dtype: object\n"
          ],
          "name": "stdout"
        }
      ]
    },
    {
      "cell_type": "code",
      "metadata": {
        "id": "hindu-paste",
        "outputId": "b367dff3-fba3-44bd-e934-f62af81116e6"
      },
      "source": [
        "# Add ['500', 'php'] to the original Data Series\n",
        "print(\"\\nData Series after adding some data:\")\n",
        "\n",
        "# ...\n"
      ],
      "id": "hindu-paste",
      "execution_count": null,
      "outputs": [
        {
          "output_type": "stream",
          "text": [
            "\n",
            "Data Series after adding some data:\n",
            "0       100\n",
            "1       200\n",
            "2    python\n",
            "3    300.12\n",
            "4       400\n",
            "0       500\n",
            "1       php\n",
            "dtype: object\n"
          ],
          "name": "stdout"
        }
      ]
    },
    {
      "cell_type": "markdown",
      "metadata": {
        "id": "5bde9096"
      },
      "source": [
        "**13. Write a Pandas program to create a subset of a given series based on value and condition.**"
      ],
      "id": "5bde9096"
    },
    {
      "cell_type": "code",
      "metadata": {
        "id": "3e8a7f12",
        "outputId": "b5d37b6d-b857-4a3d-d416-79cca97343d7"
      },
      "source": [
        "# Original Data : [0,1,2,3,4,5,6,7,8,9,10]\n",
        "# Built a pandas Series with this data\n",
        "print(\"Original Data Series:\")\n",
        "\n",
        "# ...\n"
      ],
      "id": "3e8a7f12",
      "execution_count": null,
      "outputs": [
        {
          "output_type": "stream",
          "text": [
            "Original Data Series:\n",
            "0      0\n",
            "1      1\n",
            "2      2\n",
            "3      3\n",
            "4      4\n",
            "5      5\n",
            "6      6\n",
            "7      7\n",
            "8      8\n",
            "9      9\n",
            "10    10\n",
            "dtype: int64\n"
          ],
          "name": "stdout"
        }
      ]
    },
    {
      "cell_type": "code",
      "metadata": {
        "id": "a4dcdebf",
        "outputId": "d42de0e5-0d42-4ccd-eae3-395904e28907"
      },
      "source": [
        "# Create a new series with data with a value less than 6\n",
        "print(\"\\nSubset of the above Data Series:\")\n",
        "\n",
        "# ...\n"
      ],
      "id": "a4dcdebf",
      "execution_count": null,
      "outputs": [
        {
          "output_type": "stream",
          "text": [
            "\n",
            "Subset of the above Data Series:\n",
            "0    0\n",
            "1    1\n",
            "2    2\n",
            "3    3\n",
            "4    4\n",
            "5    5\n",
            "dtype: int64\n"
          ],
          "name": "stdout"
        }
      ]
    }
  ]
}