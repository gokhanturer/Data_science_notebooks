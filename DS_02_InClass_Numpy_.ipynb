{
  "nbformat": 4,
  "nbformat_minor": 5,
  "metadata": {
    "kernelspec": {
      "display_name": "Python 3",
      "language": "python",
      "name": "python3"
    },
    "language_info": {
      "codemirror_mode": {
        "name": "ipython",
        "version": 3
      },
      "file_extension": ".py",
      "mimetype": "text/x-python",
      "name": "python",
      "nbconvert_exporter": "python",
      "pygments_lexer": "ipython3",
      "version": "3.7.8"
    },
    "colab": {
      "name": "DS_02-InClass-Numpy.ipynb",
      "provenance": [],
      "include_colab_link": true
    }
  },
  "cells": [
    {
      "cell_type": "markdown",
      "metadata": {
        "id": "view-in-github",
        "colab_type": "text"
      },
      "source": [
        "<a href=\"https://colab.research.google.com/github/gokhanturer/Data_science_notebooks/blob/main/DS_02_InClass_Numpy_.ipynb\" target=\"_parent\"><img src=\"https://colab.research.google.com/assets/colab-badge.svg\" alt=\"Open In Colab\"/></a>"
      ]
    },
    {
      "cell_type": "markdown",
      "metadata": {
        "id": "quick-oxford"
      },
      "source": [
        "# Numpy : Numerical Python"
      ],
      "id": "quick-oxford"
    },
    {
      "cell_type": "code",
      "metadata": {
        "id": "grand-princess"
      },
      "source": [
        "# iki farklı diziyi birbiriyle işleme tabi tutabiliriz. çarpabiliriz, bölebiliriz karekök alabiliz vs.\n",
        "# Bunu listelerle yapamayız."
      ],
      "id": "grand-princess",
      "execution_count": null,
      "outputs": []
    },
    {
      "cell_type": "markdown",
      "metadata": {
        "id": "chubby-africa"
      },
      "source": [
        "# Why Numpy?"
      ],
      "id": "chubby-africa"
    },
    {
      "cell_type": "code",
      "metadata": {
        "id": "herbal-carter"
      },
      "source": [
        "# öncelikle numpy ı import edelim\n",
        "\n",
        "import numpy as np"
      ],
      "id": "herbal-carter",
      "execution_count": null,
      "outputs": []
    },
    {
      "cell_type": "code",
      "metadata": {
        "id": "bibliographic-amendment",
        "outputId": "3f7c44a5-2592-4e26-cb58-9dfbe1948f79"
      },
      "source": [
        "my_list = [1, 2, 3]\n",
        "my_list"
      ],
      "id": "bibliographic-amendment",
      "execution_count": null,
      "outputs": [
        {
          "output_type": "execute_result",
          "data": {
            "text/plain": [
              "[1, 2, 3]"
            ]
          },
          "metadata": {
            "tags": []
          },
          "execution_count": 2
        }
      ]
    },
    {
      "cell_type": "code",
      "metadata": {
        "id": "accepted-maple"
      },
      "source": [
        "# şimdi listemizi array haline getirelim. bunun için array() build-in fonksiyonunu kullanacağız.\n",
        "\n",
        "np.array(my_list)"
      ],
      "id": "accepted-maple",
      "execution_count": null,
      "outputs": []
    },
    {
      "cell_type": "code",
      "metadata": {
        "id": "affiliated-trailer"
      },
      "source": [
        "arr = np.array(my_list)"
      ],
      "id": "affiliated-trailer",
      "execution_count": null,
      "outputs": []
    },
    {
      "cell_type": "code",
      "metadata": {
        "id": "administrative-feeding",
        "outputId": "06056b98-9992-4416-84f2-3534e6bebf30"
      },
      "source": [
        "type(arr)"
      ],
      "id": "administrative-feeding",
      "execution_count": null,
      "outputs": [
        {
          "output_type": "execute_result",
          "data": {
            "text/plain": [
              "numpy.ndarray"
            ]
          },
          "metadata": {
            "tags": []
          },
          "execution_count": 4
        }
      ]
    },
    {
      "cell_type": "markdown",
      "metadata": {
        "id": "common-mailing"
      },
      "source": [
        "# Why Numpy?"
      ],
      "id": "common-mailing"
    },
    {
      "cell_type": "code",
      "metadata": {
        "id": "israeli-jaguar"
      },
      "source": [
        "\"\"\"\n",
        "NumPy sadece daha verimli değil; ayrıca daha uygundur. Ücretsiz olarak birçok vektör\n",
        "ve matris işlemi elde edersiniz, bu da bazen gereksiz işlerden kaçınmanıza izin verir. \n",
        "Ve ayrıca verimli bir şekilde uygulanırlar. Ayrıca, birçok yararlı kütüphane NumPy dizileriyle çalışır.\n",
        " Örneğin, istatistiksel analiz ve görselleştirme kütüphaneleri.\n",
        "\"\"\""
      ],
      "id": "israeli-jaguar",
      "execution_count": null,
      "outputs": []
    },
    {
      "cell_type": "code",
      "metadata": {
        "id": "romance-isolation"
      },
      "source": [
        "a = [1,2,3,4]\n",
        "b = [2,3,4,5]"
      ],
      "id": "romance-isolation",
      "execution_count": null,
      "outputs": []
    },
    {
      "cell_type": "code",
      "metadata": {
        "id": "outer-reaction",
        "outputId": "11784878-8bcd-4f4a-fccb-6928d261f40b"
      },
      "source": [
        "ab = []\n",
        "\n",
        "for i in range(0, len(a)):\n",
        "    ab.append(a[i] * b[i])\n",
        "              \n",
        "ab\n",
        "\n",
        "# fakat bu yorucu ve çok yer kaplayan bir işlemdir."
      ],
      "id": "outer-reaction",
      "execution_count": null,
      "outputs": [
        {
          "output_type": "execute_result",
          "data": {
            "text/plain": [
              "[2, 6, 12, 20]"
            ]
          },
          "metadata": {
            "tags": []
          },
          "execution_count": 7
        }
      ]
    },
    {
      "cell_type": "code",
      "metadata": {
        "id": "casual-disclosure"
      },
      "source": [
        "# şimdi bu işlemi array ile çok daha hızlı bir şekilde yapıldığını görelim.\n",
        "\n",
        "a1 = np.array(a)\n",
        "b1 = np.array(b)"
      ],
      "id": "casual-disclosure",
      "execution_count": null,
      "outputs": []
    },
    {
      "cell_type": "code",
      "metadata": {
        "id": "settled-museum",
        "outputId": "3db8859c-1437-4caf-a144-529decc3d5f9"
      },
      "source": [
        "a1 * b1"
      ],
      "id": "settled-museum",
      "execution_count": null,
      "outputs": [
        {
          "output_type": "execute_result",
          "data": {
            "text/plain": [
              "array([ 2,  6, 12, 20])"
            ]
          },
          "metadata": {
            "tags": []
          },
          "execution_count": 9
        }
      ]
    },
    {
      "cell_type": "code",
      "metadata": {
        "id": "arabic-testing"
      },
      "source": [
        "# şimdi bir matrix oluşturalım.\n",
        "\n",
        "my_matrix = [[1,2,3], [4,5,6], [7,8,9]]\n"
      ],
      "id": "arabic-testing",
      "execution_count": null,
      "outputs": []
    },
    {
      "cell_type": "code",
      "metadata": {
        "id": "periodic-promotion",
        "outputId": "80c8919e-b705-47a0-8668-19f84da481ee"
      },
      "source": [
        "np.array(my_matrix)\n",
        "\n",
        "# 3'er elemandan oluşan 3 listeyi kullanarak 3 satır ve 3 sütundan oluşan bir matrix oluşturduk"
      ],
      "id": "periodic-promotion",
      "execution_count": null,
      "outputs": [
        {
          "output_type": "execute_result",
          "data": {
            "text/plain": [
              "array([[1, 2, 3],\n",
              "       [4, 5, 6],\n",
              "       [7, 8, 9]])"
            ]
          },
          "metadata": {
            "tags": []
          },
          "execution_count": 11
        }
      ]
    },
    {
      "cell_type": "markdown",
      "metadata": {
        "id": "floral-roots"
      },
      "source": [
        "# Build-in Methods"
      ],
      "id": "floral-roots"
    },
    {
      "cell_type": "markdown",
      "metadata": {
        "id": "sacred-basis"
      },
      "source": [
        "# arange"
      ],
      "id": "sacred-basis"
    },
    {
      "cell_type": "code",
      "metadata": {
        "id": "behind-modification",
        "outputId": "b94207ce-aa6f-470f-9de7-a114d481efac"
      },
      "source": [
        "# 0 ile 10 arasında (son rakam rakam hariç) bir dizi oluşturalım\n",
        "np.arange(0, 10)"
      ],
      "id": "behind-modification",
      "execution_count": null,
      "outputs": [
        {
          "output_type": "execute_result",
          "data": {
            "text/plain": [
              "array([0, 1, 2, 3, 4, 5, 6, 7, 8, 9])"
            ]
          },
          "metadata": {
            "tags": []
          },
          "execution_count": 13
        }
      ]
    },
    {
      "cell_type": "code",
      "metadata": {
        "id": "protective-denver",
        "outputId": "329f1327-30ea-4cc8-f2c9-5a12af7a4019"
      },
      "source": [
        "# # 0 dan 10 a kadar (10 hariç) 2 şer atlayarak dizi oluşturalım.\n",
        "\n",
        "np.arange(0 , 11, 2) "
      ],
      "id": "protective-denver",
      "execution_count": null,
      "outputs": [
        {
          "output_type": "execute_result",
          "data": {
            "text/plain": [
              "array([ 0,  2,  4,  6,  8, 10])"
            ]
          },
          "metadata": {
            "tags": []
          },
          "execution_count": 14
        }
      ]
    },
    {
      "cell_type": "code",
      "metadata": {
        "id": "polish-volunteer",
        "outputId": "ab581e3c-033e-40f0-e05d-9224c330704d"
      },
      "source": [
        "np.arange(0, 31, 3)"
      ],
      "id": "polish-volunteer",
      "execution_count": null,
      "outputs": [
        {
          "output_type": "execute_result",
          "data": {
            "text/plain": [
              "array([ 0,  3,  6,  9, 12, 15, 18, 21, 24, 27, 30])"
            ]
          },
          "metadata": {
            "tags": []
          },
          "execution_count": 15
        }
      ]
    },
    {
      "cell_type": "code",
      "metadata": {
        "id": "virgin-prayer",
        "outputId": "e705d2d6-90f9-4ff6-f058-1a646051e9ff"
      },
      "source": [
        "np.arange(30, 0, -1)"
      ],
      "id": "virgin-prayer",
      "execution_count": null,
      "outputs": [
        {
          "output_type": "execute_result",
          "data": {
            "text/plain": [
              "array([30, 29, 28, 27, 26, 25, 24, 23, 22, 21, 20, 19, 18, 17, 16, 15, 14,\n",
              "       13, 12, 11, 10,  9,  8,  7,  6,  5,  4,  3,  2,  1])"
            ]
          },
          "metadata": {
            "tags": []
          },
          "execution_count": 16
        }
      ]
    },
    {
      "cell_type": "markdown",
      "metadata": {
        "id": "aggregate-pepper"
      },
      "source": [
        "# zeros, ones and full"
      ],
      "id": "aggregate-pepper"
    },
    {
      "cell_type": "code",
      "metadata": {
        "id": "blond-surname",
        "outputId": "221ab506-ad66-4536-a47d-2a91e12e6209"
      },
      "source": [
        "# sıfırlardan oluşan kayan noktalı dizi oluşturalım\n",
        "\n",
        "np.zeros(3)"
      ],
      "id": "blond-surname",
      "execution_count": null,
      "outputs": [
        {
          "output_type": "execute_result",
          "data": {
            "text/plain": [
              "array([0., 0., 0.])"
            ]
          },
          "metadata": {
            "tags": []
          },
          "execution_count": 17
        }
      ]
    },
    {
      "cell_type": "code",
      "metadata": {
        "id": "hired-transcription",
        "outputId": "ed3904df-b494-4080-d878-d727fcad7cf8"
      },
      "source": [
        "np.zeros(10)"
      ],
      "id": "hired-transcription",
      "execution_count": null,
      "outputs": [
        {
          "output_type": "execute_result",
          "data": {
            "text/plain": [
              "array([0., 0., 0., 0., 0., 0., 0., 0., 0., 0.])"
            ]
          },
          "metadata": {
            "tags": []
          },
          "execution_count": 18
        }
      ]
    },
    {
      "cell_type": "code",
      "metadata": {
        "id": "pressed-august",
        "outputId": "9e39c999-f654-40d6-886b-2efd86a10240"
      },
      "source": [
        "# dizimizi şekillendirelim. 3 e 3 matrix yapalım\n",
        "\n",
        "np.zeros((3,3))"
      ],
      "id": "pressed-august",
      "execution_count": null,
      "outputs": [
        {
          "output_type": "execute_result",
          "data": {
            "text/plain": [
              "array([[0., 0., 0.],\n",
              "       [0., 0., 0.],\n",
              "       [0., 0., 0.]])"
            ]
          },
          "metadata": {
            "tags": []
          },
          "execution_count": 19
        }
      ]
    },
    {
      "cell_type": "code",
      "metadata": {
        "id": "incident-foster",
        "outputId": "37b0697b-35b3-4881-9f93-8a7f7ba02a37"
      },
      "source": [
        "np.zeros((3,3), dtype=bool)\n",
        "\n",
        "# dizimiz 0 lardan oluştuğu için elemanlar False'a döndü"
      ],
      "id": "incident-foster",
      "execution_count": null,
      "outputs": [
        {
          "output_type": "execute_result",
          "data": {
            "text/plain": [
              "array([[False, False, False],\n",
              "       [False, False, False],\n",
              "       [False, False, False]])"
            ]
          },
          "metadata": {
            "tags": []
          },
          "execution_count": 20
        }
      ]
    },
    {
      "cell_type": "code",
      "metadata": {
        "id": "nervous-development",
        "outputId": "b5ccc212-c0b8-43e3-b23d-4b33764608ad"
      },
      "source": [
        " # birlerden oluşan dizi yapalım\n",
        "\n",
        "np.ones(10)"
      ],
      "id": "nervous-development",
      "execution_count": null,
      "outputs": [
        {
          "output_type": "execute_result",
          "data": {
            "text/plain": [
              "array([1., 1., 1., 1., 1., 1., 1., 1., 1., 1.])"
            ]
          },
          "metadata": {
            "tags": []
          },
          "execution_count": 21
        }
      ]
    },
    {
      "cell_type": "code",
      "metadata": {
        "id": "affecting-badge",
        "outputId": "a91c1508-5ad9-4396-c223-507bac7e926a"
      },
      "source": [
        "# noktalarını kaldırıp integer yapalım\n",
        "\n",
        "np.ones(10, dtype=int)"
      ],
      "id": "affecting-badge",
      "execution_count": null,
      "outputs": [
        {
          "output_type": "execute_result",
          "data": {
            "text/plain": [
              "array([1, 1, 1, 1, 1, 1, 1, 1, 1, 1])"
            ]
          },
          "metadata": {
            "tags": []
          },
          "execution_count": 22
        }
      ]
    },
    {
      "cell_type": "code",
      "metadata": {
        "id": "ordinary-proxy",
        "outputId": "2a3d3046-720e-4dd6-a4c9-d4007fbe2849"
      },
      "source": [
        "# 10 a 10 matrix oluşturalım.\n",
        "\n",
        "np.ones((10,10))"
      ],
      "id": "ordinary-proxy",
      "execution_count": null,
      "outputs": [
        {
          "output_type": "execute_result",
          "data": {
            "text/plain": [
              "array([[1., 1., 1., 1., 1., 1., 1., 1., 1., 1.],\n",
              "       [1., 1., 1., 1., 1., 1., 1., 1., 1., 1.],\n",
              "       [1., 1., 1., 1., 1., 1., 1., 1., 1., 1.],\n",
              "       [1., 1., 1., 1., 1., 1., 1., 1., 1., 1.],\n",
              "       [1., 1., 1., 1., 1., 1., 1., 1., 1., 1.],\n",
              "       [1., 1., 1., 1., 1., 1., 1., 1., 1., 1.],\n",
              "       [1., 1., 1., 1., 1., 1., 1., 1., 1., 1.],\n",
              "       [1., 1., 1., 1., 1., 1., 1., 1., 1., 1.],\n",
              "       [1., 1., 1., 1., 1., 1., 1., 1., 1., 1.],\n",
              "       [1., 1., 1., 1., 1., 1., 1., 1., 1., 1.]])"
            ]
          },
          "metadata": {
            "tags": []
          },
          "execution_count": 23
        }
      ]
    },
    {
      "cell_type": "code",
      "metadata": {
        "id": "maritime-audit",
        "outputId": "219f857f-e059-4d3f-c86c-9e15903995e2"
      },
      "source": [
        "np.ones((10,10), dtype=bool)\n",
        "\n",
        "# dizimiz 1 lerden oluştuğu için elemanlar True'a döndü"
      ],
      "id": "maritime-audit",
      "execution_count": null,
      "outputs": [
        {
          "output_type": "execute_result",
          "data": {
            "text/plain": [
              "array([[ True,  True,  True,  True,  True,  True,  True,  True,  True,\n",
              "         True],\n",
              "       [ True,  True,  True,  True,  True,  True,  True,  True,  True,\n",
              "         True],\n",
              "       [ True,  True,  True,  True,  True,  True,  True,  True,  True,\n",
              "         True],\n",
              "       [ True,  True,  True,  True,  True,  True,  True,  True,  True,\n",
              "         True],\n",
              "       [ True,  True,  True,  True,  True,  True,  True,  True,  True,\n",
              "         True],\n",
              "       [ True,  True,  True,  True,  True,  True,  True,  True,  True,\n",
              "         True],\n",
              "       [ True,  True,  True,  True,  True,  True,  True,  True,  True,\n",
              "         True],\n",
              "       [ True,  True,  True,  True,  True,  True,  True,  True,  True,\n",
              "         True],\n",
              "       [ True,  True,  True,  True,  True,  True,  True,  True,  True,\n",
              "         True],\n",
              "       [ True,  True,  True,  True,  True,  True,  True,  True,  True,\n",
              "         True]])"
            ]
          },
          "metadata": {
            "tags": []
          },
          "execution_count": 24
        }
      ]
    },
    {
      "cell_type": "code",
      "metadata": {
        "id": "willing-transfer",
        "outputId": "feec4c24-7afc-4b2c-b0a6-d23c54f9eb41"
      },
      "source": [
        "# 3 satır 5 sütundan oluşan matrix oluşturalım ve onu integer 3 ile dolduralım\n",
        "\n",
        "np.full((3,5),3)"
      ],
      "id": "willing-transfer",
      "execution_count": null,
      "outputs": [
        {
          "output_type": "execute_result",
          "data": {
            "text/plain": [
              "array([[3, 3, 3, 3, 3],\n",
              "       [3, 3, 3, 3, 3],\n",
              "       [3, 3, 3, 3, 3]])"
            ]
          },
          "metadata": {
            "tags": []
          },
          "execution_count": 25
        }
      ]
    },
    {
      "cell_type": "code",
      "metadata": {
        "id": "informative-dover",
        "outputId": "db4a3453-7044-41ab-ff38-0a32e2ccdd5a"
      },
      "source": [
        "# dizimizi string \"3\" ile dolduralım\n",
        "\n",
        "np.full((4,4), \"3\")"
      ],
      "id": "informative-dover",
      "execution_count": null,
      "outputs": [
        {
          "output_type": "execute_result",
          "data": {
            "text/plain": [
              "array([['3', '3', '3', '3'],\n",
              "       ['3', '3', '3', '3'],\n",
              "       ['3', '3', '3', '3'],\n",
              "       ['3', '3', '3', '3']], dtype='<U1')"
            ]
          },
          "metadata": {
            "tags": []
          },
          "execution_count": 26
        }
      ]
    },
    {
      "cell_type": "markdown",
      "metadata": {
        "id": "prompt-chosen"
      },
      "source": [
        "# linspace"
      ],
      "id": "prompt-chosen"
    },
    {
      "cell_type": "code",
      "metadata": {
        "id": "magnetic-wrong",
        "outputId": "e449614d-3aa3-4b93-ddb9-746435ca9108"
      },
      "source": [
        "# dizimiz o dan 10 a kadar 3 ADIMDA gitsin\n",
        "\n",
        "np.linspace(0, 10, 3)"
      ],
      "id": "magnetic-wrong",
      "execution_count": null,
      "outputs": [
        {
          "output_type": "execute_result",
          "data": {
            "text/plain": [
              "array([ 0.,  5., 10.])"
            ]
          },
          "metadata": {
            "tags": []
          },
          "execution_count": 30
        }
      ]
    },
    {
      "cell_type": "code",
      "metadata": {
        "id": "renewable-collar",
        "outputId": "a13fbc0d-377e-4c7f-a013-03e354882861"
      },
      "source": [
        "# dizimiz o dan 10 a kadar 11 ADIMDA gitsin\n",
        "\n",
        "np.linspace(0, 10, 11)\n",
        "\n"
      ],
      "id": "renewable-collar",
      "execution_count": null,
      "outputs": [
        {
          "output_type": "execute_result",
          "data": {
            "text/plain": [
              "array([ 0.,  1.,  2.,  3.,  4.,  5.,  6.,  7.,  8.,  9., 10.])"
            ]
          },
          "metadata": {
            "tags": []
          },
          "execution_count": 29
        }
      ]
    },
    {
      "cell_type": "code",
      "metadata": {
        "id": "marine-creek",
        "outputId": "9fbb0c98-df5e-4caf-b851-c209aaa9ac7c"
      },
      "source": [
        "np.linspace(0, 10,20)"
      ],
      "id": "marine-creek",
      "execution_count": null,
      "outputs": [
        {
          "output_type": "execute_result",
          "data": {
            "text/plain": [
              "array([ 0.        ,  0.52631579,  1.05263158,  1.57894737,  2.10526316,\n",
              "        2.63157895,  3.15789474,  3.68421053,  4.21052632,  4.73684211,\n",
              "        5.26315789,  5.78947368,  6.31578947,  6.84210526,  7.36842105,\n",
              "        7.89473684,  8.42105263,  8.94736842,  9.47368421, 10.        ])"
            ]
          },
          "metadata": {
            "tags": []
          },
          "execution_count": 31
        }
      ]
    },
    {
      "cell_type": "code",
      "metadata": {
        "id": "ranging-scenario",
        "outputId": "553cb851-85ed-4f2c-c44e-5d8058289b02"
      },
      "source": [
        "# adım sayısını belirlemezsek DEFAULT olarak 50 adımda gidiyor \n",
        "\n",
        "np.linspace(0,10)"
      ],
      "id": "ranging-scenario",
      "execution_count": null,
      "outputs": [
        {
          "output_type": "execute_result",
          "data": {
            "text/plain": [
              "array([ 0.        ,  0.20408163,  0.40816327,  0.6122449 ,  0.81632653,\n",
              "        1.02040816,  1.2244898 ,  1.42857143,  1.63265306,  1.83673469,\n",
              "        2.04081633,  2.24489796,  2.44897959,  2.65306122,  2.85714286,\n",
              "        3.06122449,  3.26530612,  3.46938776,  3.67346939,  3.87755102,\n",
              "        4.08163265,  4.28571429,  4.48979592,  4.69387755,  4.89795918,\n",
              "        5.10204082,  5.30612245,  5.51020408,  5.71428571,  5.91836735,\n",
              "        6.12244898,  6.32653061,  6.53061224,  6.73469388,  6.93877551,\n",
              "        7.14285714,  7.34693878,  7.55102041,  7.75510204,  7.95918367,\n",
              "        8.16326531,  8.36734694,  8.57142857,  8.7755102 ,  8.97959184,\n",
              "        9.18367347,  9.3877551 ,  9.59183673,  9.79591837, 10.        ])"
            ]
          },
          "metadata": {
            "tags": []
          },
          "execution_count": 32
        }
      ]
    },
    {
      "cell_type": "code",
      "metadata": {
        "id": "significant-supplement",
        "outputId": "57f44c6a-72d4-4a4a-96a7-8273ef3e2dbe"
      },
      "source": [
        "# DEFAULT olarak float veriyor. dtype='int' ile elemanları integer yapalım\n",
        "\n",
        "np.linspace(0, 50, 10, dtype='int')"
      ],
      "id": "significant-supplement",
      "execution_count": null,
      "outputs": [
        {
          "output_type": "execute_result",
          "data": {
            "text/plain": [
              "array([ 0,  5, 11, 16, 22, 27, 33, 38, 44, 50])"
            ]
          },
          "metadata": {
            "tags": []
          },
          "execution_count": 33
        }
      ]
    },
    {
      "cell_type": "markdown",
      "metadata": {
        "id": "alternate-engagement"
      },
      "source": [
        "# eye"
      ],
      "id": "alternate-engagement"
    },
    {
      "cell_type": "code",
      "metadata": {
        "id": "alive-banana",
        "outputId": "d9efb5cb-f1e1-4075-d9ba-2059c75e5e2d"
      },
      "source": [
        "# sıfırlardan oluşan 5'e 5 matrix yapalım ve matrix'te köşeden köşeye 1'ler yer alsın\n",
        "\n",
        "np.eye(5)"
      ],
      "id": "alive-banana",
      "execution_count": null,
      "outputs": [
        {
          "output_type": "execute_result",
          "data": {
            "text/plain": [
              "array([[1., 0., 0., 0., 0.],\n",
              "       [0., 1., 0., 0., 0.],\n",
              "       [0., 0., 1., 0., 0.],\n",
              "       [0., 0., 0., 1., 0.],\n",
              "       [0., 0., 0., 0., 1.]])"
            ]
          },
          "metadata": {
            "tags": []
          },
          "execution_count": 35
        }
      ]
    },
    {
      "cell_type": "markdown",
      "metadata": {
        "id": "impressive-knock"
      },
      "source": [
        "# Random\n",
        "\n",
        "## rand"
      ],
      "id": "impressive-knock"
    },
    {
      "cell_type": "code",
      "metadata": {
        "id": "informational-smith"
      },
      "source": [
        "\"\"\"\n",
        "0 ile 1 arasında random olarak belirtilen adette sayı üretir.\n",
        "\n",
        "create an array of the given shape and populate it with random\n",
        "samples from a uniform distribution\n",
        "over the points zero to one where zero is inclusive and one is exclusive\n",
        "meaning it can't actually return back zero, but it can't return back one\n",
        "\"\"\""
      ],
      "id": "informational-smith",
      "execution_count": null,
      "outputs": []
    },
    {
      "cell_type": "code",
      "metadata": {
        "id": "hydraulic-bronze",
        "outputId": "ed2cc4c9-88e0-412e-e8ae-fb24457def96"
      },
      "source": [
        "# 0 ile 1 arasında 10 adet random sayı oluşturalım.\n",
        "\n",
        "np.random.rand(10)"
      ],
      "id": "hydraulic-bronze",
      "execution_count": null,
      "outputs": [
        {
          "output_type": "execute_result",
          "data": {
            "text/plain": [
              "array([0.74842006, 0.94435371, 0.95795841, 0.82746463, 0.12754121,\n",
              "       0.97973758, 0.51250465, 0.0771096 , 0.18012755, 0.62292517])"
            ]
          },
          "metadata": {
            "tags": []
          },
          "execution_count": 36
        }
      ]
    },
    {
      "cell_type": "code",
      "metadata": {
        "id": "perceived-phrase",
        "outputId": "bf08f6e0-99df-42c7-e7fa-a24f422068a0"
      },
      "source": [
        "# 5 satır 5 sütun olarak 0 ile 1 arasında random sayılar üretip matrix yapıyor. \n",
        "# (5,5) değerinden dolayı 5'e 5 matrix oluşuyor.\n",
        "\n",
        "np.random.rand(5,5)"
      ],
      "id": "perceived-phrase",
      "execution_count": null,
      "outputs": [
        {
          "output_type": "execute_result",
          "data": {
            "text/plain": [
              "array([[0.39999527, 0.62638143, 0.70164203, 0.87754532, 0.23038108],\n",
              "       [0.94330537, 0.79399127, 0.74066674, 0.77462424, 0.48133075],\n",
              "       [0.06133653, 0.7337434 , 0.79804602, 0.48201172, 0.72762669],\n",
              "       [0.80508864, 0.79114777, 0.28375335, 0.95237442, 0.20129491],\n",
              "       [0.85367403, 0.02368706, 0.67532435, 0.82241582, 0.98903597]])"
            ]
          },
          "metadata": {
            "tags": []
          },
          "execution_count": 37
        }
      ]
    },
    {
      "cell_type": "code",
      "metadata": {
        "id": "inappropriate-accordance",
        "outputId": "9bc300eb-d444-4120-8420-a697f31bd37b"
      },
      "source": [
        "pip install matplotlib"
      ],
      "id": "inappropriate-accordance",
      "execution_count": null,
      "outputs": [
        {
          "output_type": "stream",
          "text": [
            "Collecting matplotlib\n",
            "  Downloading matplotlib-3.4.2-cp37-cp37m-win_amd64.whl (7.1 MB)\n",
            "Collecting cycler>=0.10\n",
            "  Downloading cycler-0.10.0-py2.py3-none-any.whl (6.5 kB)\n",
            "Collecting pillow>=6.2.0\n",
            "  Downloading Pillow-8.2.0-cp37-cp37m-win_amd64.whl (2.2 MB)\n",
            "Collecting kiwisolver>=1.0.1\n",
            "  Downloading kiwisolver-1.3.1-cp37-cp37m-win_amd64.whl (51 kB)\n",
            "Requirement already satisfied: numpy>=1.16 in c:\\users\\hüseyin\\appdata\\local\\programs\\python\\python37\\lib\\site-packages (from matplotlib) (1.20.3)\n",
            "Requirement already satisfied: pyparsing>=2.2.1 in c:\\users\\hüseyin\\appdata\\local\\programs\\python\\python37\\lib\\site-packages (from matplotlib) (2.4.7)\n",
            "Requirement already satisfied: python-dateutil>=2.7 in c:\\users\\hüseyin\\appdata\\local\\programs\\python\\python37\\lib\\site-packages (from matplotlib) (2.8.1)\n",
            "Requirement already satisfied: six in c:\\users\\hüseyin\\appdata\\local\\programs\\python\\python37\\lib\\site-packages (from cycler>=0.10->matplotlib) (1.15.0)\n",
            "Installing collected packages: pillow, kiwisolver, cycler, matplotlib\n",
            "Successfully installed cycler-0.10.0 kiwisolver-1.3.1 matplotlib-3.4.2 pillow-8.2.0\n",
            "Note: you may need to restart the kernel to use updated packages.\n"
          ],
          "name": "stdout"
        }
      ]
    },
    {
      "cell_type": "code",
      "metadata": {
        "id": "popular-recipe"
      },
      "source": [
        "import matplotlib.pyplot as plt"
      ],
      "id": "popular-recipe",
      "execution_count": null,
      "outputs": []
    },
    {
      "cell_type": "code",
      "metadata": {
        "id": "southern-probability",
        "outputId": "f8054e3f-5a3a-4be3-c55d-294eb3eee816"
      },
      "source": [
        "plt.hist(np.random.rand(1000000),bins=40)"
      ],
      "id": "southern-probability",
      "execution_count": null,
      "outputs": [
        {
          "output_type": "execute_result",
          "data": {
            "text/plain": [
              "(array([24793., 25156., 24796., 24880., 25081., 24952., 24987., 25279.,\n",
              "        25156., 25085., 24995., 24892., 25061., 24974., 25132., 25494.,\n",
              "        25178., 25153., 25178., 24828., 24969., 24974., 25037., 25075.,\n",
              "        25064., 24854., 24679., 24946., 24948., 24684., 25191., 25238.,\n",
              "        24883., 24956., 24995., 25136., 24835., 25057., 24528., 24901.]),\n",
              " array([4.61804803e-07, 2.50004190e-02, 5.00003763e-02, 7.50003335e-02,\n",
              "        1.00000291e-01, 1.25000248e-01, 1.50000205e-01, 1.75000162e-01,\n",
              "        2.00000120e-01, 2.25000077e-01, 2.50000034e-01, 2.74999991e-01,\n",
              "        2.99999949e-01, 3.24999906e-01, 3.49999863e-01, 3.74999820e-01,\n",
              "        3.99999778e-01, 4.24999735e-01, 4.49999692e-01, 4.74999649e-01,\n",
              "        4.99999606e-01, 5.24999564e-01, 5.49999521e-01, 5.74999478e-01,\n",
              "        5.99999435e-01, 6.24999393e-01, 6.49999350e-01, 6.74999307e-01,\n",
              "        6.99999264e-01, 7.24999222e-01, 7.49999179e-01, 7.74999136e-01,\n",
              "        7.99999093e-01, 8.24999050e-01, 8.49999008e-01, 8.74998965e-01,\n",
              "        8.99998922e-01, 9.24998879e-01, 9.49998837e-01, 9.74998794e-01,\n",
              "        9.99998751e-01]),\n",
              " <BarContainer object of 40 artists>)"
            ]
          },
          "metadata": {
            "tags": []
          },
          "execution_count": 124
        },
        {
          "output_type": "display_data",
          "data": {
            "image/png": "[encoded data removed]",
            "text/plain": [
              "<Figure size 432x288 with 1 Axes>"
            ]
          },
          "metadata": {
            "tags": [],
            "needs_background": "light"
          }
        }
      ]
    },
    {
      "cell_type": "markdown",
      "metadata": {
        "id": "atmospheric-million"
      },
      "source": [
        "# randn"
      ],
      "id": "atmospheric-million"
    },
    {
      "cell_type": "code",
      "metadata": {
        "id": "fixed-tracker"
      },
      "source": [
        "\"\"\"\n",
        "np.random.randn()\n",
        "\n",
        "If positive int_like arguments are provided, `randn` generates an array\n",
        "of shape ``(d0, d1, ..., dn)``, filled\n",
        "with random floats sampled from a univariate \"normal\" (Gaussian)\n",
        "distribution of mean 0 and variance 1. A single float randomly sampled\n",
        "from the distribution is returned if no argument is provided.\n",
        "\n",
        "belirtilen sayı kadar, orta noktası sıfır olan 0 ile 1 arasında kayan noktalı sayı üretir\n",
        "\"\"\""
      ],
      "id": "fixed-tracker",
      "execution_count": null,
      "outputs": []
    },
    {
      "cell_type": "code",
      "metadata": {
        "id": "romance-manhattan",
        "outputId": "0da5235d-3149-4db7-b834-9b7db41d9020"
      },
      "source": [
        "np.random.randn(10)"
      ],
      "id": "romance-manhattan",
      "execution_count": null,
      "outputs": [
        {
          "output_type": "execute_result",
          "data": {
            "text/plain": [
              "array([ 1.83845458,  0.87524848,  0.90022174,  0.41545206,  1.99050815,\n",
              "       -0.11999077, -0.10348602, -1.31829761,  0.52708505,  0.87379036])"
            ]
          },
          "metadata": {
            "tags": []
          },
          "execution_count": 51
        }
      ]
    },
    {
      "cell_type": "code",
      "metadata": {
        "id": "apart-scholarship",
        "outputId": "a45c811b-5844-4148-f11f-15db7799bed3"
      },
      "source": [
        "# 5'e 5 matrix oluşturarak aynı işlemi yapalım\n",
        "\n",
        "np.random.randn(5,5)"
      ],
      "id": "apart-scholarship",
      "execution_count": null,
      "outputs": [
        {
          "output_type": "execute_result",
          "data": {
            "text/plain": [
              "array([[-1.36032583,  0.90706965,  0.59627832, -0.1008965 , -1.15417342],\n",
              "       [-0.52755349, -0.68547717,  1.50152293,  0.40245842, -0.93473526],\n",
              "       [ 0.70528487, -0.74573161, -0.81040798, -0.94446298,  0.09284311],\n",
              "       [ 1.30419765, -0.8805659 , -0.6611508 , -0.16272279,  0.82033218],\n",
              "       [ 2.22464392,  0.41777754, -1.47803074,  0.76149241, -1.03378657]])"
            ]
          },
          "metadata": {
            "tags": []
          },
          "execution_count": 39
        }
      ]
    },
    {
      "cell_type": "code",
      "metadata": {
        "id": "valid-niger",
        "outputId": "51856426-03d3-4fd3-a8ab-890ab5aa3c33"
      },
      "source": [
        "np.random.randn(10000).mean()"
      ],
      "id": "valid-niger",
      "execution_count": null,
      "outputs": [
        {
          "output_type": "execute_result",
          "data": {
            "text/plain": [
              "-0.0003733039671742652"
            ]
          },
          "metadata": {
            "tags": []
          },
          "execution_count": 52
        }
      ]
    },
    {
      "cell_type": "code",
      "metadata": {
        "id": "extreme-assessment",
        "outputId": "0599f5d1-8412-4659-d6b9-bb50c675506e"
      },
      "source": [
        "np.random.randn(10000).std()"
      ],
      "id": "extreme-assessment",
      "execution_count": null,
      "outputs": [
        {
          "output_type": "execute_result",
          "data": {
            "text/plain": [
              "0.9988899254413508"
            ]
          },
          "metadata": {
            "tags": []
          },
          "execution_count": 54
        }
      ]
    },
    {
      "cell_type": "markdown",
      "metadata": {
        "id": "employed-automation"
      },
      "source": [
        "# randint"
      ],
      "id": "employed-automation"
    },
    {
      "cell_type": "code",
      "metadata": {
        "id": "active-mitchell"
      },
      "source": [
        "\"\"\"\n",
        "np.random.randint()\n",
        "\n",
        "Return random integers from `low` (inclusive) to `high` (exclusive)\n",
        "\n",
        "girilen en düşük (dahil) ve en yüksek (hariç) sayılar arasında belirtilen miktarda random sayı üretir.\n",
        "\"\"\""
      ],
      "id": "active-mitchell",
      "execution_count": null,
      "outputs": []
    },
    {
      "cell_type": "code",
      "metadata": {
        "id": "serious-pleasure",
        "outputId": "8b71d278-a1c6-43af-f6e3-76f688e36340"
      },
      "source": [
        "# 1 den 100 e kadar random 10 sayıdan oluşan dizi oluşturalım\n",
        "\n",
        "np.random.randint(0, 100, 10)"
      ],
      "id": "serious-pleasure",
      "execution_count": null,
      "outputs": [
        {
          "output_type": "execute_result",
          "data": {
            "text/plain": [
              "array([88, 72, 75, 90, 76, 72, 93, 91, 11, 50])"
            ]
          },
          "metadata": {
            "tags": []
          },
          "execution_count": 55
        }
      ]
    },
    {
      "cell_type": "code",
      "metadata": {
        "id": "executive-spyware",
        "outputId": "2a2c6479-0e86-44a9-e203-fbeabc7b9fd1"
      },
      "source": [
        "# sıfırla 10 arasında size'ı 10 olan yani 10 adet elemandan oluşan array oluşturalım \n",
        "\n",
        "np.random.randint(10, size=10)"
      ],
      "id": "executive-spyware",
      "execution_count": null,
      "outputs": [
        {
          "output_type": "execute_result",
          "data": {
            "text/plain": [
              "array([6, 0, 0, 5, 4, 0, 6, 6, 9, 5])"
            ]
          },
          "metadata": {
            "tags": []
          },
          "execution_count": 56
        }
      ]
    },
    {
      "cell_type": "code",
      "metadata": {
        "id": "artificial-gauge",
        "outputId": "df5cdc83-f4c1-43f1-ad28-b17dc485c15b"
      },
      "source": [
        "# sıfırla 5 arasında 2 satır ve 4 sütunluk bir array oluşturalım\n",
        "\n",
        "np.random.randint(5, size=(2,4))"
      ],
      "id": "artificial-gauge",
      "execution_count": null,
      "outputs": [
        {
          "output_type": "execute_result",
          "data": {
            "text/plain": [
              "array([[3, 2, 2, 0],\n",
              "       [3, 3, 2, 1]])"
            ]
          },
          "metadata": {
            "tags": []
          },
          "execution_count": 57
        }
      ]
    },
    {
      "cell_type": "markdown",
      "metadata": {
        "id": "quarterly-opening"
      },
      "source": [
        "# Array Attributes and Methods"
      ],
      "id": "quarterly-opening"
    },
    {
      "cell_type": "code",
      "metadata": {
        "id": "passive-renaissance"
      },
      "source": [
        "arr = np.arange(25)\n",
        "arr2 = np.random.randint(0, 50, 10)"
      ],
      "id": "passive-renaissance",
      "execution_count": null,
      "outputs": []
    },
    {
      "cell_type": "code",
      "metadata": {
        "id": "organic-folder",
        "outputId": "c4f8c398-ef0e-45f8-fcbe-769824420dea"
      },
      "source": [
        "arr"
      ],
      "id": "organic-folder",
      "execution_count": null,
      "outputs": [
        {
          "output_type": "execute_result",
          "data": {
            "text/plain": [
              "array([ 0,  1,  2,  3,  4,  5,  6,  7,  8,  9, 10, 11, 12, 13, 14, 15, 16,\n",
              "       17, 18, 19, 20, 21, 22, 23, 24])"
            ]
          },
          "metadata": {
            "tags": []
          },
          "execution_count": 59
        }
      ]
    },
    {
      "cell_type": "markdown",
      "metadata": {
        "id": "listed-paraguay"
      },
      "source": [
        "# Reshape"
      ],
      "id": "listed-paraguay"
    },
    {
      "cell_type": "code",
      "metadata": {
        "id": "charitable-saudi"
      },
      "source": [
        ""
      ],
      "id": "charitable-saudi",
      "execution_count": null,
      "outputs": []
    },
    {
      "cell_type": "code",
      "metadata": {
        "id": "contained-insulation",
        "outputId": "456585ad-c668-448a-ca2f-8e99fb93a784"
      },
      "source": [
        "arr.shape"
      ],
      "id": "contained-insulation",
      "execution_count": null,
      "outputs": [
        {
          "output_type": "execute_result",
          "data": {
            "text/plain": [
              "(25,)"
            ]
          },
          "metadata": {
            "tags": []
          },
          "execution_count": 60
        }
      ]
    },
    {
      "cell_type": "code",
      "metadata": {
        "id": "searching-helena",
        "outputId": "898d2144-de58-4158-ec1c-ab8cf495cd22"
      },
      "source": [
        "arr.reshape(5, 4)\n",
        "\n",
        "# 25 tane değeri 5'e 4'e çeviremezsin. hata verir"
      ],
      "id": "searching-helena",
      "execution_count": null,
      "outputs": [
        {
          "output_type": "error",
          "ename": "ValueError",
          "evalue": "cannot reshape array of size 25 into shape (5,4)",
          "traceback": [
            "\u001b[1;31m---------------------------------------------------------------------------\u001b[0m",
            "\u001b[1;31mValueError\u001b[0m                                Traceback (most recent call last)",
            "\u001b[1;32m<ipython-input-61-333b1e120019>\u001b[0m in \u001b[0;36m<module>\u001b[1;34m\u001b[0m\n\u001b[1;32m----> 1\u001b[1;33m \u001b[0marr\u001b[0m\u001b[1;33m.\u001b[0m\u001b[0mreshape\u001b[0m\u001b[1;33m(\u001b[0m\u001b[1;36m5\u001b[0m\u001b[1;33m,\u001b[0m \u001b[1;36m4\u001b[0m\u001b[1;33m)\u001b[0m\u001b[1;33m\u001b[0m\u001b[1;33m\u001b[0m\u001b[0m\n\u001b[0m\u001b[0;32m      2\u001b[0m \u001b[1;33m\u001b[0m\u001b[0m\n\u001b[0;32m      3\u001b[0m \u001b[1;31m# 25 tane değeri 5'e 4'e çeviremezsin. hata verir\u001b[0m\u001b[1;33m\u001b[0m\u001b[1;33m\u001b[0m\u001b[1;33m\u001b[0m\u001b[0m\n",
            "\u001b[1;31mValueError\u001b[0m: cannot reshape array of size 25 into shape (5,4)"
          ]
        }
      ]
    },
    {
      "cell_type": "code",
      "metadata": {
        "id": "miniature-bathroom",
        "outputId": "3c76326c-7c2e-4b02-e1a7-36ed16cbd903"
      },
      "source": [
        "# 5'e 5 yaparsak olur.\n",
        "\n",
        "arr.reshape(5, 5)"
      ],
      "id": "miniature-bathroom",
      "execution_count": null,
      "outputs": [
        {
          "output_type": "execute_result",
          "data": {
            "text/plain": [
              "array([[ 0,  1,  2,  3,  4],\n",
              "       [ 5,  6,  7,  8,  9],\n",
              "       [10, 11, 12, 13, 14],\n",
              "       [15, 16, 17, 18, 19],\n",
              "       [20, 21, 22, 23, 24]])"
            ]
          },
          "metadata": {
            "tags": []
          },
          "execution_count": 62
        }
      ]
    },
    {
      "cell_type": "markdown",
      "metadata": {
        "id": "packed-jordan"
      },
      "source": [
        "# max, min, argmax, argmin"
      ],
      "id": "packed-jordan"
    },
    {
      "cell_type": "code",
      "metadata": {
        "id": "funky-holmes",
        "outputId": "baac23a1-1666-4e8d-a432-c621058aa6aa"
      },
      "source": [
        "arr2"
      ],
      "id": "funky-holmes",
      "execution_count": null,
      "outputs": [
        {
          "output_type": "execute_result",
          "data": {
            "text/plain": [
              "array([24, 12, 32, 12,  9, 21, 39, 32,  3, 40])"
            ]
          },
          "metadata": {
            "tags": []
          },
          "execution_count": 64
        }
      ]
    },
    {
      "cell_type": "code",
      "metadata": {
        "id": "female-adapter",
        "outputId": "ca81a076-d214-4e5d-8457-8eced4c572c1"
      },
      "source": [
        "arr2.max()\n",
        "\n",
        "# en yüksek değeri verir"
      ],
      "id": "female-adapter",
      "execution_count": null,
      "outputs": [
        {
          "output_type": "execute_result",
          "data": {
            "text/plain": [
              "40"
            ]
          },
          "metadata": {
            "tags": []
          },
          "execution_count": 65
        }
      ]
    },
    {
      "cell_type": "code",
      "metadata": {
        "id": "mexican-variation",
        "outputId": "95edce15-8f2d-414f-ab25-f86e3074e6b8"
      },
      "source": [
        "arr2.argmax()\n",
        "\n",
        "# en yüksek değerin indeksini verir"
      ],
      "id": "mexican-variation",
      "execution_count": null,
      "outputs": [
        {
          "output_type": "execute_result",
          "data": {
            "text/plain": [
              "9"
            ]
          },
          "metadata": {
            "tags": []
          },
          "execution_count": 66
        }
      ]
    },
    {
      "cell_type": "code",
      "metadata": {
        "id": "inclusive-upgrade",
        "outputId": "4b55e6b3-fc29-4964-e2f9-ec2df8c7fc55"
      },
      "source": [
        "arr2.argmin()"
      ],
      "id": "inclusive-upgrade",
      "execution_count": null,
      "outputs": [
        {
          "output_type": "execute_result",
          "data": {
            "text/plain": [
              "8"
            ]
          },
          "metadata": {
            "tags": []
          },
          "execution_count": 67
        }
      ]
    },
    {
      "cell_type": "markdown",
      "metadata": {
        "id": "orange-liberty"
      },
      "source": [
        "# Shape"
      ],
      "id": "orange-liberty"
    },
    {
      "cell_type": "code",
      "metadata": {
        "id": "respiratory-bachelor",
        "outputId": "71152c1f-c796-46a3-e205-4112cf716fe6"
      },
      "source": [
        "arr.shape\n",
        "\n",
        "# 25 değerden oluşan bir array imiz olduğunu görüyoruz"
      ],
      "id": "respiratory-bachelor",
      "execution_count": null,
      "outputs": [
        {
          "output_type": "execute_result",
          "data": {
            "text/plain": [
              "(25,)"
            ]
          },
          "metadata": {
            "tags": []
          },
          "execution_count": 68
        }
      ]
    },
    {
      "cell_type": "code",
      "metadata": {
        "id": "mathematical-customer",
        "outputId": "d52cf08a-d043-4200-f20f-f34935f4c7c5"
      },
      "source": [
        "arr.reshape(1, 25)\n",
        "\n",
        "# shape ine tekrar bakarsak.\n",
        "\n",
        "# 1 satır 25 sütun olarak düşünebilirsin."
      ],
      "id": "mathematical-customer",
      "execution_count": null,
      "outputs": [
        {
          "output_type": "execute_result",
          "data": {
            "text/plain": [
              "array([[ 0,  1,  2,  3,  4,  5,  6,  7,  8,  9, 10, 11, 12, 13, 14, 15,\n",
              "        16, 17, 18, 19, 20, 21, 22, 23, 24]])"
            ]
          },
          "metadata": {
            "tags": []
          },
          "execution_count": 69
        }
      ]
    },
    {
      "cell_type": "code",
      "metadata": {
        "id": "charged-footwear",
        "outputId": "e0ccf1f2-c902-4f7a-f8d9-96110cf3cca7"
      },
      "source": [
        "arr.reshape(25, 1)\n",
        "\n",
        "# 25 satır 1 sütun olarak düşünebilirsin.\n",
        "\n",
        "# verileri bu şekilde shape yapabiliyoruz."
      ],
      "id": "charged-footwear",
      "execution_count": null,
      "outputs": [
        {
          "output_type": "execute_result",
          "data": {
            "text/plain": [
              "array([[ 0],\n",
              "       [ 1],\n",
              "       [ 2],\n",
              "       [ 3],\n",
              "       [ 4],\n",
              "       [ 5],\n",
              "       [ 6],\n",
              "       [ 7],\n",
              "       [ 8],\n",
              "       [ 9],\n",
              "       [10],\n",
              "       [11],\n",
              "       [12],\n",
              "       [13],\n",
              "       [14],\n",
              "       [15],\n",
              "       [16],\n",
              "       [17],\n",
              "       [18],\n",
              "       [19],\n",
              "       [20],\n",
              "       [21],\n",
              "       [22],\n",
              "       [23],\n",
              "       [24]])"
            ]
          },
          "metadata": {
            "tags": []
          },
          "execution_count": 70
        }
      ]
    },
    {
      "cell_type": "markdown",
      "metadata": {
        "id": "capital-encounter"
      },
      "source": [
        "# dtype"
      ],
      "id": "capital-encounter"
    },
    {
      "cell_type": "code",
      "metadata": {
        "id": "opened-automation",
        "outputId": "0e1058ea-25d8-4e9a-c1d2-200cce5753bb"
      },
      "source": [
        "arr"
      ],
      "id": "opened-automation",
      "execution_count": null,
      "outputs": [
        {
          "output_type": "execute_result",
          "data": {
            "text/plain": [
              "array([ 0,  1,  2,  3,  4,  5,  6,  7,  8,  9, 10, 11, 12, 13, 14, 15, 16,\n",
              "       17, 18, 19, 20, 21, 22, 23, 24])"
            ]
          },
          "metadata": {
            "tags": []
          },
          "execution_count": 71
        }
      ]
    },
    {
      "cell_type": "code",
      "metadata": {
        "id": "nuclear-diamond",
        "outputId": "14ce27f6-5e66-45a7-fd37-69374f4bcbc1"
      },
      "source": [
        "arr.dtype"
      ],
      "id": "nuclear-diamond",
      "execution_count": null,
      "outputs": [
        {
          "output_type": "execute_result",
          "data": {
            "text/plain": [
              "dtype('int32')"
            ]
          },
          "metadata": {
            "tags": []
          },
          "execution_count": 72
        }
      ]
    },
    {
      "cell_type": "code",
      "metadata": {
        "id": "baking-control",
        "outputId": "d7108cd7-d9a5-48f3-ef68-f7bc93513c0d"
      },
      "source": [
        "b = np.full( (4,6), 2.2)\n",
        "b"
      ],
      "id": "baking-control",
      "execution_count": null,
      "outputs": [
        {
          "output_type": "execute_result",
          "data": {
            "text/plain": [
              "array([[2.2, 2.2, 2.2, 2.2, 2.2, 2.2],\n",
              "       [2.2, 2.2, 2.2, 2.2, 2.2, 2.2],\n",
              "       [2.2, 2.2, 2.2, 2.2, 2.2, 2.2],\n",
              "       [2.2, 2.2, 2.2, 2.2, 2.2, 2.2]])"
            ]
          },
          "metadata": {
            "tags": []
          },
          "execution_count": 73
        }
      ]
    },
    {
      "cell_type": "code",
      "metadata": {
        "id": "limiting-sydney",
        "outputId": "048177e5-d53d-4a3c-93a8-f59608ae7bef"
      },
      "source": [
        "# array'ın tipini görelim\n",
        "\n",
        "b.dtype"
      ],
      "id": "limiting-sydney",
      "execution_count": null,
      "outputs": [
        {
          "output_type": "execute_result",
          "data": {
            "text/plain": [
              "dtype('float64')"
            ]
          },
          "metadata": {
            "tags": []
          },
          "execution_count": 74
        }
      ]
    },
    {
      "cell_type": "markdown",
      "metadata": {
        "id": "indonesian-dream"
      },
      "source": [
        "# ndim"
      ],
      "id": "indonesian-dream"
    },
    {
      "cell_type": "code",
      "metadata": {
        "id": "israeli-friend"
      },
      "source": [
        "# kaç boyutlu olduğunu görebiliyoruz"
      ],
      "id": "israeli-friend",
      "execution_count": null,
      "outputs": []
    },
    {
      "cell_type": "code",
      "metadata": {
        "id": "dressed-square",
        "outputId": "4932067e-9a60-4fbf-f4b1-306628c85755"
      },
      "source": [
        "b.ndim\n",
        "\n",
        "# satır ve sütundan oluşan yani 2 boyutlu bir array olduğunu görebiliyoruz"
      ],
      "id": "dressed-square",
      "execution_count": null,
      "outputs": [
        {
          "output_type": "execute_result",
          "data": {
            "text/plain": [
              "2"
            ]
          },
          "metadata": {
            "tags": []
          },
          "execution_count": 75
        }
      ]
    },
    {
      "cell_type": "code",
      "metadata": {
        "id": "treated-municipality",
        "outputId": "dd93d510-e083-4520-c17a-3709154a9b8a"
      },
      "source": [
        "arr.ndim\n",
        "\n",
        "# sadece sütunlardan oluşan yani 1 boyutlu bir array.."
      ],
      "id": "treated-municipality",
      "execution_count": null,
      "outputs": [
        {
          "output_type": "execute_result",
          "data": {
            "text/plain": [
              "1"
            ]
          },
          "metadata": {
            "tags": []
          },
          "execution_count": 76
        }
      ]
    },
    {
      "cell_type": "markdown",
      "metadata": {
        "id": "every-things"
      },
      "source": [
        "# size"
      ],
      "id": "every-things"
    },
    {
      "cell_type": "code",
      "metadata": {
        "id": "simple-watts",
        "outputId": "777c64b5-3f1f-414b-d8e5-37ee64003d73"
      },
      "source": [
        "b"
      ],
      "id": "simple-watts",
      "execution_count": null,
      "outputs": [
        {
          "output_type": "execute_result",
          "data": {
            "text/plain": [
              "array([[2.2, 2.2, 2.2, 2.2, 2.2, 2.2],\n",
              "       [2.2, 2.2, 2.2, 2.2, 2.2, 2.2],\n",
              "       [2.2, 2.2, 2.2, 2.2, 2.2, 2.2],\n",
              "       [2.2, 2.2, 2.2, 2.2, 2.2, 2.2]])"
            ]
          },
          "metadata": {
            "tags": []
          },
          "execution_count": 77
        }
      ]
    },
    {
      "cell_type": "code",
      "metadata": {
        "id": "passing-death",
        "outputId": "e0fd3135-2f10-46a1-bc4e-4a847411798e"
      },
      "source": [
        "b.size\n",
        "\n",
        "# 6 sütun ver 4 satır yani size ı toplam 24 elemandan oluşutor."
      ],
      "id": "passing-death",
      "execution_count": null,
      "outputs": [
        {
          "output_type": "execute_result",
          "data": {
            "text/plain": [
              "24"
            ]
          },
          "metadata": {
            "tags": []
          },
          "execution_count": 78
        }
      ]
    },
    {
      "cell_type": "code",
      "metadata": {
        "id": "sacred-access"
      },
      "source": [
        "a = np.random.randint(10, size=(3,5))"
      ],
      "id": "sacred-access",
      "execution_count": null,
      "outputs": []
    },
    {
      "cell_type": "code",
      "metadata": {
        "id": "analyzed-sight",
        "outputId": "6fca4917-06f3-45c2-a3bd-c0f8a3c2db9a"
      },
      "source": [
        "a"
      ],
      "id": "analyzed-sight",
      "execution_count": null,
      "outputs": [
        {
          "output_type": "execute_result",
          "data": {
            "text/plain": [
              "array([[6, 7, 0, 8, 6],\n",
              "       [3, 2, 7, 7, 9],\n",
              "       [8, 3, 8, 0, 2]])"
            ]
          },
          "metadata": {
            "tags": []
          },
          "execution_count": 80
        }
      ]
    },
    {
      "cell_type": "code",
      "metadata": {
        "id": "boolean-concern",
        "outputId": "e519ad5f-75a2-46a6-a138-e0dab6586865"
      },
      "source": [
        "a.ndim\n",
        "\n",
        " # dimension una baktığımızda 2 boyutlu oluğunu görebiliyoruz"
      ],
      "id": "boolean-concern",
      "execution_count": null,
      "outputs": [
        {
          "output_type": "execute_result",
          "data": {
            "text/plain": [
              "2"
            ]
          },
          "metadata": {
            "tags": []
          },
          "execution_count": 81
        }
      ]
    },
    {
      "cell_type": "code",
      "metadata": {
        "id": "related-little",
        "outputId": "8dbe16a6-1d8a-4cd3-992f-749e03234021"
      },
      "source": [
        "a.dtype\n",
        "\n",
        "# tipnin integer olduğunu görebiliyoruz"
      ],
      "id": "related-little",
      "execution_count": null,
      "outputs": [
        {
          "output_type": "execute_result",
          "data": {
            "text/plain": [
              "dtype('int32')"
            ]
          },
          "metadata": {
            "tags": []
          },
          "execution_count": 82
        }
      ]
    },
    {
      "cell_type": "code",
      "metadata": {
        "id": "respiratory-maria",
        "outputId": "c9ddf260-555a-4056-b111-f23e81e681e0"
      },
      "source": [
        "arr"
      ],
      "id": "respiratory-maria",
      "execution_count": null,
      "outputs": [
        {
          "output_type": "execute_result",
          "data": {
            "text/plain": [
              "array([ 0,  1,  2,  3,  4,  5,  6,  7,  8,  9, 10, 11, 12, 13, 14, 15, 16,\n",
              "       17, 18, 19, 20, 21, 22, 23, 24])"
            ]
          },
          "metadata": {
            "tags": []
          },
          "execution_count": 83
        }
      ]
    },
    {
      "cell_type": "code",
      "metadata": {
        "id": "mobile-allergy",
        "outputId": "8fd13402-aca4-4042-edcb-f5a1cbe01830"
      },
      "source": [
        "arr.ndim"
      ],
      "id": "mobile-allergy",
      "execution_count": null,
      "outputs": [
        {
          "output_type": "execute_result",
          "data": {
            "text/plain": [
              "1"
            ]
          },
          "metadata": {
            "tags": []
          },
          "execution_count": 84
        }
      ]
    },
    {
      "cell_type": "markdown",
      "metadata": {
        "id": "public-acoustic"
      },
      "source": [
        "# Concatenation of the Arrays"
      ],
      "id": "public-acoustic"
    },
    {
      "cell_type": "code",
      "metadata": {
        "id": "sustainable-cemetery"
      },
      "source": [
        "# birleştirmek üzere 2 array oluşturalım\n",
        "\n",
        "x = np.array([1,2,3])\n",
        "y = np.array([4,5,6])"
      ],
      "id": "sustainable-cemetery",
      "execution_count": null,
      "outputs": []
    },
    {
      "cell_type": "markdown",
      "metadata": {
        "id": "dated-macro"
      },
      "source": [
        "x"
      ],
      "id": "dated-macro"
    },
    {
      "cell_type": "code",
      "metadata": {
        "id": "quarterly-cambodia",
        "outputId": "e8236a03-2504-40ad-88ff-292a20192fd5"
      },
      "source": [
        "y"
      ],
      "id": "quarterly-cambodia",
      "execution_count": null,
      "outputs": [
        {
          "output_type": "execute_result",
          "data": {
            "text/plain": [
              "array([4, 5, 6])"
            ]
          },
          "metadata": {
            "tags": []
          },
          "execution_count": 88
        }
      ]
    },
    {
      "cell_type": "code",
      "metadata": {
        "id": "neutral-percentage",
        "outputId": "879c7df1-3531-4d48-e046-4c6659c6c111"
      },
      "source": [
        "# iki array i birleştirelim\n",
        "\n",
        "np.concatenate([x,y])"
      ],
      "id": "neutral-percentage",
      "execution_count": null,
      "outputs": [
        {
          "output_type": "execute_result",
          "data": {
            "text/plain": [
              "array([1, 2, 3, 4, 5, 6])"
            ]
          },
          "metadata": {
            "tags": []
          },
          "execution_count": 89
        }
      ]
    },
    {
      "cell_type": "markdown",
      "metadata": {
        "id": "intensive-andorra"
      },
      "source": [
        "# 2d matrix"
      ],
      "id": "intensive-andorra"
    },
    {
      "cell_type": "code",
      "metadata": {
        "id": "asian-humor",
        "outputId": "9d1014eb-6420-415e-a5ef-5edbcac50533"
      },
      "source": [
        "a = np.array([[1,2,3],\n",
        "             [4,5,6]])\n",
        "a"
      ],
      "id": "asian-humor",
      "execution_count": null,
      "outputs": [
        {
          "output_type": "execute_result",
          "data": {
            "text/plain": [
              "array([[1, 2, 3],\n",
              "       [4, 5, 6]])"
            ]
          },
          "metadata": {
            "tags": []
          },
          "execution_count": 90
        }
      ]
    },
    {
      "cell_type": "code",
      "metadata": {
        "id": "pacific-festival",
        "outputId": "14f2c2d7-faf9-418e-8110-b8387cf62239"
      },
      "source": [
        "np.concatenate([a,a])\n",
        "\n",
        "# a arrayini yine kendisiyle birleştirelim"
      ],
      "id": "pacific-festival",
      "execution_count": null,
      "outputs": [
        {
          "output_type": "execute_result",
          "data": {
            "text/plain": [
              "array([[1, 2, 3],\n",
              "       [4, 5, 6],\n",
              "       [1, 2, 3],\n",
              "       [4, 5, 6]])"
            ]
          },
          "metadata": {
            "tags": []
          },
          "execution_count": 91
        }
      ]
    },
    {
      "cell_type": "code",
      "metadata": {
        "id": "second-senate",
        "outputId": "edad71fe-9872-487b-908f-bbf209c2c7b8"
      },
      "source": [
        "# bu sefer de sütun bazında yan yana birleştirelim \n",
        "\n",
        "np.concatenate([a,a], axis=1)"
      ],
      "id": "second-senate",
      "execution_count": null,
      "outputs": [
        {
          "output_type": "execute_result",
          "data": {
            "text/plain": [
              "array([[1, 2, 3, 1, 2, 3],\n",
              "       [4, 5, 6, 4, 5, 6]])"
            ]
          },
          "metadata": {
            "tags": []
          },
          "execution_count": 92
        }
      ]
    },
    {
      "cell_type": "markdown",
      "metadata": {
        "id": "hollywood-fighter"
      },
      "source": [
        "# Splitting of the Arrays"
      ],
      "id": "hollywood-fighter"
    },
    {
      "cell_type": "code",
      "metadata": {
        "id": "rough-courage"
      },
      "source": [
        "x = np.array([1,24,53, 99, 99, 3, 2, 1])"
      ],
      "id": "rough-courage",
      "execution_count": null,
      "outputs": []
    },
    {
      "cell_type": "code",
      "metadata": {
        "id": "stupid-hampshire",
        "outputId": "edb6de00-7a7f-452b-ef2e-0f3b21ef8d86"
      },
      "source": [
        "np.split(x, [3, 5])\n",
        "\n",
        "# bu şekilde bölebiliyoruz (split edebiliyoruz)\n",
        "# önce 3. sonra 5. indeksten itibaren böldük"
      ],
      "id": "stupid-hampshire",
      "execution_count": null,
      "outputs": [
        {
          "output_type": "execute_result",
          "data": {
            "text/plain": [
              "[array([ 1, 24, 53]), array([99, 99]), array([3, 2, 1])]"
            ]
          },
          "metadata": {
            "tags": []
          },
          "execution_count": 94
        }
      ]
    },
    {
      "cell_type": "code",
      "metadata": {
        "id": "allied-kentucky",
        "outputId": "b52758c7-fc7d-4ef0-d021-784d0aac8e6c"
      },
      "source": [
        "np.split(x, 2) \n",
        "\n",
        "#bu şekilde kaç parçaya bölebileceğimizi belirleyebiliyoruz. burada array i 2 parçaya böldük"
      ],
      "id": "allied-kentucky",
      "execution_count": null,
      "outputs": [
        {
          "output_type": "execute_result",
          "data": {
            "text/plain": [
              "[array([ 1, 24, 53, 99]), array([99,  3,  2,  1])]"
            ]
          },
          "metadata": {
            "tags": []
          },
          "execution_count": 95
        }
      ]
    },
    {
      "cell_type": "code",
      "metadata": {
        "id": "single-cornell",
        "outputId": "dd2539ff-853f-4ecf-d621-70917f56c744"
      },
      "source": [
        "np.split(x, 3)\n",
        "\n",
        "# split eşit böldüğü için ve array 8 eleman olduğu için 3 e bölemeyecek"
      ],
      "id": "single-cornell",
      "execution_count": null,
      "outputs": [
        {
          "output_type": "error",
          "ename": "ValueError",
          "evalue": "array split does not result in an equal division",
          "traceback": [
            "\u001b[1;31m---------------------------------------------------------------------------\u001b[0m",
            "\u001b[1;31mValueError\u001b[0m                                Traceback (most recent call last)",
            "\u001b[1;32m<ipython-input-104-d7a3418ddee8>\u001b[0m in \u001b[0;36m<module>\u001b[1;34m\u001b[0m\n\u001b[1;32m----> 1\u001b[1;33m \u001b[0mnp\u001b[0m\u001b[1;33m.\u001b[0m\u001b[0msplit\u001b[0m\u001b[1;33m(\u001b[0m\u001b[0mx\u001b[0m\u001b[1;33m,\u001b[0m \u001b[1;36m3\u001b[0m\u001b[1;33m)\u001b[0m\u001b[1;33m\u001b[0m\u001b[1;33m\u001b[0m\u001b[0m\n\u001b[0m\u001b[0;32m      2\u001b[0m \u001b[1;33m\u001b[0m\u001b[0m\n\u001b[0;32m      3\u001b[0m \u001b[1;31m# split eşit böldüğü için ve 8 eleman olduğu için 3 e bölemeyecek\u001b[0m\u001b[1;33m\u001b[0m\u001b[1;33m\u001b[0m\u001b[1;33m\u001b[0m\u001b[0m\n",
            "\u001b[1;32m<__array_function__ internals>\u001b[0m in \u001b[0;36msplit\u001b[1;34m(*args, **kwargs)\u001b[0m\n",
            "\u001b[1;32mc:\\users\\hüseyin\\appdata\\local\\programs\\python\\python37\\lib\\site-packages\\numpy\\lib\\shape_base.py\u001b[0m in \u001b[0;36msplit\u001b[1;34m(ary, indices_or_sections, axis)\u001b[0m\n\u001b[0;32m    871\u001b[0m         \u001b[1;32mif\u001b[0m \u001b[0mN\u001b[0m \u001b[1;33m%\u001b[0m \u001b[0msections\u001b[0m\u001b[1;33m:\u001b[0m\u001b[1;33m\u001b[0m\u001b[1;33m\u001b[0m\u001b[0m\n\u001b[0;32m    872\u001b[0m             raise ValueError(\n\u001b[1;32m--> 873\u001b[1;33m                 'array split does not result in an equal division') from None\n\u001b[0m\u001b[0;32m    874\u001b[0m     \u001b[1;32mreturn\u001b[0m \u001b[0marray_split\u001b[0m\u001b[1;33m(\u001b[0m\u001b[0mary\u001b[0m\u001b[1;33m,\u001b[0m \u001b[0mindices_or_sections\u001b[0m\u001b[1;33m,\u001b[0m \u001b[0maxis\u001b[0m\u001b[1;33m)\u001b[0m\u001b[1;33m\u001b[0m\u001b[1;33m\u001b[0m\u001b[0m\n\u001b[0;32m    875\u001b[0m \u001b[1;33m\u001b[0m\u001b[0m\n",
            "\u001b[1;31mValueError\u001b[0m: array split does not result in an equal division"
          ]
        }
      ]
    },
    {
      "cell_type": "markdown",
      "metadata": {
        "id": "regulation-republican"
      },
      "source": [
        "# 2d matrix"
      ],
      "id": "regulation-republican"
    },
    {
      "cell_type": "code",
      "metadata": {
        "id": "dependent-night",
        "outputId": "8caff060-6726-446a-9888-1053c9115da8"
      },
      "source": [
        "# 2 boyutlu bir matrix belirleyelim\n",
        "\n",
        "m = np.arange(20).reshape(5,4)\n",
        "m"
      ],
      "id": "dependent-night",
      "execution_count": null,
      "outputs": [
        {
          "output_type": "execute_result",
          "data": {
            "text/plain": [
              "array([[ 0,  1,  2,  3],\n",
              "       [ 4,  5,  6,  7],\n",
              "       [ 8,  9, 10, 11],\n",
              "       [12, 13, 14, 15],\n",
              "       [16, 17, 18, 19]])"
            ]
          },
          "metadata": {
            "tags": []
          },
          "execution_count": 99
        }
      ]
    },
    {
      "cell_type": "code",
      "metadata": {
        "id": "facial-failing",
        "outputId": "8eb4d287-84e1-41a8-b77a-8eea0b7aaafa"
      },
      "source": [
        "np.vsplit(m, [1,3])\n",
        "\n",
        "# 2 boyutlu array de vsplit kullanıyoruz\n",
        "# satır bazında bölüyor. önce 1. indeksten böldük. sonra da geri kalanını 3. indeksten böldük"
      ],
      "id": "facial-failing",
      "execution_count": null,
      "outputs": [
        {
          "output_type": "execute_result",
          "data": {
            "text/plain": [
              "[array([[0, 1, 2, 3]]),\n",
              " array([[ 4,  5,  6,  7],\n",
              "        [ 8,  9, 10, 11]]),\n",
              " array([[12, 13, 14, 15],\n",
              "        [16, 17, 18, 19]])]"
            ]
          },
          "metadata": {
            "tags": []
          },
          "execution_count": 101
        }
      ]
    },
    {
      "cell_type": "code",
      "metadata": {
        "id": "powerful-december",
        "outputId": "a308c9db-378b-4eb7-db40-7de9edcbc664"
      },
      "source": [
        "np.vsplit(m, [3])\n",
        "\n",
        "# yalnızca 3 yazınca önce 0,1,2. indeksleri alarak 3. indeksten böldü"
      ],
      "id": "powerful-december",
      "execution_count": null,
      "outputs": [
        {
          "output_type": "execute_result",
          "data": {
            "text/plain": [
              "[array([[ 0,  1,  2,  3],\n",
              "        [ 4,  5,  6,  7],\n",
              "        [ 8,  9, 10, 11]]),\n",
              " array([[12, 13, 14, 15],\n",
              "        [16, 17, 18, 19]])]"
            ]
          },
          "metadata": {
            "tags": []
          },
          "execution_count": 102
        }
      ]
    },
    {
      "cell_type": "code",
      "metadata": {
        "id": "built-glucose"
      },
      "source": [
        "upper, lower = np.vsplit(m, [3])\n",
        "\n",
        "#upper ve lower değişkenlerine değer atadık."
      ],
      "id": "built-glucose",
      "execution_count": null,
      "outputs": []
    },
    {
      "cell_type": "code",
      "metadata": {
        "id": "objective-import",
        "outputId": "4460d151-758d-4e13-9750-9c8d4bcf3980"
      },
      "source": [
        "np.vsplit(m, [3])"
      ],
      "id": "objective-import",
      "execution_count": null,
      "outputs": [
        {
          "output_type": "execute_result",
          "data": {
            "text/plain": [
              "[array([[ 0,  1,  2,  3],\n",
              "        [ 4,  5,  6,  7],\n",
              "        [ 8,  9, 10, 11]]),\n",
              " array([[12, 13, 14, 15],\n",
              "        [16, 17, 18, 19]])]"
            ]
          },
          "metadata": {
            "tags": []
          },
          "execution_count": 105
        }
      ]
    },
    {
      "cell_type": "code",
      "metadata": {
        "id": "agreed-backing",
        "outputId": "72f0fc65-a212-4fa3-cba8-af6e5590e0a3"
      },
      "source": [
        "upper\n",
        "\n",
        "# bölünen array in üst tarafını aldık "
      ],
      "id": "agreed-backing",
      "execution_count": null,
      "outputs": [
        {
          "output_type": "execute_result",
          "data": {
            "text/plain": [
              "array([[ 0,  1,  2,  3],\n",
              "       [ 4,  5,  6,  7],\n",
              "       [ 8,  9, 10, 11]])"
            ]
          },
          "metadata": {
            "tags": []
          },
          "execution_count": 106
        }
      ]
    },
    {
      "cell_type": "code",
      "metadata": {
        "id": "proof-dialogue",
        "outputId": "28d177a4-4525-4984-83e8-5b73b49e328f"
      },
      "source": [
        "lower\n",
        "\n",
        "# bölünen array in alt tarafını aldık "
      ],
      "id": "proof-dialogue",
      "execution_count": null,
      "outputs": [
        {
          "output_type": "execute_result",
          "data": {
            "text/plain": [
              "array([[12, 13, 14, 15],\n",
              "       [16, 17, 18, 19]])"
            ]
          },
          "metadata": {
            "tags": []
          },
          "execution_count": 107
        }
      ]
    },
    {
      "cell_type": "code",
      "metadata": {
        "id": "excellent-stage",
        "outputId": "9c4a8885-13e8-4016-ce78-c23c48198cd3"
      },
      "source": [
        "np.vsplit(m, 5)\n",
        "\n",
        "# satırları direkt 5'e böldük ( köşeli parantez içinde olduğunda indeks olarak bölüyordu)"
      ],
      "id": "excellent-stage",
      "execution_count": null,
      "outputs": [
        {
          "output_type": "execute_result",
          "data": {
            "text/plain": [
              "[array([[0, 1, 2, 3]]),\n",
              " array([[4, 5, 6, 7]]),\n",
              " array([[ 8,  9, 10, 11]]),\n",
              " array([[12, 13, 14, 15]]),\n",
              " array([[16, 17, 18, 19]])]"
            ]
          },
          "metadata": {
            "tags": []
          },
          "execution_count": 108
        }
      ]
    },
    {
      "cell_type": "code",
      "metadata": {
        "id": "announced-mambo",
        "outputId": "83d76f0d-232c-42ea-c951-02b08006e15a"
      },
      "source": [
        "m"
      ],
      "id": "announced-mambo",
      "execution_count": null,
      "outputs": [
        {
          "output_type": "execute_result",
          "data": {
            "text/plain": [
              "array([[ 0,  1,  2,  3],\n",
              "       [ 4,  5,  6,  7],\n",
              "       [ 8,  9, 10, 11],\n",
              "       [12, 13, 14, 15],\n",
              "       [16, 17, 18, 19]])"
            ]
          },
          "metadata": {
            "tags": []
          },
          "execution_count": 109
        }
      ]
    },
    {
      "cell_type": "code",
      "metadata": {
        "id": "retained-groove",
        "outputId": "4b360dd4-4e39-44c8-aedf-06bc2f54dcc4"
      },
      "source": [
        "# hsplit, sütun bazında  bölüyor.\n",
        "\n",
        "np.hsplit(m, [2])\n",
        "\n",
        "\n",
        "# sütunları sütunun 2. indeksinden böldü"
      ],
      "id": "retained-groove",
      "execution_count": null,
      "outputs": [
        {
          "output_type": "execute_result",
          "data": {
            "text/plain": [
              "[array([[ 0,  1],\n",
              "        [ 4,  5],\n",
              "        [ 8,  9],\n",
              "        [12, 13],\n",
              "        [16, 17]]),\n",
              " array([[ 2,  3],\n",
              "        [ 6,  7],\n",
              "        [10, 11],\n",
              "        [14, 15],\n",
              "        [18, 19]])]"
            ]
          },
          "metadata": {
            "tags": []
          },
          "execution_count": 111
        }
      ]
    },
    {
      "cell_type": "code",
      "metadata": {
        "id": "dietary-valuation",
        "outputId": "8c55a57f-ccd5-49ce-8273-f8b24f9687d0"
      },
      "source": [
        "np.hsplit(m, 4)\n",
        "\n",
        "# 4 sütunumuz vardı. direkt 4'e bölelim"
      ],
      "id": "dietary-valuation",
      "execution_count": null,
      "outputs": [
        {
          "output_type": "execute_result",
          "data": {
            "text/plain": [
              "[array([[ 0],\n",
              "        [ 4],\n",
              "        [ 8],\n",
              "        [12],\n",
              "        [16]]),\n",
              " array([[ 1],\n",
              "        [ 5],\n",
              "        [ 9],\n",
              "        [13],\n",
              "        [17]]),\n",
              " array([[ 2],\n",
              "        [ 6],\n",
              "        [10],\n",
              "        [14],\n",
              "        [18]]),\n",
              " array([[ 3],\n",
              "        [ 7],\n",
              "        [11],\n",
              "        [15],\n",
              "        [19]])]"
            ]
          },
          "metadata": {
            "tags": []
          },
          "execution_count": 112
        }
      ]
    },
    {
      "cell_type": "markdown",
      "metadata": {
        "id": "shaped-reviewer"
      },
      "source": [
        "# Sorting of the Arrays"
      ],
      "id": "shaped-reviewer"
    },
    {
      "cell_type": "code",
      "metadata": {
        "id": "greatest-proposal"
      },
      "source": [
        "v = np.array([2,1,3,4,5])"
      ],
      "id": "greatest-proposal",
      "execution_count": null,
      "outputs": []
    },
    {
      "cell_type": "code",
      "metadata": {
        "id": "corporate-spending",
        "outputId": "2a86da40-1b69-4671-bf34-9aa768771105"
      },
      "source": [
        "# array i sort edelim\n",
        "\n",
        "np.sort(v)"
      ],
      "id": "corporate-spending",
      "execution_count": null,
      "outputs": [
        {
          "output_type": "execute_result",
          "data": {
            "text/plain": [
              "array([1, 2, 3, 4, 5])"
            ]
          },
          "metadata": {
            "tags": []
          },
          "execution_count": 114
        }
      ]
    },
    {
      "cell_type": "markdown",
      "metadata": {
        "id": "engaged-bidder"
      },
      "source": [
        "# 2d matrix te sort"
      ],
      "id": "engaged-bidder"
    },
    {
      "cell_type": "code",
      "metadata": {
        "id": "worst-tsunami"
      },
      "source": [
        "twoD = np.random.randint(5, 100, (3,3))"
      ],
      "id": "worst-tsunami",
      "execution_count": null,
      "outputs": []
    },
    {
      "cell_type": "code",
      "metadata": {
        "id": "proprietary-machine",
        "outputId": "0de7a14e-7f15-4a14-c417-6e48bc1f11be"
      },
      "source": [
        "twoD"
      ],
      "id": "proprietary-machine",
      "execution_count": null,
      "outputs": [
        {
          "output_type": "execute_result",
          "data": {
            "text/plain": [
              "array([[88, 20, 45],\n",
              "       [62, 68, 20],\n",
              "       [ 6, 96, 35]])"
            ]
          },
          "metadata": {
            "tags": []
          },
          "execution_count": 116
        }
      ]
    },
    {
      "cell_type": "code",
      "metadata": {
        "id": "rental-narrative",
        "outputId": "e98ae682-972e-4647-876b-831c5d2456c0"
      },
      "source": [
        "np.sort(twoD, axis = 0) \n",
        "\n",
        "  # axis'i 0 olarak belirleyince satıra bazında sıralayacak"
      ],
      "id": "rental-narrative",
      "execution_count": null,
      "outputs": [
        {
          "output_type": "execute_result",
          "data": {
            "text/plain": [
              "array([[ 6, 20, 20],\n",
              "       [62, 68, 35],\n",
              "       [88, 96, 45]])"
            ]
          },
          "metadata": {
            "tags": []
          },
          "execution_count": 117
        }
      ]
    },
    {
      "cell_type": "code",
      "metadata": {
        "id": "alike-cable",
        "outputId": "becfcf6a-7034-46f2-9573-fca9e7be095a"
      },
      "source": [
        " # aynısını sütun için de yapalım,\n",
        "\n",
        "np.sort(twoD, axis = 1)\n",
        "\n",
        " # axis'i 1 olarak belirleyince sütun bazında sıralayacak"
      ],
      "id": "alike-cable",
      "execution_count": null,
      "outputs": [
        {
          "output_type": "execute_result",
          "data": {
            "text/plain": [
              "array([[20, 45, 88],\n",
              "       [20, 62, 68],\n",
              "       [ 6, 35, 96]])"
            ]
          },
          "metadata": {
            "tags": []
          },
          "execution_count": 118
        }
      ]
    },
    {
      "cell_type": "code",
      "metadata": {
        "id": "assisted-fleet"
      },
      "source": [
        ""
      ],
      "id": "assisted-fleet",
      "execution_count": null,
      "outputs": []
    },
    {
      "cell_type": "code",
      "metadata": {
        "id": "sound-safety"
      },
      "source": [
        ""
      ],
      "id": "sound-safety",
      "execution_count": null,
      "outputs": []
    },
    {
      "cell_type": "code",
      "metadata": {
        "id": "timely-satisfaction"
      },
      "source": [
        ""
      ],
      "id": "timely-satisfaction",
      "execution_count": null,
      "outputs": []
    },
    {
      "cell_type": "markdown",
      "metadata": {
        "id": "accompanied-state"
      },
      "source": [
        "# seed"
      ],
      "id": "accompanied-state"
    },
    {
      "cell_type": "code",
      "metadata": {
        "id": "surgical-depth"
      },
      "source": [
        "\"\"\"\n",
        "np.random.seed()\n",
        "\n",
        "seed ile set etmek çok kullanışlıdır. seed, rastgele durum üretir. \n",
        "böylece rastgele sonuçlar yeniden üretilebilir.\n",
        "\"\"\""
      ],
      "id": "surgical-depth",
      "execution_count": null,
      "outputs": []
    },
    {
      "cell_type": "code",
      "metadata": {
        "id": "interesting-drink",
        "outputId": "be5155ac-2233-4d97-b5cd-e1c584c90ca1"
      },
      "source": [
        "np.random.seed(42)\n",
        "np.random.rand(4)\n",
        "\n",
        "# so what the seed allows us to do is set a particular set of random numbers.\n",
        "# seed burda bize belirli bir rasgele sayılar kümesi ayarladı.\n",
        "# 42 burada tamamen keyfi bir seçim\n"
      ],
      "id": "interesting-drink",
      "execution_count": null,
      "outputs": [
        {
          "output_type": "execute_result",
          "data": {
            "text/plain": [
              "array([0.37454012, 0.95071431, 0.73199394, 0.59865848])"
            ]
          },
          "metadata": {
            "tags": []
          },
          "execution_count": 119
        }
      ]
    },
    {
      "cell_type": "code",
      "metadata": {
        "id": "modern-madagascar",
        "outputId": "921d691f-04ad-4adf-c1e1-1dca178f339e"
      },
      "source": [
        "np.random.seed(101)\n",
        "np.random.rand(4)"
      ],
      "id": "modern-madagascar",
      "execution_count": null,
      "outputs": [
        {
          "output_type": "execute_result",
          "data": {
            "text/plain": [
              "array([0.51639863, 0.57066759, 0.02847423, 0.17152166])"
            ]
          },
          "metadata": {
            "tags": []
          },
          "execution_count": 120
        }
      ]
    },
    {
      "cell_type": "code",
      "metadata": {
        "id": "delayed-richmond",
        "outputId": "44f87208-b538-4c3a-af24-0f6f008fb5ca"
      },
      "source": [
        "np.random.rand(4)"
      ],
      "id": "delayed-richmond",
      "execution_count": null,
      "outputs": [
        {
          "output_type": "execute_result",
          "data": {
            "text/plain": [
              "array([0.68527698, 0.83389686, 0.30696622, 0.89361308])"
            ]
          },
          "metadata": {
            "tags": []
          },
          "execution_count": 121
        }
      ]
    },
    {
      "cell_type": "code",
      "metadata": {
        "id": "coated-orbit",
        "outputId": "8f45c666-f79c-4f05-b39a-e0567a3dd367"
      },
      "source": [
        "np.random.rand(4)\n",
        "\n",
        "# 101 ile set ettikten sonra her np.random.rand(4) fonksiyonu bize ayrı bir random dizi verecektir."
      ],
      "id": "coated-orbit",
      "execution_count": null,
      "outputs": [
        {
          "output_type": "execute_result",
          "data": {
            "text/plain": [
              "array([0.72154386, 0.18993895, 0.55422759, 0.35213195])"
            ]
          },
          "metadata": {
            "tags": []
          },
          "execution_count": 122
        }
      ]
    },
    {
      "cell_type": "code",
      "metadata": {
        "id": "minor-arthritis",
        "outputId": "47234987-60d1-4a36-880f-c3c3198fc21f"
      },
      "source": [
        "np.random.seed(101)\n",
        "np.random.rand(4)\n",
        "\n",
        "# fakat 101'i tekrar set ettiğimizde yeniden bize ilk orjinal diziyi verecektir."
      ],
      "id": "minor-arthritis",
      "execution_count": null,
      "outputs": [
        {
          "output_type": "execute_result",
          "data": {
            "text/plain": [
              "array([0.51639863, 0.57066759, 0.02847423, 0.17152166])"
            ]
          },
          "metadata": {
            "tags": []
          },
          "execution_count": 123
        }
      ]
    },
    {
      "cell_type": "code",
      "metadata": {
        "id": "residential-classic"
      },
      "source": [
        ""
      ],
      "id": "residential-classic",
      "execution_count": null,
      "outputs": []
    }
  ]
}