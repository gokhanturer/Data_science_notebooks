{
  "nbformat": 4,
  "nbformat_minor": 5,
  "metadata": {
    "kernelspec": {
      "display_name": "Python 3",
      "language": "python",
      "name": "python3"
    },
    "language_info": {
      "codemirror_mode": {
        "name": "ipython",
        "version": 3
      },
      "file_extension": ".py",
      "mimetype": "text/x-python",
      "name": "python",
      "nbconvert_exporter": "python",
      "pygments_lexer": "ipython3",
      "version": "3.8.8"
    },
    "colab": {
      "name": "7.Statistics_Labs 1 (18_06_2021)-Tr.ipynb",
      "provenance": [],
      "include_colab_link": true
    }
  },
  "cells": [
    {
      "cell_type": "markdown",
      "metadata": {
        "id": "view-in-github",
        "colab_type": "text"
      },
      "source": [
        "<a href=\"https://colab.research.google.com/github/gokhanturer/Data_science_notebooks/blob/main/7_Statistics_Labs_1_(18_06_2021)_Tr.ipynb\" target=\"_parent\"><img src=\"https://colab.research.google.com/assets/colab-badge.svg\" alt=\"Open In Colab\"/></a>"
      ]
    },
    {
      "cell_type": "markdown",
      "metadata": {
        "id": "562f873c"
      },
      "source": [
        "## Statistics Lab 1 (18_06_2021)-Tr"
      ],
      "id": "562f873c"
    },
    {
      "cell_type": "code",
      "metadata": {
        "id": "d8ceff5f"
      },
      "source": [
        "import numpy as np"
      ],
      "id": "d8ceff5f",
      "execution_count": null,
      "outputs": []
    },
    {
      "cell_type": "code",
      "metadata": {
        "id": "279a714d"
      },
      "source": [
        "x = [1,2,3,4,5]"
      ],
      "id": "279a714d",
      "execution_count": null,
      "outputs": []
    },
    {
      "cell_type": "code",
      "metadata": {
        "id": "9285215c",
        "outputId": "1ad783e7-44ee-4222-d7c8-f0a00e05e8f8"
      },
      "source": [
        "np.mean(x)"
      ],
      "id": "9285215c",
      "execution_count": null,
      "outputs": [
        {
          "output_type": "execute_result",
          "data": {
            "text/plain": [
              "3.0"
            ]
          },
          "metadata": {
            "tags": []
          },
          "execution_count": 7
        }
      ]
    },
    {
      "cell_type": "code",
      "metadata": {
        "id": "9bf9feda",
        "outputId": "9992f013-3413-4424-c531-0d5eb7fcacd7"
      },
      "source": [
        "np.median(x)"
      ],
      "id": "9bf9feda",
      "execution_count": null,
      "outputs": [
        {
          "output_type": "execute_result",
          "data": {
            "text/plain": [
              "3.0"
            ]
          },
          "metadata": {
            "tags": []
          },
          "execution_count": 9
        }
      ]
    },
    {
      "cell_type": "code",
      "metadata": {
        "id": "03ed347c"
      },
      "source": [
        "import scipy.stats as stats"
      ],
      "id": "03ed347c",
      "execution_count": null,
      "outputs": []
    },
    {
      "cell_type": "code",
      "metadata": {
        "id": "eb312da1",
        "outputId": "3ba5f9ed-37f7-4425-e892-d945c8a60aff"
      },
      "source": [
        "stats.mode([1,1,2,2,2,3,3,3,3,4,4,4,5,5])"
      ],
      "id": "eb312da1",
      "execution_count": null,
      "outputs": [
        {
          "output_type": "execute_result",
          "data": {
            "text/plain": [
              "ModeResult(mode=array([3]), count=array([4]))"
            ]
          },
          "metadata": {
            "tags": []
          },
          "execution_count": 12
        }
      ]
    },
    {
      "cell_type": "code",
      "metadata": {
        "id": "6f69d9b5",
        "outputId": "37c8f8af-1596-43d2-fb33-46c12c8967ba"
      },
      "source": [
        "stats.skew([1,2,2,2,3,3,3,3,4,4,4,4,5,5,5,5])"
      ],
      "id": "6f69d9b5",
      "execution_count": null,
      "outputs": [
        {
          "output_type": "execute_result",
          "data": {
            "text/plain": [
              "-0.2649604686138083"
            ]
          },
          "metadata": {
            "tags": []
          },
          "execution_count": 15
        }
      ]
    },
    {
      "cell_type": "code",
      "metadata": {
        "id": "9fefbe1e"
      },
      "source": [
        "y = [1,2,2,2,3,3,3,3,4,4,4,4,4,5,5,5,5,5,5]"
      ],
      "id": "9fefbe1e",
      "execution_count": null,
      "outputs": []
    },
    {
      "cell_type": "code",
      "metadata": {
        "id": "1647d668",
        "outputId": "c09de77b-8fe5-4f99-eebd-43bb059dba0d"
      },
      "source": [
        "np.mean(y)"
      ],
      "id": "1647d668",
      "execution_count": null,
      "outputs": [
        {
          "output_type": "execute_result",
          "data": {
            "text/plain": [
              "3.6315789473684212"
            ]
          },
          "metadata": {
            "tags": []
          },
          "execution_count": 20
        }
      ]
    },
    {
      "cell_type": "code",
      "metadata": {
        "id": "da1f0462",
        "outputId": "227f5ca0-908d-4a08-fd10-80942edc7590"
      },
      "source": [
        "np.median(y)"
      ],
      "id": "da1f0462",
      "execution_count": null,
      "outputs": [
        {
          "output_type": "execute_result",
          "data": {
            "text/plain": [
              "4.0"
            ]
          },
          "metadata": {
            "tags": []
          },
          "execution_count": 21
        }
      ]
    },
    {
      "cell_type": "code",
      "metadata": {
        "id": "9e5782f5",
        "outputId": "996e026b-9718-4f27-834e-44dd7af6d3a1"
      },
      "source": [
        "stats.kurtosis(y)"
      ],
      "id": "9e5782f5",
      "execution_count": null,
      "outputs": [
        {
          "output_type": "execute_result",
          "data": {
            "text/plain": [
              "-0.8598353909465013"
            ]
          },
          "metadata": {
            "tags": []
          },
          "execution_count": 23
        }
      ]
    },
    {
      "cell_type": "markdown",
      "metadata": {
        "id": "00a79c09"
      },
      "source": [
        "## Dispersion"
      ],
      "id": "00a79c09"
    },
    {
      "cell_type": "code",
      "metadata": {
        "id": "8770a0c9"
      },
      "source": [
        "age = [20,22,25,25,27,27,27,29,30,31]"
      ],
      "id": "8770a0c9",
      "execution_count": null,
      "outputs": []
    },
    {
      "cell_type": "code",
      "metadata": {
        "id": "c7613984",
        "outputId": "fab5ac0a-5c13-4171-a11b-cfe091bed00f"
      },
      "source": [
        "np.var(age)"
      ],
      "id": "c7613984",
      "execution_count": null,
      "outputs": [
        {
          "output_type": "execute_result",
          "data": {
            "text/plain": [
              "10.610000000000001"
            ]
          },
          "metadata": {
            "tags": []
          },
          "execution_count": 25
        }
      ]
    },
    {
      "cell_type": "code",
      "metadata": {
        "id": "6c150356"
      },
      "source": [
        "import math as math"
      ],
      "id": "6c150356",
      "execution_count": null,
      "outputs": []
    },
    {
      "cell_type": "code",
      "metadata": {
        "id": "e4da7894",
        "outputId": "f701b393-2641-48ae-af05-c40a1b6847b2"
      },
      "source": [
        "math.sqrt(np.var(age))"
      ],
      "id": "e4da7894",
      "execution_count": null,
      "outputs": [
        {
          "output_type": "execute_result",
          "data": {
            "text/plain": [
              "3.2572994949804666"
            ]
          },
          "metadata": {
            "tags": []
          },
          "execution_count": 27
        }
      ]
    },
    {
      "cell_type": "code",
      "metadata": {
        "id": "d554e2fe",
        "outputId": "81bce924-f550-47d5-e8f9-70498d4d2987"
      },
      "source": [
        "np.std(age)"
      ],
      "id": "d554e2fe",
      "execution_count": null,
      "outputs": [
        {
          "output_type": "execute_result",
          "data": {
            "text/plain": [
              "3.2572994949804666"
            ]
          },
          "metadata": {
            "tags": []
          },
          "execution_count": 28
        }
      ]
    },
    {
      "cell_type": "code",
      "metadata": {
        "id": "a49889f5",
        "outputId": "5af3d599-7cd1-4163-f0c4-c394f848621f"
      },
      "source": [
        "age"
      ],
      "id": "a49889f5",
      "execution_count": null,
      "outputs": [
        {
          "output_type": "execute_result",
          "data": {
            "text/plain": [
              "[20, 22, 25, 25, 27, 27, 27, 29, 30, 31]"
            ]
          },
          "metadata": {
            "tags": []
          },
          "execution_count": 29
        }
      ]
    },
    {
      "cell_type": "code",
      "metadata": {
        "id": "928f1272"
      },
      "source": [
        "Q1 = np.percentile(age, 25)"
      ],
      "id": "928f1272",
      "execution_count": null,
      "outputs": []
    },
    {
      "cell_type": "code",
      "metadata": {
        "id": "89aa594e"
      },
      "source": [
        "Q3 = np.percentile(age, 75)"
      ],
      "id": "89aa594e",
      "execution_count": null,
      "outputs": []
    },
    {
      "cell_type": "code",
      "metadata": {
        "id": "c81196c4",
        "outputId": "5abfbc87-6afc-4df2-9f0f-6da2ddf83d5e"
      },
      "source": [
        "Q3 - Q1"
      ],
      "id": "c81196c4",
      "execution_count": null,
      "outputs": [
        {
          "output_type": "execute_result",
          "data": {
            "text/plain": [
              "3.5"
            ]
          },
          "metadata": {
            "tags": []
          },
          "execution_count": 35
        }
      ]
    },
    {
      "cell_type": "code",
      "metadata": {
        "id": "0ca34ba5",
        "outputId": "dc22064a-ad79-4437-f9c2-72429e886ff7"
      },
      "source": [
        "stats.iqr(age)"
      ],
      "id": "0ca34ba5",
      "execution_count": null,
      "outputs": [
        {
          "output_type": "execute_result",
          "data": {
            "text/plain": [
              "3.5"
            ]
          },
          "metadata": {
            "tags": []
          },
          "execution_count": 39
        }
      ]
    }
  ]
}